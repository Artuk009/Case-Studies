{
 "cells": [
  {
   "cell_type": "markdown",
   "metadata": {},
   "source": [
    "# Case Study: How Does a Bike-Share Navigate Speedy Success?\n",
    "\n",
    "\n",
    "## About the Company:\n",
    "> In 2016, Cyclistic launched a successful bike-share offering. Since then, the program has grown to a fleet of 5,824 bicycles that\n",
    "are geotracked and locked into a network of 692 stations across Chicago. The bikes can be unlocked from one station and\n",
    "returned to any other station in the system anytime.\n",
    "\n",
    "> Until now, Cyclistic’s marketing strategy relied on building general awareness and appealing to broad consumer segments.\n",
    "One approach that helped make these things possible was the flexibility of its pricing plans: single-ride passes, full-day passes,\n",
    "and annual memberships. Customers who purchase single-ride or full-day passes are referred to as casual riders. Customers\n",
    "who purchase annual memberships are Cyclistic members.\n",
    "\n",
    "## Ask:\n",
    "> In this case study, we are going to determine how annual and casual members use Cyclistic bikes differently, so that we\n",
    "can determine what will give incentive for casual riders to switch to the annual membership.\n",
    "\n",
    "## Prepare:\n",
    "> We will be analyzing the previous 12 months of Cyclistic trip data provided by Motivate International under this licence:\n",
    " > [Licence](https://ride.divvybikes.com/data-license-agreement).\n",
    "(Cyclistic is a fictional company, but this data set will be relevant to the scenario)\n",
    "This data set gives us membership and ride type in addition to which station the trip started at and where it ended. At first glance there are a lot of null values in th station names, so we will need to filter those out when we get to the geographical analysis.\n",
    "\n",
    "## Process:\n",
    "> The data set is quite large with roughly 200,000 entries per month data set, so we will create filter the initial datasets with SQLite. Then we will conduct cleaning, manipulation, analysis, and visualization of the data with python."
   ]
  },
  {
   "cell_type": "code",
   "execution_count": 4,
   "metadata": {
    "ExecuteTime": {
     "end_time": "2023-05-18T06:51:59.865719Z",
     "start_time": "2023-05-18T06:51:55.279384Z"
    },
    "collapsed": true
   },
   "outputs": [],
   "source": [
    "import pandas as pd\n",
    "\n",
    "q1_2019 = pd.read_csv(\"datasets/Divvy_Trips_2019_Q1.csv\")\n",
    "q2_2019 = pd.read_csv(\"datasets/Divvy_Trips_2019_Q2.csv\")\n",
    "q3_2019 = pd.read_csv(\"datasets/Divvy_Trips_2019_Q3.csv\")\n",
    "q4_2019 = pd.read_csv(\"datasets/Divvy_Trips_2019_Q4.csv\")"
   ]
  },
  {
   "cell_type": "code",
   "execution_count": null,
   "metadata": {
    "is_executing": true
   },
   "outputs": [],
   "source": [
    "q1_2019.columns"
   ]
  }
 ],
 "metadata": {
  "kernelspec": {
   "display_name": "Python 3 (ipykernel)",
   "language": "python",
   "name": "python3"
  },
  "language_info": {
   "codemirror_mode": {
    "name": "ipython",
    "version": 3
   },
   "file_extension": ".py",
   "mimetype": "text/x-python",
   "name": "python",
   "nbconvert_exporter": "python",
   "pygments_lexer": "ipython3",
   "version": "3.10.9"
  }
 },
 "nbformat": 4,
 "nbformat_minor": 1
}
