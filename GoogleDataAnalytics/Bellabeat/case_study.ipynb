{
 "cells": [
  {
   "cell_type": "markdown",
   "metadata": {},
   "source": [
    "# Bellabeat Case Study\n",
    "Author: Brent Artuch <br>\n",
    "Date: 2023-06-13"
   ]
  },
  {
   "cell_type": "markdown",
   "metadata": {},
   "source": [
    "## Introduction"
   ]
  },
  {
   "cell_type": "markdown",
   "metadata": {},
   "source": [
    "The client, Bellabeat, is a retailer of fitness goods focused on women's health who is looking\n",
    "for assistance with analysis of the trends of the use of smart devices for women's fitness and\n",
    "well-being. After analyzing the trends in the given dataset, the client would like recommendations\n",
    "on how to interpret and apply these trends to future business decisions.\n",
    "\n",
    "This scenario is one of the Google Data Analytics Capstone projects from the professional\n",
    "certification track. The dataset is provided by Kaggle user Mobius and is licensed under CC0:\n",
    "Public Domain.\n",
    "\n",
    "This project is developed in the Jupyter Notebook environment but the key focus of the execution\n",
    "of this analysis will be to demonstrate the capabilities of SQL. Pandas data frames will be used\n",
    "for tabular display of the resulting queries and Tableau will be utilized for the data\n",
    "visualizations."
   ]
  },
  {
   "cell_type": "markdown",
   "metadata": {},
   "source": [
    "## Step 1: Imports\n",
    "Import Pandas and SQLite."
   ]
  },
  {
   "cell_type": "code",
   "execution_count": 1,
   "metadata": {
    "collapsed": true,
    "ExecuteTime": {
     "end_time": "2023-06-17T05:19:17.566243Z",
     "start_time": "2023-06-17T05:19:17.273604Z"
    }
   },
   "outputs": [],
   "source": [
    "import sqlite3\n",
    "import pandas as pd\n",
    "from IPython.display import Image"
   ]
  },
  {
   "cell_type": "markdown",
   "metadata": {},
   "source": [
    "### Load the datasets\n",
    "The datasets have been loaded into SQLite database using the workbench, but we will output the\n",
    "first 5 entries of each to get an idea of their scope."
   ]
  },
  {
   "cell_type": "code",
   "execution_count": 2,
   "metadata": {
    "ExecuteTime": {
     "end_time": "2023-06-17T05:19:26.007114Z",
     "start_time": "2023-06-17T05:19:25.993063Z"
    }
   },
   "outputs": [
    {
     "data": {
      "text/plain": "           Id ActivityDate  TotalSteps  TotalDistance  TrackerDistance  \\\n0  1503960366    4/12/2016       13162           8.50             8.50   \n1  1503960366    4/13/2016       10735           6.97             6.97   \n2  1503960366    4/14/2016       10460           6.74             6.74   \n3  1503960366    4/15/2016        9762           6.28             6.28   \n4  1503960366    4/16/2016       12669           8.16             8.16   \n\n   LoggedActivitiesDistance  VeryActiveDistance  ModeratelyActiveDistance  \\\n0                         0                1.88                      0.55   \n1                         0                1.57                      0.69   \n2                         0                2.44                      0.40   \n3                         0                2.14                      1.26   \n4                         0                2.71                      0.41   \n\n   LightActiveDistance  SedentaryActiveDistance  VeryActiveMinutes  \\\n0                 6.06                      0.0                 25   \n1                 4.71                      0.0                 21   \n2                 3.91                      0.0                 30   \n3                 2.83                      0.0                 29   \n4                 5.04                      0.0                 36   \n\n   FairlyActiveMinutes  LightlyActiveMinutes  SedentaryMinutes  Calories  \n0                   13                   328               728      1985  \n1                   19                   217               776      1797  \n2                   11                   181              1218      1776  \n3                   34                   209               726      1745  \n4                   10                   221               773      1863  ",
      "text/html": "<div>\n<style scoped>\n    .dataframe tbody tr th:only-of-type {\n        vertical-align: middle;\n    }\n\n    .dataframe tbody tr th {\n        vertical-align: top;\n    }\n\n    .dataframe thead th {\n        text-align: right;\n    }\n</style>\n<table border=\"1\" class=\"dataframe\">\n  <thead>\n    <tr style=\"text-align: right;\">\n      <th></th>\n      <th>Id</th>\n      <th>ActivityDate</th>\n      <th>TotalSteps</th>\n      <th>TotalDistance</th>\n      <th>TrackerDistance</th>\n      <th>LoggedActivitiesDistance</th>\n      <th>VeryActiveDistance</th>\n      <th>ModeratelyActiveDistance</th>\n      <th>LightActiveDistance</th>\n      <th>SedentaryActiveDistance</th>\n      <th>VeryActiveMinutes</th>\n      <th>FairlyActiveMinutes</th>\n      <th>LightlyActiveMinutes</th>\n      <th>SedentaryMinutes</th>\n      <th>Calories</th>\n    </tr>\n  </thead>\n  <tbody>\n    <tr>\n      <th>0</th>\n      <td>1503960366</td>\n      <td>4/12/2016</td>\n      <td>13162</td>\n      <td>8.50</td>\n      <td>8.50</td>\n      <td>0</td>\n      <td>1.88</td>\n      <td>0.55</td>\n      <td>6.06</td>\n      <td>0.0</td>\n      <td>25</td>\n      <td>13</td>\n      <td>328</td>\n      <td>728</td>\n      <td>1985</td>\n    </tr>\n    <tr>\n      <th>1</th>\n      <td>1503960366</td>\n      <td>4/13/2016</td>\n      <td>10735</td>\n      <td>6.97</td>\n      <td>6.97</td>\n      <td>0</td>\n      <td>1.57</td>\n      <td>0.69</td>\n      <td>4.71</td>\n      <td>0.0</td>\n      <td>21</td>\n      <td>19</td>\n      <td>217</td>\n      <td>776</td>\n      <td>1797</td>\n    </tr>\n    <tr>\n      <th>2</th>\n      <td>1503960366</td>\n      <td>4/14/2016</td>\n      <td>10460</td>\n      <td>6.74</td>\n      <td>6.74</td>\n      <td>0</td>\n      <td>2.44</td>\n      <td>0.40</td>\n      <td>3.91</td>\n      <td>0.0</td>\n      <td>30</td>\n      <td>11</td>\n      <td>181</td>\n      <td>1218</td>\n      <td>1776</td>\n    </tr>\n    <tr>\n      <th>3</th>\n      <td>1503960366</td>\n      <td>4/15/2016</td>\n      <td>9762</td>\n      <td>6.28</td>\n      <td>6.28</td>\n      <td>0</td>\n      <td>2.14</td>\n      <td>1.26</td>\n      <td>2.83</td>\n      <td>0.0</td>\n      <td>29</td>\n      <td>34</td>\n      <td>209</td>\n      <td>726</td>\n      <td>1745</td>\n    </tr>\n    <tr>\n      <th>4</th>\n      <td>1503960366</td>\n      <td>4/16/2016</td>\n      <td>12669</td>\n      <td>8.16</td>\n      <td>8.16</td>\n      <td>0</td>\n      <td>2.71</td>\n      <td>0.41</td>\n      <td>5.04</td>\n      <td>0.0</td>\n      <td>36</td>\n      <td>10</td>\n      <td>221</td>\n      <td>773</td>\n      <td>1863</td>\n    </tr>\n  </tbody>\n</table>\n</div>"
     },
     "execution_count": 2,
     "metadata": {},
     "output_type": "execute_result"
    }
   ],
   "source": [
    "sql_connection = sqlite3.connect('bellabeat.sqlite')\n",
    "pd.read_sql('SELECT * FROM dailyActivity_merged LIMIT 5', sql_connection)"
   ]
  },
  {
   "cell_type": "code",
   "execution_count": 3,
   "metadata": {
    "ExecuteTime": {
     "end_time": "2023-06-17T05:19:28.463964Z",
     "start_time": "2023-06-17T05:19:28.458016Z"
    }
   },
   "outputs": [
    {
     "data": {
      "text/plain": "           Id           ActivityHour  Calories\n0  1503960366  4/12/2016 12:00:00 AM        81\n1  1503960366   4/12/2016 1:00:00 AM        61\n2  1503960366   4/12/2016 2:00:00 AM        59\n3  1503960366   4/12/2016 3:00:00 AM        47\n4  1503960366   4/12/2016 4:00:00 AM        48",
      "text/html": "<div>\n<style scoped>\n    .dataframe tbody tr th:only-of-type {\n        vertical-align: middle;\n    }\n\n    .dataframe tbody tr th {\n        vertical-align: top;\n    }\n\n    .dataframe thead th {\n        text-align: right;\n    }\n</style>\n<table border=\"1\" class=\"dataframe\">\n  <thead>\n    <tr style=\"text-align: right;\">\n      <th></th>\n      <th>Id</th>\n      <th>ActivityHour</th>\n      <th>Calories</th>\n    </tr>\n  </thead>\n  <tbody>\n    <tr>\n      <th>0</th>\n      <td>1503960366</td>\n      <td>4/12/2016 12:00:00 AM</td>\n      <td>81</td>\n    </tr>\n    <tr>\n      <th>1</th>\n      <td>1503960366</td>\n      <td>4/12/2016 1:00:00 AM</td>\n      <td>61</td>\n    </tr>\n    <tr>\n      <th>2</th>\n      <td>1503960366</td>\n      <td>4/12/2016 2:00:00 AM</td>\n      <td>59</td>\n    </tr>\n    <tr>\n      <th>3</th>\n      <td>1503960366</td>\n      <td>4/12/2016 3:00:00 AM</td>\n      <td>47</td>\n    </tr>\n    <tr>\n      <th>4</th>\n      <td>1503960366</td>\n      <td>4/12/2016 4:00:00 AM</td>\n      <td>48</td>\n    </tr>\n  </tbody>\n</table>\n</div>"
     },
     "execution_count": 3,
     "metadata": {},
     "output_type": "execute_result"
    }
   ],
   "source": [
    "pd.read_sql('SELECT * FROM hourlyCalories_merged LIMIT 5', sql_connection)"
   ]
  },
  {
   "cell_type": "code",
   "execution_count": 4,
   "metadata": {
    "ExecuteTime": {
     "end_time": "2023-06-17T05:19:31.270427Z",
     "start_time": "2023-06-17T05:19:31.264687Z"
    }
   },
   "outputs": [
    {
     "data": {
      "text/plain": "           Id           ActivityHour  TotalIntensity  AverageIntensity\n0  1503960366  4/12/2016 12:00:00 AM              20          0.333333\n1  1503960366   4/12/2016 1:00:00 AM               8          0.133333\n2  1503960366   4/12/2016 2:00:00 AM               7          0.116667\n3  1503960366   4/12/2016 3:00:00 AM               0          0.000000\n4  1503960366   4/12/2016 4:00:00 AM               0          0.000000",
      "text/html": "<div>\n<style scoped>\n    .dataframe tbody tr th:only-of-type {\n        vertical-align: middle;\n    }\n\n    .dataframe tbody tr th {\n        vertical-align: top;\n    }\n\n    .dataframe thead th {\n        text-align: right;\n    }\n</style>\n<table border=\"1\" class=\"dataframe\">\n  <thead>\n    <tr style=\"text-align: right;\">\n      <th></th>\n      <th>Id</th>\n      <th>ActivityHour</th>\n      <th>TotalIntensity</th>\n      <th>AverageIntensity</th>\n    </tr>\n  </thead>\n  <tbody>\n    <tr>\n      <th>0</th>\n      <td>1503960366</td>\n      <td>4/12/2016 12:00:00 AM</td>\n      <td>20</td>\n      <td>0.333333</td>\n    </tr>\n    <tr>\n      <th>1</th>\n      <td>1503960366</td>\n      <td>4/12/2016 1:00:00 AM</td>\n      <td>8</td>\n      <td>0.133333</td>\n    </tr>\n    <tr>\n      <th>2</th>\n      <td>1503960366</td>\n      <td>4/12/2016 2:00:00 AM</td>\n      <td>7</td>\n      <td>0.116667</td>\n    </tr>\n    <tr>\n      <th>3</th>\n      <td>1503960366</td>\n      <td>4/12/2016 3:00:00 AM</td>\n      <td>0</td>\n      <td>0.000000</td>\n    </tr>\n    <tr>\n      <th>4</th>\n      <td>1503960366</td>\n      <td>4/12/2016 4:00:00 AM</td>\n      <td>0</td>\n      <td>0.000000</td>\n    </tr>\n  </tbody>\n</table>\n</div>"
     },
     "execution_count": 4,
     "metadata": {},
     "output_type": "execute_result"
    }
   ],
   "source": [
    "pd.read_sql('SELECT * FROM hourlyIntensities_merged LIMIT 5', sql_connection)"
   ]
  },
  {
   "cell_type": "code",
   "execution_count": 5,
   "metadata": {
    "ExecuteTime": {
     "end_time": "2023-06-17T05:19:33.550105Z",
     "start_time": "2023-06-17T05:19:33.542573Z"
    }
   },
   "outputs": [
    {
     "data": {
      "text/plain": "             Id               SleepDay  TotalSleepRecords  TotalMinutesAsleep  \\\n0  1.503960e+09  4/12/2016 12:00:00 AM                  1                 327   \n1  1.503960e+09  4/13/2016 12:00:00 AM                  2                 384   \n2  1.503960e+09  4/15/2016 12:00:00 AM                  1                 412   \n3  1.503960e+09  4/16/2016 12:00:00 AM                  2                 340   \n4  1.503960e+09  4/17/2016 12:00:00 AM                  1                 700   \n\n   TotalTimeInBed  \n0             346  \n1             407  \n2             442  \n3             367  \n4             712  ",
      "text/html": "<div>\n<style scoped>\n    .dataframe tbody tr th:only-of-type {\n        vertical-align: middle;\n    }\n\n    .dataframe tbody tr th {\n        vertical-align: top;\n    }\n\n    .dataframe thead th {\n        text-align: right;\n    }\n</style>\n<table border=\"1\" class=\"dataframe\">\n  <thead>\n    <tr style=\"text-align: right;\">\n      <th></th>\n      <th>Id</th>\n      <th>SleepDay</th>\n      <th>TotalSleepRecords</th>\n      <th>TotalMinutesAsleep</th>\n      <th>TotalTimeInBed</th>\n    </tr>\n  </thead>\n  <tbody>\n    <tr>\n      <th>0</th>\n      <td>1.503960e+09</td>\n      <td>4/12/2016 12:00:00 AM</td>\n      <td>1</td>\n      <td>327</td>\n      <td>346</td>\n    </tr>\n    <tr>\n      <th>1</th>\n      <td>1.503960e+09</td>\n      <td>4/13/2016 12:00:00 AM</td>\n      <td>2</td>\n      <td>384</td>\n      <td>407</td>\n    </tr>\n    <tr>\n      <th>2</th>\n      <td>1.503960e+09</td>\n      <td>4/15/2016 12:00:00 AM</td>\n      <td>1</td>\n      <td>412</td>\n      <td>442</td>\n    </tr>\n    <tr>\n      <th>3</th>\n      <td>1.503960e+09</td>\n      <td>4/16/2016 12:00:00 AM</td>\n      <td>2</td>\n      <td>340</td>\n      <td>367</td>\n    </tr>\n    <tr>\n      <th>4</th>\n      <td>1.503960e+09</td>\n      <td>4/17/2016 12:00:00 AM</td>\n      <td>1</td>\n      <td>700</td>\n      <td>712</td>\n    </tr>\n  </tbody>\n</table>\n</div>"
     },
     "execution_count": 5,
     "metadata": {},
     "output_type": "execute_result"
    }
   ],
   "source": [
    "pd.read_sql('SELECT * FROM sleepDay_merged LIMIT 5', sql_connection)"
   ]
  },
  {
   "cell_type": "code",
   "execution_count": 6,
   "metadata": {
    "ExecuteTime": {
     "end_time": "2023-06-17T05:19:35.734628Z",
     "start_time": "2023-06-17T05:19:35.726276Z"
    }
   },
   "outputs": [
    {
     "data": {
      "text/plain": "             Id                   Date    WeightKg  WeightPounds   Fat  \\\n0  1.503960e+09   5/2/2016 11:59:59 PM   52.599998    115.963147  22.0   \n1  1.503960e+09   5/3/2016 11:59:59 PM   52.599998    115.963147   NaN   \n2  1.927972e+09   4/13/2016 1:08:52 AM  133.500000    294.317120   NaN   \n3  2.873213e+09  4/21/2016 11:59:59 PM   56.700001    125.002104   NaN   \n4  2.873213e+09  5/12/2016 11:59:59 PM   57.299999    126.324875   NaN   \n\n         BMI IsManualReport         LogId  \n0  22.650000           True  1.462234e+12  \n1  22.650000           True  1.462320e+12  \n2  47.540001          False  1.460510e+12  \n3  21.450001           True  1.461283e+12  \n4  21.690001           True  1.463098e+12  ",
      "text/html": "<div>\n<style scoped>\n    .dataframe tbody tr th:only-of-type {\n        vertical-align: middle;\n    }\n\n    .dataframe tbody tr th {\n        vertical-align: top;\n    }\n\n    .dataframe thead th {\n        text-align: right;\n    }\n</style>\n<table border=\"1\" class=\"dataframe\">\n  <thead>\n    <tr style=\"text-align: right;\">\n      <th></th>\n      <th>Id</th>\n      <th>Date</th>\n      <th>WeightKg</th>\n      <th>WeightPounds</th>\n      <th>Fat</th>\n      <th>BMI</th>\n      <th>IsManualReport</th>\n      <th>LogId</th>\n    </tr>\n  </thead>\n  <tbody>\n    <tr>\n      <th>0</th>\n      <td>1.503960e+09</td>\n      <td>5/2/2016 11:59:59 PM</td>\n      <td>52.599998</td>\n      <td>115.963147</td>\n      <td>22.0</td>\n      <td>22.650000</td>\n      <td>True</td>\n      <td>1.462234e+12</td>\n    </tr>\n    <tr>\n      <th>1</th>\n      <td>1.503960e+09</td>\n      <td>5/3/2016 11:59:59 PM</td>\n      <td>52.599998</td>\n      <td>115.963147</td>\n      <td>NaN</td>\n      <td>22.650000</td>\n      <td>True</td>\n      <td>1.462320e+12</td>\n    </tr>\n    <tr>\n      <th>2</th>\n      <td>1.927972e+09</td>\n      <td>4/13/2016 1:08:52 AM</td>\n      <td>133.500000</td>\n      <td>294.317120</td>\n      <td>NaN</td>\n      <td>47.540001</td>\n      <td>False</td>\n      <td>1.460510e+12</td>\n    </tr>\n    <tr>\n      <th>3</th>\n      <td>2.873213e+09</td>\n      <td>4/21/2016 11:59:59 PM</td>\n      <td>56.700001</td>\n      <td>125.002104</td>\n      <td>NaN</td>\n      <td>21.450001</td>\n      <td>True</td>\n      <td>1.461283e+12</td>\n    </tr>\n    <tr>\n      <th>4</th>\n      <td>2.873213e+09</td>\n      <td>5/12/2016 11:59:59 PM</td>\n      <td>57.299999</td>\n      <td>126.324875</td>\n      <td>NaN</td>\n      <td>21.690001</td>\n      <td>True</td>\n      <td>1.463098e+12</td>\n    </tr>\n  </tbody>\n</table>\n</div>"
     },
     "execution_count": 6,
     "metadata": {},
     "output_type": "execute_result"
    }
   ],
   "source": [
    "pd.read_sql('SELECT * FROM weightLogInfo_merged LIMIT 5', sql_connection)"
   ]
  },
  {
   "cell_type": "markdown",
   "metadata": {},
   "source": [
    "## Step 2: Data Cleaning\n",
    "We will create separate `date` and `time` columns for easier comparisons."
   ]
  },
  {
   "cell_type": "code",
   "execution_count": 7,
   "metadata": {
    "ExecuteTime": {
     "end_time": "2023-06-17T05:19:38.333678Z",
     "start_time": "2023-06-17T05:19:38.297040Z"
    }
   },
   "outputs": [
    {
     "data": {
      "text/plain": "           Id       Date         Time  Calories\n0  1503960366  4/12/2016  12:00:00 AM        81\n1  1503960366  4/12/2016   1:00:00 AM        61\n2  1503960366  4/12/2016   2:00:00 AM        59\n3  1503960366  4/12/2016   3:00:00 AM        47\n4  1503960366  4/12/2016   4:00:00 AM        48",
      "text/html": "<div>\n<style scoped>\n    .dataframe tbody tr th:only-of-type {\n        vertical-align: middle;\n    }\n\n    .dataframe tbody tr th {\n        vertical-align: top;\n    }\n\n    .dataframe thead th {\n        text-align: right;\n    }\n</style>\n<table border=\"1\" class=\"dataframe\">\n  <thead>\n    <tr style=\"text-align: right;\">\n      <th></th>\n      <th>Id</th>\n      <th>Date</th>\n      <th>Time</th>\n      <th>Calories</th>\n    </tr>\n  </thead>\n  <tbody>\n    <tr>\n      <th>0</th>\n      <td>1503960366</td>\n      <td>4/12/2016</td>\n      <td>12:00:00 AM</td>\n      <td>81</td>\n    </tr>\n    <tr>\n      <th>1</th>\n      <td>1503960366</td>\n      <td>4/12/2016</td>\n      <td>1:00:00 AM</td>\n      <td>61</td>\n    </tr>\n    <tr>\n      <th>2</th>\n      <td>1503960366</td>\n      <td>4/12/2016</td>\n      <td>2:00:00 AM</td>\n      <td>59</td>\n    </tr>\n    <tr>\n      <th>3</th>\n      <td>1503960366</td>\n      <td>4/12/2016</td>\n      <td>3:00:00 AM</td>\n      <td>47</td>\n    </tr>\n    <tr>\n      <th>4</th>\n      <td>1503960366</td>\n      <td>4/12/2016</td>\n      <td>4:00:00 AM</td>\n      <td>48</td>\n    </tr>\n  </tbody>\n</table>\n</div>"
     },
     "execution_count": 7,
     "metadata": {},
     "output_type": "execute_result"
    }
   ],
   "source": [
    "dt_hourly_cals = pd.read_sql(\n",
    "    \"\"\"\n",
    "    SELECT Id, trim(substr(ActivityHour, 1, 9)) AS Date, trim(substr(ActivityHour, 10)) AS Time,\n",
    "    Calories FROM hourlyCalories_merged\n",
    "    \"\"\", sql_connection)\n",
    "dt_hourly_cals.head()"
   ]
  },
  {
   "cell_type": "code",
   "execution_count": 8,
   "metadata": {
    "ExecuteTime": {
     "end_time": "2023-06-17T05:19:40.916563Z",
     "start_time": "2023-06-17T05:19:40.883672Z"
    }
   },
   "outputs": [
    {
     "data": {
      "text/plain": "           Id       Date         Time  TotalIntensity  AverageIntensity\n0  1503960366  4/12/2016  12:00:00 AM              20          0.333333\n1  1503960366  4/12/2016   1:00:00 AM               8          0.133333\n2  1503960366  4/12/2016   2:00:00 AM               7          0.116667\n3  1503960366  4/12/2016   3:00:00 AM               0          0.000000\n4  1503960366  4/12/2016   4:00:00 AM               0          0.000000",
      "text/html": "<div>\n<style scoped>\n    .dataframe tbody tr th:only-of-type {\n        vertical-align: middle;\n    }\n\n    .dataframe tbody tr th {\n        vertical-align: top;\n    }\n\n    .dataframe thead th {\n        text-align: right;\n    }\n</style>\n<table border=\"1\" class=\"dataframe\">\n  <thead>\n    <tr style=\"text-align: right;\">\n      <th></th>\n      <th>Id</th>\n      <th>Date</th>\n      <th>Time</th>\n      <th>TotalIntensity</th>\n      <th>AverageIntensity</th>\n    </tr>\n  </thead>\n  <tbody>\n    <tr>\n      <th>0</th>\n      <td>1503960366</td>\n      <td>4/12/2016</td>\n      <td>12:00:00 AM</td>\n      <td>20</td>\n      <td>0.333333</td>\n    </tr>\n    <tr>\n      <th>1</th>\n      <td>1503960366</td>\n      <td>4/12/2016</td>\n      <td>1:00:00 AM</td>\n      <td>8</td>\n      <td>0.133333</td>\n    </tr>\n    <tr>\n      <th>2</th>\n      <td>1503960366</td>\n      <td>4/12/2016</td>\n      <td>2:00:00 AM</td>\n      <td>7</td>\n      <td>0.116667</td>\n    </tr>\n    <tr>\n      <th>3</th>\n      <td>1503960366</td>\n      <td>4/12/2016</td>\n      <td>3:00:00 AM</td>\n      <td>0</td>\n      <td>0.000000</td>\n    </tr>\n    <tr>\n      <th>4</th>\n      <td>1503960366</td>\n      <td>4/12/2016</td>\n      <td>4:00:00 AM</td>\n      <td>0</td>\n      <td>0.000000</td>\n    </tr>\n  </tbody>\n</table>\n</div>"
     },
     "execution_count": 8,
     "metadata": {},
     "output_type": "execute_result"
    }
   ],
   "source": [
    "dt_hourly_int = pd.read_sql(\n",
    "    \"\"\"\n",
    "    SELECT Id, trim(substr(ActivityHour, 1, 9)) AS Date, trim(substr(ActivityHour, 10)) AS Time,\n",
    "    TotalIntensity, AverageIntensity FROM hourlyIntensities_merged\n",
    "    \"\"\", sql_connection)\n",
    "dt_hourly_int.head()"
   ]
  },
  {
   "cell_type": "code",
   "execution_count": 9,
   "metadata": {
    "ExecuteTime": {
     "end_time": "2023-06-17T05:19:42.974897Z",
     "start_time": "2023-06-17T05:19:42.967961Z"
    }
   },
   "outputs": [
    {
     "data": {
      "text/plain": "             Id       Date         Time  TotalSleepRecords  \\\n0  1.503960e+09  4/12/2016  12:00:00 AM                  1   \n1  1.503960e+09  4/13/2016  12:00:00 AM                  2   \n2  1.503960e+09  4/15/2016  12:00:00 AM                  1   \n3  1.503960e+09  4/16/2016  12:00:00 AM                  2   \n4  1.503960e+09  4/17/2016  12:00:00 AM                  1   \n\n   TotalMinutesAsleep  TotalTimeInBed  \n0                 327             346  \n1                 384             407  \n2                 412             442  \n3                 340             367  \n4                 700             712  ",
      "text/html": "<div>\n<style scoped>\n    .dataframe tbody tr th:only-of-type {\n        vertical-align: middle;\n    }\n\n    .dataframe tbody tr th {\n        vertical-align: top;\n    }\n\n    .dataframe thead th {\n        text-align: right;\n    }\n</style>\n<table border=\"1\" class=\"dataframe\">\n  <thead>\n    <tr style=\"text-align: right;\">\n      <th></th>\n      <th>Id</th>\n      <th>Date</th>\n      <th>Time</th>\n      <th>TotalSleepRecords</th>\n      <th>TotalMinutesAsleep</th>\n      <th>TotalTimeInBed</th>\n    </tr>\n  </thead>\n  <tbody>\n    <tr>\n      <th>0</th>\n      <td>1.503960e+09</td>\n      <td>4/12/2016</td>\n      <td>12:00:00 AM</td>\n      <td>1</td>\n      <td>327</td>\n      <td>346</td>\n    </tr>\n    <tr>\n      <th>1</th>\n      <td>1.503960e+09</td>\n      <td>4/13/2016</td>\n      <td>12:00:00 AM</td>\n      <td>2</td>\n      <td>384</td>\n      <td>407</td>\n    </tr>\n    <tr>\n      <th>2</th>\n      <td>1.503960e+09</td>\n      <td>4/15/2016</td>\n      <td>12:00:00 AM</td>\n      <td>1</td>\n      <td>412</td>\n      <td>442</td>\n    </tr>\n    <tr>\n      <th>3</th>\n      <td>1.503960e+09</td>\n      <td>4/16/2016</td>\n      <td>12:00:00 AM</td>\n      <td>2</td>\n      <td>340</td>\n      <td>367</td>\n    </tr>\n    <tr>\n      <th>4</th>\n      <td>1.503960e+09</td>\n      <td>4/17/2016</td>\n      <td>12:00:00 AM</td>\n      <td>1</td>\n      <td>700</td>\n      <td>712</td>\n    </tr>\n  </tbody>\n</table>\n</div>"
     },
     "execution_count": 9,
     "metadata": {},
     "output_type": "execute_result"
    }
   ],
   "source": [
    "dt_sleep = pd.read_sql(\n",
    "    \"\"\"\n",
    "    SELECT Id, trim(substr(SleepDay, 1, 9)) AS Date, trim(substr(SleepDay, 10)) AS Time,\n",
    "    TotalSleepRecords, TotalMinutesAsleep, TotalTimeInBed FROM SLeepDay_merged\n",
    "    \"\"\", sql_connection)\n",
    "dt_sleep.head()"
   ]
  },
  {
   "cell_type": "markdown",
   "metadata": {},
   "source": [
    "### Check for Missing Data\n",
    "Next we will check our datasets for any null values and drop them."
   ]
  },
  {
   "cell_type": "code",
   "execution_count": 10,
   "metadata": {
    "ExecuteTime": {
     "end_time": "2023-06-17T05:19:45.380750Z",
     "start_time": "2023-06-17T05:19:45.374965Z"
    }
   },
   "outputs": [
    {
     "data": {
      "text/plain": "                   NumNullRows\nTableName                     \ndailyActivity                0\nhourlyCalories               0\nhourlyIntensities            0\nsleepDay                     0\nweightLogInfo               65",
      "text/html": "<div>\n<style scoped>\n    .dataframe tbody tr th:only-of-type {\n        vertical-align: middle;\n    }\n\n    .dataframe tbody tr th {\n        vertical-align: top;\n    }\n\n    .dataframe thead th {\n        text-align: right;\n    }\n</style>\n<table border=\"1\" class=\"dataframe\">\n  <thead>\n    <tr style=\"text-align: right;\">\n      <th></th>\n      <th>NumNullRows</th>\n    </tr>\n    <tr>\n      <th>TableName</th>\n      <th></th>\n    </tr>\n  </thead>\n  <tbody>\n    <tr>\n      <th>dailyActivity</th>\n      <td>0</td>\n    </tr>\n    <tr>\n      <th>hourlyCalories</th>\n      <td>0</td>\n    </tr>\n    <tr>\n      <th>hourlyIntensities</th>\n      <td>0</td>\n    </tr>\n    <tr>\n      <th>sleepDay</th>\n      <td>0</td>\n    </tr>\n    <tr>\n      <th>weightLogInfo</th>\n      <td>65</td>\n    </tr>\n  </tbody>\n</table>\n</div>"
     },
     "execution_count": 10,
     "metadata": {},
     "output_type": "execute_result"
    }
   ],
   "source": [
    "# Utilize the UNION keyword to create a dataframe with column and row headers.\n",
    "pd.read_sql(\n",
    "    \"\"\"\n",
    "    SELECT 'dailyActivity' AS TableName, count(*) AS NumNullRows FROM dailyActivity_merged\n",
    "    WHERE TotalSteps is null OR TotalDistance is null OR SedentaryMinutes is null OR\n",
    "    Calories is null\n",
    "    UNION\n",
    "    SELECT 'hourlyCalories', count(*) AS NumNullRows FROM hourlyCalories_merged\n",
    "    WHERE Calories is null\n",
    "    UNION\n",
    "    SELECT 'hourlyIntensities', count(*) AS NumNullRows FROM hourlyIntensities_merged\n",
    "    WHERE TotalIntensity is null OR AverageIntensity is null\n",
    "    UNION\n",
    "    SELECT 'sleepDay', count(*) AS NumNullRows FROM sleepDay_merged\n",
    "    WHERE TotalMinutesAsleep is null OR TotalTimeInBed is null\n",
    "    UNION\n",
    "    SELECT 'weightLogInfo', count(*) AS NumNullRows FROM weightLogInfo_merged\n",
    "    WHERE WeightPounds is null OR Fat is null OR BMI is null\n",
    "    \"\"\",\n",
    "    sql_connection).set_index('TableName')"
   ]
  },
  {
   "cell_type": "markdown",
   "metadata": {},
   "source": [
    "Since there are already four null values for the `Fat` column displayed by the head function for\n",
    "the `weightLogInfo` table, we'll exclude that column to see if resolves the null values."
   ]
  },
  {
   "cell_type": "code",
   "execution_count": 11,
   "metadata": {
    "ExecuteTime": {
     "end_time": "2023-06-17T05:19:48.464400Z",
     "start_time": "2023-06-17T05:19:48.459831Z"
    }
   },
   "outputs": [
    {
     "data": {
      "text/plain": "Id              0\nDate            0\nWeightKg        0\nWeightPounds    0\nBMI             0\ndtype: int64"
     },
     "execution_count": 11,
     "metadata": {},
     "output_type": "execute_result"
    }
   ],
   "source": [
    "new_weight_log = pd.read_sql(\n",
    "    \"\"\"\n",
    "    SELECT Id, Date, WeightKg, WeightPounds, BMI\n",
    "    FROM weightLogInfo_merged\n",
    "    \"\"\", sql_connection)\n",
    "# Call the pandas functions to count NaN values for the new DataFrame.\n",
    "new_weight_log.isna().sum()"
   ]
  },
  {
   "cell_type": "markdown",
   "metadata": {},
   "source": [
    "### Export To SQL\n",
    "Next we will export the newly created tables with the new `date` and `time` columns to be stored\n",
    "in SQL as new tables. The cleaned `weight_log` table is also added."
   ]
  },
  {
   "cell_type": "code",
   "execution_count": 12,
   "metadata": {
    "ExecuteTime": {
     "end_time": "2023-06-17T05:19:54.582567Z",
     "start_time": "2023-06-17T05:19:54.497682Z"
    }
   },
   "outputs": [],
   "source": [
    "dt_hourly_cals.to_sql('dt_hourly_cals', sql_connection, if_exists='replace', index=False)\n",
    "dt_hourly_int.to_sql('dt_hourly_int', sql_connection, if_exists='replace', index=False)\n",
    "dt_sleep.to_sql('dt_sleep', sql_connection, if_exists='replace', index=False)\n",
    "new_weight_log.to_sql('new_weight_log', sql_connection, if_exists='replace', index=False);"
   ]
  },
  {
   "cell_type": "markdown",
   "metadata": {},
   "source": [
    "## Step 3: Explore the Data\n",
    "Now lets check for the number of unique ID numbers in each dataset, so that we know the number of\n",
    "active participants."
   ]
  },
  {
   "cell_type": "code",
   "execution_count": 13,
   "metadata": {
    "ExecuteTime": {
     "end_time": "2023-06-17T05:19:57.117001Z",
     "start_time": "2023-06-17T05:19:57.109489Z"
    }
   },
   "outputs": [
    {
     "data": {
      "text/plain": "           TableName  NumUsers\n0      dailyActivity        33\n1     hourlyCalories        33\n2  hourlyIntensities        33\n3           sleepDay        24\n4          weightLog         8",
      "text/html": "<div>\n<style scoped>\n    .dataframe tbody tr th:only-of-type {\n        vertical-align: middle;\n    }\n\n    .dataframe tbody tr th {\n        vertical-align: top;\n    }\n\n    .dataframe thead th {\n        text-align: right;\n    }\n</style>\n<table border=\"1\" class=\"dataframe\">\n  <thead>\n    <tr style=\"text-align: right;\">\n      <th></th>\n      <th>TableName</th>\n      <th>NumUsers</th>\n    </tr>\n  </thead>\n  <tbody>\n    <tr>\n      <th>0</th>\n      <td>dailyActivity</td>\n      <td>33</td>\n    </tr>\n    <tr>\n      <th>1</th>\n      <td>hourlyCalories</td>\n      <td>33</td>\n    </tr>\n    <tr>\n      <th>2</th>\n      <td>hourlyIntensities</td>\n      <td>33</td>\n    </tr>\n    <tr>\n      <th>3</th>\n      <td>sleepDay</td>\n      <td>24</td>\n    </tr>\n    <tr>\n      <th>4</th>\n      <td>weightLog</td>\n      <td>8</td>\n    </tr>\n  </tbody>\n</table>\n</div>"
     },
     "execution_count": 13,
     "metadata": {},
     "output_type": "execute_result"
    }
   ],
   "source": [
    "pd.read_sql(\n",
    "    \"\"\"\n",
    "    SELECT 'dailyActivity' AS TableName, count(DISTINCT Id) AS NumUsers FROM dailyActivity_merged UNION\n",
    "    SELECT 'hourlyCalories', count(DISTINCT Id) FROM dt_hourly_cals UNION\n",
    "    SELECT 'hourlyIntensities', count(DISTINCT Id) FROM dt_hourly_int UNION\n",
    "    SELECT 'sleepDay', count(DISTINCT Id) FROM dt_sleep UNION\n",
    "    SELECT 'weightLog', count(DISTINCT Id) FROM new_weight_log\n",
    "    \"\"\", sql_connection)"
   ]
  },
  {
   "cell_type": "markdown",
   "metadata": {},
   "source": [
    "Since there are so few participants in the weight log table, we will disregard it from the study\n",
    "due insufficient sample size. Next will get some summary statistics of the datasets starting with the\n",
    "`dailyActivity` dataset."
   ]
  },
  {
   "cell_type": "code",
   "execution_count": 14,
   "metadata": {
    "ExecuteTime": {
     "end_time": "2023-06-17T05:19:59.387789Z",
     "start_time": "2023-06-17T05:19:59.379464Z"
    }
   },
   "outputs": [
    {
     "data": {
      "text/plain": "                        Mean  Min      Max\nName                                      \nCalories              2303.6  0.0   4900.0\nFairlyActiveMinutes     13.6  0.0    143.0\nLightlyActiveMinutes   192.8  0.0    518.0\nSedentaryMinutes       991.2  0.0   1440.0\nTotalDistance            5.5  0.0     28.0\nTotalSteps            7638.0  0.0  36019.0\nVeryActiveMinutes       21.2  0.0    210.0",
      "text/html": "<div>\n<style scoped>\n    .dataframe tbody tr th:only-of-type {\n        vertical-align: middle;\n    }\n\n    .dataframe tbody tr th {\n        vertical-align: top;\n    }\n\n    .dataframe thead th {\n        text-align: right;\n    }\n</style>\n<table border=\"1\" class=\"dataframe\">\n  <thead>\n    <tr style=\"text-align: right;\">\n      <th></th>\n      <th>Mean</th>\n      <th>Min</th>\n      <th>Max</th>\n    </tr>\n    <tr>\n      <th>Name</th>\n      <th></th>\n      <th></th>\n      <th></th>\n    </tr>\n  </thead>\n  <tbody>\n    <tr>\n      <th>Calories</th>\n      <td>2303.6</td>\n      <td>0.0</td>\n      <td>4900.0</td>\n    </tr>\n    <tr>\n      <th>FairlyActiveMinutes</th>\n      <td>13.6</td>\n      <td>0.0</td>\n      <td>143.0</td>\n    </tr>\n    <tr>\n      <th>LightlyActiveMinutes</th>\n      <td>192.8</td>\n      <td>0.0</td>\n      <td>518.0</td>\n    </tr>\n    <tr>\n      <th>SedentaryMinutes</th>\n      <td>991.2</td>\n      <td>0.0</td>\n      <td>1440.0</td>\n    </tr>\n    <tr>\n      <th>TotalDistance</th>\n      <td>5.5</td>\n      <td>0.0</td>\n      <td>28.0</td>\n    </tr>\n    <tr>\n      <th>TotalSteps</th>\n      <td>7638.0</td>\n      <td>0.0</td>\n      <td>36019.0</td>\n    </tr>\n    <tr>\n      <th>VeryActiveMinutes</th>\n      <td>21.2</td>\n      <td>0.0</td>\n      <td>210.0</td>\n    </tr>\n  </tbody>\n</table>\n</div>"
     },
     "execution_count": 14,
     "metadata": {},
     "output_type": "execute_result"
    }
   ],
   "source": [
    "# Utilize the UNION keyword to create a dataframe with column and row headers.\n",
    "pd.read_sql(\n",
    "    \"\"\"\n",
    "    SELECT 'TotalSteps' AS Name, round(avg(TotalSteps)) AS Mean, round(min(TotalSteps)) AS Min,\n",
    "    round(max(TotalSteps)) AS Max FROM dailyActivity_merged\n",
    "    UNION\n",
    "    SELECT 'TotalDistance', round(avg(TotalDistance),1), round(min(TotalDistance),1),\n",
    "    round(max(TotalDistance),1) FROM dailyActivity_merged\n",
    "    UNION\n",
    "    SELECT 'SedentaryMinutes', round(avg(SedentaryMinutes),1), round(min(SedentaryMinutes),1),\n",
    "    round(max(SedentaryMinutes),1) FROM dailyActivity_merged\n",
    "    UNION\n",
    "    SELECT 'Calories', round(avg(Calories),1), round(min(Calories),1),\n",
    "    round(max(Calories),1) FROM dailyActivity_merged\n",
    "    UNION\n",
    "    SELECT 'VeryActiveMinutes', round(avg(VeryActiveMinutes),1), round(min(VeryActiveMinutes),1),\n",
    "    round(max(VeryActiveMinutes),1) FROM dailyActivity_merged\n",
    "    UNION\n",
    "    SELECT 'FairlyActiveMinutes', round(avg(FairlyActiveMinutes),1), round(min(FairlyActiveMinutes),1),\n",
    "    round(max(FairlyActiveMinutes),1) FROM dailyActivity_merged\n",
    "    UNION\n",
    "    SELECT 'LightlyActiveMinutes', round(avg(LightlyActiveMinutes),1), round(min(LightlyActiveMinutes),1),\n",
    "    round(max(LightlyActiveMinutes),1) FROM dailyActivity_merged\n",
    "    \"\"\",\n",
    "    sql_connection).set_index('Name')"
   ]
  },
  {
   "cell_type": "markdown",
   "source": [
    "Now `dt_hourly_cals`:"
   ],
   "metadata": {
    "collapsed": false
   }
  },
  {
   "cell_type": "code",
   "execution_count": 15,
   "outputs": [
    {
     "data": {
      "text/plain": "          Mean   Min    Max\nName                       \nCalories  97.0  42.0  948.0",
      "text/html": "<div>\n<style scoped>\n    .dataframe tbody tr th:only-of-type {\n        vertical-align: middle;\n    }\n\n    .dataframe tbody tr th {\n        vertical-align: top;\n    }\n\n    .dataframe thead th {\n        text-align: right;\n    }\n</style>\n<table border=\"1\" class=\"dataframe\">\n  <thead>\n    <tr style=\"text-align: right;\">\n      <th></th>\n      <th>Mean</th>\n      <th>Min</th>\n      <th>Max</th>\n    </tr>\n    <tr>\n      <th>Name</th>\n      <th></th>\n      <th></th>\n      <th></th>\n    </tr>\n  </thead>\n  <tbody>\n    <tr>\n      <th>Calories</th>\n      <td>97.0</td>\n      <td>42.0</td>\n      <td>948.0</td>\n    </tr>\n  </tbody>\n</table>\n</div>"
     },
     "execution_count": 15,
     "metadata": {},
     "output_type": "execute_result"
    }
   ],
   "source": [
    "pd.read_sql(\n",
    "    \"\"\"\n",
    "    SELECT 'Calories' AS Name, round(avg(Calories)) AS Mean, round(min(Calories)) AS Min,\n",
    "    round(max(Calories)) AS Max FROM dt_hourly_cals\n",
    "    \"\"\", sql_connection).set_index('Name')"
   ],
   "metadata": {
    "collapsed": false,
    "ExecuteTime": {
     "end_time": "2023-06-17T05:20:03.140827Z",
     "start_time": "2023-06-17T05:20:03.132502Z"
    }
   }
  },
  {
   "cell_type": "markdown",
   "source": [
    "And finally `dt_sleep`"
   ],
   "metadata": {
    "collapsed": false
   }
  },
  {
   "cell_type": "code",
   "execution_count": 16,
   "outputs": [
    {
     "data": {
      "text/plain": "                     Mean   Min    Max\nName                                  \nTotalMinutesAsleep  419.5  58.0  796.0",
      "text/html": "<div>\n<style scoped>\n    .dataframe tbody tr th:only-of-type {\n        vertical-align: middle;\n    }\n\n    .dataframe tbody tr th {\n        vertical-align: top;\n    }\n\n    .dataframe thead th {\n        text-align: right;\n    }\n</style>\n<table border=\"1\" class=\"dataframe\">\n  <thead>\n    <tr style=\"text-align: right;\">\n      <th></th>\n      <th>Mean</th>\n      <th>Min</th>\n      <th>Max</th>\n    </tr>\n    <tr>\n      <th>Name</th>\n      <th></th>\n      <th></th>\n      <th></th>\n    </tr>\n  </thead>\n  <tbody>\n    <tr>\n      <th>TotalMinutesAsleep</th>\n      <td>419.5</td>\n      <td>58.0</td>\n      <td>796.0</td>\n    </tr>\n  </tbody>\n</table>\n</div>"
     },
     "execution_count": 16,
     "metadata": {},
     "output_type": "execute_result"
    }
   ],
   "source": [
    "pd.read_sql(\n",
    "    \"\"\"\n",
    "    SELECT 'TotalMinutesAsleep' AS Name, round(avg(TotalMinutesAsleep), 1) AS Mean, round(min(TotalMinutesAsleep), 1) AS Min,\n",
    "    round(max(TotalMinutesAsleep), 1) AS Max FROM dt_sleep\n",
    "    \"\"\", sql_connection).set_index('Name')"
   ],
   "metadata": {
    "collapsed": false,
    "ExecuteTime": {
     "end_time": "2023-06-17T05:20:05.800619Z",
     "start_time": "2023-06-17T05:20:05.791980Z"
    }
   }
  },
  {
   "cell_type": "markdown",
   "source": [
    "### Merge Tables\n",
    "Before moving on to visualizations, I am going to merge the tables so that they are easier to\n",
    "work with in Tableau. First we will merge the `dailyActivity_merged` and `dt_sleep` tables."
   ],
   "metadata": {
    "collapsed": false
   }
  },
  {
   "cell_type": "code",
   "execution_count": 17,
   "outputs": [
    {
     "data": {
      "text/plain": "           Id       Date  Steps  Distance  SedentaryMinutes  Calories  \\\n0  1503960366  4/12/2016  13162      8.50               728      1985   \n1  1503960366  4/13/2016  10735      6.97               776      1797   \n2  1503960366  4/15/2016   9762      6.28               726      1745   \n3  1503960366  4/16/2016  12669      8.16               773      1863   \n4  1503960366  4/17/2016   9705      6.48               539      1728   \n\n   TotalMinutesAsleep  \n0                 327  \n1                 384  \n2                 412  \n3                 340  \n4                 700  ",
      "text/html": "<div>\n<style scoped>\n    .dataframe tbody tr th:only-of-type {\n        vertical-align: middle;\n    }\n\n    .dataframe tbody tr th {\n        vertical-align: top;\n    }\n\n    .dataframe thead th {\n        text-align: right;\n    }\n</style>\n<table border=\"1\" class=\"dataframe\">\n  <thead>\n    <tr style=\"text-align: right;\">\n      <th></th>\n      <th>Id</th>\n      <th>Date</th>\n      <th>Steps</th>\n      <th>Distance</th>\n      <th>SedentaryMinutes</th>\n      <th>Calories</th>\n      <th>TotalMinutesAsleep</th>\n    </tr>\n  </thead>\n  <tbody>\n    <tr>\n      <th>0</th>\n      <td>1503960366</td>\n      <td>4/12/2016</td>\n      <td>13162</td>\n      <td>8.50</td>\n      <td>728</td>\n      <td>1985</td>\n      <td>327</td>\n    </tr>\n    <tr>\n      <th>1</th>\n      <td>1503960366</td>\n      <td>4/13/2016</td>\n      <td>10735</td>\n      <td>6.97</td>\n      <td>776</td>\n      <td>1797</td>\n      <td>384</td>\n    </tr>\n    <tr>\n      <th>2</th>\n      <td>1503960366</td>\n      <td>4/15/2016</td>\n      <td>9762</td>\n      <td>6.28</td>\n      <td>726</td>\n      <td>1745</td>\n      <td>412</td>\n    </tr>\n    <tr>\n      <th>3</th>\n      <td>1503960366</td>\n      <td>4/16/2016</td>\n      <td>12669</td>\n      <td>8.16</td>\n      <td>773</td>\n      <td>1863</td>\n      <td>340</td>\n    </tr>\n    <tr>\n      <th>4</th>\n      <td>1503960366</td>\n      <td>4/17/2016</td>\n      <td>9705</td>\n      <td>6.48</td>\n      <td>539</td>\n      <td>1728</td>\n      <td>700</td>\n    </tr>\n  </tbody>\n</table>\n</div>"
     },
     "execution_count": 17,
     "metadata": {},
     "output_type": "execute_result"
    }
   ],
   "source": [
    "new_activity = pd.read_sql(\n",
    "    \"\"\"\n",
    "    SELECT DA.Id, DA.ActivityDate AS Date, DA.TotalSteps AS Steps, DA.TotalDistance AS\n",
    "    Distance, DA.SedentaryMinutes, DA.Calories, S.TotalMinutesAsleep\n",
    "    FROM dailyActivity_merged AS DA\n",
    "    INNER JOIN dt_sleep AS S ON DA.Id = S.Id AND DA.ActivityDate = S.Date\n",
    "    \"\"\", sql_connection)\n",
    "new_activity.head()"
   ],
   "metadata": {
    "collapsed": false,
    "ExecuteTime": {
     "end_time": "2023-06-17T05:20:09.590891Z",
     "start_time": "2023-06-17T05:20:09.584891Z"
    }
   }
  },
  {
   "cell_type": "markdown",
   "source": [
    "And then `dt_hourly_cals` and `dt_hourly_int` as `hourly_activity`."
   ],
   "metadata": {
    "collapsed": false
   }
  },
  {
   "cell_type": "code",
   "execution_count": 18,
   "outputs": [
    {
     "data": {
      "text/plain": "           Id       Date   Time  TotalIntensity  AverageIntensity  Calories\n0  1503960366  4/12/2016  00:00              20          0.333333        81\n1  1503960366  4/12/2016  01:00               8          0.133333        61\n2  1503960366  4/12/2016  02:00               7          0.116667        59\n3  1503960366  4/12/2016  03:00               0          0.000000        47\n4  1503960366  4/12/2016  04:00               0          0.000000        48",
      "text/html": "<div>\n<style scoped>\n    .dataframe tbody tr th:only-of-type {\n        vertical-align: middle;\n    }\n\n    .dataframe tbody tr th {\n        vertical-align: top;\n    }\n\n    .dataframe thead th {\n        text-align: right;\n    }\n</style>\n<table border=\"1\" class=\"dataframe\">\n  <thead>\n    <tr style=\"text-align: right;\">\n      <th></th>\n      <th>Id</th>\n      <th>Date</th>\n      <th>Time</th>\n      <th>TotalIntensity</th>\n      <th>AverageIntensity</th>\n      <th>Calories</th>\n    </tr>\n  </thead>\n  <tbody>\n    <tr>\n      <th>0</th>\n      <td>1503960366</td>\n      <td>4/12/2016</td>\n      <td>00:00</td>\n      <td>20</td>\n      <td>0.333333</td>\n      <td>81</td>\n    </tr>\n    <tr>\n      <th>1</th>\n      <td>1503960366</td>\n      <td>4/12/2016</td>\n      <td>01:00</td>\n      <td>8</td>\n      <td>0.133333</td>\n      <td>61</td>\n    </tr>\n    <tr>\n      <th>2</th>\n      <td>1503960366</td>\n      <td>4/12/2016</td>\n      <td>02:00</td>\n      <td>7</td>\n      <td>0.116667</td>\n      <td>59</td>\n    </tr>\n    <tr>\n      <th>3</th>\n      <td>1503960366</td>\n      <td>4/12/2016</td>\n      <td>03:00</td>\n      <td>0</td>\n      <td>0.000000</td>\n      <td>47</td>\n    </tr>\n    <tr>\n      <th>4</th>\n      <td>1503960366</td>\n      <td>4/12/2016</td>\n      <td>04:00</td>\n      <td>0</td>\n      <td>0.000000</td>\n      <td>48</td>\n    </tr>\n  </tbody>\n</table>\n</div>"
     },
     "execution_count": 18,
     "metadata": {},
     "output_type": "execute_result"
    }
   ],
   "source": [
    "hourly_activity = pd.read_sql(\n",
    "    \"\"\"\n",
    "    SELECT HI.Id, HI.Date, HI.Time, HI.TotalIntensity, HI.AverageIntensity, HC.Calories\n",
    "    FROM dt_hourly_int AS HI\n",
    "    INNER JOIN dt_hourly_cals AS HC ON HI.Id = HC.Id AND HI.Date = HC.Date AND\n",
    "    HI.Time = HC.Time\n",
    "    \"\"\", sql_connection)\n",
    "# A little help from pandas with hour format since SQLite lacks that functionality.\n",
    "hourly_activity['Time'] = pd.to_datetime(hourly_activity['Time']).dt.strftime('%H:%M')\n",
    "hourly_activity.head()"
   ],
   "metadata": {
    "collapsed": false,
    "ExecuteTime": {
     "end_time": "2023-06-17T05:20:12.470757Z",
     "start_time": "2023-06-17T05:20:12.359030Z"
    }
   }
  },
  {
   "cell_type": "markdown",
   "source": [
    "### Export Visualization Tables to CSV"
   ],
   "metadata": {
    "collapsed": false
   }
  },
  {
   "cell_type": "code",
   "execution_count": 19,
   "outputs": [],
   "source": [
    "new_activity.to_csv(\"Datasets/DailyActivity.csv\")\n",
    "hourly_activity.to_csv(\"Datasets/HourlyActivity.csv\")"
   ],
   "metadata": {
    "collapsed": false,
    "ExecuteTime": {
     "end_time": "2023-06-17T05:20:18.942741Z",
     "start_time": "2023-06-17T05:20:18.900741Z"
    }
   }
  },
  {
   "cell_type": "markdown",
   "source": [
    "## Step 4: Visualize the Data"
   ],
   "metadata": {
    "collapsed": false
   }
  },
  {
   "cell_type": "code",
   "execution_count": 20,
   "outputs": [
    {
     "data": {
      "text/html": "<img src=\"Visualizations/Calories_v_Steps.png\" width=\"1200\" height=\"600\"/>",
      "text/plain": "<IPython.core.display.Image object>"
     },
     "execution_count": 20,
     "metadata": {},
     "output_type": "execute_result"
    }
   ],
   "source": [
    "Image(url=\"Visualizations/Calories_v_Steps.png\", width=1200, height=600)"
   ],
   "metadata": {
    "collapsed": false,
    "ExecuteTime": {
     "end_time": "2023-06-17T05:20:21.598598Z",
     "start_time": "2023-06-17T05:20:21.595831Z"
    }
   }
  },
  {
   "cell_type": "markdown",
   "source": [
    "This figure suggests a decently strong positive correlation between the amount of steps taken in a day and the\n",
    "amount of calories burned. The figure suggests a p-value of roughly 0.0001 so the relationship is statistically significant."
   ],
   "metadata": {
    "collapsed": false
   }
  },
  {
   "cell_type": "code",
   "execution_count": 21,
   "outputs": [
    {
     "data": {
      "text/html": "<img src=\"Visualizations/SleepDistribution.png\" width=\"1200\" height=\"600\"/>",
      "text/plain": "<IPython.core.display.Image object>"
     },
     "execution_count": 21,
     "metadata": {},
     "output_type": "execute_result"
    }
   ],
   "source": [
    "Image(url=\"Visualizations/SleepDistribution.png\", width=1200, height=600)"
   ],
   "metadata": {
    "collapsed": false,
    "ExecuteTime": {
     "end_time": "2023-06-17T05:20:24.413250Z",
     "start_time": "2023-06-17T05:20:24.409023Z"
    }
   }
  },
  {
   "cell_type": "markdown",
   "source": [
    "The histogram above illustrates that the majority of the users are getting between six and eight hours of sleep per night with some exceptions\n",
    "on both extremes of the distribution. Overall, the figure is normally distributed."
   ],
   "metadata": {
    "collapsed": false
   }
  },
  {
   "cell_type": "code",
   "execution_count": 22,
   "outputs": [
    {
     "data": {
      "text/html": "<img src=\"Visualizations/IntensityVCalories.png\" width=\"1200\" height=\"600\"/>",
      "text/plain": "<IPython.core.display.Image object>"
     },
     "execution_count": 22,
     "metadata": {},
     "output_type": "execute_result"
    }
   ],
   "source": [
    "Image(url=\"Visualizations/IntensityVCalories.png\", width=1200, height=600)"
   ],
   "metadata": {
    "collapsed": false,
    "ExecuteTime": {
     "end_time": "2023-06-17T05:54:09.803902Z",
     "start_time": "2023-06-17T05:54:09.794261Z"
    }
   }
  },
  {
   "cell_type": "markdown",
   "source": [
    "This scatter plot shows an incredibly strong correlation between intensity levels and calorie burn which is logically what we would assume,\n",
    "but this absolutely confirms that null hypothesis."
   ],
   "metadata": {
    "collapsed": false
   }
  },
  {
   "cell_type": "code",
   "execution_count": 23,
   "outputs": [
    {
     "data": {
      "text/html": "<img src=\"Visualizations/HourlyActivity.png\" width=\"1200\" height=\"600\"/>",
      "text/plain": "<IPython.core.display.Image object>"
     },
     "execution_count": 23,
     "metadata": {},
     "output_type": "execute_result"
    }
   ],
   "source": [
    "Image(url=\"Visualizations/HourlyActivity.png\", width=1200, height=600)"
   ],
   "metadata": {
    "collapsed": false,
    "ExecuteTime": {
     "end_time": "2023-06-17T05:55:14.670318Z",
     "start_time": "2023-06-17T05:55:14.666619Z"
    }
   }
  },
  {
   "cell_type": "markdown",
   "source": [
    "And finally this bar plot shows the average intensity trend as the day progresses, and it looks worth noting that the participants are showing\n",
    "the highest intensity levels from 5 PM to 7 PM."
   ],
   "metadata": {
    "collapsed": false
   }
  },
  {
   "cell_type": "markdown",
   "source": [
    "## Conclusion\n",
    "So our client the original question our client wanted to be answered was \"how are their customers using smart devices to monitor\n",
    "overall fitness and well-being?\"\n",
    "<br>\n",
    "<b> Step Counting: </b>\n",
    "As shown by the analysis, the number of steps one takes during a day is a proportion to the amount of calories that said individual\n",
    "will burn. So, implementing step counting capabilities into smart devices and focusing on that feature as a selling point will lead\n",
    "to greater interest among the general customer base.\n",
    "<br>\n",
    "<b> Sleep Tracking: </b>\n",
    "Having a sleep tracker in devices and metrics pertaining to the average sleep times of other users could be another incentive\n",
    "for the customer to be interested in a smart device. Getting adequate sleep is known to lead to many health benefits such as\n",
    "mood, energy levels, and focus.\n",
    "<br>\n",
    "<b> Intensity Tracking: </b>\n",
    "By far the strongest evidence uncovered in this analysis was the strong correlation between intensity levels and daily caloric\n",
    "burn. If the smart devices could calculate an intensity level for the user that is limited to discrete quantities, the user\n",
    "could then predict caloric burn based on time and intensity. This would allow the user to gain a level of control over their\n",
    "ability to determine caloric burn with the help of their smart device.\n",
    "<br>\n",
    "<b> Hourly Tracking: </b>\n",
    "In tandem with intensity tracking is the user's ability to track their intensity levels on an hourly basis. With this information,\n",
    "the user could decide when it is the best time to eat certain meals or avoid certain strenuous activities because it may have\n",
    "an effect on their exercise intensity.\n",
    "<br>\n",
    "Combing all of these elements would result in a smart device that would give the user thorough information and forcasting\n",
    "of their burning of and ability to burn calories.\n"
   ],
   "metadata": {
    "collapsed": false
   }
  }
 ],
 "metadata": {
  "kernelspec": {
   "display_name": "Python 3 (ipykernel)",
   "language": "python",
   "name": "python3"
  },
  "language_info": {
   "codemirror_mode": {
    "name": "ipython",
    "version": 3
   },
   "file_extension": ".py",
   "mimetype": "text/x-python",
   "name": "python",
   "nbconvert_exporter": "python",
   "pygments_lexer": "ipython3",
   "version": "3.10.11"
  }
 },
 "nbformat": 4,
 "nbformat_minor": 1
}
