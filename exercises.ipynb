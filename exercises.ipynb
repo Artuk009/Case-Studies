{
 "cells": [
  {
   "cell_type": "code",
   "execution_count": 1,
   "metadata": {
    "collapsed": true,
    "ExecuteTime": {
     "end_time": "2023-05-29T05:52:39.024142Z",
     "start_time": "2023-05-29T05:52:39.021253Z"
    }
   },
   "outputs": [],
   "source": [
    "import sqlite3\n",
    "import pandas as pd\n",
    "\n",
    "sql_connection = sqlite3.connect('exercises.sqlite')"
   ]
  },
  {
   "cell_type": "markdown",
   "source": [
    "## Import From SQL"
   ],
   "metadata": {
    "collapsed": false
   }
  },
  {
   "cell_type": "code",
   "execution_count": 23,
   "outputs": [
    {
     "data": {
      "text/plain": "         id                 date                  name  weight  reps\n31  1000032  2023-05-14 00:00:00             Tricep 21      57    15\n32  1000033  2023-04-16 00:00:00  Lying Crunch Machine     200    20\n33  1000034  2023-04-24 00:00:00  Lying Crunch Machine     200    21\n34  1000035  2023-05-07 00:00:00  Lying Crunch Machine     200    23\n35  1000036  2023-05-14 00:00:00  Lying Crunch Machine     200    18",
      "text/html": "<div>\n<style scoped>\n    .dataframe tbody tr th:only-of-type {\n        vertical-align: middle;\n    }\n\n    .dataframe tbody tr th {\n        vertical-align: top;\n    }\n\n    .dataframe thead th {\n        text-align: right;\n    }\n</style>\n<table border=\"1\" class=\"dataframe\">\n  <thead>\n    <tr style=\"text-align: right;\">\n      <th></th>\n      <th>id</th>\n      <th>date</th>\n      <th>name</th>\n      <th>weight</th>\n      <th>reps</th>\n    </tr>\n  </thead>\n  <tbody>\n    <tr>\n      <th>31</th>\n      <td>1000032</td>\n      <td>2023-05-14 00:00:00</td>\n      <td>Tricep 21</td>\n      <td>57</td>\n      <td>15</td>\n    </tr>\n    <tr>\n      <th>32</th>\n      <td>1000033</td>\n      <td>2023-04-16 00:00:00</td>\n      <td>Lying Crunch Machine</td>\n      <td>200</td>\n      <td>20</td>\n    </tr>\n    <tr>\n      <th>33</th>\n      <td>1000034</td>\n      <td>2023-04-24 00:00:00</td>\n      <td>Lying Crunch Machine</td>\n      <td>200</td>\n      <td>21</td>\n    </tr>\n    <tr>\n      <th>34</th>\n      <td>1000035</td>\n      <td>2023-05-07 00:00:00</td>\n      <td>Lying Crunch Machine</td>\n      <td>200</td>\n      <td>23</td>\n    </tr>\n    <tr>\n      <th>35</th>\n      <td>1000036</td>\n      <td>2023-05-14 00:00:00</td>\n      <td>Lying Crunch Machine</td>\n      <td>200</td>\n      <td>18</td>\n    </tr>\n  </tbody>\n</table>\n</div>"
     },
     "execution_count": 23,
     "metadata": {},
     "output_type": "execute_result"
    }
   ],
   "source": [
    "current_exercises = pd.read_sql('SELECT * FROM chest_day', sql_connection, index_col='index')\n",
    "current_exercises.tail()"
   ],
   "metadata": {
    "collapsed": false,
    "ExecuteTime": {
     "end_time": "2023-05-29T06:20:47.544998Z",
     "start_time": "2023-05-29T06:20:47.535428Z"
    }
   }
  },
  {
   "cell_type": "markdown",
   "source": [
    "## Get Exercises for the Muscle Group"
   ],
   "metadata": {
    "collapsed": false
   }
  },
  {
   "cell_type": "code",
   "execution_count": 20,
   "outputs": [
    {
     "data": {
      "text/plain": "                        date                  name  weight  reps\nid                                                              \n1000033  2023-04-16 00:00:00  Lying Crunch Machine     200    20\n1000034  2023-04-24 00:00:00  Lying Crunch Machine     200    21\n1000035  2023-05-07 00:00:00  Lying Crunch Machine     200    23\n1000036  2023-05-14 00:00:00  Lying Crunch Machine     200    18",
      "text/html": "<div>\n<style scoped>\n    .dataframe tbody tr th:only-of-type {\n        vertical-align: middle;\n    }\n\n    .dataframe tbody tr th {\n        vertical-align: top;\n    }\n\n    .dataframe thead th {\n        text-align: right;\n    }\n</style>\n<table border=\"1\" class=\"dataframe\">\n  <thead>\n    <tr style=\"text-align: right;\">\n      <th></th>\n      <th>date</th>\n      <th>name</th>\n      <th>weight</th>\n      <th>reps</th>\n    </tr>\n    <tr>\n      <th>id</th>\n      <th></th>\n      <th></th>\n      <th></th>\n      <th></th>\n    </tr>\n  </thead>\n  <tbody>\n    <tr>\n      <th>1000033</th>\n      <td>2023-04-16 00:00:00</td>\n      <td>Lying Crunch Machine</td>\n      <td>200</td>\n      <td>20</td>\n    </tr>\n    <tr>\n      <th>1000034</th>\n      <td>2023-04-24 00:00:00</td>\n      <td>Lying Crunch Machine</td>\n      <td>200</td>\n      <td>21</td>\n    </tr>\n    <tr>\n      <th>1000035</th>\n      <td>2023-05-07 00:00:00</td>\n      <td>Lying Crunch Machine</td>\n      <td>200</td>\n      <td>23</td>\n    </tr>\n    <tr>\n      <th>1000036</th>\n      <td>2023-05-14 00:00:00</td>\n      <td>Lying Crunch Machine</td>\n      <td>200</td>\n      <td>18</td>\n    </tr>\n  </tbody>\n</table>\n</div>"
     },
     "execution_count": 20,
     "metadata": {},
     "output_type": "execute_result"
    }
   ],
   "source": [
    "# Update Ids (conversion in progress)\n",
    "# current_exercises['id'] = current_exercises.index + 1000033\n",
    "# current_exercises.set_index('id', inplace=True)\n",
    "# current_exercises.head(10)"
   ],
   "metadata": {
    "collapsed": false,
    "ExecuteTime": {
     "end_time": "2023-05-29T06:10:50.178491Z",
     "start_time": "2023-05-29T06:10:50.174953Z"
    }
   }
  },
  {
   "cell_type": "code",
   "execution_count": 24,
   "outputs": [
    {
     "data": {
      "text/plain": "array(['Cable Flies', 'Peck Deck', 'Incline Smith Press', 'Pullovers',\n       'Chest Press Machine (Declined)', 'Dumbell Incline Tricep',\n       'Single Arm Cable Tricep', 'Tricep 21', 'Lying Crunch Machine'],\n      dtype=object)"
     },
     "execution_count": 24,
     "metadata": {},
     "output_type": "execute_result"
    }
   ],
   "source": [
    "# Set names to a list of unique exercise names\n",
    "names = current_exercises['name'].unique()\n",
    "names"
   ],
   "metadata": {
    "collapsed": false,
    "ExecuteTime": {
     "end_time": "2023-05-29T06:20:53.286218Z",
     "start_time": "2023-05-29T06:20:53.283329Z"
    }
   }
  },
  {
   "cell_type": "markdown",
   "source": [
    "# Add Exercise"
   ],
   "metadata": {
    "collapsed": false
   }
  },
  {
   "cell_type": "code",
   "execution_count": 27,
   "outputs": [
    {
     "data": {
      "text/plain": "         id       date                            name weight reps\n35  1000036 2023-05-14            Lying Crunch Machine    200   18\n36  1000037 2023-05-28                     Cable Flies     35   12\n37  1000038 2023-05-28                       Peck Deck    235   12\n38  1000039 2023-05-28             Incline Smith Press    160   18\n39  1000040 2023-05-28                       Pullovers    135   12\n40  1000041 2023-05-28  Chest Press Machine (Declined)    130   15\n41  1000042 2023-05-28          Dumbell Incline Tricep     35   13\n42  1000043 2023-05-28         Single Arm Cable Tricep     42   10\n43  1000044 2023-05-28                       Tricep 21     45   21\n44  1000045 2023-05-28            Lying Crunch Machine    200   15",
      "text/html": "<div>\n<style scoped>\n    .dataframe tbody tr th:only-of-type {\n        vertical-align: middle;\n    }\n\n    .dataframe tbody tr th {\n        vertical-align: top;\n    }\n\n    .dataframe thead th {\n        text-align: right;\n    }\n</style>\n<table border=\"1\" class=\"dataframe\">\n  <thead>\n    <tr style=\"text-align: right;\">\n      <th></th>\n      <th>id</th>\n      <th>date</th>\n      <th>name</th>\n      <th>weight</th>\n      <th>reps</th>\n    </tr>\n  </thead>\n  <tbody>\n    <tr>\n      <th>35</th>\n      <td>1000036</td>\n      <td>2023-05-14</td>\n      <td>Lying Crunch Machine</td>\n      <td>200</td>\n      <td>18</td>\n    </tr>\n    <tr>\n      <th>36</th>\n      <td>1000037</td>\n      <td>2023-05-28</td>\n      <td>Cable Flies</td>\n      <td>35</td>\n      <td>12</td>\n    </tr>\n    <tr>\n      <th>37</th>\n      <td>1000038</td>\n      <td>2023-05-28</td>\n      <td>Peck Deck</td>\n      <td>235</td>\n      <td>12</td>\n    </tr>\n    <tr>\n      <th>38</th>\n      <td>1000039</td>\n      <td>2023-05-28</td>\n      <td>Incline Smith Press</td>\n      <td>160</td>\n      <td>18</td>\n    </tr>\n    <tr>\n      <th>39</th>\n      <td>1000040</td>\n      <td>2023-05-28</td>\n      <td>Pullovers</td>\n      <td>135</td>\n      <td>12</td>\n    </tr>\n    <tr>\n      <th>40</th>\n      <td>1000041</td>\n      <td>2023-05-28</td>\n      <td>Chest Press Machine (Declined)</td>\n      <td>130</td>\n      <td>15</td>\n    </tr>\n    <tr>\n      <th>41</th>\n      <td>1000042</td>\n      <td>2023-05-28</td>\n      <td>Dumbell Incline Tricep</td>\n      <td>35</td>\n      <td>13</td>\n    </tr>\n    <tr>\n      <th>42</th>\n      <td>1000043</td>\n      <td>2023-05-28</td>\n      <td>Single Arm Cable Tricep</td>\n      <td>42</td>\n      <td>10</td>\n    </tr>\n    <tr>\n      <th>43</th>\n      <td>1000044</td>\n      <td>2023-05-28</td>\n      <td>Tricep 21</td>\n      <td>45</td>\n      <td>21</td>\n    </tr>\n    <tr>\n      <th>44</th>\n      <td>1000045</td>\n      <td>2023-05-28</td>\n      <td>Lying Crunch Machine</td>\n      <td>200</td>\n      <td>15</td>\n    </tr>\n  </tbody>\n</table>\n</div>"
     },
     "execution_count": 27,
     "metadata": {},
     "output_type": "execute_result"
    }
   ],
   "source": [
    "today_date = input(\"Enter date YYYY-MM-DD: \")\n",
    "date = f\"{today_date} 00:00:00\"\n",
    "\n",
    "for i in range(0, len(names)):\n",
    "\n",
    "  \"\"\" This algorithm sets the elements of a new enry with user input and then inserts it into the database table for each name. Id is calculated by last index.\"\"\"\n",
    "\n",
    "  weight = input(f\"Enter Weight for {names[i]}: \")\n",
    "  reps = input(f\"Enter Reps for {names[i]}: \")\n",
    "  e_id = current_exercises.iloc[-1, 0] + 1\n",
    "  new_entry = [e_id, date, names[i], weight, reps]\n",
    "  current_exercises.loc[len(current_exercises)] = new_entry\n",
    "\n",
    "# Format the string dates to datetime.\n",
    "current_exercises['date'] = pd.to_datetime(current_exercises['date'])\n",
    "current_exercises.tail(10)"
   ],
   "metadata": {
    "collapsed": false,
    "ExecuteTime": {
     "end_time": "2023-05-29T06:31:47.596309Z",
     "start_time": "2023-05-29T06:30:54.612168Z"
    }
   }
  },
  {
   "cell_type": "code",
   "execution_count": 25,
   "outputs": [
    {
     "data": {
      "text/plain": "              date                         name  weight  reps\nid                                                           \n1000010 2023-05-05       Oblique Crunch Machine     170    20\n1000011 2023-05-14         Lying Crunch Machine     200    18\n1000012 2023-05-16         Platform Back Raises     135    16\n1000013 2023-05-17  Straight Arm Crunch Machine     170    14\n1000014 2023-05-19       Oblique Crunch Machine     170    24",
      "text/html": "<div>\n<style scoped>\n    .dataframe tbody tr th:only-of-type {\n        vertical-align: middle;\n    }\n\n    .dataframe tbody tr th {\n        vertical-align: top;\n    }\n\n    .dataframe thead th {\n        text-align: right;\n    }\n</style>\n<table border=\"1\" class=\"dataframe\">\n  <thead>\n    <tr style=\"text-align: right;\">\n      <th></th>\n      <th>date</th>\n      <th>name</th>\n      <th>weight</th>\n      <th>reps</th>\n    </tr>\n    <tr>\n      <th>id</th>\n      <th></th>\n      <th></th>\n      <th></th>\n      <th></th>\n    </tr>\n  </thead>\n  <tbody>\n    <tr>\n      <th>1000010</th>\n      <td>2023-05-05</td>\n      <td>Oblique Crunch Machine</td>\n      <td>170</td>\n      <td>20</td>\n    </tr>\n    <tr>\n      <th>1000011</th>\n      <td>2023-05-14</td>\n      <td>Lying Crunch Machine</td>\n      <td>200</td>\n      <td>18</td>\n    </tr>\n    <tr>\n      <th>1000012</th>\n      <td>2023-05-16</td>\n      <td>Platform Back Raises</td>\n      <td>135</td>\n      <td>16</td>\n    </tr>\n    <tr>\n      <th>1000013</th>\n      <td>2023-05-17</td>\n      <td>Straight Arm Crunch Machine</td>\n      <td>170</td>\n      <td>14</td>\n    </tr>\n    <tr>\n      <th>1000014</th>\n      <td>2023-05-19</td>\n      <td>Oblique Crunch Machine</td>\n      <td>170</td>\n      <td>24</td>\n    </tr>\n  </tbody>\n</table>\n</div>"
     },
     "execution_count": 25,
     "metadata": {},
     "output_type": "execute_result"
    }
   ],
   "source": [
    "\n",
    "# Update a single item by id and column\n",
    "# current_exercises.loc[1, 'date'] = 4\n",
    "\n",
    "# Drop last row\n",
    "# current_exercises.drop(index=current_exercises.index[-1], axis=0, inplace=True)\n",
    "\n",
    "current_exercises.tail()"
   ],
   "metadata": {
    "collapsed": false,
    "ExecuteTime": {
     "end_time": "2023-05-20T03:08:06.746442Z",
     "start_time": "2023-05-20T03:08:06.744451Z"
    }
   }
  },
  {
   "cell_type": "code",
   "execution_count": 28,
   "outputs": [
    {
     "data": {
      "text/plain": "45"
     },
     "execution_count": 28,
     "metadata": {},
     "output_type": "execute_result"
    }
   ],
   "source": [
    "# Export new chart to database with a date stamp\n",
    "current_exercises.to_sql('chest_day', con, if_exists='replace')\n",
    "\n",
    "# TODO: MANUALLY REVIEW AND EXPORT NEW TABLE TO CSV AS BACKUP!!"
   ],
   "metadata": {
    "collapsed": false,
    "ExecuteTime": {
     "end_time": "2023-05-29T06:39:16.293467Z",
     "start_time": "2023-05-29T06:39:16.266900Z"
    }
   }
  },
  {
   "cell_type": "markdown",
   "source": [
    "## Leg Day Notes:\n",
    "* 2023-05-19: Changed Smith Squat range of motion to full so should be marked drop in weight."
   ],
   "metadata": {
    "collapsed": false
   }
  }
 ],
 "metadata": {
  "kernelspec": {
   "display_name": "Python 3",
   "language": "python",
   "name": "python3"
  },
  "language_info": {
   "codemirror_mode": {
    "name": "ipython",
    "version": 2
   },
   "file_extension": ".py",
   "mimetype": "text/x-python",
   "name": "python",
   "nbconvert_exporter": "python",
   "pygments_lexer": "ipython2",
   "version": "2.7.6"
  }
 },
 "nbformat": 4,
 "nbformat_minor": 0
}
