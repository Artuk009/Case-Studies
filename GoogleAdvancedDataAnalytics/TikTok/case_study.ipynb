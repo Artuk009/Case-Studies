{
 "cells": [
  {
   "cell_type": "markdown",
   "source": [
    "# Tik Tok Case Study\n",
    "Author: Brent Artuch <br>\n",
    "Date: 2023-06-17"
   ],
   "metadata": {
    "collapsed": false
   }
  },
  {
   "cell_type": "markdown",
   "source": [
    "## Introduction\n",
    "\n",
    "This case study is one of the projects from the Google Advanced Data Analytics Certifications.\n",
    "\n",
    "<b> Goal: </b>\n",
    "The TikTok data team is developing a machine learning model for classifying claims made in videos submitted to the platform.\n",
    "\n",
    "<b> Scenario: </b>\n",
    "TikTok is the leading destination for short-form mobile video. The platform is built to help imaginations thrive. TikTok's\n",
    "mission is to create a place for inclusive, joyful, and authentic content–where people can safely discover, create, and connect.\n",
    "\n",
    "<b> Background on the TikTok Scenario: </b>\n",
    "At TikTok, our mission is to inspire creativity and bring joy. Our employees lead with curiosity and move at the speed of culture.\n",
    "Combined with our company's flat structure, you'll be given dynamic opportunities to make a real impact on a rapidly expanding\n",
    "company and grow your career.\n",
    "\n",
    "TikTok users have the ability to submit reports that identify videos and comments that contain user claims. These reports identify\n",
    "content that needs to be reviewed by moderators. The process generates a large number of user reports that are challenging to\n",
    "consider in a timely manner.\n",
    "\n",
    "TikTok is working on the development of a predictive model that can determine whether a video contains a claim or offers an\n",
    "opinion. With a successful prediction model, TikTok can reduce the backlog of user reports and prioritize them more efficiently.\n",
    "\n",
    "<b> Note: </b> <i> The story, all names, characters, and incidents portrayed in this project are fictitious. No identification with\n",
    "actual persons (living or deceased) is intended or should be inferred. And, the data shared in this project has been created for\n",
    "pedagogical purposes. </i>"
   ],
   "metadata": {
    "collapsed": false
   }
  },
  {
   "cell_type": "markdown",
   "source": [
    "## Step 1: Imports\n",
    "### Import libraries"
   ],
   "metadata": {
    "collapsed": false
   }
  },
  {
   "cell_type": "code",
   "execution_count": 1,
   "outputs": [],
   "source": [
    "import pandas as pd\n",
    "import numpy as np"
   ],
   "metadata": {
    "collapsed": false,
    "ExecuteTime": {
     "end_time": "2023-06-18T02:05:04.418985Z",
     "start_time": "2023-06-18T02:05:02.639184Z"
    }
   }
  },
  {
   "cell_type": "markdown",
   "source": [
    "### Load the dataset."
   ],
   "metadata": {
    "collapsed": false
   }
  },
  {
   "cell_type": "code",
   "execution_count": 3,
   "outputs": [],
   "source": [
    "data = pd.read_csv(\"dataset/tiktok_dataset.csv\")"
   ],
   "metadata": {
    "collapsed": false,
    "ExecuteTime": {
     "end_time": "2023-06-18T02:09:45.763132Z",
     "start_time": "2023-06-18T02:09:45.722705Z"
    }
   }
  },
  {
   "cell_type": "markdown",
   "source": [
    "## Step 2: Inspect Data\n"
   ],
   "metadata": {
    "collapsed": false
   }
  },
  {
   "cell_type": "code",
   "execution_count": 4,
   "outputs": [
    {
     "data": {
      "text/plain": "    # claim_status    video_id  video_duration_sec  \\\n0   1        claim  7017666017                  59   \n1   2        claim  4014381136                  32   \n2   3        claim  9859838091                  31   \n3   4        claim  1866847991                  25   \n4   5        claim  7105231098                  19   \n5   6        claim  8972200955                  35   \n6   7        claim  4958886992                  16   \n7   8        claim  2270982263                  41   \n8   9        claim  5235769692                  50   \n9  10        claim  4660861094                  45   \n\n                            video_transcription_text verified_status  \\\n0  someone shared with me that drone deliveries a...    not verified   \n1  someone shared with me that there are more mic...    not verified   \n2  someone shared with me that american industria...    not verified   \n3  someone shared with me that the metro of st. p...    not verified   \n4  someone shared with me that the number of busi...    not verified   \n5  someone shared with me that gross domestic pro...    not verified   \n6  someone shared with me that elvis presley has ...    not verified   \n7  someone shared with me that the best selling s...    not verified   \n8  someone shared with me that about half of the ...    not verified   \n9  someone shared with me that it would take a 50...        verified   \n\n  author_ban_status  video_view_count  video_like_count  video_share_count  \\\n0      under review          343296.0           19425.0              241.0   \n1            active          140877.0           77355.0            19034.0   \n2            active          902185.0           97690.0             2858.0   \n3            active          437506.0          239954.0            34812.0   \n4            active           56167.0           34987.0             4110.0   \n5      under review          336647.0          175546.0            62303.0   \n6            active          750345.0          486192.0           193911.0   \n7            active          547532.0            1072.0               50.0   \n8            active           24819.0           10160.0             1050.0   \n9            active          931587.0          171051.0            67739.0   \n\n   video_download_count  video_comment_count  \n0                   1.0                  0.0  \n1                1161.0                684.0  \n2                 833.0                329.0  \n3                1234.0                584.0  \n4                 547.0                152.0  \n5                4293.0               1857.0  \n6                8616.0               5446.0  \n7                  22.0                 11.0  \n8                  53.0                 27.0  \n9                4104.0               2540.0  ",
      "text/html": "<div>\n<style scoped>\n    .dataframe tbody tr th:only-of-type {\n        vertical-align: middle;\n    }\n\n    .dataframe tbody tr th {\n        vertical-align: top;\n    }\n\n    .dataframe thead th {\n        text-align: right;\n    }\n</style>\n<table border=\"1\" class=\"dataframe\">\n  <thead>\n    <tr style=\"text-align: right;\">\n      <th></th>\n      <th>#</th>\n      <th>claim_status</th>\n      <th>video_id</th>\n      <th>video_duration_sec</th>\n      <th>video_transcription_text</th>\n      <th>verified_status</th>\n      <th>author_ban_status</th>\n      <th>video_view_count</th>\n      <th>video_like_count</th>\n      <th>video_share_count</th>\n      <th>video_download_count</th>\n      <th>video_comment_count</th>\n    </tr>\n  </thead>\n  <tbody>\n    <tr>\n      <th>0</th>\n      <td>1</td>\n      <td>claim</td>\n      <td>7017666017</td>\n      <td>59</td>\n      <td>someone shared with me that drone deliveries a...</td>\n      <td>not verified</td>\n      <td>under review</td>\n      <td>343296.0</td>\n      <td>19425.0</td>\n      <td>241.0</td>\n      <td>1.0</td>\n      <td>0.0</td>\n    </tr>\n    <tr>\n      <th>1</th>\n      <td>2</td>\n      <td>claim</td>\n      <td>4014381136</td>\n      <td>32</td>\n      <td>someone shared with me that there are more mic...</td>\n      <td>not verified</td>\n      <td>active</td>\n      <td>140877.0</td>\n      <td>77355.0</td>\n      <td>19034.0</td>\n      <td>1161.0</td>\n      <td>684.0</td>\n    </tr>\n    <tr>\n      <th>2</th>\n      <td>3</td>\n      <td>claim</td>\n      <td>9859838091</td>\n      <td>31</td>\n      <td>someone shared with me that american industria...</td>\n      <td>not verified</td>\n      <td>active</td>\n      <td>902185.0</td>\n      <td>97690.0</td>\n      <td>2858.0</td>\n      <td>833.0</td>\n      <td>329.0</td>\n    </tr>\n    <tr>\n      <th>3</th>\n      <td>4</td>\n      <td>claim</td>\n      <td>1866847991</td>\n      <td>25</td>\n      <td>someone shared with me that the metro of st. p...</td>\n      <td>not verified</td>\n      <td>active</td>\n      <td>437506.0</td>\n      <td>239954.0</td>\n      <td>34812.0</td>\n      <td>1234.0</td>\n      <td>584.0</td>\n    </tr>\n    <tr>\n      <th>4</th>\n      <td>5</td>\n      <td>claim</td>\n      <td>7105231098</td>\n      <td>19</td>\n      <td>someone shared with me that the number of busi...</td>\n      <td>not verified</td>\n      <td>active</td>\n      <td>56167.0</td>\n      <td>34987.0</td>\n      <td>4110.0</td>\n      <td>547.0</td>\n      <td>152.0</td>\n    </tr>\n    <tr>\n      <th>5</th>\n      <td>6</td>\n      <td>claim</td>\n      <td>8972200955</td>\n      <td>35</td>\n      <td>someone shared with me that gross domestic pro...</td>\n      <td>not verified</td>\n      <td>under review</td>\n      <td>336647.0</td>\n      <td>175546.0</td>\n      <td>62303.0</td>\n      <td>4293.0</td>\n      <td>1857.0</td>\n    </tr>\n    <tr>\n      <th>6</th>\n      <td>7</td>\n      <td>claim</td>\n      <td>4958886992</td>\n      <td>16</td>\n      <td>someone shared with me that elvis presley has ...</td>\n      <td>not verified</td>\n      <td>active</td>\n      <td>750345.0</td>\n      <td>486192.0</td>\n      <td>193911.0</td>\n      <td>8616.0</td>\n      <td>5446.0</td>\n    </tr>\n    <tr>\n      <th>7</th>\n      <td>8</td>\n      <td>claim</td>\n      <td>2270982263</td>\n      <td>41</td>\n      <td>someone shared with me that the best selling s...</td>\n      <td>not verified</td>\n      <td>active</td>\n      <td>547532.0</td>\n      <td>1072.0</td>\n      <td>50.0</td>\n      <td>22.0</td>\n      <td>11.0</td>\n    </tr>\n    <tr>\n      <th>8</th>\n      <td>9</td>\n      <td>claim</td>\n      <td>5235769692</td>\n      <td>50</td>\n      <td>someone shared with me that about half of the ...</td>\n      <td>not verified</td>\n      <td>active</td>\n      <td>24819.0</td>\n      <td>10160.0</td>\n      <td>1050.0</td>\n      <td>53.0</td>\n      <td>27.0</td>\n    </tr>\n    <tr>\n      <th>9</th>\n      <td>10</td>\n      <td>claim</td>\n      <td>4660861094</td>\n      <td>45</td>\n      <td>someone shared with me that it would take a 50...</td>\n      <td>verified</td>\n      <td>active</td>\n      <td>931587.0</td>\n      <td>171051.0</td>\n      <td>67739.0</td>\n      <td>4104.0</td>\n      <td>2540.0</td>\n    </tr>\n  </tbody>\n</table>\n</div>"
     },
     "execution_count": 4,
     "metadata": {},
     "output_type": "execute_result"
    }
   ],
   "source": [
    "data.head(10)"
   ],
   "metadata": {
    "collapsed": false,
    "ExecuteTime": {
     "end_time": "2023-06-18T02:09:56.983362Z",
     "start_time": "2023-06-18T02:09:56.977979Z"
    }
   }
  },
  {
   "cell_type": "code",
   "execution_count": 5,
   "outputs": [
    {
     "name": "stdout",
     "output_type": "stream",
     "text": [
      "<class 'pandas.core.frame.DataFrame'>\n",
      "RangeIndex: 19382 entries, 0 to 19381\n",
      "Data columns (total 12 columns):\n",
      " #   Column                    Non-Null Count  Dtype  \n",
      "---  ------                    --------------  -----  \n",
      " 0   #                         19382 non-null  int64  \n",
      " 1   claim_status              19084 non-null  object \n",
      " 2   video_id                  19382 non-null  int64  \n",
      " 3   video_duration_sec        19382 non-null  int64  \n",
      " 4   video_transcription_text  19084 non-null  object \n",
      " 5   verified_status           19382 non-null  object \n",
      " 6   author_ban_status         19382 non-null  object \n",
      " 7   video_view_count          19084 non-null  float64\n",
      " 8   video_like_count          19084 non-null  float64\n",
      " 9   video_share_count         19084 non-null  float64\n",
      " 10  video_download_count      19084 non-null  float64\n",
      " 11  video_comment_count       19084 non-null  float64\n",
      "dtypes: float64(5), int64(3), object(4)\n",
      "memory usage: 1.8+ MB\n"
     ]
    }
   ],
   "source": [
    "data.info()"
   ],
   "metadata": {
    "collapsed": false,
    "ExecuteTime": {
     "end_time": "2023-06-18T02:10:05.539900Z",
     "start_time": "2023-06-18T02:10:05.527988Z"
    }
   }
  },
  {
   "cell_type": "code",
   "execution_count": 7,
   "outputs": [
    {
     "data": {
      "text/plain": "       video_duration_sec  video_view_count  video_like_count  \\\ncount        19382.000000      19084.000000      19084.000000   \nmean            32.421732     254708.558688      84304.636030   \nstd             16.229967     322893.280814     133420.546814   \nmin              5.000000         20.000000          0.000000   \n25%             18.000000       4942.500000        810.750000   \n50%             32.000000       9954.500000       3403.500000   \n75%             47.000000     504327.000000     125020.000000   \nmax             60.000000     999817.000000     657830.000000   \n\n       video_share_count  video_download_count  video_comment_count  \ncount       19084.000000          19084.000000         19084.000000  \nmean        16735.248323           1049.429627           349.312146  \nstd         32036.174350           2004.299894           799.638865  \nmin             0.000000              0.000000             0.000000  \n25%           115.000000              7.000000             1.000000  \n50%           717.000000             46.000000             9.000000  \n75%         18222.000000           1156.250000           292.000000  \nmax        256130.000000          14994.000000          9599.000000  ",
      "text/html": "<div>\n<style scoped>\n    .dataframe tbody tr th:only-of-type {\n        vertical-align: middle;\n    }\n\n    .dataframe tbody tr th {\n        vertical-align: top;\n    }\n\n    .dataframe thead th {\n        text-align: right;\n    }\n</style>\n<table border=\"1\" class=\"dataframe\">\n  <thead>\n    <tr style=\"text-align: right;\">\n      <th></th>\n      <th>video_duration_sec</th>\n      <th>video_view_count</th>\n      <th>video_like_count</th>\n      <th>video_share_count</th>\n      <th>video_download_count</th>\n      <th>video_comment_count</th>\n    </tr>\n  </thead>\n  <tbody>\n    <tr>\n      <th>count</th>\n      <td>19382.000000</td>\n      <td>19084.000000</td>\n      <td>19084.000000</td>\n      <td>19084.000000</td>\n      <td>19084.000000</td>\n      <td>19084.000000</td>\n    </tr>\n    <tr>\n      <th>mean</th>\n      <td>32.421732</td>\n      <td>254708.558688</td>\n      <td>84304.636030</td>\n      <td>16735.248323</td>\n      <td>1049.429627</td>\n      <td>349.312146</td>\n    </tr>\n    <tr>\n      <th>std</th>\n      <td>16.229967</td>\n      <td>322893.280814</td>\n      <td>133420.546814</td>\n      <td>32036.174350</td>\n      <td>2004.299894</td>\n      <td>799.638865</td>\n    </tr>\n    <tr>\n      <th>min</th>\n      <td>5.000000</td>\n      <td>20.000000</td>\n      <td>0.000000</td>\n      <td>0.000000</td>\n      <td>0.000000</td>\n      <td>0.000000</td>\n    </tr>\n    <tr>\n      <th>25%</th>\n      <td>18.000000</td>\n      <td>4942.500000</td>\n      <td>810.750000</td>\n      <td>115.000000</td>\n      <td>7.000000</td>\n      <td>1.000000</td>\n    </tr>\n    <tr>\n      <th>50%</th>\n      <td>32.000000</td>\n      <td>9954.500000</td>\n      <td>3403.500000</td>\n      <td>717.000000</td>\n      <td>46.000000</td>\n      <td>9.000000</td>\n    </tr>\n    <tr>\n      <th>75%</th>\n      <td>47.000000</td>\n      <td>504327.000000</td>\n      <td>125020.000000</td>\n      <td>18222.000000</td>\n      <td>1156.250000</td>\n      <td>292.000000</td>\n    </tr>\n    <tr>\n      <th>max</th>\n      <td>60.000000</td>\n      <td>999817.000000</td>\n      <td>657830.000000</td>\n      <td>256130.000000</td>\n      <td>14994.000000</td>\n      <td>9599.000000</td>\n    </tr>\n  </tbody>\n</table>\n</div>"
     },
     "execution_count": 7,
     "metadata": {},
     "output_type": "execute_result"
    }
   ],
   "source": [
    "data[['video_duration_sec', 'video_view_count', 'video_like_count', 'video_share_count', 'video_download_count', 'video_comment_count']].describe()"
   ],
   "metadata": {
    "collapsed": false,
    "ExecuteTime": {
     "end_time": "2023-06-18T02:11:49.537890Z",
     "start_time": "2023-06-18T02:11:49.519953Z"
    }
   }
  },
  {
   "cell_type": "markdown",
   "source": [
    "The ultimate goal is to use a machine learning model to classify videos as claims or opinions, so we\n",
    "should examine the claims variable."
   ],
   "metadata": {
    "collapsed": false
   }
  },
  {
   "cell_type": "code",
   "execution_count": 8,
   "outputs": [
    {
     "data": {
      "text/plain": "claim      9608\nopinion    9476\nName: claim_status, dtype: int64"
     },
     "execution_count": 8,
     "metadata": {},
     "output_type": "execute_result"
    }
   ],
   "source": [
    "data['claim_status'].value_counts()"
   ],
   "metadata": {
    "collapsed": false,
    "ExecuteTime": {
     "end_time": "2023-06-18T02:17:15.910653Z",
     "start_time": "2023-06-18T02:17:15.906684Z"
    }
   }
  },
  {
   "cell_type": "markdown",
   "source": [
    "Next, examine trends associated with the two claim statuses."
   ],
   "metadata": {
    "collapsed": false
   }
  },
  {
   "cell_type": "code",
   "execution_count": 14,
   "outputs": [
    {
     "name": "stdout",
     "output_type": "stream",
     "text": [
      "Average view count claim: 501029.45\n",
      "Median view count claim: 501555\n"
     ]
    }
   ],
   "source": [
    "avg_view_count_claim = round(data[data['claim_status']=='claim']['video_view_count'].mean(), 2)\n",
    "print(\"Average view count claim:\", avg_view_count_claim)\n",
    "\n",
    "median_view_count_claim = round(data[data['claim_status']=='claim']['video_view_count'].median())\n",
    "print(\"Median view count claim:\", median_view_count_claim)"
   ],
   "metadata": {
    "collapsed": false,
    "ExecuteTime": {
     "end_time": "2023-06-18T02:25:53.854175Z",
     "start_time": "2023-06-18T02:25:53.848459Z"
    }
   }
  },
  {
   "cell_type": "code",
   "execution_count": 15,
   "outputs": [
    {
     "name": "stdout",
     "output_type": "stream",
     "text": [
      "Average view count claim: 4956.43\n",
      "Median view count claim: 4953\n"
     ]
    }
   ],
   "source": [
    "avg_view_count_opinion = round(data[data['claim_status']=='opinion']['video_view_count'].mean(), 2)\n",
    "print(\"Average view count claim:\", avg_view_count_opinion)\n",
    "\n",
    "median_view_count_opinion = round(data[data['claim_status']=='opinion']['video_view_count'].median())\n",
    "print(\"Median view count claim:\", median_view_count_opinion)"
   ],
   "metadata": {
    "collapsed": false,
    "ExecuteTime": {
     "end_time": "2023-06-18T02:28:32.571275Z",
     "start_time": "2023-06-18T02:28:32.565495Z"
    }
   }
  },
  {
   "cell_type": "markdown",
   "source": [
    "Now, examine trends associated with the ban status of the author."
   ],
   "metadata": {
    "collapsed": false
   }
  },
  {
   "cell_type": "code",
   "execution_count": 21,
   "outputs": [
    {
     "data": {
      "text/plain": "                                   #\nclaim_status author_ban_status      \nclaim        active             6566\n             banned             1439\n             under review       1603\nopinion      active             8817\n             banned              196\n             under review        463",
      "text/html": "<div>\n<style scoped>\n    .dataframe tbody tr th:only-of-type {\n        vertical-align: middle;\n    }\n\n    .dataframe tbody tr th {\n        vertical-align: top;\n    }\n\n    .dataframe thead th {\n        text-align: right;\n    }\n</style>\n<table border=\"1\" class=\"dataframe\">\n  <thead>\n    <tr style=\"text-align: right;\">\n      <th></th>\n      <th></th>\n      <th>#</th>\n    </tr>\n    <tr>\n      <th>claim_status</th>\n      <th>author_ban_status</th>\n      <th></th>\n    </tr>\n  </thead>\n  <tbody>\n    <tr>\n      <th rowspan=\"3\" valign=\"top\">claim</th>\n      <th>active</th>\n      <td>6566</td>\n    </tr>\n    <tr>\n      <th>banned</th>\n      <td>1439</td>\n    </tr>\n    <tr>\n      <th>under review</th>\n      <td>1603</td>\n    </tr>\n    <tr>\n      <th rowspan=\"3\" valign=\"top\">opinion</th>\n      <th>active</th>\n      <td>8817</td>\n    </tr>\n    <tr>\n      <th>banned</th>\n      <td>196</td>\n    </tr>\n    <tr>\n      <th>under review</th>\n      <td>463</td>\n    </tr>\n  </tbody>\n</table>\n</div>"
     },
     "execution_count": 21,
     "metadata": {},
     "output_type": "execute_result"
    }
   ],
   "source": [
    "data.groupby(['claim_status', 'author_ban_status']).count()[['#']]"
   ],
   "metadata": {
    "collapsed": false,
    "ExecuteTime": {
     "end_time": "2023-06-18T02:55:57.637733Z",
     "start_time": "2023-06-18T02:55:57.626097Z"
    }
   }
  },
  {
   "cell_type": "markdown",
   "source": [
    "Calculate the median video share count of each author ban status."
   ],
   "metadata": {
    "collapsed": false
   }
  },
  {
   "cell_type": "code",
   "execution_count": 22,
   "outputs": [
    {
     "data": {
      "text/plain": "                  video_view_count           video_like_count            \\\n                              mean    median             mean    median   \nauthor_ban_status                                                         \nactive               215927.039524    8616.0     71036.533836    2222.0   \nbanned               445845.439144  448201.0    153017.236697  105573.0   \nunder review         392204.836399  365245.5    128718.050339   71204.5   \n\n                  video_share_count           \n                               mean   median  \nauthor_ban_status                             \nactive                 14111.466164    437.0  \nbanned                 29998.942508  14468.0  \nunder review           25774.696999   9444.0  ",
      "text/html": "<div>\n<style scoped>\n    .dataframe tbody tr th:only-of-type {\n        vertical-align: middle;\n    }\n\n    .dataframe tbody tr th {\n        vertical-align: top;\n    }\n\n    .dataframe thead tr th {\n        text-align: left;\n    }\n\n    .dataframe thead tr:last-of-type th {\n        text-align: right;\n    }\n</style>\n<table border=\"1\" class=\"dataframe\">\n  <thead>\n    <tr>\n      <th></th>\n      <th colspan=\"2\" halign=\"left\">video_view_count</th>\n      <th colspan=\"2\" halign=\"left\">video_like_count</th>\n      <th colspan=\"2\" halign=\"left\">video_share_count</th>\n    </tr>\n    <tr>\n      <th></th>\n      <th>mean</th>\n      <th>median</th>\n      <th>mean</th>\n      <th>median</th>\n      <th>mean</th>\n      <th>median</th>\n    </tr>\n    <tr>\n      <th>author_ban_status</th>\n      <th></th>\n      <th></th>\n      <th></th>\n      <th></th>\n      <th></th>\n      <th></th>\n    </tr>\n  </thead>\n  <tbody>\n    <tr>\n      <th>active</th>\n      <td>215927.039524</td>\n      <td>8616.0</td>\n      <td>71036.533836</td>\n      <td>2222.0</td>\n      <td>14111.466164</td>\n      <td>437.0</td>\n    </tr>\n    <tr>\n      <th>banned</th>\n      <td>445845.439144</td>\n      <td>448201.0</td>\n      <td>153017.236697</td>\n      <td>105573.0</td>\n      <td>29998.942508</td>\n      <td>14468.0</td>\n    </tr>\n    <tr>\n      <th>under review</th>\n      <td>392204.836399</td>\n      <td>365245.5</td>\n      <td>128718.050339</td>\n      <td>71204.5</td>\n      <td>25774.696999</td>\n      <td>9444.0</td>\n    </tr>\n  </tbody>\n</table>\n</div>"
     },
     "execution_count": 22,
     "metadata": {},
     "output_type": "execute_result"
    }
   ],
   "source": [
    "data.groupby(['author_ban_status']).agg(\n",
    "    {'video_view_count': ['mean', 'median'],\n",
    "     'video_like_count': ['mean', 'median'],\n",
    "     'video_share_count': ['mean', 'median']}\n",
    ")"
   ],
   "metadata": {
    "collapsed": false,
    "ExecuteTime": {
     "end_time": "2023-06-18T03:00:35.537943Z",
     "start_time": "2023-06-18T03:00:35.527226Z"
    }
   }
  },
  {
   "cell_type": "code",
   "execution_count": 23,
   "outputs": [
    {
     "data": {
      "text/plain": "                   video_share_count\nauthor_ban_status                   \nactive                         437.0\nbanned                       14468.0\nunder review                  9444.0",
      "text/html": "<div>\n<style scoped>\n    .dataframe tbody tr th:only-of-type {\n        vertical-align: middle;\n    }\n\n    .dataframe tbody tr th {\n        vertical-align: top;\n    }\n\n    .dataframe thead th {\n        text-align: right;\n    }\n</style>\n<table border=\"1\" class=\"dataframe\">\n  <thead>\n    <tr style=\"text-align: right;\">\n      <th></th>\n      <th>video_share_count</th>\n    </tr>\n    <tr>\n      <th>author_ban_status</th>\n      <th></th>\n    </tr>\n  </thead>\n  <tbody>\n    <tr>\n      <th>active</th>\n      <td>437.0</td>\n    </tr>\n    <tr>\n      <th>banned</th>\n      <td>14468.0</td>\n    </tr>\n    <tr>\n      <th>under review</th>\n      <td>9444.0</td>\n    </tr>\n  </tbody>\n</table>\n</div>"
     },
     "execution_count": 23,
     "metadata": {},
     "output_type": "execute_result"
    }
   ],
   "source": [
    "data.groupby(['author_ban_status']).median(numeric_only=True)[['video_share_count']]"
   ],
   "metadata": {
    "collapsed": false,
    "ExecuteTime": {
     "end_time": "2023-06-18T03:03:04.956604Z",
     "start_time": "2023-06-18T03:03:04.947616Z"
    }
   }
  },
  {
   "cell_type": "markdown",
   "source": [
    "Banned authors have a median share count that is 33 times the median share count of active authors.\n",
    "Add the count to the table."
   ],
   "metadata": {
    "collapsed": false
   }
  },
  {
   "cell_type": "code",
   "execution_count": 24,
   "outputs": [
    {
     "data": {
      "text/plain": "                  video_view_count                          video_like_count  \\\n                             count           mean    median            count   \nauthor_ban_status                                                              \nactive                       15383  215927.039524    8616.0            15383   \nbanned                        1635  445845.439144  448201.0             1635   \nunder review                  2066  392204.836399  365245.5             2066   \n\n                                           video_share_count                \\\n                            mean    median             count          mean   \nauthor_ban_status                                                            \nactive              71036.533836    2222.0             15383  14111.466164   \nbanned             153017.236697  105573.0              1635  29998.942508   \nunder review       128718.050339   71204.5              2066  25774.696999   \n\n                            \n                    median  \nauthor_ban_status           \nactive               437.0  \nbanned             14468.0  \nunder review        9444.0  ",
      "text/html": "<div>\n<style scoped>\n    .dataframe tbody tr th:only-of-type {\n        vertical-align: middle;\n    }\n\n    .dataframe tbody tr th {\n        vertical-align: top;\n    }\n\n    .dataframe thead tr th {\n        text-align: left;\n    }\n\n    .dataframe thead tr:last-of-type th {\n        text-align: right;\n    }\n</style>\n<table border=\"1\" class=\"dataframe\">\n  <thead>\n    <tr>\n      <th></th>\n      <th colspan=\"3\" halign=\"left\">video_view_count</th>\n      <th colspan=\"3\" halign=\"left\">video_like_count</th>\n      <th colspan=\"3\" halign=\"left\">video_share_count</th>\n    </tr>\n    <tr>\n      <th></th>\n      <th>count</th>\n      <th>mean</th>\n      <th>median</th>\n      <th>count</th>\n      <th>mean</th>\n      <th>median</th>\n      <th>count</th>\n      <th>mean</th>\n      <th>median</th>\n    </tr>\n    <tr>\n      <th>author_ban_status</th>\n      <th></th>\n      <th></th>\n      <th></th>\n      <th></th>\n      <th></th>\n      <th></th>\n      <th></th>\n      <th></th>\n      <th></th>\n    </tr>\n  </thead>\n  <tbody>\n    <tr>\n      <th>active</th>\n      <td>15383</td>\n      <td>215927.039524</td>\n      <td>8616.0</td>\n      <td>15383</td>\n      <td>71036.533836</td>\n      <td>2222.0</td>\n      <td>15383</td>\n      <td>14111.466164</td>\n      <td>437.0</td>\n    </tr>\n    <tr>\n      <th>banned</th>\n      <td>1635</td>\n      <td>445845.439144</td>\n      <td>448201.0</td>\n      <td>1635</td>\n      <td>153017.236697</td>\n      <td>105573.0</td>\n      <td>1635</td>\n      <td>29998.942508</td>\n      <td>14468.0</td>\n    </tr>\n    <tr>\n      <th>under review</th>\n      <td>2066</td>\n      <td>392204.836399</td>\n      <td>365245.5</td>\n      <td>2066</td>\n      <td>128718.050339</td>\n      <td>71204.5</td>\n      <td>2066</td>\n      <td>25774.696999</td>\n      <td>9444.0</td>\n    </tr>\n  </tbody>\n</table>\n</div>"
     },
     "execution_count": 24,
     "metadata": {},
     "output_type": "execute_result"
    }
   ],
   "source": [
    "data.groupby(['author_ban_status']).agg(\n",
    "    {'video_view_count': ['count', 'mean', 'median'],\n",
    "     'video_like_count': ['count', 'mean', 'median'],\n",
    "     'video_share_count': ['count', 'mean', 'median']}\n",
    ")"
   ],
   "metadata": {
    "collapsed": false,
    "ExecuteTime": {
     "end_time": "2023-06-18T03:08:20.991005Z",
     "start_time": "2023-06-18T03:08:20.940754Z"
    }
   }
  },
  {
   "cell_type": "markdown",
   "source": [
    "Now, create three new columns to help better understand engagement rates:\n",
    "* `likes_per_view`: represents the number of likes divided by the number of views for each video\n",
    "* `comments_per_view`: represents the number of comments divided by the number of views for each video\n",
    "* `shares_per_view`: represents the number of shares divided by the number of views for each video"
   ],
   "metadata": {
    "collapsed": false
   }
  },
  {
   "cell_type": "code",
   "execution_count": 25,
   "outputs": [],
   "source": [
    "data['likes_per_view'] = data['video_like_count'] / data['video_view_count']\n",
    "data['comments_per_view'] = data['video_comment_count'] / data['video_view_count']\n",
    "data['shares_per_view'] = data['video_share_count'] / data['video_view_count']"
   ],
   "metadata": {
    "collapsed": false,
    "ExecuteTime": {
     "end_time": "2023-06-18T03:11:55.990359Z",
     "start_time": "2023-06-18T03:11:55.979948Z"
    }
   }
  },
  {
   "cell_type": "markdown",
   "source": [
    "Then compile all the information in each of the three newly created columns for each combination\n",
    "of categories of claim status and author ban status."
   ],
   "metadata": {
    "collapsed": false
   }
  },
  {
   "cell_type": "code",
   "execution_count": 26,
   "outputs": [
    {
     "data": {
      "text/plain": "                               likes_per_view                      \\\n                                        count      mean    median   \nclaim_status author_ban_status                                      \nclaim        active                      6566  0.329542  0.326538   \n             banned                      1439  0.345071  0.358909   \n             under review                1603  0.327997  0.320867   \nopinion      active                      8817  0.219744  0.218330   \n             banned                       196  0.206868  0.198483   \n             under review                 463  0.226394  0.228051   \n\n                               comments_per_view                      \\\n                                           count      mean    median   \nclaim_status author_ban_status                                         \nclaim        active                         6566  0.001393  0.000776   \n             banned                         1439  0.001377  0.000746   \n             under review                   1603  0.001367  0.000789   \nopinion      active                         8817  0.000517  0.000252   \n             banned                          196  0.000434  0.000193   \n             under review                    463  0.000536  0.000293   \n\n                               shares_per_view                      \n                                         count      mean    median  \nclaim_status author_ban_status                                      \nclaim        active                       6566  0.065456  0.049279  \n             banned                       1439  0.067893  0.051606  \n             under review                 1603  0.065733  0.049967  \nopinion      active                       8817  0.043729  0.032405  \n             banned                        196  0.040531  0.030728  \n             under review                  463  0.044472  0.035027  ",
      "text/html": "<div>\n<style scoped>\n    .dataframe tbody tr th:only-of-type {\n        vertical-align: middle;\n    }\n\n    .dataframe tbody tr th {\n        vertical-align: top;\n    }\n\n    .dataframe thead tr th {\n        text-align: left;\n    }\n\n    .dataframe thead tr:last-of-type th {\n        text-align: right;\n    }\n</style>\n<table border=\"1\" class=\"dataframe\">\n  <thead>\n    <tr>\n      <th></th>\n      <th></th>\n      <th colspan=\"3\" halign=\"left\">likes_per_view</th>\n      <th colspan=\"3\" halign=\"left\">comments_per_view</th>\n      <th colspan=\"3\" halign=\"left\">shares_per_view</th>\n    </tr>\n    <tr>\n      <th></th>\n      <th></th>\n      <th>count</th>\n      <th>mean</th>\n      <th>median</th>\n      <th>count</th>\n      <th>mean</th>\n      <th>median</th>\n      <th>count</th>\n      <th>mean</th>\n      <th>median</th>\n    </tr>\n    <tr>\n      <th>claim_status</th>\n      <th>author_ban_status</th>\n      <th></th>\n      <th></th>\n      <th></th>\n      <th></th>\n      <th></th>\n      <th></th>\n      <th></th>\n      <th></th>\n      <th></th>\n    </tr>\n  </thead>\n  <tbody>\n    <tr>\n      <th rowspan=\"3\" valign=\"top\">claim</th>\n      <th>active</th>\n      <td>6566</td>\n      <td>0.329542</td>\n      <td>0.326538</td>\n      <td>6566</td>\n      <td>0.001393</td>\n      <td>0.000776</td>\n      <td>6566</td>\n      <td>0.065456</td>\n      <td>0.049279</td>\n    </tr>\n    <tr>\n      <th>banned</th>\n      <td>1439</td>\n      <td>0.345071</td>\n      <td>0.358909</td>\n      <td>1439</td>\n      <td>0.001377</td>\n      <td>0.000746</td>\n      <td>1439</td>\n      <td>0.067893</td>\n      <td>0.051606</td>\n    </tr>\n    <tr>\n      <th>under review</th>\n      <td>1603</td>\n      <td>0.327997</td>\n      <td>0.320867</td>\n      <td>1603</td>\n      <td>0.001367</td>\n      <td>0.000789</td>\n      <td>1603</td>\n      <td>0.065733</td>\n      <td>0.049967</td>\n    </tr>\n    <tr>\n      <th rowspan=\"3\" valign=\"top\">opinion</th>\n      <th>active</th>\n      <td>8817</td>\n      <td>0.219744</td>\n      <td>0.218330</td>\n      <td>8817</td>\n      <td>0.000517</td>\n      <td>0.000252</td>\n      <td>8817</td>\n      <td>0.043729</td>\n      <td>0.032405</td>\n    </tr>\n    <tr>\n      <th>banned</th>\n      <td>196</td>\n      <td>0.206868</td>\n      <td>0.198483</td>\n      <td>196</td>\n      <td>0.000434</td>\n      <td>0.000193</td>\n      <td>196</td>\n      <td>0.040531</td>\n      <td>0.030728</td>\n    </tr>\n    <tr>\n      <th>under review</th>\n      <td>463</td>\n      <td>0.226394</td>\n      <td>0.228051</td>\n      <td>463</td>\n      <td>0.000536</td>\n      <td>0.000293</td>\n      <td>463</td>\n      <td>0.044472</td>\n      <td>0.035027</td>\n    </tr>\n  </tbody>\n</table>\n</div>"
     },
     "execution_count": 26,
     "metadata": {},
     "output_type": "execute_result"
    }
   ],
   "source": [
    "data.groupby(['claim_status', 'author_ban_status']).agg(\n",
    "    {'likes_per_view': ['count', 'mean', 'median'],\n",
    "     'comments_per_view': ['count', 'mean', 'median'],\n",
    "     'shares_per_view': ['count', 'mean', 'median']}\n",
    ")"
   ],
   "metadata": {
    "collapsed": false,
    "ExecuteTime": {
     "end_time": "2023-06-18T03:14:49.469222Z",
     "start_time": "2023-06-18T03:14:49.441553Z"
    }
   }
  }
 ],
 "metadata": {
  "kernelspec": {
   "display_name": "Python 3",
   "language": "python",
   "name": "python3"
  },
  "language_info": {
   "codemirror_mode": {
    "name": "ipython",
    "version": 2
   },
   "file_extension": ".py",
   "mimetype": "text/x-python",
   "name": "python",
   "nbconvert_exporter": "python",
   "pygments_lexer": "ipython2",
   "version": "2.7.6"
  }
 },
 "nbformat": 4,
 "nbformat_minor": 0
}
