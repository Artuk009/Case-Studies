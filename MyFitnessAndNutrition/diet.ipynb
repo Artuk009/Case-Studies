{
 "cells": [
  {
   "cell_type": "markdown",
   "metadata": {},
   "source": [
    "# Diet Data Editor\n",
    "Author: Brent Artuch <br>\n",
    "Date: 2023-06-04"
   ]
  },
  {
   "cell_type": "markdown",
   "source": [
    "## Introduction"
   ],
   "metadata": {
    "collapsed": false
   }
  },
  {
   "cell_type": "markdown",
   "source": [
    "This notebook depicts the process of adding new food entries to my SQLite database and then takes you\n",
    "through the macronutrient conversion calculations. After the caloric intake based on macro nutrient for\n",
    "the day has been calculated, we then proceed to a few visualizations for those calculations. <br>\n",
    "\n",
    "This document utilizes an array of Pandas processing techniques such as filtering via boolean masking,\n",
    "using descriptive methods to illustrate the shape of the data set, and creating visualizations using the\n",
    "data in the dataframe."
   ],
   "metadata": {
    "collapsed": false
   }
  },
  {
   "cell_type": "markdown",
   "metadata": {},
   "source": [
    "## Step: 1 Imports\n",
    "### Import packages"
   ]
  },
  {
   "cell_type": "code",
   "execution_count": 1,
   "metadata": {
    "collapsed": true,
    "ExecuteTime": {
     "end_time": "2023-06-17T03:01:29.809373Z",
     "start_time": "2023-06-17T03:01:29.804174Z"
    }
   },
   "outputs": [],
   "source": [
    "import sqlite3\n",
    "import pandas as pd\n",
    "import seaborn as sns"
   ]
  },
  {
   "cell_type": "markdown",
   "source": [
    "### Load the dataset\n",
    "This dataset is pulled from a SQLite database that stores all foods I have consumed by `month_YYYY`. We will\n",
    "load the current month using a simple query."
   ],
   "metadata": {
    "collapsed": false
   }
  },
  {
   "cell_type": "code",
   "execution_count": 2,
   "outputs": [
    {
     "data": {
      "text/plain": "       food_id                 date  meal_number           food_name  \\\nindex                                                                  \n130    1000364  2023-06-15 00:00:00            3        Fruit Snacks   \n131    1000365  2023-06-15 00:00:00            4      Protein Powder   \n132    1000366  2023-06-16 00:00:00            1  Chick-Fil-A Deluxe   \n133    1000367  2023-06-16 00:00:00            1     Wendys Jr Fries   \n134    1000368  2023-06-16 00:00:00            1   Wendys Small Coke   \n135    1000369  2023-06-16 00:00:00            2         Pizza Slice   \n136    1000370  2023-06-16 00:00:00            2               Ranch   \n137    1000371  2023-06-16 00:00:00            3         Pizza Slice   \n138    1000372  2023-06-16 00:00:00            4     Gatorade Powder   \n139    1000373  2023-06-16 00:00:00            4      Protein Powder   \n\n       servings  carbs  fats  protein  calories  \nindex                                            \n130         2.0   17.0   0.0        1        70  \n131         2.0    3.0   2.0       24       120  \n132         1.0   43.0  22.0       32       490  \n133         3.0   28.0   9.0        3       210  \n134         1.0   66.0   0.0        0       240  \n135         2.0   42.0  10.0       19       330  \n136         1.0    1.0  23.0        1       210  \n137         2.0   42.0  10.0       19       330  \n138         2.0   22.0   0.0        0        80  \n139         2.0    3.0   2.0       24       120  ",
      "text/html": "<div>\n<style scoped>\n    .dataframe tbody tr th:only-of-type {\n        vertical-align: middle;\n    }\n\n    .dataframe tbody tr th {\n        vertical-align: top;\n    }\n\n    .dataframe thead th {\n        text-align: right;\n    }\n</style>\n<table border=\"1\" class=\"dataframe\">\n  <thead>\n    <tr style=\"text-align: right;\">\n      <th></th>\n      <th>food_id</th>\n      <th>date</th>\n      <th>meal_number</th>\n      <th>food_name</th>\n      <th>servings</th>\n      <th>carbs</th>\n      <th>fats</th>\n      <th>protein</th>\n      <th>calories</th>\n    </tr>\n    <tr>\n      <th>index</th>\n      <th></th>\n      <th></th>\n      <th></th>\n      <th></th>\n      <th></th>\n      <th></th>\n      <th></th>\n      <th></th>\n      <th></th>\n    </tr>\n  </thead>\n  <tbody>\n    <tr>\n      <th>130</th>\n      <td>1000364</td>\n      <td>2023-06-15 00:00:00</td>\n      <td>3</td>\n      <td>Fruit Snacks</td>\n      <td>2.0</td>\n      <td>17.0</td>\n      <td>0.0</td>\n      <td>1</td>\n      <td>70</td>\n    </tr>\n    <tr>\n      <th>131</th>\n      <td>1000365</td>\n      <td>2023-06-15 00:00:00</td>\n      <td>4</td>\n      <td>Protein Powder</td>\n      <td>2.0</td>\n      <td>3.0</td>\n      <td>2.0</td>\n      <td>24</td>\n      <td>120</td>\n    </tr>\n    <tr>\n      <th>132</th>\n      <td>1000366</td>\n      <td>2023-06-16 00:00:00</td>\n      <td>1</td>\n      <td>Chick-Fil-A Deluxe</td>\n      <td>1.0</td>\n      <td>43.0</td>\n      <td>22.0</td>\n      <td>32</td>\n      <td>490</td>\n    </tr>\n    <tr>\n      <th>133</th>\n      <td>1000367</td>\n      <td>2023-06-16 00:00:00</td>\n      <td>1</td>\n      <td>Wendys Jr Fries</td>\n      <td>3.0</td>\n      <td>28.0</td>\n      <td>9.0</td>\n      <td>3</td>\n      <td>210</td>\n    </tr>\n    <tr>\n      <th>134</th>\n      <td>1000368</td>\n      <td>2023-06-16 00:00:00</td>\n      <td>1</td>\n      <td>Wendys Small Coke</td>\n      <td>1.0</td>\n      <td>66.0</td>\n      <td>0.0</td>\n      <td>0</td>\n      <td>240</td>\n    </tr>\n    <tr>\n      <th>135</th>\n      <td>1000369</td>\n      <td>2023-06-16 00:00:00</td>\n      <td>2</td>\n      <td>Pizza Slice</td>\n      <td>2.0</td>\n      <td>42.0</td>\n      <td>10.0</td>\n      <td>19</td>\n      <td>330</td>\n    </tr>\n    <tr>\n      <th>136</th>\n      <td>1000370</td>\n      <td>2023-06-16 00:00:00</td>\n      <td>2</td>\n      <td>Ranch</td>\n      <td>1.0</td>\n      <td>1.0</td>\n      <td>23.0</td>\n      <td>1</td>\n      <td>210</td>\n    </tr>\n    <tr>\n      <th>137</th>\n      <td>1000371</td>\n      <td>2023-06-16 00:00:00</td>\n      <td>3</td>\n      <td>Pizza Slice</td>\n      <td>2.0</td>\n      <td>42.0</td>\n      <td>10.0</td>\n      <td>19</td>\n      <td>330</td>\n    </tr>\n    <tr>\n      <th>138</th>\n      <td>1000372</td>\n      <td>2023-06-16 00:00:00</td>\n      <td>4</td>\n      <td>Gatorade Powder</td>\n      <td>2.0</td>\n      <td>22.0</td>\n      <td>0.0</td>\n      <td>0</td>\n      <td>80</td>\n    </tr>\n    <tr>\n      <th>139</th>\n      <td>1000373</td>\n      <td>2023-06-16 00:00:00</td>\n      <td>4</td>\n      <td>Protein Powder</td>\n      <td>2.0</td>\n      <td>3.0</td>\n      <td>2.0</td>\n      <td>24</td>\n      <td>120</td>\n    </tr>\n  </tbody>\n</table>\n</div>"
     },
     "execution_count": 2,
     "metadata": {},
     "output_type": "execute_result"
    }
   ],
   "source": [
    "sql_connection = sqlite3.connect('diet.sqlite')\n",
    "# Import desired table and set the index.\n",
    "current_foods = pd.read_sql('SELECT * FROM june_2023', sql_connection, index_col='index')\n",
    "current_foods.tail(10)"
   ],
   "metadata": {
    "collapsed": false,
    "ExecuteTime": {
     "end_time": "2023-06-17T03:01:32.950994Z",
     "start_time": "2023-06-17T03:01:32.938480Z"
    }
   }
  },
  {
   "cell_type": "markdown",
   "source": [
    "## Step 2: Data Exploration\n",
    "Next we will get a sense of the size and contents of `current_foods`."
   ],
   "metadata": {
    "collapsed": false
   }
  },
  {
   "cell_type": "code",
   "execution_count": 3,
   "outputs": [
    {
     "data": {
      "text/plain": "(140, 9)"
     },
     "execution_count": 3,
     "metadata": {},
     "output_type": "execute_result"
    }
   ],
   "source": [
    "current_foods.shape"
   ],
   "metadata": {
    "collapsed": false,
    "ExecuteTime": {
     "end_time": "2023-06-17T03:01:38.324942Z",
     "start_time": "2023-06-17T03:01:38.319094Z"
    }
   }
  },
  {
   "cell_type": "code",
   "execution_count": 4,
   "outputs": [
    {
     "name": "stdout",
     "output_type": "stream",
     "text": [
      "<class 'pandas.core.frame.DataFrame'>\n",
      "Int64Index: 140 entries, 0 to 139\n",
      "Data columns (total 9 columns):\n",
      " #   Column       Non-Null Count  Dtype  \n",
      "---  ------       --------------  -----  \n",
      " 0   food_id      140 non-null    int64  \n",
      " 1   date         140 non-null    object \n",
      " 2   meal_number  140 non-null    int64  \n",
      " 3   food_name    140 non-null    object \n",
      " 4   servings     140 non-null    float64\n",
      " 5   carbs        140 non-null    float64\n",
      " 6   fats         140 non-null    float64\n",
      " 7   protein      140 non-null    int64  \n",
      " 8   calories     140 non-null    int64  \n",
      "dtypes: float64(3), int64(4), object(2)\n",
      "memory usage: 10.9+ KB\n"
     ]
    }
   ],
   "source": [
    "current_foods.info()"
   ],
   "metadata": {
    "collapsed": false,
    "ExecuteTime": {
     "end_time": "2023-06-17T03:01:41.177380Z",
     "start_time": "2023-06-17T03:01:41.167826Z"
    }
   }
  },
  {
   "cell_type": "code",
   "execution_count": 5,
   "outputs": [
    {
     "data": {
      "text/plain": "            carbs        fats     protein     calories\ncount  140.000000  140.000000  140.000000   140.000000\nmean    23.778571    6.964286   11.428571   200.528571\nstd     23.472031   11.308882   12.604180   196.285266\nmin      0.000000    0.000000    0.000000    70.000000\n25%      3.000000    2.000000    1.000000    87.500000\n50%     17.000000    2.000000    5.500000   120.000000\n75%     42.000000    9.000000   24.000000   210.000000\nmax    111.000000   81.000000   73.000000  1400.000000",
      "text/html": "<div>\n<style scoped>\n    .dataframe tbody tr th:only-of-type {\n        vertical-align: middle;\n    }\n\n    .dataframe tbody tr th {\n        vertical-align: top;\n    }\n\n    .dataframe thead th {\n        text-align: right;\n    }\n</style>\n<table border=\"1\" class=\"dataframe\">\n  <thead>\n    <tr style=\"text-align: right;\">\n      <th></th>\n      <th>carbs</th>\n      <th>fats</th>\n      <th>protein</th>\n      <th>calories</th>\n    </tr>\n  </thead>\n  <tbody>\n    <tr>\n      <th>count</th>\n      <td>140.000000</td>\n      <td>140.000000</td>\n      <td>140.000000</td>\n      <td>140.000000</td>\n    </tr>\n    <tr>\n      <th>mean</th>\n      <td>23.778571</td>\n      <td>6.964286</td>\n      <td>11.428571</td>\n      <td>200.528571</td>\n    </tr>\n    <tr>\n      <th>std</th>\n      <td>23.472031</td>\n      <td>11.308882</td>\n      <td>12.604180</td>\n      <td>196.285266</td>\n    </tr>\n    <tr>\n      <th>min</th>\n      <td>0.000000</td>\n      <td>0.000000</td>\n      <td>0.000000</td>\n      <td>70.000000</td>\n    </tr>\n    <tr>\n      <th>25%</th>\n      <td>3.000000</td>\n      <td>2.000000</td>\n      <td>1.000000</td>\n      <td>87.500000</td>\n    </tr>\n    <tr>\n      <th>50%</th>\n      <td>17.000000</td>\n      <td>2.000000</td>\n      <td>5.500000</td>\n      <td>120.000000</td>\n    </tr>\n    <tr>\n      <th>75%</th>\n      <td>42.000000</td>\n      <td>9.000000</td>\n      <td>24.000000</td>\n      <td>210.000000</td>\n    </tr>\n    <tr>\n      <th>max</th>\n      <td>111.000000</td>\n      <td>81.000000</td>\n      <td>73.000000</td>\n      <td>1400.000000</td>\n    </tr>\n  </tbody>\n</table>\n</div>"
     },
     "execution_count": 5,
     "metadata": {},
     "output_type": "execute_result"
    }
   ],
   "source": [
    "current_foods[['carbs','fats','protein','calories']].describe()"
   ],
   "metadata": {
    "collapsed": false,
    "ExecuteTime": {
     "end_time": "2023-06-17T03:01:44.202179Z",
     "start_time": "2023-06-17T03:01:44.178095Z"
    }
   }
  },
  {
   "cell_type": "code",
   "execution_count": 6,
   "outputs": [
    {
     "data": {
      "text/plain": "Protein Powder    35\nFruit Snacks      13\nRice              11\nSpicy Garlic       9\nRice Krispie       7\nName: food_name, dtype: int64"
     },
     "execution_count": 6,
     "metadata": {},
     "output_type": "execute_result"
    }
   ],
   "source": [
    "current_foods['food_name'].value_counts().head()"
   ],
   "metadata": {
    "collapsed": false,
    "ExecuteTime": {
     "end_time": "2023-06-17T03:01:48.376369Z",
     "start_time": "2023-06-17T03:01:48.372650Z"
    }
   }
  },
  {
   "cell_type": "markdown",
   "metadata": {},
   "source": [
    "## Step 3: Update the Dataset\n",
    "### Load the master food list\n",
    "First we will load the names of the foods from the master `food_list` database so that the algorithm\n",
    "can check against the list for whether the food reference exists."
   ]
  },
  {
   "cell_type": "code",
   "execution_count": 7,
   "outputs": [
    {
     "data": {
      "text/plain": "        food_name\n0         Oatmeal\n1  Protein Powder\n2     Coco Powder\n3           Ramen\n4      Cereal Bar",
      "text/html": "<div>\n<style scoped>\n    .dataframe tbody tr th:only-of-type {\n        vertical-align: middle;\n    }\n\n    .dataframe tbody tr th {\n        vertical-align: top;\n    }\n\n    .dataframe thead th {\n        text-align: right;\n    }\n</style>\n<table border=\"1\" class=\"dataframe\">\n  <thead>\n    <tr style=\"text-align: right;\">\n      <th></th>\n      <th>food_name</th>\n    </tr>\n  </thead>\n  <tbody>\n    <tr>\n      <th>0</th>\n      <td>Oatmeal</td>\n    </tr>\n    <tr>\n      <th>1</th>\n      <td>Protein Powder</td>\n    </tr>\n    <tr>\n      <th>2</th>\n      <td>Coco Powder</td>\n    </tr>\n    <tr>\n      <th>3</th>\n      <td>Ramen</td>\n    </tr>\n    <tr>\n      <th>4</th>\n      <td>Cereal Bar</td>\n    </tr>\n  </tbody>\n</table>\n</div>"
     },
     "execution_count": 7,
     "metadata": {},
     "output_type": "execute_result"
    }
   ],
   "source": [
    "# Call the master food list.\n",
    "food_db = pd.read_sql('SELECT food_name FROM food_list', sql_connection)\n",
    "food_db.head()"
   ],
   "metadata": {
    "collapsed": false,
    "ExecuteTime": {
     "end_time": "2023-06-17T03:01:51.403454Z",
     "start_time": "2023-06-17T03:01:51.396977Z"
    }
   }
  },
  {
   "cell_type": "markdown",
   "source": [
    "### Set the date of the entries"
   ],
   "metadata": {
    "collapsed": false
   }
  },
  {
   "cell_type": "code",
   "execution_count": 8,
   "outputs": [
    {
     "data": {
      "text/plain": "'2023-06-16 00:00:00'"
     },
     "execution_count": 8,
     "metadata": {},
     "output_type": "execute_result"
    }
   ],
   "source": [
    "day_of_month = input(\"Enter the day of the month: DD\")\n",
    "date = f\"2023-06-{day_of_month} 00:00:00\"\n",
    "date"
   ],
   "metadata": {
    "collapsed": false,
    "ExecuteTime": {
     "end_time": "2023-06-17T03:02:01.800768Z",
     "start_time": "2023-06-17T03:01:57.020312Z"
    }
   }
  },
  {
   "cell_type": "markdown",
   "source": [
    "### Execute the entry insertion algorithm"
   ],
   "metadata": {
    "collapsed": false
   }
  },
  {
   "cell_type": "code",
   "execution_count": 9,
   "metadata": {
    "ExecuteTime": {
     "end_time": "2023-06-17T03:02:23.742846Z",
     "start_time": "2023-06-17T03:02:05.436563Z"
    }
   },
   "outputs": [
    {
     "data": {
      "text/plain": "       food_id       date  meal_number           food_name  servings  carbs  \\\nindex                                                                         \n131    1000365 2023-06-15            4      Protein Powder       2.0    3.0   \n132    1000366 2023-06-16            1  Chick-Fil-A Deluxe       1.0   43.0   \n133    1000367 2023-06-16            1     Wendys Jr Fries       3.0   28.0   \n134    1000368 2023-06-16            1   Wendys Small Coke       1.0   66.0   \n135    1000369 2023-06-16            2         Pizza Slice       2.0   42.0   \n136    1000370 2023-06-16            2               Ranch       1.0    1.0   \n137    1000371 2023-06-16            3         Pizza Slice       2.0   42.0   \n138    1000372 2023-06-16            4     Gatorade Powder       2.0   22.0   \n139    1000373 2023-06-16            4      Protein Powder       2.0    3.0   \n140    1000374 2023-06-16            4           Ice Cream       2.0   23.0   \n\n       fats  protein  calories  \nindex                           \n131     2.0       24       120  \n132    22.0       32       490  \n133     9.0        3       210  \n134     0.0        0       240  \n135    10.0       19       330  \n136    23.0        1       210  \n137    10.0       19       330  \n138     0.0        0        80  \n139     2.0       24       120  \n140     9.0        3       180  ",
      "text/html": "<div>\n<style scoped>\n    .dataframe tbody tr th:only-of-type {\n        vertical-align: middle;\n    }\n\n    .dataframe tbody tr th {\n        vertical-align: top;\n    }\n\n    .dataframe thead th {\n        text-align: right;\n    }\n</style>\n<table border=\"1\" class=\"dataframe\">\n  <thead>\n    <tr style=\"text-align: right;\">\n      <th></th>\n      <th>food_id</th>\n      <th>date</th>\n      <th>meal_number</th>\n      <th>food_name</th>\n      <th>servings</th>\n      <th>carbs</th>\n      <th>fats</th>\n      <th>protein</th>\n      <th>calories</th>\n    </tr>\n    <tr>\n      <th>index</th>\n      <th></th>\n      <th></th>\n      <th></th>\n      <th></th>\n      <th></th>\n      <th></th>\n      <th></th>\n      <th></th>\n      <th></th>\n    </tr>\n  </thead>\n  <tbody>\n    <tr>\n      <th>131</th>\n      <td>1000365</td>\n      <td>2023-06-15</td>\n      <td>4</td>\n      <td>Protein Powder</td>\n      <td>2.0</td>\n      <td>3.0</td>\n      <td>2.0</td>\n      <td>24</td>\n      <td>120</td>\n    </tr>\n    <tr>\n      <th>132</th>\n      <td>1000366</td>\n      <td>2023-06-16</td>\n      <td>1</td>\n      <td>Chick-Fil-A Deluxe</td>\n      <td>1.0</td>\n      <td>43.0</td>\n      <td>22.0</td>\n      <td>32</td>\n      <td>490</td>\n    </tr>\n    <tr>\n      <th>133</th>\n      <td>1000367</td>\n      <td>2023-06-16</td>\n      <td>1</td>\n      <td>Wendys Jr Fries</td>\n      <td>3.0</td>\n      <td>28.0</td>\n      <td>9.0</td>\n      <td>3</td>\n      <td>210</td>\n    </tr>\n    <tr>\n      <th>134</th>\n      <td>1000368</td>\n      <td>2023-06-16</td>\n      <td>1</td>\n      <td>Wendys Small Coke</td>\n      <td>1.0</td>\n      <td>66.0</td>\n      <td>0.0</td>\n      <td>0</td>\n      <td>240</td>\n    </tr>\n    <tr>\n      <th>135</th>\n      <td>1000369</td>\n      <td>2023-06-16</td>\n      <td>2</td>\n      <td>Pizza Slice</td>\n      <td>2.0</td>\n      <td>42.0</td>\n      <td>10.0</td>\n      <td>19</td>\n      <td>330</td>\n    </tr>\n    <tr>\n      <th>136</th>\n      <td>1000370</td>\n      <td>2023-06-16</td>\n      <td>2</td>\n      <td>Ranch</td>\n      <td>1.0</td>\n      <td>1.0</td>\n      <td>23.0</td>\n      <td>1</td>\n      <td>210</td>\n    </tr>\n    <tr>\n      <th>137</th>\n      <td>1000371</td>\n      <td>2023-06-16</td>\n      <td>3</td>\n      <td>Pizza Slice</td>\n      <td>2.0</td>\n      <td>42.0</td>\n      <td>10.0</td>\n      <td>19</td>\n      <td>330</td>\n    </tr>\n    <tr>\n      <th>138</th>\n      <td>1000372</td>\n      <td>2023-06-16</td>\n      <td>4</td>\n      <td>Gatorade Powder</td>\n      <td>2.0</td>\n      <td>22.0</td>\n      <td>0.0</td>\n      <td>0</td>\n      <td>80</td>\n    </tr>\n    <tr>\n      <th>139</th>\n      <td>1000373</td>\n      <td>2023-06-16</td>\n      <td>4</td>\n      <td>Protein Powder</td>\n      <td>2.0</td>\n      <td>3.0</td>\n      <td>2.0</td>\n      <td>24</td>\n      <td>120</td>\n    </tr>\n    <tr>\n      <th>140</th>\n      <td>1000374</td>\n      <td>2023-06-16</td>\n      <td>4</td>\n      <td>Ice Cream</td>\n      <td>2.0</td>\n      <td>23.0</td>\n      <td>9.0</td>\n      <td>3</td>\n      <td>180</td>\n    </tr>\n  </tbody>\n</table>\n</div>"
     },
     "execution_count": 9,
     "metadata": {},
     "output_type": "execute_result"
    }
   ],
   "source": [
    "# Set the current meal number to be logged\n",
    "choice = 1\n",
    "foods = list(food_db['food_name'])\n",
    "\n",
    "while choice != 2:\n",
    "\n",
    "    \"\"\" This algorithm takes a desired food input and then inserts it into a SQL query to\n",
    "    retrieve the nutritional info for that food. The meal number and serving count are\n",
    "     updated and then the entry is inserted into the dataframe. \"\"\"\n",
    "\n",
    "    db_food = input(\"What food would you like too add?\")\n",
    "    if db_food not in foods:\n",
    "        raise Exception(input(\"Food not in database. Try again: \"))\n",
    "    new_food = pd.read_sql(\"SELECT food_name, carbs, fats, protein, calories\"\n",
    "                            \" FROM food_list \"\n",
    "                            \" WHERE food_name = (?)\", sql_connection, params=(db_food,))\n",
    "    meal_number = int(input(\"Enter Meal Number: \"))\n",
    "    servings = float(input(\"Enter Serving Count: \"))\n",
    "    f_id = current_foods.iloc[-1, 0] + 1\n",
    "    new_entry = [f_id,\n",
    "                 date,\n",
    "                 meal_number,\n",
    "                 new_food.loc[0,'food_name'],\n",
    "                 servings,\n",
    "                 new_food.loc[0,'carbs'],\n",
    "                 new_food.loc[0,'fats'],\n",
    "                 new_food.loc[0,'protein'],\n",
    "                 new_food.loc[0,'calories']]\n",
    "    current_foods.loc[len(current_foods)] = new_entry\n",
    "    choice = int(input(\"Add another? [1]Yes [2]No\"))\n",
    "\n",
    "current_foods['date'] = pd.to_datetime(current_foods['date'])\n",
    "updated_foods = current_foods\n",
    "updated_foods.tail(10)"
   ]
  },
  {
   "cell_type": "markdown",
   "metadata": {
    "ExecuteTime": {
     "end_time": "2023-05-31T03:51:10.005011Z",
     "start_time": "2023-05-31T03:50:58.892295Z"
    }
   },
   "source": [
    "### Data Manipulation\n",
    "This section exists for convenience if quick changes need to be made to the entries."
   ],
   "outputs": [
    {
     "data": {
      "text/plain": "       food_id       date  meal_number       food_name  servings  carbs  fats   \nindex                                                                           \n216    1000218 2023-05-30            3  Protein Powder       2.0    3.0   2.0  \\\n217    1000219 2023-05-30            3    Spicy Garlic       1.0    3.0   6.0   \n218    1000220 2023-05-30            3    Fruit Snacks       1.0   17.0   0.0   \n219    1000221 2023-05-30            4  Protein Powder       2.0    3.0   2.0   \n220    1000222 2023-05-30            4     Steak Ques.       1.0   42.0  27.0   \n\n       protein  calories  \nindex                     \n216         24       120  \n217          1        70  \n218          1        70  \n219         24       120  \n220         26       520  ",
      "text/html": "<div>\n<style scoped>\n    .dataframe tbody tr th:only-of-type {\n        vertical-align: middle;\n    }\n\n    .dataframe tbody tr th {\n        vertical-align: top;\n    }\n\n    .dataframe thead th {\n        text-align: right;\n    }\n</style>\n<table border=\"1\" class=\"dataframe\">\n  <thead>\n    <tr style=\"text-align: right;\">\n      <th></th>\n      <th>food_id</th>\n      <th>date</th>\n      <th>meal_number</th>\n      <th>food_name</th>\n      <th>servings</th>\n      <th>carbs</th>\n      <th>fats</th>\n      <th>protein</th>\n      <th>calories</th>\n    </tr>\n    <tr>\n      <th>index</th>\n      <th></th>\n      <th></th>\n      <th></th>\n      <th></th>\n      <th></th>\n      <th></th>\n      <th></th>\n      <th></th>\n      <th></th>\n    </tr>\n  </thead>\n  <tbody>\n    <tr>\n      <th>216</th>\n      <td>1000218</td>\n      <td>2023-05-30</td>\n      <td>3</td>\n      <td>Protein Powder</td>\n      <td>2.0</td>\n      <td>3.0</td>\n      <td>2.0</td>\n      <td>24</td>\n      <td>120</td>\n    </tr>\n    <tr>\n      <th>217</th>\n      <td>1000219</td>\n      <td>2023-05-30</td>\n      <td>3</td>\n      <td>Spicy Garlic</td>\n      <td>1.0</td>\n      <td>3.0</td>\n      <td>6.0</td>\n      <td>1</td>\n      <td>70</td>\n    </tr>\n    <tr>\n      <th>218</th>\n      <td>1000220</td>\n      <td>2023-05-30</td>\n      <td>3</td>\n      <td>Fruit Snacks</td>\n      <td>1.0</td>\n      <td>17.0</td>\n      <td>0.0</td>\n      <td>1</td>\n      <td>70</td>\n    </tr>\n    <tr>\n      <th>219</th>\n      <td>1000221</td>\n      <td>2023-05-30</td>\n      <td>4</td>\n      <td>Protein Powder</td>\n      <td>2.0</td>\n      <td>3.0</td>\n      <td>2.0</td>\n      <td>24</td>\n      <td>120</td>\n    </tr>\n    <tr>\n      <th>220</th>\n      <td>1000222</td>\n      <td>2023-05-30</td>\n      <td>4</td>\n      <td>Steak Ques.</td>\n      <td>1.0</td>\n      <td>42.0</td>\n      <td>27.0</td>\n      <td>26</td>\n      <td>520</td>\n    </tr>\n  </tbody>\n</table>\n</div>"
     },
     "execution_count": 3,
     "metadata": {},
     "output_type": "execute_result"
    }
   ],
   "execution_count": 3
  },
  {
   "cell_type": "code",
   "execution_count": null,
   "metadata": {},
   "outputs": [],
   "source": [
    "# Update item(s) by index and column\n",
    "# current_foods.loc[85,'servings'] = 1\n",
    "# Drop operation\n",
    "# current_foods.drop(index=current_foods.index[-1], axis=0, inplace=True) # Remove last entry\n",
    "updated_foods.tail()"
   ]
  },
  {
   "cell_type": "markdown",
   "metadata": {
    "ExecuteTime": {
     "end_time": "2023-05-31T03:51:24.643833Z",
     "start_time": "2023-05-31T03:51:24.629632Z"
    }
   },
   "source": [
    "## Step 4: Daily Macro Calculations\n",
    "### Filter out all entries besides those with today's date."
   ],
   "outputs": [
    {
     "data": {
      "text/plain": "221"
     },
     "execution_count": 5,
     "metadata": {},
     "output_type": "execute_result"
    }
   ],
   "execution_count": 5
  },
  {
   "cell_type": "code",
   "execution_count": 10,
   "metadata": {
    "ExecuteTime": {
     "end_time": "2023-06-17T03:02:28.882288Z",
     "start_time": "2023-06-17T03:02:28.879150Z"
    }
   },
   "outputs": [
    {
     "data": {
      "text/plain": "       food_id       date  meal_number           food_name  servings  carbs  \\\nindex                                                                         \n132    1000366 2023-06-16            1  Chick-Fil-A Deluxe       1.0   43.0   \n133    1000367 2023-06-16            1     Wendys Jr Fries       3.0   28.0   \n134    1000368 2023-06-16            1   Wendys Small Coke       1.0   66.0   \n135    1000369 2023-06-16            2         Pizza Slice       2.0   42.0   \n136    1000370 2023-06-16            2               Ranch       1.0    1.0   \n137    1000371 2023-06-16            3         Pizza Slice       2.0   42.0   \n138    1000372 2023-06-16            4     Gatorade Powder       2.0   22.0   \n139    1000373 2023-06-16            4      Protein Powder       2.0    3.0   \n140    1000374 2023-06-16            4           Ice Cream       2.0   23.0   \n\n       fats  protein  calories  \nindex                           \n132    22.0       32       490  \n133     9.0        3       210  \n134     0.0        0       240  \n135    10.0       19       330  \n136    23.0        1       210  \n137    10.0       19       330  \n138     0.0        0        80  \n139     2.0       24       120  \n140     9.0        3       180  ",
      "text/html": "<div>\n<style scoped>\n    .dataframe tbody tr th:only-of-type {\n        vertical-align: middle;\n    }\n\n    .dataframe tbody tr th {\n        vertical-align: top;\n    }\n\n    .dataframe thead th {\n        text-align: right;\n    }\n</style>\n<table border=\"1\" class=\"dataframe\">\n  <thead>\n    <tr style=\"text-align: right;\">\n      <th></th>\n      <th>food_id</th>\n      <th>date</th>\n      <th>meal_number</th>\n      <th>food_name</th>\n      <th>servings</th>\n      <th>carbs</th>\n      <th>fats</th>\n      <th>protein</th>\n      <th>calories</th>\n    </tr>\n    <tr>\n      <th>index</th>\n      <th></th>\n      <th></th>\n      <th></th>\n      <th></th>\n      <th></th>\n      <th></th>\n      <th></th>\n      <th></th>\n      <th></th>\n    </tr>\n  </thead>\n  <tbody>\n    <tr>\n      <th>132</th>\n      <td>1000366</td>\n      <td>2023-06-16</td>\n      <td>1</td>\n      <td>Chick-Fil-A Deluxe</td>\n      <td>1.0</td>\n      <td>43.0</td>\n      <td>22.0</td>\n      <td>32</td>\n      <td>490</td>\n    </tr>\n    <tr>\n      <th>133</th>\n      <td>1000367</td>\n      <td>2023-06-16</td>\n      <td>1</td>\n      <td>Wendys Jr Fries</td>\n      <td>3.0</td>\n      <td>28.0</td>\n      <td>9.0</td>\n      <td>3</td>\n      <td>210</td>\n    </tr>\n    <tr>\n      <th>134</th>\n      <td>1000368</td>\n      <td>2023-06-16</td>\n      <td>1</td>\n      <td>Wendys Small Coke</td>\n      <td>1.0</td>\n      <td>66.0</td>\n      <td>0.0</td>\n      <td>0</td>\n      <td>240</td>\n    </tr>\n    <tr>\n      <th>135</th>\n      <td>1000369</td>\n      <td>2023-06-16</td>\n      <td>2</td>\n      <td>Pizza Slice</td>\n      <td>2.0</td>\n      <td>42.0</td>\n      <td>10.0</td>\n      <td>19</td>\n      <td>330</td>\n    </tr>\n    <tr>\n      <th>136</th>\n      <td>1000370</td>\n      <td>2023-06-16</td>\n      <td>2</td>\n      <td>Ranch</td>\n      <td>1.0</td>\n      <td>1.0</td>\n      <td>23.0</td>\n      <td>1</td>\n      <td>210</td>\n    </tr>\n    <tr>\n      <th>137</th>\n      <td>1000371</td>\n      <td>2023-06-16</td>\n      <td>3</td>\n      <td>Pizza Slice</td>\n      <td>2.0</td>\n      <td>42.0</td>\n      <td>10.0</td>\n      <td>19</td>\n      <td>330</td>\n    </tr>\n    <tr>\n      <th>138</th>\n      <td>1000372</td>\n      <td>2023-06-16</td>\n      <td>4</td>\n      <td>Gatorade Powder</td>\n      <td>2.0</td>\n      <td>22.0</td>\n      <td>0.0</td>\n      <td>0</td>\n      <td>80</td>\n    </tr>\n    <tr>\n      <th>139</th>\n      <td>1000373</td>\n      <td>2023-06-16</td>\n      <td>4</td>\n      <td>Protein Powder</td>\n      <td>2.0</td>\n      <td>3.0</td>\n      <td>2.0</td>\n      <td>24</td>\n      <td>120</td>\n    </tr>\n    <tr>\n      <th>140</th>\n      <td>1000374</td>\n      <td>2023-06-16</td>\n      <td>4</td>\n      <td>Ice Cream</td>\n      <td>2.0</td>\n      <td>23.0</td>\n      <td>9.0</td>\n      <td>3</td>\n      <td>180</td>\n    </tr>\n  </tbody>\n</table>\n</div>"
     },
     "execution_count": 10,
     "metadata": {},
     "output_type": "execute_result"
    }
   ],
   "source": [
    "# Sort entries by date\n",
    "today = updated_foods[updated_foods['date']==date]\n",
    "today"
   ]
  },
  {
   "cell_type": "markdown",
   "metadata": {
    "ExecuteTime": {
     "end_time": "2023-05-31T03:51:45.336772Z",
     "start_time": "2023-05-31T03:51:45.332933Z"
    }
   },
   "source": [
    "### Macro Calculations\n",
    "These calculations assist in assessing the required macro nutrients for the day and possible adjustments\n",
    "that need to made if carbs or fats have exceeded or come up short of their targets."
   ],
   "outputs": [
    {
     "data": {
      "text/plain": "       food_id       date  meal_number       food_name  servings  carbs  fats   \nindex                                                                           \n211    1000213 2023-05-30            1           Ramen       1.0   54.0  14.0  \\\n212    1000214 2023-05-30            1  Protein Powder       2.0    3.0   2.0   \n213    1000215 2023-05-30            2        Pop Tart       1.0   74.0   9.0   \n214    1000216 2023-05-30            2            Eggs       4.0    0.0   5.0   \n215    1000217 2023-05-30            3            Rice       2.0   45.0   1.0   \n216    1000218 2023-05-30            3  Protein Powder       2.0    3.0   2.0   \n217    1000219 2023-05-30            3    Spicy Garlic       1.0    3.0   6.0   \n218    1000220 2023-05-30            3    Fruit Snacks       1.0   17.0   0.0   \n219    1000221 2023-05-30            4  Protein Powder       2.0    3.0   2.0   \n220    1000222 2023-05-30            4     Steak Ques.       1.0   42.0  27.0   \n\n       protein  calories  \nindex                     \n211          8       370  \n212         24       120  \n213          3       390  \n214          6        70  \n215          4       206  \n216         24       120  \n217          1        70  \n218          1        70  \n219         24       120  \n220         26       520  ",
      "text/html": "<div>\n<style scoped>\n    .dataframe tbody tr th:only-of-type {\n        vertical-align: middle;\n    }\n\n    .dataframe tbody tr th {\n        vertical-align: top;\n    }\n\n    .dataframe thead th {\n        text-align: right;\n    }\n</style>\n<table border=\"1\" class=\"dataframe\">\n  <thead>\n    <tr style=\"text-align: right;\">\n      <th></th>\n      <th>food_id</th>\n      <th>date</th>\n      <th>meal_number</th>\n      <th>food_name</th>\n      <th>servings</th>\n      <th>carbs</th>\n      <th>fats</th>\n      <th>protein</th>\n      <th>calories</th>\n    </tr>\n    <tr>\n      <th>index</th>\n      <th></th>\n      <th></th>\n      <th></th>\n      <th></th>\n      <th></th>\n      <th></th>\n      <th></th>\n      <th></th>\n      <th></th>\n    </tr>\n  </thead>\n  <tbody>\n    <tr>\n      <th>211</th>\n      <td>1000213</td>\n      <td>2023-05-30</td>\n      <td>1</td>\n      <td>Ramen</td>\n      <td>1.0</td>\n      <td>54.0</td>\n      <td>14.0</td>\n      <td>8</td>\n      <td>370</td>\n    </tr>\n    <tr>\n      <th>212</th>\n      <td>1000214</td>\n      <td>2023-05-30</td>\n      <td>1</td>\n      <td>Protein Powder</td>\n      <td>2.0</td>\n      <td>3.0</td>\n      <td>2.0</td>\n      <td>24</td>\n      <td>120</td>\n    </tr>\n    <tr>\n      <th>213</th>\n      <td>1000215</td>\n      <td>2023-05-30</td>\n      <td>2</td>\n      <td>Pop Tart</td>\n      <td>1.0</td>\n      <td>74.0</td>\n      <td>9.0</td>\n      <td>3</td>\n      <td>390</td>\n    </tr>\n    <tr>\n      <th>214</th>\n      <td>1000216</td>\n      <td>2023-05-30</td>\n      <td>2</td>\n      <td>Eggs</td>\n      <td>4.0</td>\n      <td>0.0</td>\n      <td>5.0</td>\n      <td>6</td>\n      <td>70</td>\n    </tr>\n    <tr>\n      <th>215</th>\n      <td>1000217</td>\n      <td>2023-05-30</td>\n      <td>3</td>\n      <td>Rice</td>\n      <td>2.0</td>\n      <td>45.0</td>\n      <td>1.0</td>\n      <td>4</td>\n      <td>206</td>\n    </tr>\n    <tr>\n      <th>216</th>\n      <td>1000218</td>\n      <td>2023-05-30</td>\n      <td>3</td>\n      <td>Protein Powder</td>\n      <td>2.0</td>\n      <td>3.0</td>\n      <td>2.0</td>\n      <td>24</td>\n      <td>120</td>\n    </tr>\n    <tr>\n      <th>217</th>\n      <td>1000219</td>\n      <td>2023-05-30</td>\n      <td>3</td>\n      <td>Spicy Garlic</td>\n      <td>1.0</td>\n      <td>3.0</td>\n      <td>6.0</td>\n      <td>1</td>\n      <td>70</td>\n    </tr>\n    <tr>\n      <th>218</th>\n      <td>1000220</td>\n      <td>2023-05-30</td>\n      <td>3</td>\n      <td>Fruit Snacks</td>\n      <td>1.0</td>\n      <td>17.0</td>\n      <td>0.0</td>\n      <td>1</td>\n      <td>70</td>\n    </tr>\n    <tr>\n      <th>219</th>\n      <td>1000221</td>\n      <td>2023-05-30</td>\n      <td>4</td>\n      <td>Protein Powder</td>\n      <td>2.0</td>\n      <td>3.0</td>\n      <td>2.0</td>\n      <td>24</td>\n      <td>120</td>\n    </tr>\n    <tr>\n      <th>220</th>\n      <td>1000222</td>\n      <td>2023-05-30</td>\n      <td>4</td>\n      <td>Steak Ques.</td>\n      <td>1.0</td>\n      <td>42.0</td>\n      <td>27.0</td>\n      <td>26</td>\n      <td>520</td>\n    </tr>\n  </tbody>\n</table>\n</div>"
     },
     "execution_count": 6,
     "metadata": {},
     "output_type": "execute_result"
    }
   ],
   "execution_count": 6
  },
  {
   "cell_type": "code",
   "execution_count": 11,
   "metadata": {
    "ExecuteTime": {
     "end_time": "2023-06-17T03:02:32.292742Z",
     "start_time": "2023-06-17T03:02:32.255318Z"
    }
   },
   "outputs": [
    {
     "name": "stdout",
     "output_type": "stream",
     "text": [
      "Carbs: 458 | Goals: 525 425 325\n",
      "Fats: 134 | Goals: 100 75 50\n",
      "Protein: 172 | Goal: 200\n",
      "Calories: 3650\n"
     ]
    }
   ],
   "source": [
    "# Calculate macronutrient totals based on serving count\n",
    "total_carbs = int((today['carbs'] * today['servings']).sum())\n",
    "total_fats = int((today['fats'] * today['servings']).sum())\n",
    "total_protein = int((today['protein'] * today['servings']).sum())\n",
    "total_cals = int((today['calories'] * today['servings']).sum())\n",
    "\n",
    "print(f\"Carbs: {total_carbs} | Goals: 525 425 325\")\n",
    "print(f\"Fats: {total_fats} | Goals: 100 75 50\")\n",
    "print(f\"Protein: {total_protein} | Goal: 200\")\n",
    "print(f\"Calories: {total_cals}\")"
   ]
  },
  {
   "cell_type": "markdown",
   "source": [
    "### Convert the macro nutrients to their caloric measurement."
   ],
   "metadata": {
    "collapsed": false
   }
  },
  {
   "cell_type": "code",
   "execution_count": 12,
   "metadata": {
    "ExecuteTime": {
     "end_time": "2023-06-17T03:02:35.218464Z",
     "start_time": "2023-06-17T03:02:35.214644Z"
    }
   },
   "outputs": [
    {
     "name": "stdout",
     "output_type": "stream",
     "text": [
      "Calories From Carbs: 1832\n",
      "Calories From Fats: 1206\n",
      "Non-Protein Calories: 3038 Goal: 3000\n",
      "Calorie Difference: 38\n",
      "Calories From Protein: 688\n"
     ]
    }
   ],
   "source": [
    "# Calculate the number of calories from each macro nutrient.\n",
    "carb_cals = total_carbs * 4\n",
    "fat_cals = total_fats * 9\n",
    "non_protein_cals = carb_cals + fat_cals\n",
    "large_goal_npc = (525*4)+(100*9)\n",
    "small_goal_npc = (425*4)+(75*9)\n",
    "rest_goal_npc = (325*4)+(50*9)\n",
    "goal = large_goal_npc # large_goal_npc OR small_goal_npc OR rest_goal_npc\n",
    "cal_difference = abs(goal-non_protein_cals)\n",
    "protein_cals = total_protein * 4\n",
    "\n",
    "print(f\"Calories From Carbs: {carb_cals}\")\n",
    "print(f\"Calories From Fats: {fat_cals}\")\n",
    "print(f\"Non-Protein Calories: {non_protein_cals} Goal: {goal}\")\n",
    "print(f\"Calorie Difference: {cal_difference}\")\n",
    "print(f\"Calories From Protein: {protein_cals}\")"
   ]
  },
  {
   "cell_type": "markdown",
   "source": [
    "### Update SQL\n",
    "Now that we have updated our table, we will export the new dataset to SQL. As a precaution, I always\n",
    "back up the new dataset to CSV in the event that an unforeseen reset is required in the future."
   ],
   "metadata": {
    "collapsed": false
   }
  },
  {
   "cell_type": "code",
   "execution_count": 13,
   "outputs": [],
   "source": [
    "updated_foods.to_sql('june_2023', sql_connection, if_exists='replace')\n",
    "updated_foods.to_csv(r'/Users/tukles/Library/CloudStorage/GoogleDrive-brent.artuch@gmail.com/My Drive/CSV/june_2023.csv')"
   ],
   "metadata": {
    "collapsed": false,
    "ExecuteTime": {
     "end_time": "2023-06-17T03:02:47.098639Z",
     "start_time": "2023-06-17T03:02:47.089585Z"
    }
   }
  },
  {
   "cell_type": "markdown",
   "source": [
    "## Step 5: Visualize the Data\n",
    "Portray the macro nutrient dispersion of calories as a pie chart."
   ],
   "metadata": {
    "collapsed": false
   }
  },
  {
   "cell_type": "code",
   "execution_count": 14,
   "metadata": {
    "ExecuteTime": {
     "end_time": "2023-06-17T03:02:49.444461Z",
     "start_time": "2023-06-17T03:02:49.366498Z"
    }
   },
   "outputs": [
    {
     "data": {
      "text/plain": "<Figure size 500x500 with 1 Axes>",
      "image/png": "[encoded data removed]"
     },
     "metadata": {},
     "output_type": "display_data"
    }
   ],
   "source": [
    "# Plot as a pie chart\n",
    "macro_series = pd.Series(\n",
    "    [carb_cals, fat_cals, protein_cals],\n",
    "    index=['Carbs', 'Fats', 'Protein'],\n",
    "    name=\"\"\n",
    ")\n",
    "\n",
    "macro_series.plot.pie(\n",
    "    colors=sns.color_palette('colorblind'),\n",
    "    autopct='%1.0f%%',\n",
    "    fontsize=17,\n",
    "    shadow=True,\n",
    "    explode=(0.04,0.04,0.04),\n",
    "    figsize=(5,5)\n",
    ");"
   ]
  },
  {
   "cell_type": "markdown",
   "source": [
    "##### Add a new `total_food_cals` column that is the product of the food entry servings by its `calories`."
   ],
   "metadata": {
    "collapsed": false
   }
  },
  {
   "cell_type": "code",
   "execution_count": 15,
   "metadata": {
    "ExecuteTime": {
     "end_time": "2023-06-17T03:02:52.888069Z",
     "start_time": "2023-06-17T03:02:52.885021Z"
    }
   },
   "outputs": [
    {
     "data": {
      "text/plain": "       food_id       date  meal_number           food_name  servings  carbs  \\\nindex                                                                         \n132    1000366 2023-06-16            1  Chick-Fil-A Deluxe       1.0   43.0   \n133    1000367 2023-06-16            1     Wendys Jr Fries       3.0   28.0   \n134    1000368 2023-06-16            1   Wendys Small Coke       1.0   66.0   \n135    1000369 2023-06-16            2         Pizza Slice       2.0   42.0   \n136    1000370 2023-06-16            2               Ranch       1.0    1.0   \n137    1000371 2023-06-16            3         Pizza Slice       2.0   42.0   \n138    1000372 2023-06-16            4     Gatorade Powder       2.0   22.0   \n139    1000373 2023-06-16            4      Protein Powder       2.0    3.0   \n140    1000374 2023-06-16            4           Ice Cream       2.0   23.0   \n\n       fats  protein  calories  total_food_cals  \nindex                                            \n132    22.0       32       490            490.0  \n133     9.0        3       210            630.0  \n134     0.0        0       240            240.0  \n135    10.0       19       330            660.0  \n136    23.0        1       210            210.0  \n137    10.0       19       330            660.0  \n138     0.0        0        80            160.0  \n139     2.0       24       120            240.0  \n140     9.0        3       180            360.0  ",
      "text/html": "<div>\n<style scoped>\n    .dataframe tbody tr th:only-of-type {\n        vertical-align: middle;\n    }\n\n    .dataframe tbody tr th {\n        vertical-align: top;\n    }\n\n    .dataframe thead th {\n        text-align: right;\n    }\n</style>\n<table border=\"1\" class=\"dataframe\">\n  <thead>\n    <tr style=\"text-align: right;\">\n      <th></th>\n      <th>food_id</th>\n      <th>date</th>\n      <th>meal_number</th>\n      <th>food_name</th>\n      <th>servings</th>\n      <th>carbs</th>\n      <th>fats</th>\n      <th>protein</th>\n      <th>calories</th>\n      <th>total_food_cals</th>\n    </tr>\n    <tr>\n      <th>index</th>\n      <th></th>\n      <th></th>\n      <th></th>\n      <th></th>\n      <th></th>\n      <th></th>\n      <th></th>\n      <th></th>\n      <th></th>\n      <th></th>\n    </tr>\n  </thead>\n  <tbody>\n    <tr>\n      <th>132</th>\n      <td>1000366</td>\n      <td>2023-06-16</td>\n      <td>1</td>\n      <td>Chick-Fil-A Deluxe</td>\n      <td>1.0</td>\n      <td>43.0</td>\n      <td>22.0</td>\n      <td>32</td>\n      <td>490</td>\n      <td>490.0</td>\n    </tr>\n    <tr>\n      <th>133</th>\n      <td>1000367</td>\n      <td>2023-06-16</td>\n      <td>1</td>\n      <td>Wendys Jr Fries</td>\n      <td>3.0</td>\n      <td>28.0</td>\n      <td>9.0</td>\n      <td>3</td>\n      <td>210</td>\n      <td>630.0</td>\n    </tr>\n    <tr>\n      <th>134</th>\n      <td>1000368</td>\n      <td>2023-06-16</td>\n      <td>1</td>\n      <td>Wendys Small Coke</td>\n      <td>1.0</td>\n      <td>66.0</td>\n      <td>0.0</td>\n      <td>0</td>\n      <td>240</td>\n      <td>240.0</td>\n    </tr>\n    <tr>\n      <th>135</th>\n      <td>1000369</td>\n      <td>2023-06-16</td>\n      <td>2</td>\n      <td>Pizza Slice</td>\n      <td>2.0</td>\n      <td>42.0</td>\n      <td>10.0</td>\n      <td>19</td>\n      <td>330</td>\n      <td>660.0</td>\n    </tr>\n    <tr>\n      <th>136</th>\n      <td>1000370</td>\n      <td>2023-06-16</td>\n      <td>2</td>\n      <td>Ranch</td>\n      <td>1.0</td>\n      <td>1.0</td>\n      <td>23.0</td>\n      <td>1</td>\n      <td>210</td>\n      <td>210.0</td>\n    </tr>\n    <tr>\n      <th>137</th>\n      <td>1000371</td>\n      <td>2023-06-16</td>\n      <td>3</td>\n      <td>Pizza Slice</td>\n      <td>2.0</td>\n      <td>42.0</td>\n      <td>10.0</td>\n      <td>19</td>\n      <td>330</td>\n      <td>660.0</td>\n    </tr>\n    <tr>\n      <th>138</th>\n      <td>1000372</td>\n      <td>2023-06-16</td>\n      <td>4</td>\n      <td>Gatorade Powder</td>\n      <td>2.0</td>\n      <td>22.0</td>\n      <td>0.0</td>\n      <td>0</td>\n      <td>80</td>\n      <td>160.0</td>\n    </tr>\n    <tr>\n      <th>139</th>\n      <td>1000373</td>\n      <td>2023-06-16</td>\n      <td>4</td>\n      <td>Protein Powder</td>\n      <td>2.0</td>\n      <td>3.0</td>\n      <td>2.0</td>\n      <td>24</td>\n      <td>120</td>\n      <td>240.0</td>\n    </tr>\n    <tr>\n      <th>140</th>\n      <td>1000374</td>\n      <td>2023-06-16</td>\n      <td>4</td>\n      <td>Ice Cream</td>\n      <td>2.0</td>\n      <td>23.0</td>\n      <td>9.0</td>\n      <td>3</td>\n      <td>180</td>\n      <td>360.0</td>\n    </tr>\n  </tbody>\n</table>\n</div>"
     },
     "execution_count": 15,
     "metadata": {},
     "output_type": "execute_result"
    }
   ],
   "source": [
    "# Add a total calories column\n",
    "updated_foods['total_food_cals'] = updated_foods['servings'] * updated_foods['calories']\n",
    "\n",
    "# Sort entries by date\n",
    "today = updated_foods[updated_foods['date']==date]\n",
    "today"
   ]
  },
  {
   "cell_type": "markdown",
   "source": [
    "##### Group the entries by `meal_number` and aggregate the corresponding `total_food_cals` to get `cals_per_meal`"
   ],
   "metadata": {
    "collapsed": false
   }
  },
  {
   "cell_type": "code",
   "execution_count": 16,
   "metadata": {
    "ExecuteTime": {
     "end_time": "2023-06-17T03:03:00.255051Z",
     "start_time": "2023-06-17T03:03:00.251677Z"
    }
   },
   "outputs": [
    {
     "data": {
      "text/plain": "             total_food_cals\nmeal_number                 \n1                     1360.0\n2                      870.0\n3                      660.0\n4                      760.0",
      "text/html": "<div>\n<style scoped>\n    .dataframe tbody tr th:only-of-type {\n        vertical-align: middle;\n    }\n\n    .dataframe tbody tr th {\n        vertical-align: top;\n    }\n\n    .dataframe thead th {\n        text-align: right;\n    }\n</style>\n<table border=\"1\" class=\"dataframe\">\n  <thead>\n    <tr style=\"text-align: right;\">\n      <th></th>\n      <th>total_food_cals</th>\n    </tr>\n    <tr>\n      <th>meal_number</th>\n      <th></th>\n    </tr>\n  </thead>\n  <tbody>\n    <tr>\n      <th>1</th>\n      <td>1360.0</td>\n    </tr>\n    <tr>\n      <th>2</th>\n      <td>870.0</td>\n    </tr>\n    <tr>\n      <th>3</th>\n      <td>660.0</td>\n    </tr>\n    <tr>\n      <th>4</th>\n      <td>760.0</td>\n    </tr>\n  </tbody>\n</table>\n</div>"
     },
     "execution_count": 16,
     "metadata": {},
     "output_type": "execute_result"
    }
   ],
   "source": [
    "cals_per_meal = today.groupby(today['meal_number']).aggregate({'total_food_cals': 'sum'})\n",
    "cals_per_meal.reset_index()\n",
    "cals_per_meal"
   ]
  },
  {
   "cell_type": "markdown",
   "source": [
    "### Plot the calories per meal\n",
    "Ideally the line should be as level as possible over four meals."
   ],
   "metadata": {
    "collapsed": false
   }
  },
  {
   "cell_type": "code",
   "execution_count": 17,
   "metadata": {
    "ExecuteTime": {
     "end_time": "2023-06-17T03:03:03.615379Z",
     "start_time": "2023-06-17T03:03:03.534935Z"
    }
   },
   "outputs": [
    {
     "data": {
      "text/plain": "<Figure size 640x480 with 1 Axes>",
      "image/png": "[encoded data removed]"
     },
     "metadata": {},
     "output_type": "display_data"
    }
   ],
   "source": [
    "fig = sns.barplot(data=cals_per_meal, x=cals_per_meal.index,y='total_food_cals')\n",
    "fig.set(title=\"Calories Per Meal\", xlabel=\"Meal Number\", ylabel=\"Total Calories\");"
   ]
  },
  {
   "cell_type": "markdown",
   "metadata": {
    "ExecuteTime": {
     "end_time": "2023-05-31T03:52:16.139828Z",
     "start_time": "2023-05-31T03:52:16.017197Z"
    }
   },
   "source": [
    "## LOG:\n",
    "### 2023-05-15: Wine removed from diet\n",
    "### 2023-05-29: New Cal Goals 500 400 300"
   ],
   "outputs": [
    {
     "data": {
      "text/plain": "<Axes: title={'center': 'Calories Per Meal'}, xlabel='Meal Number', ylabel='Calorie Count'>"
     },
     "execution_count": 13,
     "metadata": {},
     "output_type": "execute_result"
    },
    {
     "data": {
      "text/plain": "<Figure size 600x400 with 1 Axes>",
      "image/png": "[encoded data removed]"
     },
     "metadata": {},
     "output_type": "display_data"
    }
   ],
   "execution_count": 13
  }
 ],
 "metadata": {
  "kernelspec": {
   "display_name": "Python 3 (ipykernel)",
   "language": "python",
   "name": "python3"
  },
  "language_info": {
   "codemirror_mode": {
    "name": "ipython",
    "version": 3
   },
   "file_extension": ".py",
   "mimetype": "text/x-python",
   "name": "python",
   "nbconvert_exporter": "python",
   "pygments_lexer": "ipython3",
   "version": "3.9.6"
  }
 },
 "nbformat": 4,
 "nbformat_minor": 1
}
