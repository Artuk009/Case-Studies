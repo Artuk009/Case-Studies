{
 "cells": [
  {
   "cell_type": "markdown",
   "metadata": {},
   "source": [
    "# Diet Data Editor\n",
    "Author: Brent Artuch <br>\n",
    "Date: 2023-06-04"
   ]
  },
  {
   "cell_type": "markdown",
   "source": [
    "## Introduction"
   ],
   "metadata": {
    "collapsed": false
   }
  },
  {
   "cell_type": "markdown",
   "source": [
    "This notebook depicts the process of adding new food entries to my SQLite database and then takes you\n",
    "through the macronutrient conversion calculations. After the caloric intake based on macro nutrient for\n",
    "the day has been calculated, we then proceed to a few visualizations for those calculations. <br>\n",
    "\n",
    "This document utilizes an array of Pandas processing techniques such as filtering via boolean masking,\n",
    "using descriptive methods to illustrate the shape of the data set, and creating visualizations using the\n",
    "data in the dataframe."
   ],
   "metadata": {
    "collapsed": false
   }
  },
  {
   "cell_type": "markdown",
   "metadata": {},
   "source": [
    "## Step: 1 Imports\n",
    "### Import packages"
   ]
  },
  {
   "cell_type": "code",
   "execution_count": 1,
   "metadata": {
    "collapsed": true,
    "ExecuteTime": {
     "end_time": "2023-06-13T05:11:18.351341Z",
     "start_time": "2023-06-13T05:11:18.349378Z"
    }
   },
   "outputs": [],
   "source": [
    "import sqlite3\n",
    "import pandas as pd\n",
    "import seaborn as sns"
   ]
  },
  {
   "cell_type": "markdown",
   "source": [
    "### Load the dataset\n",
    "This dataset is pulled from a SQLite database that stores all foods I have consumed by `month_YYYY`. We will\n",
    "load the current month using a simple query."
   ],
   "metadata": {
    "collapsed": false
   }
  },
  {
   "cell_type": "code",
   "execution_count": 2,
   "outputs": [
    {
     "data": {
      "text/plain": "       food_id                 date  meal_number       food_name  servings  \\\nindex                                                                        \n97     1000331  2023-06-10 00:00:00            3     Rice Packet       1.0   \n98     1000332  2023-06-10 00:00:00            4    Fruit Snacks       3.0   \n99     1000333  2023-06-10 00:00:00            4  Protein Powder       2.0   \n100    1000334  2023-06-12 00:00:00            1         Oatmeal       2.0   \n101    1000335  2023-06-12 00:00:00            1  Protein Powder       2.0   \n102    1000336  2023-06-12 00:00:00            1       Chips 1oz       1.0   \n103    1000337  2023-06-12 00:00:00            2            Rice       2.0   \n104    1000338  2023-06-12 00:00:00            2    Spicy Garlic       1.0   \n105    1000339  2023-06-12 00:00:00            2            Eggs       4.0   \n106    1000340  2023-06-12 00:00:00            2    Fruit Snacks       2.0   \n\n       carbs  fats  protein  calories  \nindex                                  \n97      71.0   6.0        8       370  \n98      17.0   0.0        1        70  \n99       3.0   2.0       24       120  \n100     32.0   3.0        9       160  \n101      3.0   2.0       24       120  \n102     15.0  10.0        2       160  \n103     45.0   1.0        4       206  \n104      3.0   6.0        1        70  \n105      0.0   5.0        6        70  \n106     17.0   0.0        1        70  ",
      "text/html": "<div>\n<style scoped>\n    .dataframe tbody tr th:only-of-type {\n        vertical-align: middle;\n    }\n\n    .dataframe tbody tr th {\n        vertical-align: top;\n    }\n\n    .dataframe thead th {\n        text-align: right;\n    }\n</style>\n<table border=\"1\" class=\"dataframe\">\n  <thead>\n    <tr style=\"text-align: right;\">\n      <th></th>\n      <th>food_id</th>\n      <th>date</th>\n      <th>meal_number</th>\n      <th>food_name</th>\n      <th>servings</th>\n      <th>carbs</th>\n      <th>fats</th>\n      <th>protein</th>\n      <th>calories</th>\n    </tr>\n    <tr>\n      <th>index</th>\n      <th></th>\n      <th></th>\n      <th></th>\n      <th></th>\n      <th></th>\n      <th></th>\n      <th></th>\n      <th></th>\n      <th></th>\n    </tr>\n  </thead>\n  <tbody>\n    <tr>\n      <th>97</th>\n      <td>1000331</td>\n      <td>2023-06-10 00:00:00</td>\n      <td>3</td>\n      <td>Rice Packet</td>\n      <td>1.0</td>\n      <td>71.0</td>\n      <td>6.0</td>\n      <td>8</td>\n      <td>370</td>\n    </tr>\n    <tr>\n      <th>98</th>\n      <td>1000332</td>\n      <td>2023-06-10 00:00:00</td>\n      <td>4</td>\n      <td>Fruit Snacks</td>\n      <td>3.0</td>\n      <td>17.0</td>\n      <td>0.0</td>\n      <td>1</td>\n      <td>70</td>\n    </tr>\n    <tr>\n      <th>99</th>\n      <td>1000333</td>\n      <td>2023-06-10 00:00:00</td>\n      <td>4</td>\n      <td>Protein Powder</td>\n      <td>2.0</td>\n      <td>3.0</td>\n      <td>2.0</td>\n      <td>24</td>\n      <td>120</td>\n    </tr>\n    <tr>\n      <th>100</th>\n      <td>1000334</td>\n      <td>2023-06-12 00:00:00</td>\n      <td>1</td>\n      <td>Oatmeal</td>\n      <td>2.0</td>\n      <td>32.0</td>\n      <td>3.0</td>\n      <td>9</td>\n      <td>160</td>\n    </tr>\n    <tr>\n      <th>101</th>\n      <td>1000335</td>\n      <td>2023-06-12 00:00:00</td>\n      <td>1</td>\n      <td>Protein Powder</td>\n      <td>2.0</td>\n      <td>3.0</td>\n      <td>2.0</td>\n      <td>24</td>\n      <td>120</td>\n    </tr>\n    <tr>\n      <th>102</th>\n      <td>1000336</td>\n      <td>2023-06-12 00:00:00</td>\n      <td>1</td>\n      <td>Chips 1oz</td>\n      <td>1.0</td>\n      <td>15.0</td>\n      <td>10.0</td>\n      <td>2</td>\n      <td>160</td>\n    </tr>\n    <tr>\n      <th>103</th>\n      <td>1000337</td>\n      <td>2023-06-12 00:00:00</td>\n      <td>2</td>\n      <td>Rice</td>\n      <td>2.0</td>\n      <td>45.0</td>\n      <td>1.0</td>\n      <td>4</td>\n      <td>206</td>\n    </tr>\n    <tr>\n      <th>104</th>\n      <td>1000338</td>\n      <td>2023-06-12 00:00:00</td>\n      <td>2</td>\n      <td>Spicy Garlic</td>\n      <td>1.0</td>\n      <td>3.0</td>\n      <td>6.0</td>\n      <td>1</td>\n      <td>70</td>\n    </tr>\n    <tr>\n      <th>105</th>\n      <td>1000339</td>\n      <td>2023-06-12 00:00:00</td>\n      <td>2</td>\n      <td>Eggs</td>\n      <td>4.0</td>\n      <td>0.0</td>\n      <td>5.0</td>\n      <td>6</td>\n      <td>70</td>\n    </tr>\n    <tr>\n      <th>106</th>\n      <td>1000340</td>\n      <td>2023-06-12 00:00:00</td>\n      <td>2</td>\n      <td>Fruit Snacks</td>\n      <td>2.0</td>\n      <td>17.0</td>\n      <td>0.0</td>\n      <td>1</td>\n      <td>70</td>\n    </tr>\n  </tbody>\n</table>\n</div>"
     },
     "execution_count": 2,
     "metadata": {},
     "output_type": "execute_result"
    }
   ],
   "source": [
    "sql_connection = sqlite3.connect('diet.sqlite')\n",
    "# Import desired table and set the index.\n",
    "current_foods = pd.read_sql('SELECT * FROM june_2023', sql_connection, index_col='index')\n",
    "current_foods.tail(10)"
   ],
   "metadata": {
    "collapsed": false,
    "ExecuteTime": {
     "end_time": "2023-06-13T05:11:21.941480Z",
     "start_time": "2023-06-13T05:11:21.927411Z"
    }
   }
  },
  {
   "cell_type": "markdown",
   "source": [
    "## Step 2: Data Exploration\n",
    "Next we will get a sense of the size and contents of `current_foods`."
   ],
   "metadata": {
    "collapsed": false
   }
  },
  {
   "cell_type": "code",
   "execution_count": 3,
   "outputs": [
    {
     "data": {
      "text/plain": "(107, 9)"
     },
     "execution_count": 3,
     "metadata": {},
     "output_type": "execute_result"
    }
   ],
   "source": [
    "current_foods.shape"
   ],
   "metadata": {
    "collapsed": false,
    "ExecuteTime": {
     "end_time": "2023-06-13T05:11:26.001819Z",
     "start_time": "2023-06-13T05:11:25.996102Z"
    }
   }
  },
  {
   "cell_type": "code",
   "execution_count": 4,
   "outputs": [
    {
     "name": "stdout",
     "output_type": "stream",
     "text": [
      "<class 'pandas.core.frame.DataFrame'>\n",
      "Int64Index: 107 entries, 0 to 106\n",
      "Data columns (total 9 columns):\n",
      " #   Column       Non-Null Count  Dtype  \n",
      "---  ------       --------------  -----  \n",
      " 0   food_id      107 non-null    int64  \n",
      " 1   date         107 non-null    object \n",
      " 2   meal_number  107 non-null    int64  \n",
      " 3   food_name    107 non-null    object \n",
      " 4   servings     107 non-null    float64\n",
      " 5   carbs        107 non-null    float64\n",
      " 6   fats         107 non-null    float64\n",
      " 7   protein      107 non-null    int64  \n",
      " 8   calories     107 non-null    int64  \n",
      "dtypes: float64(3), int64(4), object(2)\n",
      "memory usage: 8.4+ KB\n"
     ]
    }
   ],
   "source": [
    "current_foods.info()"
   ],
   "metadata": {
    "collapsed": false,
    "ExecuteTime": {
     "end_time": "2023-06-13T05:11:27.746184Z",
     "start_time": "2023-06-13T05:11:27.743480Z"
    }
   }
  },
  {
   "cell_type": "code",
   "execution_count": 5,
   "outputs": [
    {
     "data": {
      "text/plain": "            carbs        fats     protein     calories\ncount  107.000000  107.000000  107.000000   107.000000\nmean    24.373832    7.280374   11.467290   205.822430\nstd     24.359154   12.382119   12.772551   212.621411\nmin      0.000000    0.000000    0.000000    70.000000\n25%      3.000000    2.000000    1.000000    90.000000\n50%     17.000000    2.000000    6.000000   120.000000\n75%     41.500000    9.000000   24.000000   208.000000\nmax    111.000000   81.000000   73.000000  1400.000000",
      "text/html": "<div>\n<style scoped>\n    .dataframe tbody tr th:only-of-type {\n        vertical-align: middle;\n    }\n\n    .dataframe tbody tr th {\n        vertical-align: top;\n    }\n\n    .dataframe thead th {\n        text-align: right;\n    }\n</style>\n<table border=\"1\" class=\"dataframe\">\n  <thead>\n    <tr style=\"text-align: right;\">\n      <th></th>\n      <th>carbs</th>\n      <th>fats</th>\n      <th>protein</th>\n      <th>calories</th>\n    </tr>\n  </thead>\n  <tbody>\n    <tr>\n      <th>count</th>\n      <td>107.000000</td>\n      <td>107.000000</td>\n      <td>107.000000</td>\n      <td>107.000000</td>\n    </tr>\n    <tr>\n      <th>mean</th>\n      <td>24.373832</td>\n      <td>7.280374</td>\n      <td>11.467290</td>\n      <td>205.822430</td>\n    </tr>\n    <tr>\n      <th>std</th>\n      <td>24.359154</td>\n      <td>12.382119</td>\n      <td>12.772551</td>\n      <td>212.621411</td>\n    </tr>\n    <tr>\n      <th>min</th>\n      <td>0.000000</td>\n      <td>0.000000</td>\n      <td>0.000000</td>\n      <td>70.000000</td>\n    </tr>\n    <tr>\n      <th>25%</th>\n      <td>3.000000</td>\n      <td>2.000000</td>\n      <td>1.000000</td>\n      <td>90.000000</td>\n    </tr>\n    <tr>\n      <th>50%</th>\n      <td>17.000000</td>\n      <td>2.000000</td>\n      <td>6.000000</td>\n      <td>120.000000</td>\n    </tr>\n    <tr>\n      <th>75%</th>\n      <td>41.500000</td>\n      <td>9.000000</td>\n      <td>24.000000</td>\n      <td>208.000000</td>\n    </tr>\n    <tr>\n      <th>max</th>\n      <td>111.000000</td>\n      <td>81.000000</td>\n      <td>73.000000</td>\n      <td>1400.000000</td>\n    </tr>\n  </tbody>\n</table>\n</div>"
     },
     "execution_count": 5,
     "metadata": {},
     "output_type": "execute_result"
    }
   ],
   "source": [
    "current_foods[['carbs','fats','protein','calories']].describe()"
   ],
   "metadata": {
    "collapsed": false,
    "ExecuteTime": {
     "end_time": "2023-06-13T05:11:30.665006Z",
     "start_time": "2023-06-13T05:11:30.644141Z"
    }
   }
  },
  {
   "cell_type": "code",
   "execution_count": 6,
   "outputs": [
    {
     "data": {
      "text/plain": "Protein Powder    27\nFruit Snacks      10\nRice               8\nRice Krispie       6\nSpicy Garlic       6\nName: food_name, dtype: int64"
     },
     "execution_count": 6,
     "metadata": {},
     "output_type": "execute_result"
    }
   ],
   "source": [
    "current_foods['food_name'].value_counts().head()"
   ],
   "metadata": {
    "collapsed": false,
    "ExecuteTime": {
     "end_time": "2023-06-13T05:11:33.139192Z",
     "start_time": "2023-06-13T05:11:33.136025Z"
    }
   }
  },
  {
   "cell_type": "markdown",
   "metadata": {},
   "source": [
    "## Step 3: Update the Dataset\n",
    "### Load the master food list\n",
    "First we will load the names of the foods from the master `food_list` database so that the algorithm\n",
    "can check against the list for whether the food reference exists."
   ]
  },
  {
   "cell_type": "code",
   "execution_count": 7,
   "outputs": [
    {
     "data": {
      "text/plain": "        food_name\n0         Oatmeal\n1  Protein Powder\n2     Coco Powder\n3           Ramen\n4      Cereal Bar",
      "text/html": "<div>\n<style scoped>\n    .dataframe tbody tr th:only-of-type {\n        vertical-align: middle;\n    }\n\n    .dataframe tbody tr th {\n        vertical-align: top;\n    }\n\n    .dataframe thead th {\n        text-align: right;\n    }\n</style>\n<table border=\"1\" class=\"dataframe\">\n  <thead>\n    <tr style=\"text-align: right;\">\n      <th></th>\n      <th>food_name</th>\n    </tr>\n  </thead>\n  <tbody>\n    <tr>\n      <th>0</th>\n      <td>Oatmeal</td>\n    </tr>\n    <tr>\n      <th>1</th>\n      <td>Protein Powder</td>\n    </tr>\n    <tr>\n      <th>2</th>\n      <td>Coco Powder</td>\n    </tr>\n    <tr>\n      <th>3</th>\n      <td>Ramen</td>\n    </tr>\n    <tr>\n      <th>4</th>\n      <td>Cereal Bar</td>\n    </tr>\n  </tbody>\n</table>\n</div>"
     },
     "execution_count": 7,
     "metadata": {},
     "output_type": "execute_result"
    }
   ],
   "source": [
    "# Call the master food list.\n",
    "food_db = pd.read_sql('SELECT food_name FROM food_list', sql_connection)\n",
    "food_db.head()"
   ],
   "metadata": {
    "collapsed": false,
    "ExecuteTime": {
     "end_time": "2023-06-13T05:11:35.565267Z",
     "start_time": "2023-06-13T05:11:35.557659Z"
    }
   }
  },
  {
   "cell_type": "markdown",
   "source": [
    "### Set the date of the entries"
   ],
   "metadata": {
    "collapsed": false
   }
  },
  {
   "cell_type": "code",
   "execution_count": 8,
   "outputs": [
    {
     "data": {
      "text/plain": "'2023-06-12 00:00:00'"
     },
     "execution_count": 8,
     "metadata": {},
     "output_type": "execute_result"
    }
   ],
   "source": [
    "day_of_month = input(\"Enter the day of the month: DD\")\n",
    "date = f\"2023-06-{day_of_month} 00:00:00\"\n",
    "date"
   ],
   "metadata": {
    "collapsed": false,
    "ExecuteTime": {
     "end_time": "2023-06-13T05:11:40.279187Z",
     "start_time": "2023-06-13T05:11:37.566374Z"
    }
   }
  },
  {
   "cell_type": "markdown",
   "source": [
    "### Execute the entry insertion algorithm"
   ],
   "metadata": {
    "collapsed": false
   }
  },
  {
   "cell_type": "code",
   "execution_count": 14,
   "metadata": {
    "ExecuteTime": {
     "end_time": "2023-06-13T05:15:32.509512Z",
     "start_time": "2023-06-13T05:15:12.669200Z"
    }
   },
   "outputs": [
    {
     "data": {
      "text/plain": "       food_id       date  meal_number        food_name  servings  carbs  \\\nindex                                                                      \n109    1000343 2023-06-12            3   Protein Powder       2.0    3.0   \n110    1000344 2023-06-12            4  Gatorade Powder       2.0   22.0   \n111    1000345 2023-06-12            4        Ice Cream       4.0   23.0   \n112    1000346 2023-06-12            4   Protein Powder       2.0    3.0   \n113    1000347 2023-06-12            4     Fruit Snacks       2.0   17.0   \n\n       fats  protein  calories  \nindex                           \n109     2.0       24       120  \n110     0.0        0        80  \n111     9.0        3       180  \n112     2.0       24       120  \n113     0.0        1        70  ",
      "text/html": "<div>\n<style scoped>\n    .dataframe tbody tr th:only-of-type {\n        vertical-align: middle;\n    }\n\n    .dataframe tbody tr th {\n        vertical-align: top;\n    }\n\n    .dataframe thead th {\n        text-align: right;\n    }\n</style>\n<table border=\"1\" class=\"dataframe\">\n  <thead>\n    <tr style=\"text-align: right;\">\n      <th></th>\n      <th>food_id</th>\n      <th>date</th>\n      <th>meal_number</th>\n      <th>food_name</th>\n      <th>servings</th>\n      <th>carbs</th>\n      <th>fats</th>\n      <th>protein</th>\n      <th>calories</th>\n    </tr>\n    <tr>\n      <th>index</th>\n      <th></th>\n      <th></th>\n      <th></th>\n      <th></th>\n      <th></th>\n      <th></th>\n      <th></th>\n      <th></th>\n      <th></th>\n    </tr>\n  </thead>\n  <tbody>\n    <tr>\n      <th>109</th>\n      <td>1000343</td>\n      <td>2023-06-12</td>\n      <td>3</td>\n      <td>Protein Powder</td>\n      <td>2.0</td>\n      <td>3.0</td>\n      <td>2.0</td>\n      <td>24</td>\n      <td>120</td>\n    </tr>\n    <tr>\n      <th>110</th>\n      <td>1000344</td>\n      <td>2023-06-12</td>\n      <td>4</td>\n      <td>Gatorade Powder</td>\n      <td>2.0</td>\n      <td>22.0</td>\n      <td>0.0</td>\n      <td>0</td>\n      <td>80</td>\n    </tr>\n    <tr>\n      <th>111</th>\n      <td>1000345</td>\n      <td>2023-06-12</td>\n      <td>4</td>\n      <td>Ice Cream</td>\n      <td>4.0</td>\n      <td>23.0</td>\n      <td>9.0</td>\n      <td>3</td>\n      <td>180</td>\n    </tr>\n    <tr>\n      <th>112</th>\n      <td>1000346</td>\n      <td>2023-06-12</td>\n      <td>4</td>\n      <td>Protein Powder</td>\n      <td>2.0</td>\n      <td>3.0</td>\n      <td>2.0</td>\n      <td>24</td>\n      <td>120</td>\n    </tr>\n    <tr>\n      <th>113</th>\n      <td>1000347</td>\n      <td>2023-06-12</td>\n      <td>4</td>\n      <td>Fruit Snacks</td>\n      <td>2.0</td>\n      <td>17.0</td>\n      <td>0.0</td>\n      <td>1</td>\n      <td>70</td>\n    </tr>\n  </tbody>\n</table>\n</div>"
     },
     "execution_count": 14,
     "metadata": {},
     "output_type": "execute_result"
    }
   ],
   "source": [
    "# Set the current meal number to be logged\n",
    "choice = 1\n",
    "foods = list(food_db['food_name'])\n",
    "\n",
    "while choice != 2:\n",
    "\n",
    "    \"\"\" This algorithm takes a desired food input and then inserts it into a SQL query to\n",
    "    retrieve the nutritional info for that food. The meal number and serving count are\n",
    "     updated and then the entry is inserted into the dataframe. \"\"\"\n",
    "\n",
    "    db_food = input(\"What food would you like too add?\")\n",
    "    if db_food not in foods:\n",
    "        raise Exception(input(\"Food not in database. Try again: \"))\n",
    "    new_food = pd.read_sql(\"SELECT food_name, carbs, fats, protein, calories\"\n",
    "                            \" FROM food_list \"\n",
    "                            \" WHERE food_name = (?)\", sql_connection, params=(db_food,))\n",
    "    meal_number = int(input(\"Enter Meal Number: \"))\n",
    "    servings = float(input(\"Enter Serving Count: \"))\n",
    "    f_id = current_foods.iloc[-1, 0] + 1\n",
    "    new_entry = [f_id,\n",
    "                 date,\n",
    "                 meal_number,\n",
    "                 new_food.loc[0,'food_name'],\n",
    "                 servings,\n",
    "                 new_food.loc[0,'carbs'],\n",
    "                 new_food.loc[0,'fats'],\n",
    "                 new_food.loc[0,'protein'],\n",
    "                 new_food.loc[0,'calories']]\n",
    "    current_foods.loc[len(current_foods)] = new_entry\n",
    "    choice = int(input(\"Add another? [1]Yes [2]No\"))\n",
    "\n",
    "current_foods['date'] = pd.to_datetime(current_foods['date'])\n",
    "updated_foods = current_foods\n",
    "updated_foods.tail()"
   ]
  },
  {
   "cell_type": "markdown",
   "metadata": {
    "ExecuteTime": {
     "end_time": "2023-05-31T03:51:10.005011Z",
     "start_time": "2023-05-31T03:50:58.892295Z"
    }
   },
   "source": [
    "### Data Manipulation\n",
    "This section exists for convenience if quick changes need to be made to the entries."
   ],
   "outputs": [
    {
     "data": {
      "text/plain": "       food_id       date  meal_number       food_name  servings  carbs  fats   \nindex                                                                           \n216    1000218 2023-05-30            3  Protein Powder       2.0    3.0   2.0  \\\n217    1000219 2023-05-30            3    Spicy Garlic       1.0    3.0   6.0   \n218    1000220 2023-05-30            3    Fruit Snacks       1.0   17.0   0.0   \n219    1000221 2023-05-30            4  Protein Powder       2.0    3.0   2.0   \n220    1000222 2023-05-30            4     Steak Ques.       1.0   42.0  27.0   \n\n       protein  calories  \nindex                     \n216         24       120  \n217          1        70  \n218          1        70  \n219         24       120  \n220         26       520  ",
      "text/html": "<div>\n<style scoped>\n    .dataframe tbody tr th:only-of-type {\n        vertical-align: middle;\n    }\n\n    .dataframe tbody tr th {\n        vertical-align: top;\n    }\n\n    .dataframe thead th {\n        text-align: right;\n    }\n</style>\n<table border=\"1\" class=\"dataframe\">\n  <thead>\n    <tr style=\"text-align: right;\">\n      <th></th>\n      <th>food_id</th>\n      <th>date</th>\n      <th>meal_number</th>\n      <th>food_name</th>\n      <th>servings</th>\n      <th>carbs</th>\n      <th>fats</th>\n      <th>protein</th>\n      <th>calories</th>\n    </tr>\n    <tr>\n      <th>index</th>\n      <th></th>\n      <th></th>\n      <th></th>\n      <th></th>\n      <th></th>\n      <th></th>\n      <th></th>\n      <th></th>\n      <th></th>\n    </tr>\n  </thead>\n  <tbody>\n    <tr>\n      <th>216</th>\n      <td>1000218</td>\n      <td>2023-05-30</td>\n      <td>3</td>\n      <td>Protein Powder</td>\n      <td>2.0</td>\n      <td>3.0</td>\n      <td>2.0</td>\n      <td>24</td>\n      <td>120</td>\n    </tr>\n    <tr>\n      <th>217</th>\n      <td>1000219</td>\n      <td>2023-05-30</td>\n      <td>3</td>\n      <td>Spicy Garlic</td>\n      <td>1.0</td>\n      <td>3.0</td>\n      <td>6.0</td>\n      <td>1</td>\n      <td>70</td>\n    </tr>\n    <tr>\n      <th>218</th>\n      <td>1000220</td>\n      <td>2023-05-30</td>\n      <td>3</td>\n      <td>Fruit Snacks</td>\n      <td>1.0</td>\n      <td>17.0</td>\n      <td>0.0</td>\n      <td>1</td>\n      <td>70</td>\n    </tr>\n    <tr>\n      <th>219</th>\n      <td>1000221</td>\n      <td>2023-05-30</td>\n      <td>4</td>\n      <td>Protein Powder</td>\n      <td>2.0</td>\n      <td>3.0</td>\n      <td>2.0</td>\n      <td>24</td>\n      <td>120</td>\n    </tr>\n    <tr>\n      <th>220</th>\n      <td>1000222</td>\n      <td>2023-05-30</td>\n      <td>4</td>\n      <td>Steak Ques.</td>\n      <td>1.0</td>\n      <td>42.0</td>\n      <td>27.0</td>\n      <td>26</td>\n      <td>520</td>\n    </tr>\n  </tbody>\n</table>\n</div>"
     },
     "execution_count": 3,
     "metadata": {},
     "output_type": "execute_result"
    }
   ],
   "execution_count": 3
  },
  {
   "cell_type": "code",
   "execution_count": 37,
   "metadata": {
    "ExecuteTime": {
     "end_time": "2023-06-11T05:36:10.723892Z",
     "start_time": "2023-06-11T05:36:10.719561Z"
    }
   },
   "outputs": [
    {
     "data": {
      "text/plain": "       food_id       date  meal_number       food_name  servings  carbs  fats  \\\nindex                                                                           \n95     1000329 2023-06-10            2    Spicy Garlic       1.0    3.0   6.0   \n96     1000330 2023-06-10            3  Protein Powder       2.0    3.0   2.0   \n97     1000331 2023-06-10            3     Rice Packet       1.0   71.0   6.0   \n98     1000332 2023-06-10            4    Fruit Snacks       3.0   17.0   0.0   \n99     1000333 2023-06-10            4  Protein Powder       2.0    3.0   2.0   \n\n       protein  calories  \nindex                     \n95           1        70  \n96          24       120  \n97           8       370  \n98           1        70  \n99          24       120  ",
      "text/html": "<div>\n<style scoped>\n    .dataframe tbody tr th:only-of-type {\n        vertical-align: middle;\n    }\n\n    .dataframe tbody tr th {\n        vertical-align: top;\n    }\n\n    .dataframe thead th {\n        text-align: right;\n    }\n</style>\n<table border=\"1\" class=\"dataframe\">\n  <thead>\n    <tr style=\"text-align: right;\">\n      <th></th>\n      <th>food_id</th>\n      <th>date</th>\n      <th>meal_number</th>\n      <th>food_name</th>\n      <th>servings</th>\n      <th>carbs</th>\n      <th>fats</th>\n      <th>protein</th>\n      <th>calories</th>\n    </tr>\n    <tr>\n      <th>index</th>\n      <th></th>\n      <th></th>\n      <th></th>\n      <th></th>\n      <th></th>\n      <th></th>\n      <th></th>\n      <th></th>\n      <th></th>\n    </tr>\n  </thead>\n  <tbody>\n    <tr>\n      <th>95</th>\n      <td>1000329</td>\n      <td>2023-06-10</td>\n      <td>2</td>\n      <td>Spicy Garlic</td>\n      <td>1.0</td>\n      <td>3.0</td>\n      <td>6.0</td>\n      <td>1</td>\n      <td>70</td>\n    </tr>\n    <tr>\n      <th>96</th>\n      <td>1000330</td>\n      <td>2023-06-10</td>\n      <td>3</td>\n      <td>Protein Powder</td>\n      <td>2.0</td>\n      <td>3.0</td>\n      <td>2.0</td>\n      <td>24</td>\n      <td>120</td>\n    </tr>\n    <tr>\n      <th>97</th>\n      <td>1000331</td>\n      <td>2023-06-10</td>\n      <td>3</td>\n      <td>Rice Packet</td>\n      <td>1.0</td>\n      <td>71.0</td>\n      <td>6.0</td>\n      <td>8</td>\n      <td>370</td>\n    </tr>\n    <tr>\n      <th>98</th>\n      <td>1000332</td>\n      <td>2023-06-10</td>\n      <td>4</td>\n      <td>Fruit Snacks</td>\n      <td>3.0</td>\n      <td>17.0</td>\n      <td>0.0</td>\n      <td>1</td>\n      <td>70</td>\n    </tr>\n    <tr>\n      <th>99</th>\n      <td>1000333</td>\n      <td>2023-06-10</td>\n      <td>4</td>\n      <td>Protein Powder</td>\n      <td>2.0</td>\n      <td>3.0</td>\n      <td>2.0</td>\n      <td>24</td>\n      <td>120</td>\n    </tr>\n  </tbody>\n</table>\n</div>"
     },
     "execution_count": 37,
     "metadata": {},
     "output_type": "execute_result"
    }
   ],
   "source": [
    "# Update item(s) by index and column\n",
    "# current_foods.loc[85,'servings'] = 1\n",
    "# Drop operation\n",
    "# current_foods.drop(index=current_foods.index[-1], axis=0, inplace=True) # Remove last entry\n",
    "updated_foods.tail()"
   ]
  },
  {
   "cell_type": "markdown",
   "metadata": {},
   "source": [
    "### Update SQL\n",
    "Now that we have updated our table, we will export the new dataset to SQL. As a precaution, I always\n",
    "back up the new dataset to CSV through the SQL workbench in the event that an older version is required\n",
    "in the future."
   ]
  },
  {
   "cell_type": "code",
   "execution_count": 15,
   "metadata": {
    "ExecuteTime": {
     "end_time": "2023-06-13T05:15:36.128787Z",
     "start_time": "2023-06-13T05:15:36.119763Z"
    }
   },
   "outputs": [
    {
     "data": {
      "text/plain": "114"
     },
     "execution_count": 15,
     "metadata": {},
     "output_type": "execute_result"
    }
   ],
   "source": [
    "updated_foods.to_sql('june_2023', sql_connection, if_exists='replace')\n",
    "\n",
    "# TODO: MANUALLY REVIEW SQL AND EXPORT NEW TABLE TO CSV AS BACKUP!!"
   ]
  },
  {
   "cell_type": "markdown",
   "metadata": {
    "ExecuteTime": {
     "end_time": "2023-05-31T03:51:24.643833Z",
     "start_time": "2023-05-31T03:51:24.629632Z"
    }
   },
   "source": [
    "## Step 4: Daily Macro Calculations\n",
    "### Filter out all entries besides those with today's date."
   ],
   "outputs": [
    {
     "data": {
      "text/plain": "221"
     },
     "execution_count": 5,
     "metadata": {},
     "output_type": "execute_result"
    }
   ],
   "execution_count": 5
  },
  {
   "cell_type": "code",
   "execution_count": 16,
   "metadata": {
    "ExecuteTime": {
     "end_time": "2023-06-13T05:15:42.248522Z",
     "start_time": "2023-06-13T05:15:42.233782Z"
    }
   },
   "outputs": [
    {
     "data": {
      "text/plain": "       food_id       date  meal_number        food_name  servings  carbs  \\\nindex                                                                      \n100    1000334 2023-06-12            1          Oatmeal       2.0   32.0   \n101    1000335 2023-06-12            1   Protein Powder       2.0    3.0   \n102    1000336 2023-06-12            1        Chips 1oz       1.0   15.0   \n103    1000337 2023-06-12            2             Rice       2.0   45.0   \n104    1000338 2023-06-12            2     Spicy Garlic       1.0    3.0   \n105    1000339 2023-06-12            2             Eggs       4.0    0.0   \n106    1000340 2023-06-12            2     Fruit Snacks       2.0   17.0   \n107    1000341 2023-06-12            3             Rice       2.0   45.0   \n108    1000342 2023-06-12            3     Spicy Garlic       1.0    3.0   \n109    1000343 2023-06-12            3   Protein Powder       2.0    3.0   \n110    1000344 2023-06-12            4  Gatorade Powder       2.0   22.0   \n111    1000345 2023-06-12            4        Ice Cream       4.0   23.0   \n112    1000346 2023-06-12            4   Protein Powder       2.0    3.0   \n113    1000347 2023-06-12            4     Fruit Snacks       2.0   17.0   \n\n       fats  protein  calories  \nindex                           \n100     3.0        9       160  \n101     2.0       24       120  \n102    10.0        2       160  \n103     1.0        4       206  \n104     6.0        1        70  \n105     5.0        6        70  \n106     0.0        1        70  \n107     1.0        4       206  \n108     6.0        1        70  \n109     2.0       24       120  \n110     0.0        0        80  \n111     9.0        3       180  \n112     2.0       24       120  \n113     0.0        1        70  ",
      "text/html": "<div>\n<style scoped>\n    .dataframe tbody tr th:only-of-type {\n        vertical-align: middle;\n    }\n\n    .dataframe tbody tr th {\n        vertical-align: top;\n    }\n\n    .dataframe thead th {\n        text-align: right;\n    }\n</style>\n<table border=\"1\" class=\"dataframe\">\n  <thead>\n    <tr style=\"text-align: right;\">\n      <th></th>\n      <th>food_id</th>\n      <th>date</th>\n      <th>meal_number</th>\n      <th>food_name</th>\n      <th>servings</th>\n      <th>carbs</th>\n      <th>fats</th>\n      <th>protein</th>\n      <th>calories</th>\n    </tr>\n    <tr>\n      <th>index</th>\n      <th></th>\n      <th></th>\n      <th></th>\n      <th></th>\n      <th></th>\n      <th></th>\n      <th></th>\n      <th></th>\n      <th></th>\n    </tr>\n  </thead>\n  <tbody>\n    <tr>\n      <th>100</th>\n      <td>1000334</td>\n      <td>2023-06-12</td>\n      <td>1</td>\n      <td>Oatmeal</td>\n      <td>2.0</td>\n      <td>32.0</td>\n      <td>3.0</td>\n      <td>9</td>\n      <td>160</td>\n    </tr>\n    <tr>\n      <th>101</th>\n      <td>1000335</td>\n      <td>2023-06-12</td>\n      <td>1</td>\n      <td>Protein Powder</td>\n      <td>2.0</td>\n      <td>3.0</td>\n      <td>2.0</td>\n      <td>24</td>\n      <td>120</td>\n    </tr>\n    <tr>\n      <th>102</th>\n      <td>1000336</td>\n      <td>2023-06-12</td>\n      <td>1</td>\n      <td>Chips 1oz</td>\n      <td>1.0</td>\n      <td>15.0</td>\n      <td>10.0</td>\n      <td>2</td>\n      <td>160</td>\n    </tr>\n    <tr>\n      <th>103</th>\n      <td>1000337</td>\n      <td>2023-06-12</td>\n      <td>2</td>\n      <td>Rice</td>\n      <td>2.0</td>\n      <td>45.0</td>\n      <td>1.0</td>\n      <td>4</td>\n      <td>206</td>\n    </tr>\n    <tr>\n      <th>104</th>\n      <td>1000338</td>\n      <td>2023-06-12</td>\n      <td>2</td>\n      <td>Spicy Garlic</td>\n      <td>1.0</td>\n      <td>3.0</td>\n      <td>6.0</td>\n      <td>1</td>\n      <td>70</td>\n    </tr>\n    <tr>\n      <th>105</th>\n      <td>1000339</td>\n      <td>2023-06-12</td>\n      <td>2</td>\n      <td>Eggs</td>\n      <td>4.0</td>\n      <td>0.0</td>\n      <td>5.0</td>\n      <td>6</td>\n      <td>70</td>\n    </tr>\n    <tr>\n      <th>106</th>\n      <td>1000340</td>\n      <td>2023-06-12</td>\n      <td>2</td>\n      <td>Fruit Snacks</td>\n      <td>2.0</td>\n      <td>17.0</td>\n      <td>0.0</td>\n      <td>1</td>\n      <td>70</td>\n    </tr>\n    <tr>\n      <th>107</th>\n      <td>1000341</td>\n      <td>2023-06-12</td>\n      <td>3</td>\n      <td>Rice</td>\n      <td>2.0</td>\n      <td>45.0</td>\n      <td>1.0</td>\n      <td>4</td>\n      <td>206</td>\n    </tr>\n    <tr>\n      <th>108</th>\n      <td>1000342</td>\n      <td>2023-06-12</td>\n      <td>3</td>\n      <td>Spicy Garlic</td>\n      <td>1.0</td>\n      <td>3.0</td>\n      <td>6.0</td>\n      <td>1</td>\n      <td>70</td>\n    </tr>\n    <tr>\n      <th>109</th>\n      <td>1000343</td>\n      <td>2023-06-12</td>\n      <td>3</td>\n      <td>Protein Powder</td>\n      <td>2.0</td>\n      <td>3.0</td>\n      <td>2.0</td>\n      <td>24</td>\n      <td>120</td>\n    </tr>\n    <tr>\n      <th>110</th>\n      <td>1000344</td>\n      <td>2023-06-12</td>\n      <td>4</td>\n      <td>Gatorade Powder</td>\n      <td>2.0</td>\n      <td>22.0</td>\n      <td>0.0</td>\n      <td>0</td>\n      <td>80</td>\n    </tr>\n    <tr>\n      <th>111</th>\n      <td>1000345</td>\n      <td>2023-06-12</td>\n      <td>4</td>\n      <td>Ice Cream</td>\n      <td>4.0</td>\n      <td>23.0</td>\n      <td>9.0</td>\n      <td>3</td>\n      <td>180</td>\n    </tr>\n    <tr>\n      <th>112</th>\n      <td>1000346</td>\n      <td>2023-06-12</td>\n      <td>4</td>\n      <td>Protein Powder</td>\n      <td>2.0</td>\n      <td>3.0</td>\n      <td>2.0</td>\n      <td>24</td>\n      <td>120</td>\n    </tr>\n    <tr>\n      <th>113</th>\n      <td>1000347</td>\n      <td>2023-06-12</td>\n      <td>4</td>\n      <td>Fruit Snacks</td>\n      <td>2.0</td>\n      <td>17.0</td>\n      <td>0.0</td>\n      <td>1</td>\n      <td>70</td>\n    </tr>\n  </tbody>\n</table>\n</div>"
     },
     "execution_count": 16,
     "metadata": {},
     "output_type": "execute_result"
    }
   ],
   "source": [
    "# Sort entries by date\n",
    "today = updated_foods[updated_foods['date']==date]\n",
    "today"
   ]
  },
  {
   "cell_type": "markdown",
   "metadata": {
    "ExecuteTime": {
     "end_time": "2023-05-31T03:51:45.336772Z",
     "start_time": "2023-05-31T03:51:45.332933Z"
    }
   },
   "source": [
    "### Macro Calculations\n",
    "These calculations assist in assessing the required macro nutrients for the day and possible adjustments\n",
    "that need to made if carbs or fats have exceeded or come up short of their targets."
   ],
   "outputs": [
    {
     "data": {
      "text/plain": "       food_id       date  meal_number       food_name  servings  carbs  fats   \nindex                                                                           \n211    1000213 2023-05-30            1           Ramen       1.0   54.0  14.0  \\\n212    1000214 2023-05-30            1  Protein Powder       2.0    3.0   2.0   \n213    1000215 2023-05-30            2        Pop Tart       1.0   74.0   9.0   \n214    1000216 2023-05-30            2            Eggs       4.0    0.0   5.0   \n215    1000217 2023-05-30            3            Rice       2.0   45.0   1.0   \n216    1000218 2023-05-30            3  Protein Powder       2.0    3.0   2.0   \n217    1000219 2023-05-30            3    Spicy Garlic       1.0    3.0   6.0   \n218    1000220 2023-05-30            3    Fruit Snacks       1.0   17.0   0.0   \n219    1000221 2023-05-30            4  Protein Powder       2.0    3.0   2.0   \n220    1000222 2023-05-30            4     Steak Ques.       1.0   42.0  27.0   \n\n       protein  calories  \nindex                     \n211          8       370  \n212         24       120  \n213          3       390  \n214          6        70  \n215          4       206  \n216         24       120  \n217          1        70  \n218          1        70  \n219         24       120  \n220         26       520  ",
      "text/html": "<div>\n<style scoped>\n    .dataframe tbody tr th:only-of-type {\n        vertical-align: middle;\n    }\n\n    .dataframe tbody tr th {\n        vertical-align: top;\n    }\n\n    .dataframe thead th {\n        text-align: right;\n    }\n</style>\n<table border=\"1\" class=\"dataframe\">\n  <thead>\n    <tr style=\"text-align: right;\">\n      <th></th>\n      <th>food_id</th>\n      <th>date</th>\n      <th>meal_number</th>\n      <th>food_name</th>\n      <th>servings</th>\n      <th>carbs</th>\n      <th>fats</th>\n      <th>protein</th>\n      <th>calories</th>\n    </tr>\n    <tr>\n      <th>index</th>\n      <th></th>\n      <th></th>\n      <th></th>\n      <th></th>\n      <th></th>\n      <th></th>\n      <th></th>\n      <th></th>\n      <th></th>\n    </tr>\n  </thead>\n  <tbody>\n    <tr>\n      <th>211</th>\n      <td>1000213</td>\n      <td>2023-05-30</td>\n      <td>1</td>\n      <td>Ramen</td>\n      <td>1.0</td>\n      <td>54.0</td>\n      <td>14.0</td>\n      <td>8</td>\n      <td>370</td>\n    </tr>\n    <tr>\n      <th>212</th>\n      <td>1000214</td>\n      <td>2023-05-30</td>\n      <td>1</td>\n      <td>Protein Powder</td>\n      <td>2.0</td>\n      <td>3.0</td>\n      <td>2.0</td>\n      <td>24</td>\n      <td>120</td>\n    </tr>\n    <tr>\n      <th>213</th>\n      <td>1000215</td>\n      <td>2023-05-30</td>\n      <td>2</td>\n      <td>Pop Tart</td>\n      <td>1.0</td>\n      <td>74.0</td>\n      <td>9.0</td>\n      <td>3</td>\n      <td>390</td>\n    </tr>\n    <tr>\n      <th>214</th>\n      <td>1000216</td>\n      <td>2023-05-30</td>\n      <td>2</td>\n      <td>Eggs</td>\n      <td>4.0</td>\n      <td>0.0</td>\n      <td>5.0</td>\n      <td>6</td>\n      <td>70</td>\n    </tr>\n    <tr>\n      <th>215</th>\n      <td>1000217</td>\n      <td>2023-05-30</td>\n      <td>3</td>\n      <td>Rice</td>\n      <td>2.0</td>\n      <td>45.0</td>\n      <td>1.0</td>\n      <td>4</td>\n      <td>206</td>\n    </tr>\n    <tr>\n      <th>216</th>\n      <td>1000218</td>\n      <td>2023-05-30</td>\n      <td>3</td>\n      <td>Protein Powder</td>\n      <td>2.0</td>\n      <td>3.0</td>\n      <td>2.0</td>\n      <td>24</td>\n      <td>120</td>\n    </tr>\n    <tr>\n      <th>217</th>\n      <td>1000219</td>\n      <td>2023-05-30</td>\n      <td>3</td>\n      <td>Spicy Garlic</td>\n      <td>1.0</td>\n      <td>3.0</td>\n      <td>6.0</td>\n      <td>1</td>\n      <td>70</td>\n    </tr>\n    <tr>\n      <th>218</th>\n      <td>1000220</td>\n      <td>2023-05-30</td>\n      <td>3</td>\n      <td>Fruit Snacks</td>\n      <td>1.0</td>\n      <td>17.0</td>\n      <td>0.0</td>\n      <td>1</td>\n      <td>70</td>\n    </tr>\n    <tr>\n      <th>219</th>\n      <td>1000221</td>\n      <td>2023-05-30</td>\n      <td>4</td>\n      <td>Protein Powder</td>\n      <td>2.0</td>\n      <td>3.0</td>\n      <td>2.0</td>\n      <td>24</td>\n      <td>120</td>\n    </tr>\n    <tr>\n      <th>220</th>\n      <td>1000222</td>\n      <td>2023-05-30</td>\n      <td>4</td>\n      <td>Steak Ques.</td>\n      <td>1.0</td>\n      <td>42.0</td>\n      <td>27.0</td>\n      <td>26</td>\n      <td>520</td>\n    </tr>\n  </tbody>\n</table>\n</div>"
     },
     "execution_count": 6,
     "metadata": {},
     "output_type": "execute_result"
    }
   ],
   "execution_count": 6
  },
  {
   "cell_type": "code",
   "execution_count": 17,
   "metadata": {
    "ExecuteTime": {
     "end_time": "2023-06-13T05:15:51.346243Z",
     "start_time": "2023-06-13T05:15:51.344230Z"
    }
   },
   "outputs": [
    {
     "name": "stdout",
     "output_type": "stream",
     "text": [
      "Carbs: 487 | Goals: 500 400 300\n",
      "Fats: 100 | Goals: 100 75 50\n",
      "Protein: 222 | Goal: 200\n",
      "Calories: 3604\n"
     ]
    }
   ],
   "source": [
    "# Calculate macronutrient totals based on serving count\n",
    "total_carbs = int((today['carbs'] * today['servings']).sum())\n",
    "total_fats = int((today['fats'] * today['servings']).sum())\n",
    "total_protein = int((today['protein'] * today['servings']).sum())\n",
    "total_cals = int((today['calories'] * today['servings']).sum())\n",
    "\n",
    "print(f\"Carbs: {total_carbs} | Goals: 500 400 300\")\n",
    "print(f\"Fats: {total_fats} | Goals: 100 75 50\")\n",
    "print(f\"Protein: {total_protein} | Goal: 200\")\n",
    "print(f\"Calories: {total_cals}\")"
   ]
  },
  {
   "cell_type": "markdown",
   "source": [
    "### Convert the macro nutrients to their caloric measurement."
   ],
   "metadata": {
    "collapsed": false
   }
  },
  {
   "cell_type": "code",
   "execution_count": 18,
   "metadata": {
    "ExecuteTime": {
     "end_time": "2023-06-13T05:15:56.286765Z",
     "start_time": "2023-06-13T05:15:56.283205Z"
    }
   },
   "outputs": [
    {
     "name": "stdout",
     "output_type": "stream",
     "text": [
      "Calories From Carbs: 1948\n",
      "Calories From Fats: 900\n",
      "Non-Protein Calories: 2848 Goal: 2900\n",
      "Calories From Protein: 888\n"
     ]
    }
   ],
   "source": [
    "# Calculate the number of calories from each macro nutrient.\n",
    "carb_cals = total_carbs * 4\n",
    "fat_cals = total_fats * 9\n",
    "non_protein_cals = carb_cals + fat_cals\n",
    "large_goal_npc = (500*4)+(100*9)\n",
    "small_goal_npc = (400*4)+(75*9)\n",
    "rest_goal_npc = (300*4)+(50*9)\n",
    "protein_cals = total_protein * 4\n",
    "\n",
    "print(f\"Calories From Carbs: {carb_cals}\")\n",
    "print(f\"Calories From Fats: {fat_cals}\")\n",
    "print(f\"Non-Protein Calories: {non_protein_cals} Goal: {large_goal_npc}\")\n",
    "print(f\"Calories From Protein: {protein_cals}\")"
   ]
  },
  {
   "cell_type": "markdown",
   "source": [
    "## Step 5: Visualize the Data\n",
    "### Portray the macro nutrient dispersion of calories as a pie chart."
   ],
   "metadata": {
    "collapsed": false
   }
  },
  {
   "cell_type": "code",
   "execution_count": 19,
   "metadata": {
    "ExecuteTime": {
     "end_time": "2023-06-13T05:16:00.041561Z",
     "start_time": "2023-06-13T05:15:59.957893Z"
    }
   },
   "outputs": [
    {
     "data": {
      "text/plain": "<Axes: ylabel='Macro Breakdown'>"
     },
     "execution_count": 19,
     "metadata": {},
     "output_type": "execute_result"
    },
    {
     "data": {
      "text/plain": "<Figure size 500x500 with 1 Axes>",
      "image/png": "[encoded data removed]"
     },
     "metadata": {},
     "output_type": "display_data"
    }
   ],
   "source": [
    "# Plot as a pie chart\n",
    "macro_series = pd.Series(\n",
    "    [carb_cals, fat_cals, protein_cals],\n",
    "    index=['Carbs', 'Fats', 'Protein'],\n",
    "    name=\"Macro Breakdown\"\n",
    ")\n",
    "\n",
    "macro_series.plot.pie(\n",
    "    colors=sns.color_palette('colorblind'),\n",
    "    autopct='%1.0f%%',\n",
    "    fontsize=17,\n",
    "    shadow=True,\n",
    "    explode=(0.04,0.04,0.04),\n",
    "    figsize=(5,5)\n",
    ")"
   ]
  },
  {
   "cell_type": "markdown",
   "source": [
    "### Add a new `total_food_cals` column that is the product of the food entry servings by its `calories`."
   ],
   "metadata": {
    "collapsed": false
   }
  },
  {
   "cell_type": "code",
   "execution_count": 20,
   "metadata": {
    "ExecuteTime": {
     "end_time": "2023-06-13T05:16:02.562877Z",
     "start_time": "2023-06-13T05:16:02.559375Z"
    }
   },
   "outputs": [
    {
     "data": {
      "text/plain": "       food_id       date  meal_number        food_name  servings  carbs  \\\nindex                                                                      \n100    1000334 2023-06-12            1          Oatmeal       2.0   32.0   \n101    1000335 2023-06-12            1   Protein Powder       2.0    3.0   \n102    1000336 2023-06-12            1        Chips 1oz       1.0   15.0   \n103    1000337 2023-06-12            2             Rice       2.0   45.0   \n104    1000338 2023-06-12            2     Spicy Garlic       1.0    3.0   \n105    1000339 2023-06-12            2             Eggs       4.0    0.0   \n106    1000340 2023-06-12            2     Fruit Snacks       2.0   17.0   \n107    1000341 2023-06-12            3             Rice       2.0   45.0   \n108    1000342 2023-06-12            3     Spicy Garlic       1.0    3.0   \n109    1000343 2023-06-12            3   Protein Powder       2.0    3.0   \n110    1000344 2023-06-12            4  Gatorade Powder       2.0   22.0   \n111    1000345 2023-06-12            4        Ice Cream       4.0   23.0   \n112    1000346 2023-06-12            4   Protein Powder       2.0    3.0   \n113    1000347 2023-06-12            4     Fruit Snacks       2.0   17.0   \n\n       fats  protein  calories  total_food_cals  \nindex                                            \n100     3.0        9       160            320.0  \n101     2.0       24       120            240.0  \n102    10.0        2       160            160.0  \n103     1.0        4       206            412.0  \n104     6.0        1        70             70.0  \n105     5.0        6        70            280.0  \n106     0.0        1        70            140.0  \n107     1.0        4       206            412.0  \n108     6.0        1        70             70.0  \n109     2.0       24       120            240.0  \n110     0.0        0        80            160.0  \n111     9.0        3       180            720.0  \n112     2.0       24       120            240.0  \n113     0.0        1        70            140.0  ",
      "text/html": "<div>\n<style scoped>\n    .dataframe tbody tr th:only-of-type {\n        vertical-align: middle;\n    }\n\n    .dataframe tbody tr th {\n        vertical-align: top;\n    }\n\n    .dataframe thead th {\n        text-align: right;\n    }\n</style>\n<table border=\"1\" class=\"dataframe\">\n  <thead>\n    <tr style=\"text-align: right;\">\n      <th></th>\n      <th>food_id</th>\n      <th>date</th>\n      <th>meal_number</th>\n      <th>food_name</th>\n      <th>servings</th>\n      <th>carbs</th>\n      <th>fats</th>\n      <th>protein</th>\n      <th>calories</th>\n      <th>total_food_cals</th>\n    </tr>\n    <tr>\n      <th>index</th>\n      <th></th>\n      <th></th>\n      <th></th>\n      <th></th>\n      <th></th>\n      <th></th>\n      <th></th>\n      <th></th>\n      <th></th>\n      <th></th>\n    </tr>\n  </thead>\n  <tbody>\n    <tr>\n      <th>100</th>\n      <td>1000334</td>\n      <td>2023-06-12</td>\n      <td>1</td>\n      <td>Oatmeal</td>\n      <td>2.0</td>\n      <td>32.0</td>\n      <td>3.0</td>\n      <td>9</td>\n      <td>160</td>\n      <td>320.0</td>\n    </tr>\n    <tr>\n      <th>101</th>\n      <td>1000335</td>\n      <td>2023-06-12</td>\n      <td>1</td>\n      <td>Protein Powder</td>\n      <td>2.0</td>\n      <td>3.0</td>\n      <td>2.0</td>\n      <td>24</td>\n      <td>120</td>\n      <td>240.0</td>\n    </tr>\n    <tr>\n      <th>102</th>\n      <td>1000336</td>\n      <td>2023-06-12</td>\n      <td>1</td>\n      <td>Chips 1oz</td>\n      <td>1.0</td>\n      <td>15.0</td>\n      <td>10.0</td>\n      <td>2</td>\n      <td>160</td>\n      <td>160.0</td>\n    </tr>\n    <tr>\n      <th>103</th>\n      <td>1000337</td>\n      <td>2023-06-12</td>\n      <td>2</td>\n      <td>Rice</td>\n      <td>2.0</td>\n      <td>45.0</td>\n      <td>1.0</td>\n      <td>4</td>\n      <td>206</td>\n      <td>412.0</td>\n    </tr>\n    <tr>\n      <th>104</th>\n      <td>1000338</td>\n      <td>2023-06-12</td>\n      <td>2</td>\n      <td>Spicy Garlic</td>\n      <td>1.0</td>\n      <td>3.0</td>\n      <td>6.0</td>\n      <td>1</td>\n      <td>70</td>\n      <td>70.0</td>\n    </tr>\n    <tr>\n      <th>105</th>\n      <td>1000339</td>\n      <td>2023-06-12</td>\n      <td>2</td>\n      <td>Eggs</td>\n      <td>4.0</td>\n      <td>0.0</td>\n      <td>5.0</td>\n      <td>6</td>\n      <td>70</td>\n      <td>280.0</td>\n    </tr>\n    <tr>\n      <th>106</th>\n      <td>1000340</td>\n      <td>2023-06-12</td>\n      <td>2</td>\n      <td>Fruit Snacks</td>\n      <td>2.0</td>\n      <td>17.0</td>\n      <td>0.0</td>\n      <td>1</td>\n      <td>70</td>\n      <td>140.0</td>\n    </tr>\n    <tr>\n      <th>107</th>\n      <td>1000341</td>\n      <td>2023-06-12</td>\n      <td>3</td>\n      <td>Rice</td>\n      <td>2.0</td>\n      <td>45.0</td>\n      <td>1.0</td>\n      <td>4</td>\n      <td>206</td>\n      <td>412.0</td>\n    </tr>\n    <tr>\n      <th>108</th>\n      <td>1000342</td>\n      <td>2023-06-12</td>\n      <td>3</td>\n      <td>Spicy Garlic</td>\n      <td>1.0</td>\n      <td>3.0</td>\n      <td>6.0</td>\n      <td>1</td>\n      <td>70</td>\n      <td>70.0</td>\n    </tr>\n    <tr>\n      <th>109</th>\n      <td>1000343</td>\n      <td>2023-06-12</td>\n      <td>3</td>\n      <td>Protein Powder</td>\n      <td>2.0</td>\n      <td>3.0</td>\n      <td>2.0</td>\n      <td>24</td>\n      <td>120</td>\n      <td>240.0</td>\n    </tr>\n    <tr>\n      <th>110</th>\n      <td>1000344</td>\n      <td>2023-06-12</td>\n      <td>4</td>\n      <td>Gatorade Powder</td>\n      <td>2.0</td>\n      <td>22.0</td>\n      <td>0.0</td>\n      <td>0</td>\n      <td>80</td>\n      <td>160.0</td>\n    </tr>\n    <tr>\n      <th>111</th>\n      <td>1000345</td>\n      <td>2023-06-12</td>\n      <td>4</td>\n      <td>Ice Cream</td>\n      <td>4.0</td>\n      <td>23.0</td>\n      <td>9.0</td>\n      <td>3</td>\n      <td>180</td>\n      <td>720.0</td>\n    </tr>\n    <tr>\n      <th>112</th>\n      <td>1000346</td>\n      <td>2023-06-12</td>\n      <td>4</td>\n      <td>Protein Powder</td>\n      <td>2.0</td>\n      <td>3.0</td>\n      <td>2.0</td>\n      <td>24</td>\n      <td>120</td>\n      <td>240.0</td>\n    </tr>\n    <tr>\n      <th>113</th>\n      <td>1000347</td>\n      <td>2023-06-12</td>\n      <td>4</td>\n      <td>Fruit Snacks</td>\n      <td>2.0</td>\n      <td>17.0</td>\n      <td>0.0</td>\n      <td>1</td>\n      <td>70</td>\n      <td>140.0</td>\n    </tr>\n  </tbody>\n</table>\n</div>"
     },
     "execution_count": 20,
     "metadata": {},
     "output_type": "execute_result"
    }
   ],
   "source": [
    "# Add a total calories column\n",
    "updated_foods['total_food_cals'] = updated_foods['servings'] * updated_foods['calories']\n",
    "\n",
    "# Sort entries by date\n",
    "today = updated_foods[updated_foods['date']==date]\n",
    "today"
   ]
  },
  {
   "cell_type": "markdown",
   "source": [
    "### Group the entries by `meal_number` and aggregate the corresponding `total_food_cals` to get `cals_per_meal`"
   ],
   "metadata": {
    "collapsed": false
   }
  },
  {
   "cell_type": "code",
   "execution_count": 26,
   "metadata": {
    "ExecuteTime": {
     "end_time": "2023-06-13T05:23:21.029788Z",
     "start_time": "2023-06-13T05:23:21.023488Z"
    }
   },
   "outputs": [
    {
     "data": {
      "text/plain": "             total_food_cals\nmeal_number                 \n1                      720.0\n2                      902.0\n3                      722.0\n4                     1260.0",
      "text/html": "<div>\n<style scoped>\n    .dataframe tbody tr th:only-of-type {\n        vertical-align: middle;\n    }\n\n    .dataframe tbody tr th {\n        vertical-align: top;\n    }\n\n    .dataframe thead th {\n        text-align: right;\n    }\n</style>\n<table border=\"1\" class=\"dataframe\">\n  <thead>\n    <tr style=\"text-align: right;\">\n      <th></th>\n      <th>total_food_cals</th>\n    </tr>\n    <tr>\n      <th>meal_number</th>\n      <th></th>\n    </tr>\n  </thead>\n  <tbody>\n    <tr>\n      <th>1</th>\n      <td>720.0</td>\n    </tr>\n    <tr>\n      <th>2</th>\n      <td>902.0</td>\n    </tr>\n    <tr>\n      <th>3</th>\n      <td>722.0</td>\n    </tr>\n    <tr>\n      <th>4</th>\n      <td>1260.0</td>\n    </tr>\n  </tbody>\n</table>\n</div>"
     },
     "execution_count": 26,
     "metadata": {},
     "output_type": "execute_result"
    }
   ],
   "source": [
    "cals_per_meal = today.groupby(today['meal_number']).aggregate({'total_food_cals': 'sum'})\n",
    "cals_per_meal.reset_index()\n",
    "cals_per_meal"
   ]
  },
  {
   "cell_type": "markdown",
   "source": [
    "### Plot the calories per meal\n",
    "Ideally the line should be as level as possible over four meals."
   ],
   "metadata": {
    "collapsed": false
   }
  },
  {
   "cell_type": "code",
   "execution_count": 31,
   "metadata": {
    "ExecuteTime": {
     "end_time": "2023-06-13T05:25:52.967531Z",
     "start_time": "2023-06-13T05:25:52.889470Z"
    }
   },
   "outputs": [
    {
     "data": {
      "text/plain": "[Text(0.5, 1.0, 'Calories Per Meal'),\n Text(0.5, 0, 'Meal Number'),\n Text(0, 0.5, 'Total Calories')]"
     },
     "execution_count": 31,
     "metadata": {},
     "output_type": "execute_result"
    },
    {
     "data": {
      "text/plain": "<Figure size 640x480 with 1 Axes>",
      "image/png": "[encoded data removed]"
     },
     "metadata": {},
     "output_type": "display_data"
    }
   ],
   "source": [
    "fig = sns.barplot(data=cals_per_meal, x=cals_per_meal.index,y='total_food_cals')\n",
    "fig.set(title=\"Calories Per Meal\", xlabel=\"Meal Number\", ylabel=\"Total Calories\")"
   ]
  },
  {
   "cell_type": "markdown",
   "metadata": {
    "ExecuteTime": {
     "end_time": "2023-05-31T03:52:16.139828Z",
     "start_time": "2023-05-31T03:52:16.017197Z"
    }
   },
   "source": [
    "## LOG:\n",
    "### 2023-05-15: Wine removed from diet\n",
    "### 2023-05-29: New Cal Goals 500 400 300"
   ],
   "outputs": [
    {
     "data": {
      "text/plain": "<Axes: title={'center': 'Calories Per Meal'}, xlabel='Meal Number', ylabel='Calorie Count'>"
     },
     "execution_count": 13,
     "metadata": {},
     "output_type": "execute_result"
    },
    {
     "data": {
      "text/plain": "<Figure size 600x400 with 1 Axes>",
      "image/png": "[encoded data removed]"
     },
     "metadata": {},
     "output_type": "display_data"
    }
   ],
   "execution_count": 13
  }
 ],
 "metadata": {
  "kernelspec": {
   "display_name": "Python 3 (ipykernel)",
   "language": "python",
   "name": "python3"
  },
  "language_info": {
   "codemirror_mode": {
    "name": "ipython",
    "version": 3
   },
   "file_extension": ".py",
   "mimetype": "text/x-python",
   "name": "python",
   "nbconvert_exporter": "python",
   "pygments_lexer": "ipython3",
   "version": "3.9.6"
  }
 },
 "nbformat": 4,
 "nbformat_minor": 1
}
