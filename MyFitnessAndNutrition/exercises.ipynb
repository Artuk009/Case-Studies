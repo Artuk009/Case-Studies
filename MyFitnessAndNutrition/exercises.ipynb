{
 "cells": [
  {
   "cell_type": "markdown",
   "source": [
    "# Exercises Editor\n",
    "Author: Brent Artuch <br>\n",
    "Date: 2023-06-07"
   ],
   "metadata": {
    "collapsed": false
   }
  },
  {
   "cell_type": "markdown",
   "source": [
    "## Import From SQL"
   ],
   "metadata": {
    "collapsed": false
   }
  },
  {
   "cell_type": "markdown",
   "source": [
    "## Introduction"
   ],
   "metadata": {
    "collapsed": false
   }
  },
  {
   "cell_type": "markdown",
   "source": [
    "In this notebook we explore how exercise data is logged for a given day of training and calculations to\n",
    "determine the output of each exercise and what the desired output for the following week will be. The\n",
    "data entries are recorded at the gym using a simple log app that I developed for Android. The key data\n",
    "in this notebook will be the `weight` and `reps` of each exercise."
   ],
   "metadata": {
    "collapsed": false
   }
  },
  {
   "cell_type": "markdown",
   "source": [
    "## Step: 1 Imports\n",
    "### Import packages"
   ],
   "metadata": {
    "collapsed": false
   }
  },
  {
   "cell_type": "code",
   "execution_count": 1,
   "outputs": [],
   "source": [
    "import sqlite3\n",
    "import pandas as pd\n",
    "import numpy as np\n",
    "import plotly.express as px"
   ],
   "metadata": {
    "collapsed": false,
    "ExecuteTime": {
     "end_time": "2023-06-17T03:14:50.070848Z",
     "start_time": "2023-06-17T03:14:50.019264Z"
    }
   }
  },
  {
   "cell_type": "markdown",
   "source": [
    "### Load the dataset\n",
    "This dataset is pulled from a SQLite database named `exercises` with four tables: `leg_day`, `chest_day`,\n",
    "`back_day`, and `shoulder_day`. We will load the desired day using a simple query."
   ],
   "metadata": {
    "collapsed": false
   }
  },
  {
   "cell_type": "code",
   "execution_count": 2,
   "outputs": [
    {
     "data": {
      "text/plain": "            id                 date                         name weight reps\nindex                                                                       \n38     1000039  2023-06-02 00:00:00                    Leg Curls    120   20\n39     1000040  2023-06-02 00:00:00                     Adductor    260   18\n40     1000041  2023-06-09 00:00:00        Single Leg Calf Press    280   11\n41     1000042  2023-06-09 00:00:00          Standing Calf Press    430   11\n42     1000043  2023-06-09 00:00:00                  Smith Squat    290   11\n43     1000044  2023-06-09 00:00:00       Oblique Crunch Machine    170   12\n44     1000045  2023-06-09 00:00:00  Smith Straight Leg Deadlift    290   11\n45     1000046  2023-06-09 00:00:00               Leg Extensions    115   12\n46     1000047  2023-06-09 00:00:00                    Leg Curls    135   13\n47     1000048  2023-06-09 00:00:00                     Adductor    260   13",
      "text/html": "<div>\n<style scoped>\n    .dataframe tbody tr th:only-of-type {\n        vertical-align: middle;\n    }\n\n    .dataframe tbody tr th {\n        vertical-align: top;\n    }\n\n    .dataframe thead th {\n        text-align: right;\n    }\n</style>\n<table border=\"1\" class=\"dataframe\">\n  <thead>\n    <tr style=\"text-align: right;\">\n      <th></th>\n      <th>id</th>\n      <th>date</th>\n      <th>name</th>\n      <th>weight</th>\n      <th>reps</th>\n    </tr>\n    <tr>\n      <th>index</th>\n      <th></th>\n      <th></th>\n      <th></th>\n      <th></th>\n      <th></th>\n    </tr>\n  </thead>\n  <tbody>\n    <tr>\n      <th>38</th>\n      <td>1000039</td>\n      <td>2023-06-02 00:00:00</td>\n      <td>Leg Curls</td>\n      <td>120</td>\n      <td>20</td>\n    </tr>\n    <tr>\n      <th>39</th>\n      <td>1000040</td>\n      <td>2023-06-02 00:00:00</td>\n      <td>Adductor</td>\n      <td>260</td>\n      <td>18</td>\n    </tr>\n    <tr>\n      <th>40</th>\n      <td>1000041</td>\n      <td>2023-06-09 00:00:00</td>\n      <td>Single Leg Calf Press</td>\n      <td>280</td>\n      <td>11</td>\n    </tr>\n    <tr>\n      <th>41</th>\n      <td>1000042</td>\n      <td>2023-06-09 00:00:00</td>\n      <td>Standing Calf Press</td>\n      <td>430</td>\n      <td>11</td>\n    </tr>\n    <tr>\n      <th>42</th>\n      <td>1000043</td>\n      <td>2023-06-09 00:00:00</td>\n      <td>Smith Squat</td>\n      <td>290</td>\n      <td>11</td>\n    </tr>\n    <tr>\n      <th>43</th>\n      <td>1000044</td>\n      <td>2023-06-09 00:00:00</td>\n      <td>Oblique Crunch Machine</td>\n      <td>170</td>\n      <td>12</td>\n    </tr>\n    <tr>\n      <th>44</th>\n      <td>1000045</td>\n      <td>2023-06-09 00:00:00</td>\n      <td>Smith Straight Leg Deadlift</td>\n      <td>290</td>\n      <td>11</td>\n    </tr>\n    <tr>\n      <th>45</th>\n      <td>1000046</td>\n      <td>2023-06-09 00:00:00</td>\n      <td>Leg Extensions</td>\n      <td>115</td>\n      <td>12</td>\n    </tr>\n    <tr>\n      <th>46</th>\n      <td>1000047</td>\n      <td>2023-06-09 00:00:00</td>\n      <td>Leg Curls</td>\n      <td>135</td>\n      <td>13</td>\n    </tr>\n    <tr>\n      <th>47</th>\n      <td>1000048</td>\n      <td>2023-06-09 00:00:00</td>\n      <td>Adductor</td>\n      <td>260</td>\n      <td>13</td>\n    </tr>\n  </tbody>\n</table>\n</div>"
     },
     "execution_count": 2,
     "metadata": {},
     "output_type": "execute_result"
    }
   ],
   "source": [
    "sql_connection = sqlite3.connect('exercises.sqlite')\n",
    "# Import desired table and set the index.\n",
    "current_exercises = pd.read_sql('SELECT * FROM leg_day', sql_connection, index_col='index')\n",
    "current_exercises.tail(10)"
   ],
   "metadata": {
    "collapsed": false,
    "ExecuteTime": {
     "end_time": "2023-06-17T03:14:55.237174Z",
     "start_time": "2023-06-17T03:14:55.213984Z"
    }
   }
  },
  {
   "cell_type": "markdown",
   "source": [
    "## Step 2: Data Exploration\n",
    "Next we will get a sense of the size and contents of `current_exercises`."
   ],
   "metadata": {
    "collapsed": false
   }
  },
  {
   "cell_type": "code",
   "execution_count": 3,
   "outputs": [
    {
     "data": {
      "text/plain": "(48, 5)"
     },
     "execution_count": 3,
     "metadata": {},
     "output_type": "execute_result"
    }
   ],
   "source": [
    "current_exercises.shape"
   ],
   "metadata": {
    "collapsed": false,
    "ExecuteTime": {
     "end_time": "2023-06-17T03:14:59.948470Z",
     "start_time": "2023-06-17T03:14:59.944902Z"
    }
   }
  },
  {
   "cell_type": "code",
   "execution_count": 4,
   "outputs": [
    {
     "name": "stdout",
     "output_type": "stream",
     "text": [
      "<class 'pandas.core.frame.DataFrame'>\n",
      "Int64Index: 48 entries, 0 to 47\n",
      "Data columns (total 5 columns):\n",
      " #   Column  Non-Null Count  Dtype \n",
      "---  ------  --------------  ----- \n",
      " 0   id      48 non-null     int64 \n",
      " 1   date    48 non-null     object\n",
      " 2   name    48 non-null     object\n",
      " 3   weight  48 non-null     object\n",
      " 4   reps    48 non-null     object\n",
      "dtypes: int64(1), object(4)\n",
      "memory usage: 2.2+ KB\n"
     ]
    }
   ],
   "source": [
    "current_exercises.info()"
   ],
   "metadata": {
    "collapsed": false,
    "ExecuteTime": {
     "end_time": "2023-06-17T03:15:01.912729Z",
     "start_time": "2023-06-17T03:15:01.909165Z"
    }
   }
  },
  {
   "cell_type": "code",
   "execution_count": 5,
   "outputs": [
    {
     "data": {
      "text/plain": "Single Leg Calf Press          6\nStanding Calf Press            6\nSmith Squat                    6\nOblique Crunch Machine         6\nSmith Straight Leg Deadlift    6\nLeg Extensions                 6\nLeg Curls                      6\nAdductor                       6\nName: name, dtype: int64"
     },
     "execution_count": 5,
     "metadata": {},
     "output_type": "execute_result"
    }
   ],
   "source": [
    "current_exercises['name'].value_counts()"
   ],
   "metadata": {
    "collapsed": false,
    "ExecuteTime": {
     "end_time": "2023-06-17T03:15:05.022424Z",
     "start_time": "2023-06-17T03:15:05.018393Z"
    }
   }
  },
  {
   "cell_type": "markdown",
   "source": [
    "## Step 3: Update the Dataset\n",
    "First we will get each of the unique names from `current_exercises`."
   ],
   "metadata": {
    "collapsed": false,
    "ExecuteTime": {
     "end_time": "2023-06-07T04:11:48.656733Z",
     "start_time": "2023-06-07T04:11:48.647020Z"
    }
   },
   "outputs": [
    {
     "data": {
      "text/plain": "         id                 date                         name  weight  reps\n22  1000019  2023-05-05 00:00:00               Leg Extensions     235    15\n23  1000020  2023-05-05 00:00:00                    Leg Curls     120    19\n24  1000021  2023-05-05 00:00:00                     Adductor     260    20\n25  1000022  2023-05-19 00:00:00        Single Leg Calf Press     250    15\n26  1000023  2023-05-19 00:00:00          Standing Calf Press     340    20\n27  1000024  2023-05-19 00:00:00                  Smith Squat     290    12\n28  1000025  2023-05-19 00:00:00  Smith Straight Leg Deadlift     290    10\n29  1000026  2023-05-19 00:00:00               Leg Extensions     260    12\n30  1000027  2023-05-19 00:00:00                    Leg Curls     150     8\n31  1000028  2023-05-19 00:00:00                     Adductor     260    26",
      "text/html": "<div>\n<style scoped>\n    .dataframe tbody tr th:only-of-type {\n        vertical-align: middle;\n    }\n\n    .dataframe tbody tr th {\n        vertical-align: top;\n    }\n\n    .dataframe thead th {\n        text-align: right;\n    }\n</style>\n<table border=\"1\" class=\"dataframe\">\n  <thead>\n    <tr style=\"text-align: right;\">\n      <th></th>\n      <th>id</th>\n      <th>date</th>\n      <th>name</th>\n      <th>weight</th>\n      <th>reps</th>\n    </tr>\n  </thead>\n  <tbody>\n    <tr>\n      <th>22</th>\n      <td>1000019</td>\n      <td>2023-05-05 00:00:00</td>\n      <td>Leg Extensions</td>\n      <td>235</td>\n      <td>15</td>\n    </tr>\n    <tr>\n      <th>23</th>\n      <td>1000020</td>\n      <td>2023-05-05 00:00:00</td>\n      <td>Leg Curls</td>\n      <td>120</td>\n      <td>19</td>\n    </tr>\n    <tr>\n      <th>24</th>\n      <td>1000021</td>\n      <td>2023-05-05 00:00:00</td>\n      <td>Adductor</td>\n      <td>260</td>\n      <td>20</td>\n    </tr>\n    <tr>\n      <th>25</th>\n      <td>1000022</td>\n      <td>2023-05-19 00:00:00</td>\n      <td>Single Leg Calf Press</td>\n      <td>250</td>\n      <td>15</td>\n    </tr>\n    <tr>\n      <th>26</th>\n      <td>1000023</td>\n      <td>2023-05-19 00:00:00</td>\n      <td>Standing Calf Press</td>\n      <td>340</td>\n      <td>20</td>\n    </tr>\n    <tr>\n      <th>27</th>\n      <td>1000024</td>\n      <td>2023-05-19 00:00:00</td>\n      <td>Smith Squat</td>\n      <td>290</td>\n      <td>12</td>\n    </tr>\n    <tr>\n      <th>28</th>\n      <td>1000025</td>\n      <td>2023-05-19 00:00:00</td>\n      <td>Smith Straight Leg Deadlift</td>\n      <td>290</td>\n      <td>10</td>\n    </tr>\n    <tr>\n      <th>29</th>\n      <td>1000026</td>\n      <td>2023-05-19 00:00:00</td>\n      <td>Leg Extensions</td>\n      <td>260</td>\n      <td>12</td>\n    </tr>\n    <tr>\n      <th>30</th>\n      <td>1000027</td>\n      <td>2023-05-19 00:00:00</td>\n      <td>Leg Curls</td>\n      <td>150</td>\n      <td>8</td>\n    </tr>\n    <tr>\n      <th>31</th>\n      <td>1000028</td>\n      <td>2023-05-19 00:00:00</td>\n      <td>Adductor</td>\n      <td>260</td>\n      <td>26</td>\n    </tr>\n  </tbody>\n</table>\n</div>"
     },
     "execution_count": 3,
     "metadata": {},
     "output_type": "execute_result"
    }
   ],
   "execution_count": 3
  },
  {
   "cell_type": "code",
   "execution_count": 6,
   "outputs": [
    {
     "data": {
      "text/plain": "array(['Single Leg Calf Press', 'Standing Calf Press', 'Smith Squat',\n       'Oblique Crunch Machine', 'Smith Straight Leg Deadlift',\n       'Leg Extensions', 'Leg Curls', 'Adductor'], dtype=object)"
     },
     "execution_count": 6,
     "metadata": {},
     "output_type": "execute_result"
    }
   ],
   "source": [
    "# Set names to a list of unique exercise names\n",
    "names = current_exercises['name'].unique()\n",
    "names"
   ],
   "metadata": {
    "collapsed": false,
    "ExecuteTime": {
     "end_time": "2023-06-17T03:15:07.693676Z",
     "start_time": "2023-06-17T03:15:07.689545Z"
    }
   }
  },
  {
   "cell_type": "markdown",
   "source": [
    "Next we set the date that we wish to update."
   ],
   "metadata": {
    "collapsed": false,
    "ExecuteTime": {
     "end_time": "2023-06-07T04:12:31.932755Z",
     "start_time": "2023-06-07T04:12:31.928768Z"
    }
   },
   "outputs": [
    {
     "data": {
      "text/plain": "array(['Single Leg Calf Press', 'Standing Calf Press', 'Smith Squat',\n       'Oblique Crunch Machine', 'Smith Straight Leg Deadlift',\n       'Leg Extensions', 'Leg Curls', 'Adductor'], dtype=object)"
     },
     "execution_count": 5,
     "metadata": {},
     "output_type": "execute_result"
    }
   ],
   "execution_count": 5
  },
  {
   "cell_type": "code",
   "execution_count": 7,
   "outputs": [
    {
     "data": {
      "text/plain": "'2023-06-16 00:00:00'"
     },
     "execution_count": 7,
     "metadata": {},
     "output_type": "execute_result"
    }
   ],
   "source": [
    "day_of_month = input(\"Enter the day of the month: DD\")\n",
    "date = f\"2023-06-{day_of_month} 00:00:00\"\n",
    "date"
   ],
   "metadata": {
    "collapsed": false,
    "ExecuteTime": {
     "end_time": "2023-06-17T03:15:14.086558Z",
     "start_time": "2023-06-17T03:15:11.637168Z"
    }
   }
  },
  {
   "cell_type": "markdown",
   "source": [
    "### Execute the entry insertion algorithm"
   ],
   "metadata": {
    "collapsed": false
   }
  },
  {
   "cell_type": "code",
   "execution_count": 8,
   "outputs": [
    {
     "data": {
      "text/plain": "            id       date                         name weight reps\nindex                                                             \n48     1000049 2023-06-16        Single Leg Calf Press    295    8\n49     1000050 2023-06-16          Standing Calf Press    340   18\n50     1000051 2023-06-16                  Smith Squat    340   10\n51     1000052 2023-06-16       Oblique Crunch Machine    170   13\n52     1000053 2023-06-16  Smith Straight Leg Deadlift    340    9\n53     1000054 2023-06-16               Leg Extensions    130   12\n54     1000055 2023-06-16                    Leg Curls    135   13\n55     1000056 2023-06-16                     Adductor    260   18",
      "text/html": "<div>\n<style scoped>\n    .dataframe tbody tr th:only-of-type {\n        vertical-align: middle;\n    }\n\n    .dataframe tbody tr th {\n        vertical-align: top;\n    }\n\n    .dataframe thead th {\n        text-align: right;\n    }\n</style>\n<table border=\"1\" class=\"dataframe\">\n  <thead>\n    <tr style=\"text-align: right;\">\n      <th></th>\n      <th>id</th>\n      <th>date</th>\n      <th>name</th>\n      <th>weight</th>\n      <th>reps</th>\n    </tr>\n    <tr>\n      <th>index</th>\n      <th></th>\n      <th></th>\n      <th></th>\n      <th></th>\n      <th></th>\n    </tr>\n  </thead>\n  <tbody>\n    <tr>\n      <th>48</th>\n      <td>1000049</td>\n      <td>2023-06-16</td>\n      <td>Single Leg Calf Press</td>\n      <td>295</td>\n      <td>8</td>\n    </tr>\n    <tr>\n      <th>49</th>\n      <td>1000050</td>\n      <td>2023-06-16</td>\n      <td>Standing Calf Press</td>\n      <td>340</td>\n      <td>18</td>\n    </tr>\n    <tr>\n      <th>50</th>\n      <td>1000051</td>\n      <td>2023-06-16</td>\n      <td>Smith Squat</td>\n      <td>340</td>\n      <td>10</td>\n    </tr>\n    <tr>\n      <th>51</th>\n      <td>1000052</td>\n      <td>2023-06-16</td>\n      <td>Oblique Crunch Machine</td>\n      <td>170</td>\n      <td>13</td>\n    </tr>\n    <tr>\n      <th>52</th>\n      <td>1000053</td>\n      <td>2023-06-16</td>\n      <td>Smith Straight Leg Deadlift</td>\n      <td>340</td>\n      <td>9</td>\n    </tr>\n    <tr>\n      <th>53</th>\n      <td>1000054</td>\n      <td>2023-06-16</td>\n      <td>Leg Extensions</td>\n      <td>130</td>\n      <td>12</td>\n    </tr>\n    <tr>\n      <th>54</th>\n      <td>1000055</td>\n      <td>2023-06-16</td>\n      <td>Leg Curls</td>\n      <td>135</td>\n      <td>13</td>\n    </tr>\n    <tr>\n      <th>55</th>\n      <td>1000056</td>\n      <td>2023-06-16</td>\n      <td>Adductor</td>\n      <td>260</td>\n      <td>18</td>\n    </tr>\n  </tbody>\n</table>\n</div>"
     },
     "execution_count": 8,
     "metadata": {},
     "output_type": "execute_result"
    }
   ],
   "source": [
    "for i in range(0, len(names)):\n",
    "\n",
    "  \"\"\" This algorithm sets the elements of a new entry with user input and then inserts it into the\n",
    "  database table for each name. Id is calculated by last index.\"\"\"\n",
    "\n",
    "  weight = input(f\"Enter Weight for {names[i]}: \")\n",
    "  reps = input(f\"Enter Reps for {names[i]}: \")\n",
    "  e_id = current_exercises.iloc[-1, 0] + 1\n",
    "  new_entry = [e_id, date, names[i], weight, reps]\n",
    "  current_exercises.loc[len(current_exercises)] = new_entry\n",
    "\n",
    "# Format the string dates to datetime.\n",
    "current_exercises['date'] = pd.to_datetime(current_exercises['date'])\n",
    "current_exercises.tail(len(names))"
   ],
   "metadata": {
    "collapsed": false,
    "ExecuteTime": {
     "end_time": "2023-06-17T03:16:56.575478Z",
     "start_time": "2023-06-17T03:15:18.519151Z"
    }
   }
  },
  {
   "cell_type": "markdown",
   "source": [
    "### Data Manipulation\n",
    "This section exists for convenience if quick changes need to be made to the entries."
   ],
   "metadata": {
    "collapsed": false
   }
  },
  {
   "cell_type": "code",
   "execution_count": null,
   "outputs": [],
   "source": [
    "# Update a single item by id and column\n",
    "# current_exercises.loc[39, 'weight'] = 290\n",
    "# Drop last row\n",
    "# current_exercises.drop(index=current_exercises.index[-1], axis=0, inplace=True)\n",
    "current_exercises.tail(10)"
   ],
   "metadata": {
    "collapsed": false
   }
  },
  {
   "cell_type": "markdown",
   "source": [
    "### Update SQL\n",
    "Now that we have updated our table, we will export the new dataset to SQL. As a precaution, I always\n",
    "back up the new dataset to CSV through the SQL workbench in the event that an older version is required\n",
    "in the future."
   ],
   "metadata": {
    "collapsed": false
   }
  },
  {
   "cell_type": "code",
   "execution_count": 9,
   "outputs": [
    {
     "data": {
      "text/plain": "56"
     },
     "execution_count": 9,
     "metadata": {},
     "output_type": "execute_result"
    }
   ],
   "source": [
    "# Export new chart to database with a date stamp\n",
    "current_exercises.to_sql('leg_day', sql_connection, if_exists='replace')\n",
    "\n",
    "# TODO: MANUALLY REVIEW AND EXPORT NEW TABLE TO CSV AS BACKUP!!"
   ],
   "metadata": {
    "collapsed": false,
    "ExecuteTime": {
     "end_time": "2023-06-17T03:17:08.632155Z",
     "start_time": "2023-06-17T03:17:08.620058Z"
    }
   }
  },
  {
   "cell_type": "markdown",
   "source": [
    "## Step 5: Calculations\n",
    "Since I rotate my weights and reps each weak based on performance, we will use the volume equation divided by\n",
    "the square root of the product of `weight` and `reps` to get the normalized volume output.\n",
    "\n",
    "$$ Volume = \\frac{weight \\cdot reps \\cdot$ sets}{ \\sqrt{weight \\cdot reps}} $$\n",
    "\n",
    "For our purposes the sets variable will always be 1 because only one working set is performed."
   ],
   "metadata": {
    "collapsed": false
   }
  },
  {
   "cell_type": "code",
   "execution_count": 10,
   "outputs": [
    {
     "data": {
      "text/plain": "            id       date                         name weight reps     volume\nindex                                                                        \n0      1000001 2023-04-14        Single Leg Calf Press    250    8  44.721360\n1      1000002 2023-04-14          Standing Calf Press    475   10  68.920244\n2      1000003 2023-04-14                  Smith Squat    380   12  67.527772\n3      1000004 2023-04-14       Oblique Crunch Machine    170   20  58.309519\n4      1000005 2023-04-14  Smith Straight Leg Deadlift    330    8  51.380930",
      "text/html": "<div>\n<style scoped>\n    .dataframe tbody tr th:only-of-type {\n        vertical-align: middle;\n    }\n\n    .dataframe tbody tr th {\n        vertical-align: top;\n    }\n\n    .dataframe thead th {\n        text-align: right;\n    }\n</style>\n<table border=\"1\" class=\"dataframe\">\n  <thead>\n    <tr style=\"text-align: right;\">\n      <th></th>\n      <th>id</th>\n      <th>date</th>\n      <th>name</th>\n      <th>weight</th>\n      <th>reps</th>\n      <th>volume</th>\n    </tr>\n    <tr>\n      <th>index</th>\n      <th></th>\n      <th></th>\n      <th></th>\n      <th></th>\n      <th></th>\n      <th></th>\n    </tr>\n  </thead>\n  <tbody>\n    <tr>\n      <th>0</th>\n      <td>1000001</td>\n      <td>2023-04-14</td>\n      <td>Single Leg Calf Press</td>\n      <td>250</td>\n      <td>8</td>\n      <td>44.721360</td>\n    </tr>\n    <tr>\n      <th>1</th>\n      <td>1000002</td>\n      <td>2023-04-14</td>\n      <td>Standing Calf Press</td>\n      <td>475</td>\n      <td>10</td>\n      <td>68.920244</td>\n    </tr>\n    <tr>\n      <th>2</th>\n      <td>1000003</td>\n      <td>2023-04-14</td>\n      <td>Smith Squat</td>\n      <td>380</td>\n      <td>12</td>\n      <td>67.527772</td>\n    </tr>\n    <tr>\n      <th>3</th>\n      <td>1000004</td>\n      <td>2023-04-14</td>\n      <td>Oblique Crunch Machine</td>\n      <td>170</td>\n      <td>20</td>\n      <td>58.309519</td>\n    </tr>\n    <tr>\n      <th>4</th>\n      <td>1000005</td>\n      <td>2023-04-14</td>\n      <td>Smith Straight Leg Deadlift</td>\n      <td>330</td>\n      <td>8</td>\n      <td>51.380930</td>\n    </tr>\n  </tbody>\n</table>\n</div>"
     },
     "execution_count": 10,
     "metadata": {},
     "output_type": "execute_result"
    }
   ],
   "source": [
    "current_exercises['volume'] = (current_exercises['weight'].astype(int) * current_exercises['reps'].astype(int)) / np.sqrt(current_exercises['weight'].astype(int) * current_exercises['reps'].astype(int))\n",
    "current_exercises.head()"
   ],
   "metadata": {
    "collapsed": false,
    "ExecuteTime": {
     "end_time": "2023-06-17T03:17:19.480975Z",
     "start_time": "2023-06-17T03:17:19.478172Z"
    }
   }
  },
  {
   "cell_type": "markdown",
   "source": [
    "##### Divide the exercises into two groups `low_volume` and `high_volume`."
   ],
   "metadata": {
    "collapsed": false
   }
  },
  {
   "cell_type": "markdown",
   "source": [
    "## Step 6: Visualization\n",
    "Next, plot the volume trend for the exercise."
   ],
   "metadata": {
    "collapsed": false
   }
  },
  {
   "cell_type": "code",
   "execution_count": 12,
   "outputs": [
    {
     "data": {
      "application/vnd.plotly.v1+json": {
       "data": [
        {
         "hovertemplate": "Exercise=Single Leg Calf Press<br>Workout Date=%{x}<br>Weight x Reps=%{y}<extra></extra>",
         "legendgroup": "Single Leg Calf Press",
         "line": {
          "color": "#636efa",
          "dash": "solid"
         },
         "marker": {
          "symbol": "circle"
         },
         "mode": "lines+markers",
         "name": "Single Leg Calf Press",
         "orientation": "v",
         "showlegend": true,
         "x": [
          "2023-04-14T00:00:00",
          "2023-04-28T00:00:00",
          "2023-05-05T00:00:00",
          "2023-05-19T00:00:00",
          "2023-06-02T00:00:00",
          "2023-06-09T00:00:00",
          "2023-06-16T00:00:00"
         ],
         "xaxis": "x",
         "y": [
          44.72135954999579,
          55.452682532047085,
          57.445626465380286,
          61.23724356957945,
          60.90976933136424,
          55.49774770204643,
          48.57983120596448
         ],
         "yaxis": "y",
         "type": "scatter",
         "textposition": "top center"
        },
        {
         "hovertemplate": "Exercise=Standing Calf Press<br>Workout Date=%{x}<br>Weight x Reps=%{y}<extra></extra>",
         "legendgroup": "Standing Calf Press",
         "line": {
          "color": "#EF553B",
          "dash": "solid"
         },
         "marker": {
          "symbol": "circle"
         },
         "mode": "lines+markers",
         "name": "Standing Calf Press",
         "orientation": "v",
         "showlegend": true,
         "x": [
          "2023-04-14T00:00:00",
          "2023-04-28T00:00:00",
          "2023-05-05T00:00:00",
          "2023-05-19T00:00:00",
          "2023-06-02T00:00:00",
          "2023-06-09T00:00:00",
          "2023-06-16T00:00:00"
         ],
         "xaxis": "x",
         "y": [
          68.9202437604511,
          68.9202437604511,
          76.15773105863907,
          82.4621125123532,
          72.93833011524187,
          68.77499545619759,
          78.2304288624318
         ],
         "yaxis": "y",
         "type": "scatter",
         "textposition": "top center"
        },
        {
         "hovertemplate": "Exercise=Smith Squat<br>Workout Date=%{x}<br>Weight x Reps=%{y}<extra></extra>",
         "legendgroup": "Smith Squat",
         "line": {
          "color": "#00cc96",
          "dash": "solid"
         },
         "marker": {
          "symbol": "circle"
         },
         "mode": "lines+markers",
         "name": "Smith Squat",
         "orientation": "v",
         "showlegend": true,
         "x": [
          "2023-04-14T00:00:00",
          "2023-04-28T00:00:00",
          "2023-05-05T00:00:00",
          "2023-05-19T00:00:00",
          "2023-06-02T00:00:00",
          "2023-06-09T00:00:00",
          "2023-06-16T00:00:00"
         ],
         "xaxis": "x",
         "y": [
          67.52777206453652,
          70.99295739719538,
          53.103672189407014,
          58.99152481501051,
          48.78524367060187,
          56.480084985771754,
          58.309518948453004
         ],
         "yaxis": "y",
         "type": "scatter",
         "textposition": "top center"
        },
        {
         "hovertemplate": "Exercise=Oblique Crunch Machine<br>Workout Date=%{x}<br>Weight x Reps=%{y}<extra></extra>",
         "legendgroup": "Oblique Crunch Machine",
         "line": {
          "color": "#ab63fa",
          "dash": "solid"
         },
         "marker": {
          "symbol": "circle"
         },
         "mode": "lines+markers",
         "name": "Oblique Crunch Machine",
         "orientation": "v",
         "showlegend": true,
         "x": [
          "2023-04-14T00:00:00",
          "2023-04-28T00:00:00",
          "2023-05-05T00:00:00",
          "2023-05-19T00:00:00",
          "2023-06-02T00:00:00",
          "2023-06-09T00:00:00",
          "2023-06-16T00:00:00"
         ],
         "xaxis": "x",
         "y": [
          58.309518948453004,
          58.309518948453004,
          58.309518948453004,
          63.87487769068525,
          63.87487769068525,
          45.166359162544865,
          47.01063709417263
         ],
         "yaxis": "y",
         "type": "scatter",
         "textposition": "top center"
        },
        {
         "hovertemplate": "Exercise=Smith Straight Leg Deadlift<br>Workout Date=%{x}<br>Weight x Reps=%{y}<extra></extra>",
         "legendgroup": "Smith Straight Leg Deadlift",
         "line": {
          "color": "#FFA15A",
          "dash": "solid"
         },
         "marker": {
          "symbol": "circle"
         },
         "mode": "lines+markers",
         "name": "Smith Straight Leg Deadlift",
         "orientation": "v",
         "showlegend": true,
         "x": [
          "2023-04-14T00:00:00",
          "2023-04-28T00:00:00",
          "2023-05-05T00:00:00",
          "2023-05-19T00:00:00",
          "2023-06-02T00:00:00",
          "2023-06-09T00:00:00",
          "2023-06-16T00:00:00"
         ],
         "xaxis": "x",
         "y": [
          51.38093031466052,
          58.99152481501051,
          66.48308055437865,
          53.85164807134504,
          52.153619241621186,
          56.480084985771754,
          55.31726674375732
         ],
         "yaxis": "y",
         "type": "scatter",
         "textposition": "top center"
        },
        {
         "hovertemplate": "Exercise=Leg Extensions<br>Workout Date=%{x}<br>Weight x Reps=%{y}<extra></extra>",
         "legendgroup": "Leg Extensions",
         "line": {
          "color": "#19d3f3",
          "dash": "solid"
         },
         "marker": {
          "symbol": "circle"
         },
         "mode": "lines+markers",
         "name": "Leg Extensions",
         "orientation": "v",
         "showlegend": true,
         "x": [
          "2023-04-14T00:00:00",
          "2023-04-28T00:00:00",
          "2023-05-05T00:00:00",
          "2023-05-19T00:00:00",
          "2023-06-02T00:00:00",
          "2023-06-09T00:00:00",
          "2023-06-16T00:00:00"
         ],
         "xaxis": "x",
         "y": [
          57.445626465380286,
          57.445626465380286,
          59.37171043518959,
          55.85696017507577,
          36.05551275463989,
          37.14835124201342,
          39.496835316263
         ],
         "yaxis": "y",
         "type": "scatter",
         "textposition": "top center"
        },
        {
         "hovertemplate": "Exercise=Leg Curls<br>Workout Date=%{x}<br>Weight x Reps=%{y}<extra></extra>",
         "legendgroup": "Leg Curls",
         "line": {
          "color": "#FF6692",
          "dash": "solid"
         },
         "marker": {
          "symbol": "circle"
         },
         "mode": "lines+markers",
         "name": "Leg Curls",
         "orientation": "v",
         "showlegend": true,
         "x": [
          "2023-04-14T00:00:00",
          "2023-04-28T00:00:00",
          "2023-05-05T00:00:00",
          "2023-05-19T00:00:00",
          "2023-06-02T00:00:00",
          "2023-06-09T00:00:00",
          "2023-06-16T00:00:00"
         ],
         "xaxis": "x",
         "y": [
          42.60281680828158,
          26.832815729997474,
          47.749345545253284,
          34.64101615137754,
          48.98979485566356,
          41.892720131306824,
          41.892720131306824
         ],
         "yaxis": "y",
         "type": "scatter",
         "textposition": "top center"
        },
        {
         "hovertemplate": "Exercise=Adductor<br>Workout Date=%{x}<br>Weight x Reps=%{y}<extra></extra>",
         "legendgroup": "Adductor",
         "line": {
          "color": "#B6E880",
          "dash": "solid"
         },
         "marker": {
          "symbol": "circle"
         },
         "mode": "lines+markers",
         "name": "Adductor",
         "orientation": "v",
         "showlegend": true,
         "x": [
          "2023-04-14T00:00:00",
          "2023-04-28T00:00:00",
          "2023-05-05T00:00:00",
          "2023-05-19T00:00:00",
          "2023-06-02T00:00:00",
          "2023-06-09T00:00:00",
          "2023-06-16T00:00:00"
         ],
         "xaxis": "x",
         "y": [
          68.41052550594827,
          68.41052550594827,
          72.11102550927978,
          82.21921916437786,
          68.41052550594827,
          58.13776741499453,
          68.41052550594827
         ],
         "yaxis": "y",
         "type": "scatter",
         "textposition": "top center"
        }
       ],
       "layout": {
        "template": {
         "data": {
          "histogram2dcontour": [
           {
            "type": "histogram2dcontour",
            "colorbar": {
             "outlinewidth": 0,
             "ticks": ""
            },
            "colorscale": [
             [
              0.0,
              "#0d0887"
             ],
             [
              0.1111111111111111,
              "#46039f"
             ],
             [
              0.2222222222222222,
              "#7201a8"
             ],
             [
              0.3333333333333333,
              "#9c179e"
             ],
             [
              0.4444444444444444,
              "#bd3786"
             ],
             [
              0.5555555555555556,
              "#d8576b"
             ],
             [
              0.6666666666666666,
              "#ed7953"
             ],
             [
              0.7777777777777778,
              "#fb9f3a"
             ],
             [
              0.8888888888888888,
              "#fdca26"
             ],
             [
              1.0,
              "#f0f921"
             ]
            ]
           }
          ],
          "choropleth": [
           {
            "type": "choropleth",
            "colorbar": {
             "outlinewidth": 0,
             "ticks": ""
            }
           }
          ],
          "histogram2d": [
           {
            "type": "histogram2d",
            "colorbar": {
             "outlinewidth": 0,
             "ticks": ""
            },
            "colorscale": [
             [
              0.0,
              "#0d0887"
             ],
             [
              0.1111111111111111,
              "#46039f"
             ],
             [
              0.2222222222222222,
              "#7201a8"
             ],
             [
              0.3333333333333333,
              "#9c179e"
             ],
             [
              0.4444444444444444,
              "#bd3786"
             ],
             [
              0.5555555555555556,
              "#d8576b"
             ],
             [
              0.6666666666666666,
              "#ed7953"
             ],
             [
              0.7777777777777778,
              "#fb9f3a"
             ],
             [
              0.8888888888888888,
              "#fdca26"
             ],
             [
              1.0,
              "#f0f921"
             ]
            ]
           }
          ],
          "heatmap": [
           {
            "type": "heatmap",
            "colorbar": {
             "outlinewidth": 0,
             "ticks": ""
            },
            "colorscale": [
             [
              0.0,
              "#0d0887"
             ],
             [
              0.1111111111111111,
              "#46039f"
             ],
             [
              0.2222222222222222,
              "#7201a8"
             ],
             [
              0.3333333333333333,
              "#9c179e"
             ],
             [
              0.4444444444444444,
              "#bd3786"
             ],
             [
              0.5555555555555556,
              "#d8576b"
             ],
             [
              0.6666666666666666,
              "#ed7953"
             ],
             [
              0.7777777777777778,
              "#fb9f3a"
             ],
             [
              0.8888888888888888,
              "#fdca26"
             ],
             [
              1.0,
              "#f0f921"
             ]
            ]
           }
          ],
          "heatmapgl": [
           {
            "type": "heatmapgl",
            "colorbar": {
             "outlinewidth": 0,
             "ticks": ""
            },
            "colorscale": [
             [
              0.0,
              "#0d0887"
             ],
             [
              0.1111111111111111,
              "#46039f"
             ],
             [
              0.2222222222222222,
              "#7201a8"
             ],
             [
              0.3333333333333333,
              "#9c179e"
             ],
             [
              0.4444444444444444,
              "#bd3786"
             ],
             [
              0.5555555555555556,
              "#d8576b"
             ],
             [
              0.6666666666666666,
              "#ed7953"
             ],
             [
              0.7777777777777778,
              "#fb9f3a"
             ],
             [
              0.8888888888888888,
              "#fdca26"
             ],
             [
              1.0,
              "#f0f921"
             ]
            ]
           }
          ],
          "contourcarpet": [
           {
            "type": "contourcarpet",
            "colorbar": {
             "outlinewidth": 0,
             "ticks": ""
            }
           }
          ],
          "contour": [
           {
            "type": "contour",
            "colorbar": {
             "outlinewidth": 0,
             "ticks": ""
            },
            "colorscale": [
             [
              0.0,
              "#0d0887"
             ],
             [
              0.1111111111111111,
              "#46039f"
             ],
             [
              0.2222222222222222,
              "#7201a8"
             ],
             [
              0.3333333333333333,
              "#9c179e"
             ],
             [
              0.4444444444444444,
              "#bd3786"
             ],
             [
              0.5555555555555556,
              "#d8576b"
             ],
             [
              0.6666666666666666,
              "#ed7953"
             ],
             [
              0.7777777777777778,
              "#fb9f3a"
             ],
             [
              0.8888888888888888,
              "#fdca26"
             ],
             [
              1.0,
              "#f0f921"
             ]
            ]
           }
          ],
          "surface": [
           {
            "type": "surface",
            "colorbar": {
             "outlinewidth": 0,
             "ticks": ""
            },
            "colorscale": [
             [
              0.0,
              "#0d0887"
             ],
             [
              0.1111111111111111,
              "#46039f"
             ],
             [
              0.2222222222222222,
              "#7201a8"
             ],
             [
              0.3333333333333333,
              "#9c179e"
             ],
             [
              0.4444444444444444,
              "#bd3786"
             ],
             [
              0.5555555555555556,
              "#d8576b"
             ],
             [
              0.6666666666666666,
              "#ed7953"
             ],
             [
              0.7777777777777778,
              "#fb9f3a"
             ],
             [
              0.8888888888888888,
              "#fdca26"
             ],
             [
              1.0,
              "#f0f921"
             ]
            ]
           }
          ],
          "mesh3d": [
           {
            "type": "mesh3d",
            "colorbar": {
             "outlinewidth": 0,
             "ticks": ""
            }
           }
          ],
          "scatter": [
           {
            "marker": {
             "line": {
              "color": "#283442"
             }
            },
            "type": "scatter"
           }
          ],
          "parcoords": [
           {
            "type": "parcoords",
            "line": {
             "colorbar": {
              "outlinewidth": 0,
              "ticks": ""
             }
            }
           }
          ],
          "scatterpolargl": [
           {
            "type": "scatterpolargl",
            "marker": {
             "colorbar": {
              "outlinewidth": 0,
              "ticks": ""
             }
            }
           }
          ],
          "bar": [
           {
            "error_x": {
             "color": "#f2f5fa"
            },
            "error_y": {
             "color": "#f2f5fa"
            },
            "marker": {
             "line": {
              "color": "rgb(17,17,17)",
              "width": 0.5
             },
             "pattern": {
              "fillmode": "overlay",
              "size": 10,
              "solidity": 0.2
             }
            },
            "type": "bar"
           }
          ],
          "scattergeo": [
           {
            "type": "scattergeo",
            "marker": {
             "colorbar": {
              "outlinewidth": 0,
              "ticks": ""
             }
            }
           }
          ],
          "scatterpolar": [
           {
            "type": "scatterpolar",
            "marker": {
             "colorbar": {
              "outlinewidth": 0,
              "ticks": ""
             }
            }
           }
          ],
          "histogram": [
           {
            "marker": {
             "pattern": {
              "fillmode": "overlay",
              "size": 10,
              "solidity": 0.2
             }
            },
            "type": "histogram"
           }
          ],
          "scattergl": [
           {
            "marker": {
             "line": {
              "color": "#283442"
             }
            },
            "type": "scattergl"
           }
          ],
          "scatter3d": [
           {
            "type": "scatter3d",
            "line": {
             "colorbar": {
              "outlinewidth": 0,
              "ticks": ""
             }
            },
            "marker": {
             "colorbar": {
              "outlinewidth": 0,
              "ticks": ""
             }
            }
           }
          ],
          "scattermapbox": [
           {
            "type": "scattermapbox",
            "marker": {
             "colorbar": {
              "outlinewidth": 0,
              "ticks": ""
             }
            }
           }
          ],
          "scatterternary": [
           {
            "type": "scatterternary",
            "marker": {
             "colorbar": {
              "outlinewidth": 0,
              "ticks": ""
             }
            }
           }
          ],
          "scattercarpet": [
           {
            "type": "scattercarpet",
            "marker": {
             "colorbar": {
              "outlinewidth": 0,
              "ticks": ""
             }
            }
           }
          ],
          "carpet": [
           {
            "aaxis": {
             "endlinecolor": "#A2B1C6",
             "gridcolor": "#506784",
             "linecolor": "#506784",
             "minorgridcolor": "#506784",
             "startlinecolor": "#A2B1C6"
            },
            "baxis": {
             "endlinecolor": "#A2B1C6",
             "gridcolor": "#506784",
             "linecolor": "#506784",
             "minorgridcolor": "#506784",
             "startlinecolor": "#A2B1C6"
            },
            "type": "carpet"
           }
          ],
          "table": [
           {
            "cells": {
             "fill": {
              "color": "#506784"
             },
             "line": {
              "color": "rgb(17,17,17)"
             }
            },
            "header": {
             "fill": {
              "color": "#2a3f5f"
             },
             "line": {
              "color": "rgb(17,17,17)"
             }
            },
            "type": "table"
           }
          ],
          "barpolar": [
           {
            "marker": {
             "line": {
              "color": "rgb(17,17,17)",
              "width": 0.5
             },
             "pattern": {
              "fillmode": "overlay",
              "size": 10,
              "solidity": 0.2
             }
            },
            "type": "barpolar"
           }
          ],
          "pie": [
           {
            "automargin": true,
            "type": "pie"
           }
          ]
         },
         "layout": {
          "autotypenumbers": "strict",
          "colorway": [
           "#636efa",
           "#EF553B",
           "#00cc96",
           "#ab63fa",
           "#FFA15A",
           "#19d3f3",
           "#FF6692",
           "#B6E880",
           "#FF97FF",
           "#FECB52"
          ],
          "font": {
           "color": "#f2f5fa"
          },
          "hovermode": "closest",
          "hoverlabel": {
           "align": "left"
          },
          "paper_bgcolor": "rgb(17,17,17)",
          "plot_bgcolor": "rgb(17,17,17)",
          "polar": {
           "bgcolor": "rgb(17,17,17)",
           "angularaxis": {
            "gridcolor": "#506784",
            "linecolor": "#506784",
            "ticks": ""
           },
           "radialaxis": {
            "gridcolor": "#506784",
            "linecolor": "#506784",
            "ticks": ""
           }
          },
          "ternary": {
           "bgcolor": "rgb(17,17,17)",
           "aaxis": {
            "gridcolor": "#506784",
            "linecolor": "#506784",
            "ticks": ""
           },
           "baxis": {
            "gridcolor": "#506784",
            "linecolor": "#506784",
            "ticks": ""
           },
           "caxis": {
            "gridcolor": "#506784",
            "linecolor": "#506784",
            "ticks": ""
           }
          },
          "coloraxis": {
           "colorbar": {
            "outlinewidth": 0,
            "ticks": ""
           }
          },
          "colorscale": {
           "sequential": [
            [
             0.0,
             "#0d0887"
            ],
            [
             0.1111111111111111,
             "#46039f"
            ],
            [
             0.2222222222222222,
             "#7201a8"
            ],
            [
             0.3333333333333333,
             "#9c179e"
            ],
            [
             0.4444444444444444,
             "#bd3786"
            ],
            [
             0.5555555555555556,
             "#d8576b"
            ],
            [
             0.6666666666666666,
             "#ed7953"
            ],
            [
             0.7777777777777778,
             "#fb9f3a"
            ],
            [
             0.8888888888888888,
             "#fdca26"
            ],
            [
             1.0,
             "#f0f921"
            ]
           ],
           "sequentialminus": [
            [
             0.0,
             "#0d0887"
            ],
            [
             0.1111111111111111,
             "#46039f"
            ],
            [
             0.2222222222222222,
             "#7201a8"
            ],
            [
             0.3333333333333333,
             "#9c179e"
            ],
            [
             0.4444444444444444,
             "#bd3786"
            ],
            [
             0.5555555555555556,
             "#d8576b"
            ],
            [
             0.6666666666666666,
             "#ed7953"
            ],
            [
             0.7777777777777778,
             "#fb9f3a"
            ],
            [
             0.8888888888888888,
             "#fdca26"
            ],
            [
             1.0,
             "#f0f921"
            ]
           ],
           "diverging": [
            [
             0,
             "#8e0152"
            ],
            [
             0.1,
             "#c51b7d"
            ],
            [
             0.2,
             "#de77ae"
            ],
            [
             0.3,
             "#f1b6da"
            ],
            [
             0.4,
             "#fde0ef"
            ],
            [
             0.5,
             "#f7f7f7"
            ],
            [
             0.6,
             "#e6f5d0"
            ],
            [
             0.7,
             "#b8e186"
            ],
            [
             0.8,
             "#7fbc41"
            ],
            [
             0.9,
             "#4d9221"
            ],
            [
             1,
             "#276419"
            ]
           ]
          },
          "xaxis": {
           "gridcolor": "#283442",
           "linecolor": "#506784",
           "ticks": "",
           "title": {
            "standoff": 15
           },
           "zerolinecolor": "#283442",
           "automargin": true,
           "zerolinewidth": 2
          },
          "yaxis": {
           "gridcolor": "#283442",
           "linecolor": "#506784",
           "ticks": "",
           "title": {
            "standoff": 15
           },
           "zerolinecolor": "#283442",
           "automargin": true,
           "zerolinewidth": 2
          },
          "scene": {
           "xaxis": {
            "backgroundcolor": "rgb(17,17,17)",
            "gridcolor": "#506784",
            "linecolor": "#506784",
            "showbackground": true,
            "ticks": "",
            "zerolinecolor": "#C8D4E3",
            "gridwidth": 2
           },
           "yaxis": {
            "backgroundcolor": "rgb(17,17,17)",
            "gridcolor": "#506784",
            "linecolor": "#506784",
            "showbackground": true,
            "ticks": "",
            "zerolinecolor": "#C8D4E3",
            "gridwidth": 2
           },
           "zaxis": {
            "backgroundcolor": "rgb(17,17,17)",
            "gridcolor": "#506784",
            "linecolor": "#506784",
            "showbackground": true,
            "ticks": "",
            "zerolinecolor": "#C8D4E3",
            "gridwidth": 2
           }
          },
          "shapedefaults": {
           "line": {
            "color": "#f2f5fa"
           }
          },
          "annotationdefaults": {
           "arrowcolor": "#f2f5fa",
           "arrowhead": 0,
           "arrowwidth": 1
          },
          "geo": {
           "bgcolor": "rgb(17,17,17)",
           "landcolor": "rgb(17,17,17)",
           "subunitcolor": "#506784",
           "showland": true,
           "showlakes": true,
           "lakecolor": "rgb(17,17,17)"
          },
          "title": {
           "x": 0.05
          },
          "updatemenudefaults": {
           "bgcolor": "#506784",
           "borderwidth": 0
          },
          "sliderdefaults": {
           "bgcolor": "#C8D4E3",
           "borderwidth": 1,
           "bordercolor": "rgb(17,17,17)",
           "tickwidth": 0
          },
          "mapbox": {
           "style": "dark"
          }
         }
        },
        "xaxis": {
         "anchor": "y",
         "domain": [
          0.0,
          1.0
         ],
         "title": {
          "text": "Workout Date"
         },
         "showgrid": false,
         "zeroline": false
        },
        "yaxis": {
         "anchor": "x",
         "domain": [
          0.0,
          1.0
         ],
         "title": {
          "text": "Weight x Reps"
         },
         "showgrid": false,
         "zeroline": false
        },
        "legend": {
         "title": {
          "text": "Exercise"
         },
         "tracegroupgap": 0
        },
        "title": {
         "text": "Exercise Volume (Normalized)"
        },
        "height": 600,
        "width": 800
       },
       "config": {
        "plotlyServerURL": "https://plot.ly"
       }
      },
      "text/html": "<div>                            <div id=\"1bf93377-1529-4bf5-a269-d18c50c6f596\" class=\"plotly-graph-div\" style=\"height:600px; width:800px;\"></div>            <script type=\"text/javascript\">                require([\"plotly\"], function(Plotly) {                    window.PLOTLYENV=window.PLOTLYENV || {};                                    if (document.getElementById(\"1bf93377-1529-4bf5-a269-d18c50c6f596\")) {                    Plotly.newPlot(                        \"1bf93377-1529-4bf5-a269-d18c50c6f596\",                        [{\"hovertemplate\":\"Exercise=Single Leg Calf Press<br>Workout Date=%{x}<br>Weight x Reps=%{y}<extra></extra>\",\"legendgroup\":\"Single Leg Calf Press\",\"line\":{\"color\":\"#636efa\",\"dash\":\"solid\"},\"marker\":{\"symbol\":\"circle\"},\"mode\":\"lines+markers\",\"name\":\"Single Leg Calf Press\",\"orientation\":\"v\",\"showlegend\":true,\"x\":[\"2023-04-14T00:00:00\",\"2023-04-28T00:00:00\",\"2023-05-05T00:00:00\",\"2023-05-19T00:00:00\",\"2023-06-02T00:00:00\",\"2023-06-09T00:00:00\",\"2023-06-16T00:00:00\"],\"xaxis\":\"x\",\"y\":[44.72135954999579,55.452682532047085,57.445626465380286,61.23724356957945,60.90976933136424,55.49774770204643,48.57983120596448],\"yaxis\":\"y\",\"type\":\"scatter\",\"textposition\":\"top center\"},{\"hovertemplate\":\"Exercise=Standing Calf Press<br>Workout Date=%{x}<br>Weight x Reps=%{y}<extra></extra>\",\"legendgroup\":\"Standing Calf Press\",\"line\":{\"color\":\"#EF553B\",\"dash\":\"solid\"},\"marker\":{\"symbol\":\"circle\"},\"mode\":\"lines+markers\",\"name\":\"Standing Calf Press\",\"orientation\":\"v\",\"showlegend\":true,\"x\":[\"2023-04-14T00:00:00\",\"2023-04-28T00:00:00\",\"2023-05-05T00:00:00\",\"2023-05-19T00:00:00\",\"2023-06-02T00:00:00\",\"2023-06-09T00:00:00\",\"2023-06-16T00:00:00\"],\"xaxis\":\"x\",\"y\":[68.9202437604511,68.9202437604511,76.15773105863907,82.4621125123532,72.93833011524187,68.77499545619759,78.2304288624318],\"yaxis\":\"y\",\"type\":\"scatter\",\"textposition\":\"top center\"},{\"hovertemplate\":\"Exercise=Smith Squat<br>Workout Date=%{x}<br>Weight x Reps=%{y}<extra></extra>\",\"legendgroup\":\"Smith Squat\",\"line\":{\"color\":\"#00cc96\",\"dash\":\"solid\"},\"marker\":{\"symbol\":\"circle\"},\"mode\":\"lines+markers\",\"name\":\"Smith Squat\",\"orientation\":\"v\",\"showlegend\":true,\"x\":[\"2023-04-14T00:00:00\",\"2023-04-28T00:00:00\",\"2023-05-05T00:00:00\",\"2023-05-19T00:00:00\",\"2023-06-02T00:00:00\",\"2023-06-09T00:00:00\",\"2023-06-16T00:00:00\"],\"xaxis\":\"x\",\"y\":[67.52777206453652,70.99295739719538,53.103672189407014,58.99152481501051,48.78524367060187,56.480084985771754,58.309518948453004],\"yaxis\":\"y\",\"type\":\"scatter\",\"textposition\":\"top center\"},{\"hovertemplate\":\"Exercise=Oblique Crunch Machine<br>Workout Date=%{x}<br>Weight x Reps=%{y}<extra></extra>\",\"legendgroup\":\"Oblique Crunch Machine\",\"line\":{\"color\":\"#ab63fa\",\"dash\":\"solid\"},\"marker\":{\"symbol\":\"circle\"},\"mode\":\"lines+markers\",\"name\":\"Oblique Crunch Machine\",\"orientation\":\"v\",\"showlegend\":true,\"x\":[\"2023-04-14T00:00:00\",\"2023-04-28T00:00:00\",\"2023-05-05T00:00:00\",\"2023-05-19T00:00:00\",\"2023-06-02T00:00:00\",\"2023-06-09T00:00:00\",\"2023-06-16T00:00:00\"],\"xaxis\":\"x\",\"y\":[58.309518948453004,58.309518948453004,58.309518948453004,63.87487769068525,63.87487769068525,45.166359162544865,47.01063709417263],\"yaxis\":\"y\",\"type\":\"scatter\",\"textposition\":\"top center\"},{\"hovertemplate\":\"Exercise=Smith Straight Leg Deadlift<br>Workout Date=%{x}<br>Weight x Reps=%{y}<extra></extra>\",\"legendgroup\":\"Smith Straight Leg Deadlift\",\"line\":{\"color\":\"#FFA15A\",\"dash\":\"solid\"},\"marker\":{\"symbol\":\"circle\"},\"mode\":\"lines+markers\",\"name\":\"Smith Straight Leg Deadlift\",\"orientation\":\"v\",\"showlegend\":true,\"x\":[\"2023-04-14T00:00:00\",\"2023-04-28T00:00:00\",\"2023-05-05T00:00:00\",\"2023-05-19T00:00:00\",\"2023-06-02T00:00:00\",\"2023-06-09T00:00:00\",\"2023-06-16T00:00:00\"],\"xaxis\":\"x\",\"y\":[51.38093031466052,58.99152481501051,66.48308055437865,53.85164807134504,52.153619241621186,56.480084985771754,55.31726674375732],\"yaxis\":\"y\",\"type\":\"scatter\",\"textposition\":\"top center\"},{\"hovertemplate\":\"Exercise=Leg Extensions<br>Workout Date=%{x}<br>Weight x Reps=%{y}<extra></extra>\",\"legendgroup\":\"Leg Extensions\",\"line\":{\"color\":\"#19d3f3\",\"dash\":\"solid\"},\"marker\":{\"symbol\":\"circle\"},\"mode\":\"lines+markers\",\"name\":\"Leg Extensions\",\"orientation\":\"v\",\"showlegend\":true,\"x\":[\"2023-04-14T00:00:00\",\"2023-04-28T00:00:00\",\"2023-05-05T00:00:00\",\"2023-05-19T00:00:00\",\"2023-06-02T00:00:00\",\"2023-06-09T00:00:00\",\"2023-06-16T00:00:00\"],\"xaxis\":\"x\",\"y\":[57.445626465380286,57.445626465380286,59.37171043518959,55.85696017507577,36.05551275463989,37.14835124201342,39.496835316263],\"yaxis\":\"y\",\"type\":\"scatter\",\"textposition\":\"top center\"},{\"hovertemplate\":\"Exercise=Leg Curls<br>Workout Date=%{x}<br>Weight x Reps=%{y}<extra></extra>\",\"legendgroup\":\"Leg Curls\",\"line\":{\"color\":\"#FF6692\",\"dash\":\"solid\"},\"marker\":{\"symbol\":\"circle\"},\"mode\":\"lines+markers\",\"name\":\"Leg Curls\",\"orientation\":\"v\",\"showlegend\":true,\"x\":[\"2023-04-14T00:00:00\",\"2023-04-28T00:00:00\",\"2023-05-05T00:00:00\",\"2023-05-19T00:00:00\",\"2023-06-02T00:00:00\",\"2023-06-09T00:00:00\",\"2023-06-16T00:00:00\"],\"xaxis\":\"x\",\"y\":[42.60281680828158,26.832815729997474,47.749345545253284,34.64101615137754,48.98979485566356,41.892720131306824,41.892720131306824],\"yaxis\":\"y\",\"type\":\"scatter\",\"textposition\":\"top center\"},{\"hovertemplate\":\"Exercise=Adductor<br>Workout Date=%{x}<br>Weight x Reps=%{y}<extra></extra>\",\"legendgroup\":\"Adductor\",\"line\":{\"color\":\"#B6E880\",\"dash\":\"solid\"},\"marker\":{\"symbol\":\"circle\"},\"mode\":\"lines+markers\",\"name\":\"Adductor\",\"orientation\":\"v\",\"showlegend\":true,\"x\":[\"2023-04-14T00:00:00\",\"2023-04-28T00:00:00\",\"2023-05-05T00:00:00\",\"2023-05-19T00:00:00\",\"2023-06-02T00:00:00\",\"2023-06-09T00:00:00\",\"2023-06-16T00:00:00\"],\"xaxis\":\"x\",\"y\":[68.41052550594827,68.41052550594827,72.11102550927978,82.21921916437786,68.41052550594827,58.13776741499453,68.41052550594827],\"yaxis\":\"y\",\"type\":\"scatter\",\"textposition\":\"top center\"}],                        {\"template\":{\"data\":{\"histogram2dcontour\":[{\"type\":\"histogram2dcontour\",\"colorbar\":{\"outlinewidth\":0,\"ticks\":\"\"},\"colorscale\":[[0.0,\"#0d0887\"],[0.1111111111111111,\"#46039f\"],[0.2222222222222222,\"#7201a8\"],[0.3333333333333333,\"#9c179e\"],[0.4444444444444444,\"#bd3786\"],[0.5555555555555556,\"#d8576b\"],[0.6666666666666666,\"#ed7953\"],[0.7777777777777778,\"#fb9f3a\"],[0.8888888888888888,\"#fdca26\"],[1.0,\"#f0f921\"]]}],\"choropleth\":[{\"type\":\"choropleth\",\"colorbar\":{\"outlinewidth\":0,\"ticks\":\"\"}}],\"histogram2d\":[{\"type\":\"histogram2d\",\"colorbar\":{\"outlinewidth\":0,\"ticks\":\"\"},\"colorscale\":[[0.0,\"#0d0887\"],[0.1111111111111111,\"#46039f\"],[0.2222222222222222,\"#7201a8\"],[0.3333333333333333,\"#9c179e\"],[0.4444444444444444,\"#bd3786\"],[0.5555555555555556,\"#d8576b\"],[0.6666666666666666,\"#ed7953\"],[0.7777777777777778,\"#fb9f3a\"],[0.8888888888888888,\"#fdca26\"],[1.0,\"#f0f921\"]]}],\"heatmap\":[{\"type\":\"heatmap\",\"colorbar\":{\"outlinewidth\":0,\"ticks\":\"\"},\"colorscale\":[[0.0,\"#0d0887\"],[0.1111111111111111,\"#46039f\"],[0.2222222222222222,\"#7201a8\"],[0.3333333333333333,\"#9c179e\"],[0.4444444444444444,\"#bd3786\"],[0.5555555555555556,\"#d8576b\"],[0.6666666666666666,\"#ed7953\"],[0.7777777777777778,\"#fb9f3a\"],[0.8888888888888888,\"#fdca26\"],[1.0,\"#f0f921\"]]}],\"heatmapgl\":[{\"type\":\"heatmapgl\",\"colorbar\":{\"outlinewidth\":0,\"ticks\":\"\"},\"colorscale\":[[0.0,\"#0d0887\"],[0.1111111111111111,\"#46039f\"],[0.2222222222222222,\"#7201a8\"],[0.3333333333333333,\"#9c179e\"],[0.4444444444444444,\"#bd3786\"],[0.5555555555555556,\"#d8576b\"],[0.6666666666666666,\"#ed7953\"],[0.7777777777777778,\"#fb9f3a\"],[0.8888888888888888,\"#fdca26\"],[1.0,\"#f0f921\"]]}],\"contourcarpet\":[{\"type\":\"contourcarpet\",\"colorbar\":{\"outlinewidth\":0,\"ticks\":\"\"}}],\"contour\":[{\"type\":\"contour\",\"colorbar\":{\"outlinewidth\":0,\"ticks\":\"\"},\"colorscale\":[[0.0,\"#0d0887\"],[0.1111111111111111,\"#46039f\"],[0.2222222222222222,\"#7201a8\"],[0.3333333333333333,\"#9c179e\"],[0.4444444444444444,\"#bd3786\"],[0.5555555555555556,\"#d8576b\"],[0.6666666666666666,\"#ed7953\"],[0.7777777777777778,\"#fb9f3a\"],[0.8888888888888888,\"#fdca26\"],[1.0,\"#f0f921\"]]}],\"surface\":[{\"type\":\"surface\",\"colorbar\":{\"outlinewidth\":0,\"ticks\":\"\"},\"colorscale\":[[0.0,\"#0d0887\"],[0.1111111111111111,\"#46039f\"],[0.2222222222222222,\"#7201a8\"],[0.3333333333333333,\"#9c179e\"],[0.4444444444444444,\"#bd3786\"],[0.5555555555555556,\"#d8576b\"],[0.6666666666666666,\"#ed7953\"],[0.7777777777777778,\"#fb9f3a\"],[0.8888888888888888,\"#fdca26\"],[1.0,\"#f0f921\"]]}],\"mesh3d\":[{\"type\":\"mesh3d\",\"colorbar\":{\"outlinewidth\":0,\"ticks\":\"\"}}],\"scatter\":[{\"marker\":{\"line\":{\"color\":\"#283442\"}},\"type\":\"scatter\"}],\"parcoords\":[{\"type\":\"parcoords\",\"line\":{\"colorbar\":{\"outlinewidth\":0,\"ticks\":\"\"}}}],\"scatterpolargl\":[{\"type\":\"scatterpolargl\",\"marker\":{\"colorbar\":{\"outlinewidth\":0,\"ticks\":\"\"}}}],\"bar\":[{\"error_x\":{\"color\":\"#f2f5fa\"},\"error_y\":{\"color\":\"#f2f5fa\"},\"marker\":{\"line\":{\"color\":\"rgb(17,17,17)\",\"width\":0.5},\"pattern\":{\"fillmode\":\"overlay\",\"size\":10,\"solidity\":0.2}},\"type\":\"bar\"}],\"scattergeo\":[{\"type\":\"scattergeo\",\"marker\":{\"colorbar\":{\"outlinewidth\":0,\"ticks\":\"\"}}}],\"scatterpolar\":[{\"type\":\"scatterpolar\",\"marker\":{\"colorbar\":{\"outlinewidth\":0,\"ticks\":\"\"}}}],\"histogram\":[{\"marker\":{\"pattern\":{\"fillmode\":\"overlay\",\"size\":10,\"solidity\":0.2}},\"type\":\"histogram\"}],\"scattergl\":[{\"marker\":{\"line\":{\"color\":\"#283442\"}},\"type\":\"scattergl\"}],\"scatter3d\":[{\"type\":\"scatter3d\",\"line\":{\"colorbar\":{\"outlinewidth\":0,\"ticks\":\"\"}},\"marker\":{\"colorbar\":{\"outlinewidth\":0,\"ticks\":\"\"}}}],\"scattermapbox\":[{\"type\":\"scattermapbox\",\"marker\":{\"colorbar\":{\"outlinewidth\":0,\"ticks\":\"\"}}}],\"scatterternary\":[{\"type\":\"scatterternary\",\"marker\":{\"colorbar\":{\"outlinewidth\":0,\"ticks\":\"\"}}}],\"scattercarpet\":[{\"type\":\"scattercarpet\",\"marker\":{\"colorbar\":{\"outlinewidth\":0,\"ticks\":\"\"}}}],\"carpet\":[{\"aaxis\":{\"endlinecolor\":\"#A2B1C6\",\"gridcolor\":\"#506784\",\"linecolor\":\"#506784\",\"minorgridcolor\":\"#506784\",\"startlinecolor\":\"#A2B1C6\"},\"baxis\":{\"endlinecolor\":\"#A2B1C6\",\"gridcolor\":\"#506784\",\"linecolor\":\"#506784\",\"minorgridcolor\":\"#506784\",\"startlinecolor\":\"#A2B1C6\"},\"type\":\"carpet\"}],\"table\":[{\"cells\":{\"fill\":{\"color\":\"#506784\"},\"line\":{\"color\":\"rgb(17,17,17)\"}},\"header\":{\"fill\":{\"color\":\"#2a3f5f\"},\"line\":{\"color\":\"rgb(17,17,17)\"}},\"type\":\"table\"}],\"barpolar\":[{\"marker\":{\"line\":{\"color\":\"rgb(17,17,17)\",\"width\":0.5},\"pattern\":{\"fillmode\":\"overlay\",\"size\":10,\"solidity\":0.2}},\"type\":\"barpolar\"}],\"pie\":[{\"automargin\":true,\"type\":\"pie\"}]},\"layout\":{\"autotypenumbers\":\"strict\",\"colorway\":[\"#636efa\",\"#EF553B\",\"#00cc96\",\"#ab63fa\",\"#FFA15A\",\"#19d3f3\",\"#FF6692\",\"#B6E880\",\"#FF97FF\",\"#FECB52\"],\"font\":{\"color\":\"#f2f5fa\"},\"hovermode\":\"closest\",\"hoverlabel\":{\"align\":\"left\"},\"paper_bgcolor\":\"rgb(17,17,17)\",\"plot_bgcolor\":\"rgb(17,17,17)\",\"polar\":{\"bgcolor\":\"rgb(17,17,17)\",\"angularaxis\":{\"gridcolor\":\"#506784\",\"linecolor\":\"#506784\",\"ticks\":\"\"},\"radialaxis\":{\"gridcolor\":\"#506784\",\"linecolor\":\"#506784\",\"ticks\":\"\"}},\"ternary\":{\"bgcolor\":\"rgb(17,17,17)\",\"aaxis\":{\"gridcolor\":\"#506784\",\"linecolor\":\"#506784\",\"ticks\":\"\"},\"baxis\":{\"gridcolor\":\"#506784\",\"linecolor\":\"#506784\",\"ticks\":\"\"},\"caxis\":{\"gridcolor\":\"#506784\",\"linecolor\":\"#506784\",\"ticks\":\"\"}},\"coloraxis\":{\"colorbar\":{\"outlinewidth\":0,\"ticks\":\"\"}},\"colorscale\":{\"sequential\":[[0.0,\"#0d0887\"],[0.1111111111111111,\"#46039f\"],[0.2222222222222222,\"#7201a8\"],[0.3333333333333333,\"#9c179e\"],[0.4444444444444444,\"#bd3786\"],[0.5555555555555556,\"#d8576b\"],[0.6666666666666666,\"#ed7953\"],[0.7777777777777778,\"#fb9f3a\"],[0.8888888888888888,\"#fdca26\"],[1.0,\"#f0f921\"]],\"sequentialminus\":[[0.0,\"#0d0887\"],[0.1111111111111111,\"#46039f\"],[0.2222222222222222,\"#7201a8\"],[0.3333333333333333,\"#9c179e\"],[0.4444444444444444,\"#bd3786\"],[0.5555555555555556,\"#d8576b\"],[0.6666666666666666,\"#ed7953\"],[0.7777777777777778,\"#fb9f3a\"],[0.8888888888888888,\"#fdca26\"],[1.0,\"#f0f921\"]],\"diverging\":[[0,\"#8e0152\"],[0.1,\"#c51b7d\"],[0.2,\"#de77ae\"],[0.3,\"#f1b6da\"],[0.4,\"#fde0ef\"],[0.5,\"#f7f7f7\"],[0.6,\"#e6f5d0\"],[0.7,\"#b8e186\"],[0.8,\"#7fbc41\"],[0.9,\"#4d9221\"],[1,\"#276419\"]]},\"xaxis\":{\"gridcolor\":\"#283442\",\"linecolor\":\"#506784\",\"ticks\":\"\",\"title\":{\"standoff\":15},\"zerolinecolor\":\"#283442\",\"automargin\":true,\"zerolinewidth\":2},\"yaxis\":{\"gridcolor\":\"#283442\",\"linecolor\":\"#506784\",\"ticks\":\"\",\"title\":{\"standoff\":15},\"zerolinecolor\":\"#283442\",\"automargin\":true,\"zerolinewidth\":2},\"scene\":{\"xaxis\":{\"backgroundcolor\":\"rgb(17,17,17)\",\"gridcolor\":\"#506784\",\"linecolor\":\"#506784\",\"showbackground\":true,\"ticks\":\"\",\"zerolinecolor\":\"#C8D4E3\",\"gridwidth\":2},\"yaxis\":{\"backgroundcolor\":\"rgb(17,17,17)\",\"gridcolor\":\"#506784\",\"linecolor\":\"#506784\",\"showbackground\":true,\"ticks\":\"\",\"zerolinecolor\":\"#C8D4E3\",\"gridwidth\":2},\"zaxis\":{\"backgroundcolor\":\"rgb(17,17,17)\",\"gridcolor\":\"#506784\",\"linecolor\":\"#506784\",\"showbackground\":true,\"ticks\":\"\",\"zerolinecolor\":\"#C8D4E3\",\"gridwidth\":2}},\"shapedefaults\":{\"line\":{\"color\":\"#f2f5fa\"}},\"annotationdefaults\":{\"arrowcolor\":\"#f2f5fa\",\"arrowhead\":0,\"arrowwidth\":1},\"geo\":{\"bgcolor\":\"rgb(17,17,17)\",\"landcolor\":\"rgb(17,17,17)\",\"subunitcolor\":\"#506784\",\"showland\":true,\"showlakes\":true,\"lakecolor\":\"rgb(17,17,17)\"},\"title\":{\"x\":0.05},\"updatemenudefaults\":{\"bgcolor\":\"#506784\",\"borderwidth\":0},\"sliderdefaults\":{\"bgcolor\":\"#C8D4E3\",\"borderwidth\":1,\"bordercolor\":\"rgb(17,17,17)\",\"tickwidth\":0},\"mapbox\":{\"style\":\"dark\"}}},\"xaxis\":{\"anchor\":\"y\",\"domain\":[0.0,1.0],\"title\":{\"text\":\"Workout Date\"},\"showgrid\":false,\"zeroline\":false},\"yaxis\":{\"anchor\":\"x\",\"domain\":[0.0,1.0],\"title\":{\"text\":\"Weight x Reps\"},\"showgrid\":false,\"zeroline\":false},\"legend\":{\"title\":{\"text\":\"Exercise\"},\"tracegroupgap\":0},\"title\":{\"text\":\"Exercise Volume (Normalized)\"},\"height\":600,\"width\":800},                        {\"responsive\": true}                    ).then(function(){\n                            \nvar gd = document.getElementById('1bf93377-1529-4bf5-a269-d18c50c6f596');\nvar x = new MutationObserver(function (mutations, observer) {{\n        var display = window.getComputedStyle(gd).display;\n        if (!display || display === 'none') {{\n            console.log([gd, 'removed!']);\n            Plotly.purge(gd);\n            observer.disconnect();\n        }}\n}});\n\n// Listen for the removal of the full notebook cells\nvar notebookContainer = gd.closest('#notebook-container');\nif (notebookContainer) {{\n    x.observe(notebookContainer, {childList: true});\n}}\n\n// Listen for the clearing of the current output cell\nvar outputEl = gd.closest('.output');\nif (outputEl) {{\n    x.observe(outputEl, {childList: true});\n}}\n\n                        })                };                });            </script>        </div>"
     },
     "metadata": {},
     "output_type": "display_data"
    }
   ],
   "source": [
    "fig = px.line(\n",
    "  current_exercises, x='date', y='volume', color='name', markers=True,\n",
    "  height=600,width=800,\n",
    "  labels={\n",
    "    'volume': \"Weight x Reps\",\n",
    "    'date': \"Workout Date\",\n",
    "    'name': \"Exercise\"\n",
    "  },\n",
    "  title=\"Exercise Volume (Normalized)\"\n",
    ")\n",
    "fig.update_traces(textposition='top center')\n",
    "fig.update_xaxes(showgrid=False, zeroline=False)\n",
    "fig.update_yaxes(showgrid=False, zeroline=False)\n",
    "fig.show()"
   ],
   "metadata": {
    "collapsed": false,
    "ExecuteTime": {
     "end_time": "2023-06-17T03:18:14.949500Z",
     "start_time": "2023-06-17T03:18:14.908658Z"
    }
   }
  },
  {
   "cell_type": "markdown",
   "source": [
    "## Leg Day Notes:\n",
    "* 2023-05-19: Changed Smith Squat range of motion to full so should be marked drop in weight.\n",
    "* 2023-06-02: Changed Leg Extensions from two legs to one which will account for the weight change."
   ],
   "metadata": {
    "collapsed": false,
    "ExecuteTime": {
     "end_time": "2023-06-07T04:17:09.749480Z",
     "start_time": "2023-06-07T04:17:09.745690Z"
    }
   },
   "outputs": [
    {
     "data": {
      "text/plain": "         id       date                         name weight reps\n35  1000036 2023-06-02       Oblique Crunch Machine    170   24\n36  1000037 2023-06-02  Smith Straight Leg Deadlift    340    8\n37  1000038 2023-06-02               Leg Extensions    130   10\n38  1000039 2023-06-02                    Leg Curls    120   20\n39  1000040 2023-06-02                     Adductor    260   18",
      "text/html": "<div>\n<style scoped>\n    .dataframe tbody tr th:only-of-type {\n        vertical-align: middle;\n    }\n\n    .dataframe tbody tr th {\n        vertical-align: top;\n    }\n\n    .dataframe thead th {\n        text-align: right;\n    }\n</style>\n<table border=\"1\" class=\"dataframe\">\n  <thead>\n    <tr style=\"text-align: right;\">\n      <th></th>\n      <th>id</th>\n      <th>date</th>\n      <th>name</th>\n      <th>weight</th>\n      <th>reps</th>\n    </tr>\n  </thead>\n  <tbody>\n    <tr>\n      <th>35</th>\n      <td>1000036</td>\n      <td>2023-06-02</td>\n      <td>Oblique Crunch Machine</td>\n      <td>170</td>\n      <td>24</td>\n    </tr>\n    <tr>\n      <th>36</th>\n      <td>1000037</td>\n      <td>2023-06-02</td>\n      <td>Smith Straight Leg Deadlift</td>\n      <td>340</td>\n      <td>8</td>\n    </tr>\n    <tr>\n      <th>37</th>\n      <td>1000038</td>\n      <td>2023-06-02</td>\n      <td>Leg Extensions</td>\n      <td>130</td>\n      <td>10</td>\n    </tr>\n    <tr>\n      <th>38</th>\n      <td>1000039</td>\n      <td>2023-06-02</td>\n      <td>Leg Curls</td>\n      <td>120</td>\n      <td>20</td>\n    </tr>\n    <tr>\n      <th>39</th>\n      <td>1000040</td>\n      <td>2023-06-02</td>\n      <td>Adductor</td>\n      <td>260</td>\n      <td>18</td>\n    </tr>\n  </tbody>\n</table>\n</div>"
     },
     "execution_count": 10,
     "metadata": {},
     "output_type": "execute_result"
    }
   ],
   "execution_count": 10
  }
 ],
 "metadata": {
  "kernelspec": {
   "display_name": "Python 3",
   "language": "python",
   "name": "python3"
  },
  "language_info": {
   "codemirror_mode": {
    "name": "ipython",
    "version": 2
   },
   "file_extension": ".py",
   "mimetype": "text/x-python",
   "name": "python",
   "nbconvert_exporter": "python",
   "pygments_lexer": "ipython2",
   "version": "2.7.6"
  }
 },
 "nbformat": 4,
 "nbformat_minor": 0
}
