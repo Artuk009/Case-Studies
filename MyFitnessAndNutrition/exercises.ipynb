{
 "cells": [
  {
   "cell_type": "markdown",
   "source": [
    "# Exercises Editor\n",
    "Author: Brent Artuch <br>\n",
    "Date: 2023-06-07"
   ],
   "metadata": {
    "collapsed": false
   }
  },
  {
   "cell_type": "markdown",
   "source": [
    "## Import From SQL"
   ],
   "metadata": {
    "collapsed": false
   }
  },
  {
   "cell_type": "markdown",
   "source": [
    "## Introduction"
   ],
   "metadata": {
    "collapsed": false
   }
  },
  {
   "cell_type": "markdown",
   "source": [
    "In this notebook we explore how exercise data is logged for a given day of training and calculations to\n",
    "determine the output of each exercise and what the desired output for the following week will be. The\n",
    "data entries are recorded at the gym using a simple log app that I developed for Android. The key data\n",
    "in this notebook will be the `weight` and `reps` of each exercise."
   ],
   "metadata": {
    "collapsed": false
   }
  },
  {
   "cell_type": "markdown",
   "source": [
    "## Step: 1 Imports\n",
    "### Import packages"
   ],
   "metadata": {
    "collapsed": false
   }
  },
  {
   "cell_type": "code",
   "execution_count": 82,
   "outputs": [],
   "source": [
    "import sqlite3\n",
    "import pandas as pd\n",
    "import plotly.express as px"
   ],
   "metadata": {
    "collapsed": false,
    "ExecuteTime": {
     "end_time": "2023-06-13T07:19:56.622560Z",
     "start_time": "2023-06-13T07:19:56.616706Z"
    }
   }
  },
  {
   "cell_type": "markdown",
   "source": [
    "### Load the dataset\n",
    "This dataset is pulled from a SQLite database named `exercises` with four tables: `leg_day`, `chest_day`,\n",
    "`back_day`, and `shoulder_day`. We will load the desired day using a simple query."
   ],
   "metadata": {
    "collapsed": false
   }
  },
  {
   "cell_type": "code",
   "execution_count": 83,
   "outputs": [
    {
     "data": {
      "text/plain": "            id                 date                   name weight reps\nindex                                                                 \n35     1000036  2023-05-29 00:00:00               Bicep 21     42   21\n36     1000037  2023-06-05 00:00:00   Platform Back Raises    135   17\n37     1000038  2023-06-05 00:00:00  Straight Arm Pulldown     80   12\n38     1000039  2023-06-05 00:00:00           Lat Pulldown    260    7\n39     1000040  2023-06-05 00:00:00             Smith Rows    290    7\n40     1000041  2023-06-05 00:00:00       High Row Machine    150    8\n41     1000042  2023-06-05 00:00:00      Rear Delt Machine    190   10\n42     1000043  2023-06-05 00:00:00  Preacher Curl Machine    140   15\n43     1000044  2023-06-05 00:00:00        Single Arm Curl     25   11\n44     1000045  2023-06-05 00:00:00               Bicep 21     50   21",
      "text/html": "<div>\n<style scoped>\n    .dataframe tbody tr th:only-of-type {\n        vertical-align: middle;\n    }\n\n    .dataframe tbody tr th {\n        vertical-align: top;\n    }\n\n    .dataframe thead th {\n        text-align: right;\n    }\n</style>\n<table border=\"1\" class=\"dataframe\">\n  <thead>\n    <tr style=\"text-align: right;\">\n      <th></th>\n      <th>id</th>\n      <th>date</th>\n      <th>name</th>\n      <th>weight</th>\n      <th>reps</th>\n    </tr>\n    <tr>\n      <th>index</th>\n      <th></th>\n      <th></th>\n      <th></th>\n      <th></th>\n      <th></th>\n    </tr>\n  </thead>\n  <tbody>\n    <tr>\n      <th>35</th>\n      <td>1000036</td>\n      <td>2023-05-29 00:00:00</td>\n      <td>Bicep 21</td>\n      <td>42</td>\n      <td>21</td>\n    </tr>\n    <tr>\n      <th>36</th>\n      <td>1000037</td>\n      <td>2023-06-05 00:00:00</td>\n      <td>Platform Back Raises</td>\n      <td>135</td>\n      <td>17</td>\n    </tr>\n    <tr>\n      <th>37</th>\n      <td>1000038</td>\n      <td>2023-06-05 00:00:00</td>\n      <td>Straight Arm Pulldown</td>\n      <td>80</td>\n      <td>12</td>\n    </tr>\n    <tr>\n      <th>38</th>\n      <td>1000039</td>\n      <td>2023-06-05 00:00:00</td>\n      <td>Lat Pulldown</td>\n      <td>260</td>\n      <td>7</td>\n    </tr>\n    <tr>\n      <th>39</th>\n      <td>1000040</td>\n      <td>2023-06-05 00:00:00</td>\n      <td>Smith Rows</td>\n      <td>290</td>\n      <td>7</td>\n    </tr>\n    <tr>\n      <th>40</th>\n      <td>1000041</td>\n      <td>2023-06-05 00:00:00</td>\n      <td>High Row Machine</td>\n      <td>150</td>\n      <td>8</td>\n    </tr>\n    <tr>\n      <th>41</th>\n      <td>1000042</td>\n      <td>2023-06-05 00:00:00</td>\n      <td>Rear Delt Machine</td>\n      <td>190</td>\n      <td>10</td>\n    </tr>\n    <tr>\n      <th>42</th>\n      <td>1000043</td>\n      <td>2023-06-05 00:00:00</td>\n      <td>Preacher Curl Machine</td>\n      <td>140</td>\n      <td>15</td>\n    </tr>\n    <tr>\n      <th>43</th>\n      <td>1000044</td>\n      <td>2023-06-05 00:00:00</td>\n      <td>Single Arm Curl</td>\n      <td>25</td>\n      <td>11</td>\n    </tr>\n    <tr>\n      <th>44</th>\n      <td>1000045</td>\n      <td>2023-06-05 00:00:00</td>\n      <td>Bicep 21</td>\n      <td>50</td>\n      <td>21</td>\n    </tr>\n  </tbody>\n</table>\n</div>"
     },
     "execution_count": 83,
     "metadata": {},
     "output_type": "execute_result"
    }
   ],
   "source": [
    "sql_connection = sqlite3.connect('exercises.sqlite')\n",
    "# Import desired table and set the index.\n",
    "current_exercises = pd.read_sql('SELECT * FROM back_day', sql_connection, index_col='index')\n",
    "current_exercises.tail(10)"
   ],
   "metadata": {
    "collapsed": false,
    "ExecuteTime": {
     "end_time": "2023-06-13T07:20:03.083269Z",
     "start_time": "2023-06-13T07:20:03.073495Z"
    }
   }
  },
  {
   "cell_type": "markdown",
   "source": [
    "## Step 2: Data Exploration\n",
    "Next we will get a sense of the size and contents of `current_exercises`."
   ],
   "metadata": {
    "collapsed": false
   }
  },
  {
   "cell_type": "code",
   "execution_count": 84,
   "outputs": [
    {
     "data": {
      "text/plain": "(45, 5)"
     },
     "execution_count": 84,
     "metadata": {},
     "output_type": "execute_result"
    }
   ],
   "source": [
    "current_exercises.shape"
   ],
   "metadata": {
    "collapsed": false,
    "ExecuteTime": {
     "end_time": "2023-06-13T07:20:08.437164Z",
     "start_time": "2023-06-13T07:20:08.431723Z"
    }
   }
  },
  {
   "cell_type": "code",
   "execution_count": 85,
   "outputs": [
    {
     "name": "stdout",
     "output_type": "stream",
     "text": [
      "<class 'pandas.core.frame.DataFrame'>\n",
      "Int64Index: 45 entries, 0 to 44\n",
      "Data columns (total 5 columns):\n",
      " #   Column  Non-Null Count  Dtype \n",
      "---  ------  --------------  ----- \n",
      " 0   id      45 non-null     int64 \n",
      " 1   date    45 non-null     object\n",
      " 2   name    45 non-null     object\n",
      " 3   weight  45 non-null     object\n",
      " 4   reps    45 non-null     object\n",
      "dtypes: int64(1), object(4)\n",
      "memory usage: 2.1+ KB\n"
     ]
    }
   ],
   "source": [
    "current_exercises.info()"
   ],
   "metadata": {
    "collapsed": false,
    "ExecuteTime": {
     "end_time": "2023-06-13T07:20:10.304893Z",
     "start_time": "2023-06-13T07:20:10.302115Z"
    }
   }
  },
  {
   "cell_type": "code",
   "execution_count": 86,
   "outputs": [
    {
     "data": {
      "text/plain": "Platform Back Raises     5\nStraight Arm Pulldown    5\nLat Pulldown             5\nSmith Rows               5\nHigh Row Machine         5\nRear Delt Machine        5\nPreacher Curl Machine    5\nSingle Arm Curl          5\nBicep 21                 5\nName: name, dtype: int64"
     },
     "execution_count": 86,
     "metadata": {},
     "output_type": "execute_result"
    }
   ],
   "source": [
    "current_exercises['name'].value_counts()"
   ],
   "metadata": {
    "collapsed": false,
    "ExecuteTime": {
     "end_time": "2023-06-13T07:20:12.264804Z",
     "start_time": "2023-06-13T07:20:12.245834Z"
    }
   }
  },
  {
   "cell_type": "markdown",
   "source": [
    "## Step 3: Update the Dataset\n",
    "First we will get each of the unique names from `current_exercises`."
   ],
   "metadata": {
    "collapsed": false,
    "ExecuteTime": {
     "end_time": "2023-06-07T04:11:48.656733Z",
     "start_time": "2023-06-07T04:11:48.647020Z"
    }
   },
   "outputs": [
    {
     "data": {
      "text/plain": "         id                 date                         name  weight  reps\n22  1000019  2023-05-05 00:00:00               Leg Extensions     235    15\n23  1000020  2023-05-05 00:00:00                    Leg Curls     120    19\n24  1000021  2023-05-05 00:00:00                     Adductor     260    20\n25  1000022  2023-05-19 00:00:00        Single Leg Calf Press     250    15\n26  1000023  2023-05-19 00:00:00          Standing Calf Press     340    20\n27  1000024  2023-05-19 00:00:00                  Smith Squat     290    12\n28  1000025  2023-05-19 00:00:00  Smith Straight Leg Deadlift     290    10\n29  1000026  2023-05-19 00:00:00               Leg Extensions     260    12\n30  1000027  2023-05-19 00:00:00                    Leg Curls     150     8\n31  1000028  2023-05-19 00:00:00                     Adductor     260    26",
      "text/html": "<div>\n<style scoped>\n    .dataframe tbody tr th:only-of-type {\n        vertical-align: middle;\n    }\n\n    .dataframe tbody tr th {\n        vertical-align: top;\n    }\n\n    .dataframe thead th {\n        text-align: right;\n    }\n</style>\n<table border=\"1\" class=\"dataframe\">\n  <thead>\n    <tr style=\"text-align: right;\">\n      <th></th>\n      <th>id</th>\n      <th>date</th>\n      <th>name</th>\n      <th>weight</th>\n      <th>reps</th>\n    </tr>\n  </thead>\n  <tbody>\n    <tr>\n      <th>22</th>\n      <td>1000019</td>\n      <td>2023-05-05 00:00:00</td>\n      <td>Leg Extensions</td>\n      <td>235</td>\n      <td>15</td>\n    </tr>\n    <tr>\n      <th>23</th>\n      <td>1000020</td>\n      <td>2023-05-05 00:00:00</td>\n      <td>Leg Curls</td>\n      <td>120</td>\n      <td>19</td>\n    </tr>\n    <tr>\n      <th>24</th>\n      <td>1000021</td>\n      <td>2023-05-05 00:00:00</td>\n      <td>Adductor</td>\n      <td>260</td>\n      <td>20</td>\n    </tr>\n    <tr>\n      <th>25</th>\n      <td>1000022</td>\n      <td>2023-05-19 00:00:00</td>\n      <td>Single Leg Calf Press</td>\n      <td>250</td>\n      <td>15</td>\n    </tr>\n    <tr>\n      <th>26</th>\n      <td>1000023</td>\n      <td>2023-05-19 00:00:00</td>\n      <td>Standing Calf Press</td>\n      <td>340</td>\n      <td>20</td>\n    </tr>\n    <tr>\n      <th>27</th>\n      <td>1000024</td>\n      <td>2023-05-19 00:00:00</td>\n      <td>Smith Squat</td>\n      <td>290</td>\n      <td>12</td>\n    </tr>\n    <tr>\n      <th>28</th>\n      <td>1000025</td>\n      <td>2023-05-19 00:00:00</td>\n      <td>Smith Straight Leg Deadlift</td>\n      <td>290</td>\n      <td>10</td>\n    </tr>\n    <tr>\n      <th>29</th>\n      <td>1000026</td>\n      <td>2023-05-19 00:00:00</td>\n      <td>Leg Extensions</td>\n      <td>260</td>\n      <td>12</td>\n    </tr>\n    <tr>\n      <th>30</th>\n      <td>1000027</td>\n      <td>2023-05-19 00:00:00</td>\n      <td>Leg Curls</td>\n      <td>150</td>\n      <td>8</td>\n    </tr>\n    <tr>\n      <th>31</th>\n      <td>1000028</td>\n      <td>2023-05-19 00:00:00</td>\n      <td>Adductor</td>\n      <td>260</td>\n      <td>26</td>\n    </tr>\n  </tbody>\n</table>\n</div>"
     },
     "execution_count": 3,
     "metadata": {},
     "output_type": "execute_result"
    }
   ],
   "execution_count": 3
  },
  {
   "cell_type": "code",
   "execution_count": 87,
   "outputs": [
    {
     "data": {
      "text/plain": "array(['Platform Back Raises', 'Straight Arm Pulldown', 'Lat Pulldown',\n       'Smith Rows', 'High Row Machine', 'Rear Delt Machine',\n       'Preacher Curl Machine', 'Single Arm Curl', 'Bicep 21'],\n      dtype=object)"
     },
     "execution_count": 87,
     "metadata": {},
     "output_type": "execute_result"
    }
   ],
   "source": [
    "# Set names to a list of unique exercise names\n",
    "names = current_exercises['name'].unique()\n",
    "names"
   ],
   "metadata": {
    "collapsed": false,
    "ExecuteTime": {
     "end_time": "2023-06-13T07:20:14.537761Z",
     "start_time": "2023-06-13T07:20:14.533675Z"
    }
   }
  },
  {
   "cell_type": "markdown",
   "source": [
    "Next we set the date that we wish to update."
   ],
   "metadata": {
    "collapsed": false,
    "ExecuteTime": {
     "end_time": "2023-06-07T04:12:31.932755Z",
     "start_time": "2023-06-07T04:12:31.928768Z"
    }
   },
   "outputs": [
    {
     "data": {
      "text/plain": "array(['Single Leg Calf Press', 'Standing Calf Press', 'Smith Squat',\n       'Oblique Crunch Machine', 'Smith Straight Leg Deadlift',\n       'Leg Extensions', 'Leg Curls', 'Adductor'], dtype=object)"
     },
     "execution_count": 5,
     "metadata": {},
     "output_type": "execute_result"
    }
   ],
   "execution_count": 5
  },
  {
   "cell_type": "code",
   "execution_count": 88,
   "outputs": [
    {
     "data": {
      "text/plain": "'2023-06-12 00:00:00'"
     },
     "execution_count": 88,
     "metadata": {},
     "output_type": "execute_result"
    }
   ],
   "source": [
    "day_of_month = input(\"Enter the day of the month: DD\")\n",
    "date = f\"2023-06-{day_of_month} 00:00:00\"\n",
    "date"
   ],
   "metadata": {
    "collapsed": false,
    "ExecuteTime": {
     "end_time": "2023-06-13T07:20:21.500112Z",
     "start_time": "2023-06-13T07:20:17.010701Z"
    }
   }
  },
  {
   "cell_type": "markdown",
   "source": [
    "### Execute the entry insertion algorithm"
   ],
   "metadata": {
    "collapsed": false
   }
  },
  {
   "cell_type": "code",
   "execution_count": 89,
   "outputs": [
    {
     "data": {
      "text/plain": "            id       date                   name weight reps\nindex                                                       \n44     1000045 2023-06-05               Bicep 21     50   21\n45     1000046 2023-06-12   Platform Back Raises    135   17\n46     1000047 2023-06-12  Straight Arm Pulldown     87   12\n47     1000048 2023-06-12           Lat Pulldown    220   12\n48     1000049 2023-06-12             Smith Rows    290   10\n49     1000050 2023-06-12       High Row Machine    120   12\n50     1000051 2023-06-12      Rear Delt Machine    205    9\n51     1000052 2023-06-12  Preacher Curl Machine    140   15\n52     1000053 2023-06-12        Single Arm Curl     30   10\n53     1000054 2023-06-12               Bicep 21     57   15",
      "text/html": "<div>\n<style scoped>\n    .dataframe tbody tr th:only-of-type {\n        vertical-align: middle;\n    }\n\n    .dataframe tbody tr th {\n        vertical-align: top;\n    }\n\n    .dataframe thead th {\n        text-align: right;\n    }\n</style>\n<table border=\"1\" class=\"dataframe\">\n  <thead>\n    <tr style=\"text-align: right;\">\n      <th></th>\n      <th>id</th>\n      <th>date</th>\n      <th>name</th>\n      <th>weight</th>\n      <th>reps</th>\n    </tr>\n    <tr>\n      <th>index</th>\n      <th></th>\n      <th></th>\n      <th></th>\n      <th></th>\n      <th></th>\n    </tr>\n  </thead>\n  <tbody>\n    <tr>\n      <th>44</th>\n      <td>1000045</td>\n      <td>2023-06-05</td>\n      <td>Bicep 21</td>\n      <td>50</td>\n      <td>21</td>\n    </tr>\n    <tr>\n      <th>45</th>\n      <td>1000046</td>\n      <td>2023-06-12</td>\n      <td>Platform Back Raises</td>\n      <td>135</td>\n      <td>17</td>\n    </tr>\n    <tr>\n      <th>46</th>\n      <td>1000047</td>\n      <td>2023-06-12</td>\n      <td>Straight Arm Pulldown</td>\n      <td>87</td>\n      <td>12</td>\n    </tr>\n    <tr>\n      <th>47</th>\n      <td>1000048</td>\n      <td>2023-06-12</td>\n      <td>Lat Pulldown</td>\n      <td>220</td>\n      <td>12</td>\n    </tr>\n    <tr>\n      <th>48</th>\n      <td>1000049</td>\n      <td>2023-06-12</td>\n      <td>Smith Rows</td>\n      <td>290</td>\n      <td>10</td>\n    </tr>\n    <tr>\n      <th>49</th>\n      <td>1000050</td>\n      <td>2023-06-12</td>\n      <td>High Row Machine</td>\n      <td>120</td>\n      <td>12</td>\n    </tr>\n    <tr>\n      <th>50</th>\n      <td>1000051</td>\n      <td>2023-06-12</td>\n      <td>Rear Delt Machine</td>\n      <td>205</td>\n      <td>9</td>\n    </tr>\n    <tr>\n      <th>51</th>\n      <td>1000052</td>\n      <td>2023-06-12</td>\n      <td>Preacher Curl Machine</td>\n      <td>140</td>\n      <td>15</td>\n    </tr>\n    <tr>\n      <th>52</th>\n      <td>1000053</td>\n      <td>2023-06-12</td>\n      <td>Single Arm Curl</td>\n      <td>30</td>\n      <td>10</td>\n    </tr>\n    <tr>\n      <th>53</th>\n      <td>1000054</td>\n      <td>2023-06-12</td>\n      <td>Bicep 21</td>\n      <td>57</td>\n      <td>15</td>\n    </tr>\n  </tbody>\n</table>\n</div>"
     },
     "execution_count": 89,
     "metadata": {},
     "output_type": "execute_result"
    }
   ],
   "source": [
    "for i in range(0, len(names)):\n",
    "\n",
    "  \"\"\" This algorithm sets the elements of a new entry with user input and then inserts it into the\n",
    "  database table for each name. Id is calculated by last index.\"\"\"\n",
    "\n",
    "  weight = input(f\"Enter Weight for {names[i]}: \")\n",
    "  reps = input(f\"Enter Reps for {names[i]}: \")\n",
    "  e_id = current_exercises.iloc[-1, 0] + 1\n",
    "  new_entry = [e_id, date, names[i], weight, reps]\n",
    "  current_exercises.loc[len(current_exercises)] = new_entry\n",
    "\n",
    "# Format the string dates to datetime.\n",
    "current_exercises['date'] = pd.to_datetime(current_exercises['date'])\n",
    "current_exercises.tail(10)"
   ],
   "metadata": {
    "collapsed": false,
    "ExecuteTime": {
     "end_time": "2023-06-13T07:21:35.974822Z",
     "start_time": "2023-06-13T07:20:34.359137Z"
    }
   }
  },
  {
   "cell_type": "markdown",
   "source": [
    "### Data Manipulation\n",
    "This section exists for convenience if quick changes need to be made to the entries."
   ],
   "metadata": {
    "collapsed": false
   }
  },
  {
   "cell_type": "code",
   "execution_count": null,
   "outputs": [],
   "source": [
    "# Update a single item by id and column\n",
    "# current_exercises.loc[39, 'weight'] = 290\n",
    "# Drop last row\n",
    "# current_exercises.drop(index=current_exercises.index[-1], axis=0, inplace=True)\n",
    "current_exercises.tail(10)"
   ],
   "metadata": {
    "collapsed": false
   }
  },
  {
   "cell_type": "markdown",
   "source": [
    "### Update SQL\n",
    "Now that we have updated our table, we will export the new dataset to SQL. As a precaution, I always\n",
    "back up the new dataset to CSV through the SQL workbench in the event that an older version is required\n",
    "in the future."
   ],
   "metadata": {
    "collapsed": false
   }
  },
  {
   "cell_type": "code",
   "execution_count": 90,
   "outputs": [
    {
     "data": {
      "text/plain": "54"
     },
     "execution_count": 90,
     "metadata": {},
     "output_type": "execute_result"
    }
   ],
   "source": [
    "# Export new chart to database with a date stamp\n",
    "current_exercises.to_sql('back_day', sql_connection, if_exists='replace')\n",
    "\n",
    "# TODO: MANUALLY REVIEW AND EXPORT NEW TABLE TO CSV AS BACKUP!!"
   ],
   "metadata": {
    "collapsed": false,
    "ExecuteTime": {
     "end_time": "2023-06-13T07:21:48.624318Z",
     "start_time": "2023-06-13T07:21:48.616105Z"
    }
   }
  },
  {
   "cell_type": "markdown",
   "source": [
    "## Step 5: Calculations\n",
    "Since, I rotate my weights and reps each weak based on performance, we use the volume equation\n",
    "to determine the rep to weight output.<br>\n",
    "$Volume$ = `weight` $\\cdot$ `reps` $\\cdot$ $sets$ <br>\n",
    "For our purposes the sets parameter will always be 1 because only one working set is performed."
   ],
   "metadata": {
    "collapsed": false
   }
  },
  {
   "cell_type": "code",
   "execution_count": 91,
   "outputs": [
    {
     "data": {
      "text/plain": "            id       date                   name weight reps  volume\nindex                                                               \n0      1000001 2023-04-17   Platform Back Raises    135   13    1755\n1      1000002 2023-04-17  Straight Arm Pulldown     95    9     855\n2      1000003 2023-04-17           Lat Pulldown    260    8    2080\n3      1000004 2023-04-17             Smith Rows    290    6    1740\n4      1000005 2023-04-17       High Row Machine    130   11    1430",
      "text/html": "<div>\n<style scoped>\n    .dataframe tbody tr th:only-of-type {\n        vertical-align: middle;\n    }\n\n    .dataframe tbody tr th {\n        vertical-align: top;\n    }\n\n    .dataframe thead th {\n        text-align: right;\n    }\n</style>\n<table border=\"1\" class=\"dataframe\">\n  <thead>\n    <tr style=\"text-align: right;\">\n      <th></th>\n      <th>id</th>\n      <th>date</th>\n      <th>name</th>\n      <th>weight</th>\n      <th>reps</th>\n      <th>volume</th>\n    </tr>\n    <tr>\n      <th>index</th>\n      <th></th>\n      <th></th>\n      <th></th>\n      <th></th>\n      <th></th>\n      <th></th>\n    </tr>\n  </thead>\n  <tbody>\n    <tr>\n      <th>0</th>\n      <td>1000001</td>\n      <td>2023-04-17</td>\n      <td>Platform Back Raises</td>\n      <td>135</td>\n      <td>13</td>\n      <td>1755</td>\n    </tr>\n    <tr>\n      <th>1</th>\n      <td>1000002</td>\n      <td>2023-04-17</td>\n      <td>Straight Arm Pulldown</td>\n      <td>95</td>\n      <td>9</td>\n      <td>855</td>\n    </tr>\n    <tr>\n      <th>2</th>\n      <td>1000003</td>\n      <td>2023-04-17</td>\n      <td>Lat Pulldown</td>\n      <td>260</td>\n      <td>8</td>\n      <td>2080</td>\n    </tr>\n    <tr>\n      <th>3</th>\n      <td>1000004</td>\n      <td>2023-04-17</td>\n      <td>Smith Rows</td>\n      <td>290</td>\n      <td>6</td>\n      <td>1740</td>\n    </tr>\n    <tr>\n      <th>4</th>\n      <td>1000005</td>\n      <td>2023-04-17</td>\n      <td>High Row Machine</td>\n      <td>130</td>\n      <td>11</td>\n      <td>1430</td>\n    </tr>\n  </tbody>\n</table>\n</div>"
     },
     "execution_count": 91,
     "metadata": {},
     "output_type": "execute_result"
    }
   ],
   "source": [
    "current_exercises['volume'] = current_exercises['weight'].astype(int) * current_exercises['reps'].astype(int)\n",
    "current_exercises.head()"
   ],
   "metadata": {
    "collapsed": false,
    "ExecuteTime": {
     "end_time": "2023-06-13T07:22:10.704809Z",
     "start_time": "2023-06-13T07:22:10.701757Z"
    }
   }
  },
  {
   "cell_type": "markdown",
   "source": [
    "##### Divide the exercises into two groups `low_volume` and `high_volume`."
   ],
   "metadata": {
    "collapsed": false
   }
  },
  {
   "cell_type": "markdown",
   "source": [
    "## Step 6: Visualization\n",
    "Next, plot the volume trend for the exercise."
   ],
   "metadata": {
    "collapsed": false
   }
  },
  {
   "cell_type": "code",
   "execution_count": 98,
   "outputs": [
    {
     "data": {
      "application/vnd.plotly.v1+json": {
       "data": [
        {
         "hovertemplate": "Exercise=Platform Back Raises<br>Workout Date=%{x}<br>Weight x Reps=%{y}<extra></extra>",
         "legendgroup": "Platform Back Raises",
         "line": {
          "color": "#636efa",
          "dash": "solid"
         },
         "marker": {
          "symbol": "circle"
         },
         "mode": "markers+lines",
         "name": "Platform Back Raises",
         "orientation": "v",
         "showlegend": true,
         "x": [
          "2023-04-17T00:00:00",
          "2023-05-01T00:00:00",
          "2023-05-16T00:00:00",
          "2023-05-29T00:00:00",
          "2023-06-05T00:00:00",
          "2023-06-12T00:00:00"
         ],
         "xaxis": "x",
         "y": [
          1755,
          2700,
          2160,
          2160,
          2295,
          2295
         ],
         "yaxis": "y",
         "type": "scatter",
         "textposition": "top center"
        },
        {
         "hovertemplate": "Exercise=Straight Arm Pulldown<br>Workout Date=%{x}<br>Weight x Reps=%{y}<extra></extra>",
         "legendgroup": "Straight Arm Pulldown",
         "line": {
          "color": "#EF553B",
          "dash": "solid"
         },
         "marker": {
          "symbol": "circle"
         },
         "mode": "markers+lines",
         "name": "Straight Arm Pulldown",
         "orientation": "v",
         "showlegend": true,
         "x": [
          "2023-04-17T00:00:00",
          "2023-05-01T00:00:00",
          "2023-05-15T00:00:00",
          "2023-05-29T00:00:00",
          "2023-06-05T00:00:00",
          "2023-06-12T00:00:00"
         ],
         "xaxis": "x",
         "y": [
          855,
          1300,
          1440,
          800,
          960,
          1044
         ],
         "yaxis": "y",
         "type": "scatter",
         "textposition": "top center"
        },
        {
         "hovertemplate": "Exercise=Lat Pulldown<br>Workout Date=%{x}<br>Weight x Reps=%{y}<extra></extra>",
         "legendgroup": "Lat Pulldown",
         "line": {
          "color": "#00cc96",
          "dash": "solid"
         },
         "marker": {
          "symbol": "circle"
         },
         "mode": "markers+lines",
         "name": "Lat Pulldown",
         "orientation": "v",
         "showlegend": true,
         "x": [
          "2023-04-17T00:00:00",
          "2023-05-01T00:00:00",
          "2023-05-15T00:00:00",
          "2023-05-29T00:00:00",
          "2023-06-05T00:00:00",
          "2023-06-12T00:00:00"
         ],
         "xaxis": "x",
         "y": [
          2080,
          3600,
          2640,
          2400,
          1820,
          2640
         ],
         "yaxis": "y",
         "type": "scatter",
         "textposition": "top center"
        },
        {
         "hovertemplate": "Exercise=Smith Rows<br>Workout Date=%{x}<br>Weight x Reps=%{y}<extra></extra>",
         "legendgroup": "Smith Rows",
         "line": {
          "color": "#ab63fa",
          "dash": "solid"
         },
         "marker": {
          "symbol": "circle"
         },
         "mode": "markers+lines",
         "name": "Smith Rows",
         "orientation": "v",
         "showlegend": true,
         "x": [
          "2023-04-17T00:00:00",
          "2023-05-01T00:00:00",
          "2023-05-15T00:00:00",
          "2023-05-29T00:00:00",
          "2023-06-05T00:00:00",
          "2023-06-12T00:00:00"
         ],
         "xaxis": "x",
         "y": [
          1740,
          3000,
          3250,
          3250,
          2030,
          2900
         ],
         "yaxis": "y",
         "type": "scatter",
         "textposition": "top center"
        },
        {
         "hovertemplate": "Exercise=High Row Machine<br>Workout Date=%{x}<br>Weight x Reps=%{y}<extra></extra>",
         "legendgroup": "High Row Machine",
         "line": {
          "color": "#FFA15A",
          "dash": "solid"
         },
         "marker": {
          "symbol": "circle"
         },
         "mode": "markers+lines",
         "name": "High Row Machine",
         "orientation": "v",
         "showlegend": true,
         "x": [
          "2023-04-17T00:00:00",
          "2023-05-01T00:00:00",
          "2023-05-15T00:00:00",
          "2023-05-29T00:00:00",
          "2023-06-05T00:00:00",
          "2023-06-12T00:00:00"
         ],
         "xaxis": "x",
         "y": [
          1430,
          1540,
          1820,
          1400,
          1200,
          1440
         ],
         "yaxis": "y",
         "type": "scatter",
         "textposition": "top center"
        },
        {
         "hovertemplate": "Exercise=Rear Delt Machine<br>Workout Date=%{x}<br>Weight x Reps=%{y}<extra></extra>",
         "legendgroup": "Rear Delt Machine",
         "line": {
          "color": "#19d3f3",
          "dash": "solid"
         },
         "marker": {
          "symbol": "circle"
         },
         "mode": "markers+lines",
         "name": "Rear Delt Machine",
         "orientation": "v",
         "showlegend": true,
         "x": [
          "2023-04-17T00:00:00",
          "2023-05-01T00:00:00",
          "2023-05-15T00:00:00",
          "2023-05-29T00:00:00",
          "2023-06-05T00:00:00",
          "2023-06-12T00:00:00"
         ],
         "xaxis": "x",
         "y": [
          2275,
          2280,
          2720,
          2275,
          1900,
          1845
         ],
         "yaxis": "y",
         "type": "scatter",
         "textposition": "top center"
        },
        {
         "hovertemplate": "Exercise=Preacher Curl Machine<br>Workout Date=%{x}<br>Weight x Reps=%{y}<extra></extra>",
         "legendgroup": "Preacher Curl Machine",
         "line": {
          "color": "#FF6692",
          "dash": "solid"
         },
         "marker": {
          "symbol": "circle"
         },
         "mode": "markers+lines",
         "name": "Preacher Curl Machine",
         "orientation": "v",
         "showlegend": true,
         "x": [
          "2023-04-17T00:00:00",
          "2023-05-01T00:00:00",
          "2023-05-15T00:00:00",
          "2023-05-29T00:00:00",
          "2023-06-05T00:00:00",
          "2023-06-12T00:00:00"
         ],
         "xaxis": "x",
         "y": [
          1480,
          2500,
          1860,
          1225,
          2100,
          2100
         ],
         "yaxis": "y",
         "type": "scatter",
         "textposition": "top center"
        },
        {
         "hovertemplate": "Exercise=Single Arm Curl<br>Workout Date=%{x}<br>Weight x Reps=%{y}<extra></extra>",
         "legendgroup": "Single Arm Curl",
         "line": {
          "color": "#B6E880",
          "dash": "solid"
         },
         "marker": {
          "symbol": "circle"
         },
         "mode": "markers+lines",
         "name": "Single Arm Curl",
         "orientation": "v",
         "showlegend": true,
         "x": [
          "2023-04-17T00:00:00",
          "2023-05-01T00:00:00",
          "2023-05-15T00:00:00",
          "2023-05-29T00:00:00",
          "2023-06-05T00:00:00",
          "2023-06-12T00:00:00"
         ],
         "xaxis": "x",
         "y": [
          252,
          375,
          385,
          240,
          275,
          300
         ],
         "yaxis": "y",
         "type": "scatter",
         "textposition": "top center"
        },
        {
         "hovertemplate": "Exercise=Bicep 21<br>Workout Date=%{x}<br>Weight x Reps=%{y}<extra></extra>",
         "legendgroup": "Bicep 21",
         "line": {
          "color": "#FF97FF",
          "dash": "solid"
         },
         "marker": {
          "symbol": "circle"
         },
         "mode": "markers+lines",
         "name": "Bicep 21",
         "orientation": "v",
         "showlegend": true,
         "x": [
          "2023-04-17T00:00:00",
          "2023-05-01T00:00:00",
          "2023-05-15T00:00:00",
          "2023-05-29T00:00:00",
          "2023-06-05T00:00:00",
          "2023-06-12T00:00:00"
         ],
         "xaxis": "x",
         "y": [
          1050,
          1026,
          882,
          882,
          1050,
          855
         ],
         "yaxis": "y",
         "type": "scatter",
         "textposition": "top center"
        }
       ],
       "layout": {
        "template": {
         "data": {
          "histogram2dcontour": [
           {
            "type": "histogram2dcontour",
            "colorbar": {
             "outlinewidth": 0,
             "ticks": ""
            },
            "colorscale": [
             [
              0.0,
              "#0d0887"
             ],
             [
              0.1111111111111111,
              "#46039f"
             ],
             [
              0.2222222222222222,
              "#7201a8"
             ],
             [
              0.3333333333333333,
              "#9c179e"
             ],
             [
              0.4444444444444444,
              "#bd3786"
             ],
             [
              0.5555555555555556,
              "#d8576b"
             ],
             [
              0.6666666666666666,
              "#ed7953"
             ],
             [
              0.7777777777777778,
              "#fb9f3a"
             ],
             [
              0.8888888888888888,
              "#fdca26"
             ],
             [
              1.0,
              "#f0f921"
             ]
            ]
           }
          ],
          "choropleth": [
           {
            "type": "choropleth",
            "colorbar": {
             "outlinewidth": 0,
             "ticks": ""
            }
           }
          ],
          "histogram2d": [
           {
            "type": "histogram2d",
            "colorbar": {
             "outlinewidth": 0,
             "ticks": ""
            },
            "colorscale": [
             [
              0.0,
              "#0d0887"
             ],
             [
              0.1111111111111111,
              "#46039f"
             ],
             [
              0.2222222222222222,
              "#7201a8"
             ],
             [
              0.3333333333333333,
              "#9c179e"
             ],
             [
              0.4444444444444444,
              "#bd3786"
             ],
             [
              0.5555555555555556,
              "#d8576b"
             ],
             [
              0.6666666666666666,
              "#ed7953"
             ],
             [
              0.7777777777777778,
              "#fb9f3a"
             ],
             [
              0.8888888888888888,
              "#fdca26"
             ],
             [
              1.0,
              "#f0f921"
             ]
            ]
           }
          ],
          "heatmap": [
           {
            "type": "heatmap",
            "colorbar": {
             "outlinewidth": 0,
             "ticks": ""
            },
            "colorscale": [
             [
              0.0,
              "#0d0887"
             ],
             [
              0.1111111111111111,
              "#46039f"
             ],
             [
              0.2222222222222222,
              "#7201a8"
             ],
             [
              0.3333333333333333,
              "#9c179e"
             ],
             [
              0.4444444444444444,
              "#bd3786"
             ],
             [
              0.5555555555555556,
              "#d8576b"
             ],
             [
              0.6666666666666666,
              "#ed7953"
             ],
             [
              0.7777777777777778,
              "#fb9f3a"
             ],
             [
              0.8888888888888888,
              "#fdca26"
             ],
             [
              1.0,
              "#f0f921"
             ]
            ]
           }
          ],
          "heatmapgl": [
           {
            "type": "heatmapgl",
            "colorbar": {
             "outlinewidth": 0,
             "ticks": ""
            },
            "colorscale": [
             [
              0.0,
              "#0d0887"
             ],
             [
              0.1111111111111111,
              "#46039f"
             ],
             [
              0.2222222222222222,
              "#7201a8"
             ],
             [
              0.3333333333333333,
              "#9c179e"
             ],
             [
              0.4444444444444444,
              "#bd3786"
             ],
             [
              0.5555555555555556,
              "#d8576b"
             ],
             [
              0.6666666666666666,
              "#ed7953"
             ],
             [
              0.7777777777777778,
              "#fb9f3a"
             ],
             [
              0.8888888888888888,
              "#fdca26"
             ],
             [
              1.0,
              "#f0f921"
             ]
            ]
           }
          ],
          "contourcarpet": [
           {
            "type": "contourcarpet",
            "colorbar": {
             "outlinewidth": 0,
             "ticks": ""
            }
           }
          ],
          "contour": [
           {
            "type": "contour",
            "colorbar": {
             "outlinewidth": 0,
             "ticks": ""
            },
            "colorscale": [
             [
              0.0,
              "#0d0887"
             ],
             [
              0.1111111111111111,
              "#46039f"
             ],
             [
              0.2222222222222222,
              "#7201a8"
             ],
             [
              0.3333333333333333,
              "#9c179e"
             ],
             [
              0.4444444444444444,
              "#bd3786"
             ],
             [
              0.5555555555555556,
              "#d8576b"
             ],
             [
              0.6666666666666666,
              "#ed7953"
             ],
             [
              0.7777777777777778,
              "#fb9f3a"
             ],
             [
              0.8888888888888888,
              "#fdca26"
             ],
             [
              1.0,
              "#f0f921"
             ]
            ]
           }
          ],
          "surface": [
           {
            "type": "surface",
            "colorbar": {
             "outlinewidth": 0,
             "ticks": ""
            },
            "colorscale": [
             [
              0.0,
              "#0d0887"
             ],
             [
              0.1111111111111111,
              "#46039f"
             ],
             [
              0.2222222222222222,
              "#7201a8"
             ],
             [
              0.3333333333333333,
              "#9c179e"
             ],
             [
              0.4444444444444444,
              "#bd3786"
             ],
             [
              0.5555555555555556,
              "#d8576b"
             ],
             [
              0.6666666666666666,
              "#ed7953"
             ],
             [
              0.7777777777777778,
              "#fb9f3a"
             ],
             [
              0.8888888888888888,
              "#fdca26"
             ],
             [
              1.0,
              "#f0f921"
             ]
            ]
           }
          ],
          "mesh3d": [
           {
            "type": "mesh3d",
            "colorbar": {
             "outlinewidth": 0,
             "ticks": ""
            }
           }
          ],
          "scatter": [
           {
            "marker": {
             "line": {
              "color": "#283442"
             }
            },
            "type": "scatter"
           }
          ],
          "parcoords": [
           {
            "type": "parcoords",
            "line": {
             "colorbar": {
              "outlinewidth": 0,
              "ticks": ""
             }
            }
           }
          ],
          "scatterpolargl": [
           {
            "type": "scatterpolargl",
            "marker": {
             "colorbar": {
              "outlinewidth": 0,
              "ticks": ""
             }
            }
           }
          ],
          "bar": [
           {
            "error_x": {
             "color": "#f2f5fa"
            },
            "error_y": {
             "color": "#f2f5fa"
            },
            "marker": {
             "line": {
              "color": "rgb(17,17,17)",
              "width": 0.5
             },
             "pattern": {
              "fillmode": "overlay",
              "size": 10,
              "solidity": 0.2
             }
            },
            "type": "bar"
           }
          ],
          "scattergeo": [
           {
            "type": "scattergeo",
            "marker": {
             "colorbar": {
              "outlinewidth": 0,
              "ticks": ""
             }
            }
           }
          ],
          "scatterpolar": [
           {
            "type": "scatterpolar",
            "marker": {
             "colorbar": {
              "outlinewidth": 0,
              "ticks": ""
             }
            }
           }
          ],
          "histogram": [
           {
            "marker": {
             "pattern": {
              "fillmode": "overlay",
              "size": 10,
              "solidity": 0.2
             }
            },
            "type": "histogram"
           }
          ],
          "scattergl": [
           {
            "marker": {
             "line": {
              "color": "#283442"
             }
            },
            "type": "scattergl"
           }
          ],
          "scatter3d": [
           {
            "type": "scatter3d",
            "line": {
             "colorbar": {
              "outlinewidth": 0,
              "ticks": ""
             }
            },
            "marker": {
             "colorbar": {
              "outlinewidth": 0,
              "ticks": ""
             }
            }
           }
          ],
          "scattermapbox": [
           {
            "type": "scattermapbox",
            "marker": {
             "colorbar": {
              "outlinewidth": 0,
              "ticks": ""
             }
            }
           }
          ],
          "scatterternary": [
           {
            "type": "scatterternary",
            "marker": {
             "colorbar": {
              "outlinewidth": 0,
              "ticks": ""
             }
            }
           }
          ],
          "scattercarpet": [
           {
            "type": "scattercarpet",
            "marker": {
             "colorbar": {
              "outlinewidth": 0,
              "ticks": ""
             }
            }
           }
          ],
          "carpet": [
           {
            "aaxis": {
             "endlinecolor": "#A2B1C6",
             "gridcolor": "#506784",
             "linecolor": "#506784",
             "minorgridcolor": "#506784",
             "startlinecolor": "#A2B1C6"
            },
            "baxis": {
             "endlinecolor": "#A2B1C6",
             "gridcolor": "#506784",
             "linecolor": "#506784",
             "minorgridcolor": "#506784",
             "startlinecolor": "#A2B1C6"
            },
            "type": "carpet"
           }
          ],
          "table": [
           {
            "cells": {
             "fill": {
              "color": "#506784"
             },
             "line": {
              "color": "rgb(17,17,17)"
             }
            },
            "header": {
             "fill": {
              "color": "#2a3f5f"
             },
             "line": {
              "color": "rgb(17,17,17)"
             }
            },
            "type": "table"
           }
          ],
          "barpolar": [
           {
            "marker": {
             "line": {
              "color": "rgb(17,17,17)",
              "width": 0.5
             },
             "pattern": {
              "fillmode": "overlay",
              "size": 10,
              "solidity": 0.2
             }
            },
            "type": "barpolar"
           }
          ],
          "pie": [
           {
            "automargin": true,
            "type": "pie"
           }
          ]
         },
         "layout": {
          "autotypenumbers": "strict",
          "colorway": [
           "#636efa",
           "#EF553B",
           "#00cc96",
           "#ab63fa",
           "#FFA15A",
           "#19d3f3",
           "#FF6692",
           "#B6E880",
           "#FF97FF",
           "#FECB52"
          ],
          "font": {
           "color": "#f2f5fa"
          },
          "hovermode": "closest",
          "hoverlabel": {
           "align": "left"
          },
          "paper_bgcolor": "rgb(17,17,17)",
          "plot_bgcolor": "rgb(17,17,17)",
          "polar": {
           "bgcolor": "rgb(17,17,17)",
           "angularaxis": {
            "gridcolor": "#506784",
            "linecolor": "#506784",
            "ticks": ""
           },
           "radialaxis": {
            "gridcolor": "#506784",
            "linecolor": "#506784",
            "ticks": ""
           }
          },
          "ternary": {
           "bgcolor": "rgb(17,17,17)",
           "aaxis": {
            "gridcolor": "#506784",
            "linecolor": "#506784",
            "ticks": ""
           },
           "baxis": {
            "gridcolor": "#506784",
            "linecolor": "#506784",
            "ticks": ""
           },
           "caxis": {
            "gridcolor": "#506784",
            "linecolor": "#506784",
            "ticks": ""
           }
          },
          "coloraxis": {
           "colorbar": {
            "outlinewidth": 0,
            "ticks": ""
           }
          },
          "colorscale": {
           "sequential": [
            [
             0.0,
             "#0d0887"
            ],
            [
             0.1111111111111111,
             "#46039f"
            ],
            [
             0.2222222222222222,
             "#7201a8"
            ],
            [
             0.3333333333333333,
             "#9c179e"
            ],
            [
             0.4444444444444444,
             "#bd3786"
            ],
            [
             0.5555555555555556,
             "#d8576b"
            ],
            [
             0.6666666666666666,
             "#ed7953"
            ],
            [
             0.7777777777777778,
             "#fb9f3a"
            ],
            [
             0.8888888888888888,
             "#fdca26"
            ],
            [
             1.0,
             "#f0f921"
            ]
           ],
           "sequentialminus": [
            [
             0.0,
             "#0d0887"
            ],
            [
             0.1111111111111111,
             "#46039f"
            ],
            [
             0.2222222222222222,
             "#7201a8"
            ],
            [
             0.3333333333333333,
             "#9c179e"
            ],
            [
             0.4444444444444444,
             "#bd3786"
            ],
            [
             0.5555555555555556,
             "#d8576b"
            ],
            [
             0.6666666666666666,
             "#ed7953"
            ],
            [
             0.7777777777777778,
             "#fb9f3a"
            ],
            [
             0.8888888888888888,
             "#fdca26"
            ],
            [
             1.0,
             "#f0f921"
            ]
           ],
           "diverging": [
            [
             0,
             "#8e0152"
            ],
            [
             0.1,
             "#c51b7d"
            ],
            [
             0.2,
             "#de77ae"
            ],
            [
             0.3,
             "#f1b6da"
            ],
            [
             0.4,
             "#fde0ef"
            ],
            [
             0.5,
             "#f7f7f7"
            ],
            [
             0.6,
             "#e6f5d0"
            ],
            [
             0.7,
             "#b8e186"
            ],
            [
             0.8,
             "#7fbc41"
            ],
            [
             0.9,
             "#4d9221"
            ],
            [
             1,
             "#276419"
            ]
           ]
          },
          "xaxis": {
           "gridcolor": "#283442",
           "linecolor": "#506784",
           "ticks": "",
           "title": {
            "standoff": 15
           },
           "zerolinecolor": "#283442",
           "automargin": true,
           "zerolinewidth": 2
          },
          "yaxis": {
           "gridcolor": "#283442",
           "linecolor": "#506784",
           "ticks": "",
           "title": {
            "standoff": 15
           },
           "zerolinecolor": "#283442",
           "automargin": true,
           "zerolinewidth": 2
          },
          "scene": {
           "xaxis": {
            "backgroundcolor": "rgb(17,17,17)",
            "gridcolor": "#506784",
            "linecolor": "#506784",
            "showbackground": true,
            "ticks": "",
            "zerolinecolor": "#C8D4E3",
            "gridwidth": 2
           },
           "yaxis": {
            "backgroundcolor": "rgb(17,17,17)",
            "gridcolor": "#506784",
            "linecolor": "#506784",
            "showbackground": true,
            "ticks": "",
            "zerolinecolor": "#C8D4E3",
            "gridwidth": 2
           },
           "zaxis": {
            "backgroundcolor": "rgb(17,17,17)",
            "gridcolor": "#506784",
            "linecolor": "#506784",
            "showbackground": true,
            "ticks": "",
            "zerolinecolor": "#C8D4E3",
            "gridwidth": 2
           }
          },
          "shapedefaults": {
           "line": {
            "color": "#f2f5fa"
           }
          },
          "annotationdefaults": {
           "arrowcolor": "#f2f5fa",
           "arrowhead": 0,
           "arrowwidth": 1
          },
          "geo": {
           "bgcolor": "rgb(17,17,17)",
           "landcolor": "rgb(17,17,17)",
           "subunitcolor": "#506784",
           "showland": true,
           "showlakes": true,
           "lakecolor": "rgb(17,17,17)"
          },
          "title": {
           "x": 0.05
          },
          "updatemenudefaults": {
           "bgcolor": "#506784",
           "borderwidth": 0
          },
          "sliderdefaults": {
           "bgcolor": "#C8D4E3",
           "borderwidth": 1,
           "bordercolor": "rgb(17,17,17)",
           "tickwidth": 0
          },
          "mapbox": {
           "style": "dark"
          }
         }
        },
        "xaxis": {
         "anchor": "y",
         "domain": [
          0.0,
          1.0
         ],
         "title": {
          "text": "Workout Date"
         },
         "showgrid": false,
         "zeroline": false
        },
        "yaxis": {
         "anchor": "x",
         "domain": [
          0.0,
          1.0
         ],
         "title": {
          "text": "Weight x Reps"
         },
         "showgrid": false,
         "zeroline": false
        },
        "legend": {
         "title": {
          "text": "Exercise"
         },
         "tracegroupgap": 0
        },
        "title": {
         "text": "Back Day Exercises"
        },
        "height": 600,
        "width": 800
       },
       "config": {
        "plotlyServerURL": "https://plot.ly"
       }
      },
      "text/html": "<div>                            <div id=\"31985ebc-8d65-4c69-8663-6c9ba9bcdca6\" class=\"plotly-graph-div\" style=\"height:600px; width:800px;\"></div>            <script type=\"text/javascript\">                require([\"plotly\"], function(Plotly) {                    window.PLOTLYENV=window.PLOTLYENV || {};                                    if (document.getElementById(\"31985ebc-8d65-4c69-8663-6c9ba9bcdca6\")) {                    Plotly.newPlot(                        \"31985ebc-8d65-4c69-8663-6c9ba9bcdca6\",                        [{\"hovertemplate\":\"Exercise=Platform Back Raises<br>Workout Date=%{x}<br>Weight x Reps=%{y}<extra></extra>\",\"legendgroup\":\"Platform Back Raises\",\"line\":{\"color\":\"#636efa\",\"dash\":\"solid\"},\"marker\":{\"symbol\":\"circle\"},\"mode\":\"markers+lines\",\"name\":\"Platform Back Raises\",\"orientation\":\"v\",\"showlegend\":true,\"x\":[\"2023-04-17T00:00:00\",\"2023-05-01T00:00:00\",\"2023-05-16T00:00:00\",\"2023-05-29T00:00:00\",\"2023-06-05T00:00:00\",\"2023-06-12T00:00:00\"],\"xaxis\":\"x\",\"y\":[1755,2700,2160,2160,2295,2295],\"yaxis\":\"y\",\"type\":\"scatter\",\"textposition\":\"top center\"},{\"hovertemplate\":\"Exercise=Straight Arm Pulldown<br>Workout Date=%{x}<br>Weight x Reps=%{y}<extra></extra>\",\"legendgroup\":\"Straight Arm Pulldown\",\"line\":{\"color\":\"#EF553B\",\"dash\":\"solid\"},\"marker\":{\"symbol\":\"circle\"},\"mode\":\"markers+lines\",\"name\":\"Straight Arm Pulldown\",\"orientation\":\"v\",\"showlegend\":true,\"x\":[\"2023-04-17T00:00:00\",\"2023-05-01T00:00:00\",\"2023-05-15T00:00:00\",\"2023-05-29T00:00:00\",\"2023-06-05T00:00:00\",\"2023-06-12T00:00:00\"],\"xaxis\":\"x\",\"y\":[855,1300,1440,800,960,1044],\"yaxis\":\"y\",\"type\":\"scatter\",\"textposition\":\"top center\"},{\"hovertemplate\":\"Exercise=Lat Pulldown<br>Workout Date=%{x}<br>Weight x Reps=%{y}<extra></extra>\",\"legendgroup\":\"Lat Pulldown\",\"line\":{\"color\":\"#00cc96\",\"dash\":\"solid\"},\"marker\":{\"symbol\":\"circle\"},\"mode\":\"markers+lines\",\"name\":\"Lat Pulldown\",\"orientation\":\"v\",\"showlegend\":true,\"x\":[\"2023-04-17T00:00:00\",\"2023-05-01T00:00:00\",\"2023-05-15T00:00:00\",\"2023-05-29T00:00:00\",\"2023-06-05T00:00:00\",\"2023-06-12T00:00:00\"],\"xaxis\":\"x\",\"y\":[2080,3600,2640,2400,1820,2640],\"yaxis\":\"y\",\"type\":\"scatter\",\"textposition\":\"top center\"},{\"hovertemplate\":\"Exercise=Smith Rows<br>Workout Date=%{x}<br>Weight x Reps=%{y}<extra></extra>\",\"legendgroup\":\"Smith Rows\",\"line\":{\"color\":\"#ab63fa\",\"dash\":\"solid\"},\"marker\":{\"symbol\":\"circle\"},\"mode\":\"markers+lines\",\"name\":\"Smith Rows\",\"orientation\":\"v\",\"showlegend\":true,\"x\":[\"2023-04-17T00:00:00\",\"2023-05-01T00:00:00\",\"2023-05-15T00:00:00\",\"2023-05-29T00:00:00\",\"2023-06-05T00:00:00\",\"2023-06-12T00:00:00\"],\"xaxis\":\"x\",\"y\":[1740,3000,3250,3250,2030,2900],\"yaxis\":\"y\",\"type\":\"scatter\",\"textposition\":\"top center\"},{\"hovertemplate\":\"Exercise=High Row Machine<br>Workout Date=%{x}<br>Weight x Reps=%{y}<extra></extra>\",\"legendgroup\":\"High Row Machine\",\"line\":{\"color\":\"#FFA15A\",\"dash\":\"solid\"},\"marker\":{\"symbol\":\"circle\"},\"mode\":\"markers+lines\",\"name\":\"High Row Machine\",\"orientation\":\"v\",\"showlegend\":true,\"x\":[\"2023-04-17T00:00:00\",\"2023-05-01T00:00:00\",\"2023-05-15T00:00:00\",\"2023-05-29T00:00:00\",\"2023-06-05T00:00:00\",\"2023-06-12T00:00:00\"],\"xaxis\":\"x\",\"y\":[1430,1540,1820,1400,1200,1440],\"yaxis\":\"y\",\"type\":\"scatter\",\"textposition\":\"top center\"},{\"hovertemplate\":\"Exercise=Rear Delt Machine<br>Workout Date=%{x}<br>Weight x Reps=%{y}<extra></extra>\",\"legendgroup\":\"Rear Delt Machine\",\"line\":{\"color\":\"#19d3f3\",\"dash\":\"solid\"},\"marker\":{\"symbol\":\"circle\"},\"mode\":\"markers+lines\",\"name\":\"Rear Delt Machine\",\"orientation\":\"v\",\"showlegend\":true,\"x\":[\"2023-04-17T00:00:00\",\"2023-05-01T00:00:00\",\"2023-05-15T00:00:00\",\"2023-05-29T00:00:00\",\"2023-06-05T00:00:00\",\"2023-06-12T00:00:00\"],\"xaxis\":\"x\",\"y\":[2275,2280,2720,2275,1900,1845],\"yaxis\":\"y\",\"type\":\"scatter\",\"textposition\":\"top center\"},{\"hovertemplate\":\"Exercise=Preacher Curl Machine<br>Workout Date=%{x}<br>Weight x Reps=%{y}<extra></extra>\",\"legendgroup\":\"Preacher Curl Machine\",\"line\":{\"color\":\"#FF6692\",\"dash\":\"solid\"},\"marker\":{\"symbol\":\"circle\"},\"mode\":\"markers+lines\",\"name\":\"Preacher Curl Machine\",\"orientation\":\"v\",\"showlegend\":true,\"x\":[\"2023-04-17T00:00:00\",\"2023-05-01T00:00:00\",\"2023-05-15T00:00:00\",\"2023-05-29T00:00:00\",\"2023-06-05T00:00:00\",\"2023-06-12T00:00:00\"],\"xaxis\":\"x\",\"y\":[1480,2500,1860,1225,2100,2100],\"yaxis\":\"y\",\"type\":\"scatter\",\"textposition\":\"top center\"},{\"hovertemplate\":\"Exercise=Single Arm Curl<br>Workout Date=%{x}<br>Weight x Reps=%{y}<extra></extra>\",\"legendgroup\":\"Single Arm Curl\",\"line\":{\"color\":\"#B6E880\",\"dash\":\"solid\"},\"marker\":{\"symbol\":\"circle\"},\"mode\":\"markers+lines\",\"name\":\"Single Arm Curl\",\"orientation\":\"v\",\"showlegend\":true,\"x\":[\"2023-04-17T00:00:00\",\"2023-05-01T00:00:00\",\"2023-05-15T00:00:00\",\"2023-05-29T00:00:00\",\"2023-06-05T00:00:00\",\"2023-06-12T00:00:00\"],\"xaxis\":\"x\",\"y\":[252,375,385,240,275,300],\"yaxis\":\"y\",\"type\":\"scatter\",\"textposition\":\"top center\"},{\"hovertemplate\":\"Exercise=Bicep 21<br>Workout Date=%{x}<br>Weight x Reps=%{y}<extra></extra>\",\"legendgroup\":\"Bicep 21\",\"line\":{\"color\":\"#FF97FF\",\"dash\":\"solid\"},\"marker\":{\"symbol\":\"circle\"},\"mode\":\"markers+lines\",\"name\":\"Bicep 21\",\"orientation\":\"v\",\"showlegend\":true,\"x\":[\"2023-04-17T00:00:00\",\"2023-05-01T00:00:00\",\"2023-05-15T00:00:00\",\"2023-05-29T00:00:00\",\"2023-06-05T00:00:00\",\"2023-06-12T00:00:00\"],\"xaxis\":\"x\",\"y\":[1050,1026,882,882,1050,855],\"yaxis\":\"y\",\"type\":\"scatter\",\"textposition\":\"top center\"}],                        {\"template\":{\"data\":{\"histogram2dcontour\":[{\"type\":\"histogram2dcontour\",\"colorbar\":{\"outlinewidth\":0,\"ticks\":\"\"},\"colorscale\":[[0.0,\"#0d0887\"],[0.1111111111111111,\"#46039f\"],[0.2222222222222222,\"#7201a8\"],[0.3333333333333333,\"#9c179e\"],[0.4444444444444444,\"#bd3786\"],[0.5555555555555556,\"#d8576b\"],[0.6666666666666666,\"#ed7953\"],[0.7777777777777778,\"#fb9f3a\"],[0.8888888888888888,\"#fdca26\"],[1.0,\"#f0f921\"]]}],\"choropleth\":[{\"type\":\"choropleth\",\"colorbar\":{\"outlinewidth\":0,\"ticks\":\"\"}}],\"histogram2d\":[{\"type\":\"histogram2d\",\"colorbar\":{\"outlinewidth\":0,\"ticks\":\"\"},\"colorscale\":[[0.0,\"#0d0887\"],[0.1111111111111111,\"#46039f\"],[0.2222222222222222,\"#7201a8\"],[0.3333333333333333,\"#9c179e\"],[0.4444444444444444,\"#bd3786\"],[0.5555555555555556,\"#d8576b\"],[0.6666666666666666,\"#ed7953\"],[0.7777777777777778,\"#fb9f3a\"],[0.8888888888888888,\"#fdca26\"],[1.0,\"#f0f921\"]]}],\"heatmap\":[{\"type\":\"heatmap\",\"colorbar\":{\"outlinewidth\":0,\"ticks\":\"\"},\"colorscale\":[[0.0,\"#0d0887\"],[0.1111111111111111,\"#46039f\"],[0.2222222222222222,\"#7201a8\"],[0.3333333333333333,\"#9c179e\"],[0.4444444444444444,\"#bd3786\"],[0.5555555555555556,\"#d8576b\"],[0.6666666666666666,\"#ed7953\"],[0.7777777777777778,\"#fb9f3a\"],[0.8888888888888888,\"#fdca26\"],[1.0,\"#f0f921\"]]}],\"heatmapgl\":[{\"type\":\"heatmapgl\",\"colorbar\":{\"outlinewidth\":0,\"ticks\":\"\"},\"colorscale\":[[0.0,\"#0d0887\"],[0.1111111111111111,\"#46039f\"],[0.2222222222222222,\"#7201a8\"],[0.3333333333333333,\"#9c179e\"],[0.4444444444444444,\"#bd3786\"],[0.5555555555555556,\"#d8576b\"],[0.6666666666666666,\"#ed7953\"],[0.7777777777777778,\"#fb9f3a\"],[0.8888888888888888,\"#fdca26\"],[1.0,\"#f0f921\"]]}],\"contourcarpet\":[{\"type\":\"contourcarpet\",\"colorbar\":{\"outlinewidth\":0,\"ticks\":\"\"}}],\"contour\":[{\"type\":\"contour\",\"colorbar\":{\"outlinewidth\":0,\"ticks\":\"\"},\"colorscale\":[[0.0,\"#0d0887\"],[0.1111111111111111,\"#46039f\"],[0.2222222222222222,\"#7201a8\"],[0.3333333333333333,\"#9c179e\"],[0.4444444444444444,\"#bd3786\"],[0.5555555555555556,\"#d8576b\"],[0.6666666666666666,\"#ed7953\"],[0.7777777777777778,\"#fb9f3a\"],[0.8888888888888888,\"#fdca26\"],[1.0,\"#f0f921\"]]}],\"surface\":[{\"type\":\"surface\",\"colorbar\":{\"outlinewidth\":0,\"ticks\":\"\"},\"colorscale\":[[0.0,\"#0d0887\"],[0.1111111111111111,\"#46039f\"],[0.2222222222222222,\"#7201a8\"],[0.3333333333333333,\"#9c179e\"],[0.4444444444444444,\"#bd3786\"],[0.5555555555555556,\"#d8576b\"],[0.6666666666666666,\"#ed7953\"],[0.7777777777777778,\"#fb9f3a\"],[0.8888888888888888,\"#fdca26\"],[1.0,\"#f0f921\"]]}],\"mesh3d\":[{\"type\":\"mesh3d\",\"colorbar\":{\"outlinewidth\":0,\"ticks\":\"\"}}],\"scatter\":[{\"marker\":{\"line\":{\"color\":\"#283442\"}},\"type\":\"scatter\"}],\"parcoords\":[{\"type\":\"parcoords\",\"line\":{\"colorbar\":{\"outlinewidth\":0,\"ticks\":\"\"}}}],\"scatterpolargl\":[{\"type\":\"scatterpolargl\",\"marker\":{\"colorbar\":{\"outlinewidth\":0,\"ticks\":\"\"}}}],\"bar\":[{\"error_x\":{\"color\":\"#f2f5fa\"},\"error_y\":{\"color\":\"#f2f5fa\"},\"marker\":{\"line\":{\"color\":\"rgb(17,17,17)\",\"width\":0.5},\"pattern\":{\"fillmode\":\"overlay\",\"size\":10,\"solidity\":0.2}},\"type\":\"bar\"}],\"scattergeo\":[{\"type\":\"scattergeo\",\"marker\":{\"colorbar\":{\"outlinewidth\":0,\"ticks\":\"\"}}}],\"scatterpolar\":[{\"type\":\"scatterpolar\",\"marker\":{\"colorbar\":{\"outlinewidth\":0,\"ticks\":\"\"}}}],\"histogram\":[{\"marker\":{\"pattern\":{\"fillmode\":\"overlay\",\"size\":10,\"solidity\":0.2}},\"type\":\"histogram\"}],\"scattergl\":[{\"marker\":{\"line\":{\"color\":\"#283442\"}},\"type\":\"scattergl\"}],\"scatter3d\":[{\"type\":\"scatter3d\",\"line\":{\"colorbar\":{\"outlinewidth\":0,\"ticks\":\"\"}},\"marker\":{\"colorbar\":{\"outlinewidth\":0,\"ticks\":\"\"}}}],\"scattermapbox\":[{\"type\":\"scattermapbox\",\"marker\":{\"colorbar\":{\"outlinewidth\":0,\"ticks\":\"\"}}}],\"scatterternary\":[{\"type\":\"scatterternary\",\"marker\":{\"colorbar\":{\"outlinewidth\":0,\"ticks\":\"\"}}}],\"scattercarpet\":[{\"type\":\"scattercarpet\",\"marker\":{\"colorbar\":{\"outlinewidth\":0,\"ticks\":\"\"}}}],\"carpet\":[{\"aaxis\":{\"endlinecolor\":\"#A2B1C6\",\"gridcolor\":\"#506784\",\"linecolor\":\"#506784\",\"minorgridcolor\":\"#506784\",\"startlinecolor\":\"#A2B1C6\"},\"baxis\":{\"endlinecolor\":\"#A2B1C6\",\"gridcolor\":\"#506784\",\"linecolor\":\"#506784\",\"minorgridcolor\":\"#506784\",\"startlinecolor\":\"#A2B1C6\"},\"type\":\"carpet\"}],\"table\":[{\"cells\":{\"fill\":{\"color\":\"#506784\"},\"line\":{\"color\":\"rgb(17,17,17)\"}},\"header\":{\"fill\":{\"color\":\"#2a3f5f\"},\"line\":{\"color\":\"rgb(17,17,17)\"}},\"type\":\"table\"}],\"barpolar\":[{\"marker\":{\"line\":{\"color\":\"rgb(17,17,17)\",\"width\":0.5},\"pattern\":{\"fillmode\":\"overlay\",\"size\":10,\"solidity\":0.2}},\"type\":\"barpolar\"}],\"pie\":[{\"automargin\":true,\"type\":\"pie\"}]},\"layout\":{\"autotypenumbers\":\"strict\",\"colorway\":[\"#636efa\",\"#EF553B\",\"#00cc96\",\"#ab63fa\",\"#FFA15A\",\"#19d3f3\",\"#FF6692\",\"#B6E880\",\"#FF97FF\",\"#FECB52\"],\"font\":{\"color\":\"#f2f5fa\"},\"hovermode\":\"closest\",\"hoverlabel\":{\"align\":\"left\"},\"paper_bgcolor\":\"rgb(17,17,17)\",\"plot_bgcolor\":\"rgb(17,17,17)\",\"polar\":{\"bgcolor\":\"rgb(17,17,17)\",\"angularaxis\":{\"gridcolor\":\"#506784\",\"linecolor\":\"#506784\",\"ticks\":\"\"},\"radialaxis\":{\"gridcolor\":\"#506784\",\"linecolor\":\"#506784\",\"ticks\":\"\"}},\"ternary\":{\"bgcolor\":\"rgb(17,17,17)\",\"aaxis\":{\"gridcolor\":\"#506784\",\"linecolor\":\"#506784\",\"ticks\":\"\"},\"baxis\":{\"gridcolor\":\"#506784\",\"linecolor\":\"#506784\",\"ticks\":\"\"},\"caxis\":{\"gridcolor\":\"#506784\",\"linecolor\":\"#506784\",\"ticks\":\"\"}},\"coloraxis\":{\"colorbar\":{\"outlinewidth\":0,\"ticks\":\"\"}},\"colorscale\":{\"sequential\":[[0.0,\"#0d0887\"],[0.1111111111111111,\"#46039f\"],[0.2222222222222222,\"#7201a8\"],[0.3333333333333333,\"#9c179e\"],[0.4444444444444444,\"#bd3786\"],[0.5555555555555556,\"#d8576b\"],[0.6666666666666666,\"#ed7953\"],[0.7777777777777778,\"#fb9f3a\"],[0.8888888888888888,\"#fdca26\"],[1.0,\"#f0f921\"]],\"sequentialminus\":[[0.0,\"#0d0887\"],[0.1111111111111111,\"#46039f\"],[0.2222222222222222,\"#7201a8\"],[0.3333333333333333,\"#9c179e\"],[0.4444444444444444,\"#bd3786\"],[0.5555555555555556,\"#d8576b\"],[0.6666666666666666,\"#ed7953\"],[0.7777777777777778,\"#fb9f3a\"],[0.8888888888888888,\"#fdca26\"],[1.0,\"#f0f921\"]],\"diverging\":[[0,\"#8e0152\"],[0.1,\"#c51b7d\"],[0.2,\"#de77ae\"],[0.3,\"#f1b6da\"],[0.4,\"#fde0ef\"],[0.5,\"#f7f7f7\"],[0.6,\"#e6f5d0\"],[0.7,\"#b8e186\"],[0.8,\"#7fbc41\"],[0.9,\"#4d9221\"],[1,\"#276419\"]]},\"xaxis\":{\"gridcolor\":\"#283442\",\"linecolor\":\"#506784\",\"ticks\":\"\",\"title\":{\"standoff\":15},\"zerolinecolor\":\"#283442\",\"automargin\":true,\"zerolinewidth\":2},\"yaxis\":{\"gridcolor\":\"#283442\",\"linecolor\":\"#506784\",\"ticks\":\"\",\"title\":{\"standoff\":15},\"zerolinecolor\":\"#283442\",\"automargin\":true,\"zerolinewidth\":2},\"scene\":{\"xaxis\":{\"backgroundcolor\":\"rgb(17,17,17)\",\"gridcolor\":\"#506784\",\"linecolor\":\"#506784\",\"showbackground\":true,\"ticks\":\"\",\"zerolinecolor\":\"#C8D4E3\",\"gridwidth\":2},\"yaxis\":{\"backgroundcolor\":\"rgb(17,17,17)\",\"gridcolor\":\"#506784\",\"linecolor\":\"#506784\",\"showbackground\":true,\"ticks\":\"\",\"zerolinecolor\":\"#C8D4E3\",\"gridwidth\":2},\"zaxis\":{\"backgroundcolor\":\"rgb(17,17,17)\",\"gridcolor\":\"#506784\",\"linecolor\":\"#506784\",\"showbackground\":true,\"ticks\":\"\",\"zerolinecolor\":\"#C8D4E3\",\"gridwidth\":2}},\"shapedefaults\":{\"line\":{\"color\":\"#f2f5fa\"}},\"annotationdefaults\":{\"arrowcolor\":\"#f2f5fa\",\"arrowhead\":0,\"arrowwidth\":1},\"geo\":{\"bgcolor\":\"rgb(17,17,17)\",\"landcolor\":\"rgb(17,17,17)\",\"subunitcolor\":\"#506784\",\"showland\":true,\"showlakes\":true,\"lakecolor\":\"rgb(17,17,17)\"},\"title\":{\"x\":0.05},\"updatemenudefaults\":{\"bgcolor\":\"#506784\",\"borderwidth\":0},\"sliderdefaults\":{\"bgcolor\":\"#C8D4E3\",\"borderwidth\":1,\"bordercolor\":\"rgb(17,17,17)\",\"tickwidth\":0},\"mapbox\":{\"style\":\"dark\"}}},\"xaxis\":{\"anchor\":\"y\",\"domain\":[0.0,1.0],\"title\":{\"text\":\"Workout Date\"},\"showgrid\":false,\"zeroline\":false},\"yaxis\":{\"anchor\":\"x\",\"domain\":[0.0,1.0],\"title\":{\"text\":\"Weight x Reps\"},\"showgrid\":false,\"zeroline\":false},\"legend\":{\"title\":{\"text\":\"Exercise\"},\"tracegroupgap\":0},\"title\":{\"text\":\"Back Day Exercises\"},\"height\":600,\"width\":800},                        {\"responsive\": true}                    ).then(function(){\n                            \nvar gd = document.getElementById('31985ebc-8d65-4c69-8663-6c9ba9bcdca6');\nvar x = new MutationObserver(function (mutations, observer) {{\n        var display = window.getComputedStyle(gd).display;\n        if (!display || display === 'none') {{\n            console.log([gd, 'removed!']);\n            Plotly.purge(gd);\n            observer.disconnect();\n        }}\n}});\n\n// Listen for the removal of the full notebook cells\nvar notebookContainer = gd.closest('#notebook-container');\nif (notebookContainer) {{\n    x.observe(notebookContainer, {childList: true});\n}}\n\n// Listen for the clearing of the current output cell\nvar outputEl = gd.closest('.output');\nif (outputEl) {{\n    x.observe(outputEl, {childList: true});\n}}\n\n                        })                };                });            </script>        </div>"
     },
     "metadata": {},
     "output_type": "display_data"
    }
   ],
   "source": [
    "fig = px.line(\n",
    "  current_exercises, x='date', y='volume', color='name', markers=True,\n",
    "  height=600,width=800,\n",
    "  labels={\n",
    "    'volume': \"Weight x Reps\",\n",
    "    'date': \"Workout Date\",\n",
    "    'name': \"Exercise\"\n",
    "  },\n",
    "  title=\"Back Day Exercises\"\n",
    ")\n",
    "fig.update_traces(textposition='top center')\n",
    "fig.update_xaxes(showgrid=False, zeroline=False)\n",
    "fig.update_yaxes(showgrid=False, zeroline=False)\n",
    "fig.show()"
   ],
   "metadata": {
    "collapsed": false,
    "ExecuteTime": {
     "end_time": "2023-06-13T07:39:54.832243Z",
     "start_time": "2023-06-13T07:39:54.788985Z"
    }
   }
  },
  {
   "cell_type": "markdown",
   "source": [
    "## Leg Day Notes:\n",
    "* 2023-05-19: Changed Smith Squat range of motion to full so should be marked drop in weight.\n",
    "* 2023-06-02: Changed Leg Extensions from two legs to one which will account for the weight change."
   ],
   "metadata": {
    "collapsed": false,
    "ExecuteTime": {
     "end_time": "2023-06-07T04:17:09.749480Z",
     "start_time": "2023-06-07T04:17:09.745690Z"
    }
   },
   "outputs": [
    {
     "data": {
      "text/plain": "         id       date                         name weight reps\n35  1000036 2023-06-02       Oblique Crunch Machine    170   24\n36  1000037 2023-06-02  Smith Straight Leg Deadlift    340    8\n37  1000038 2023-06-02               Leg Extensions    130   10\n38  1000039 2023-06-02                    Leg Curls    120   20\n39  1000040 2023-06-02                     Adductor    260   18",
      "text/html": "<div>\n<style scoped>\n    .dataframe tbody tr th:only-of-type {\n        vertical-align: middle;\n    }\n\n    .dataframe tbody tr th {\n        vertical-align: top;\n    }\n\n    .dataframe thead th {\n        text-align: right;\n    }\n</style>\n<table border=\"1\" class=\"dataframe\">\n  <thead>\n    <tr style=\"text-align: right;\">\n      <th></th>\n      <th>id</th>\n      <th>date</th>\n      <th>name</th>\n      <th>weight</th>\n      <th>reps</th>\n    </tr>\n  </thead>\n  <tbody>\n    <tr>\n      <th>35</th>\n      <td>1000036</td>\n      <td>2023-06-02</td>\n      <td>Oblique Crunch Machine</td>\n      <td>170</td>\n      <td>24</td>\n    </tr>\n    <tr>\n      <th>36</th>\n      <td>1000037</td>\n      <td>2023-06-02</td>\n      <td>Smith Straight Leg Deadlift</td>\n      <td>340</td>\n      <td>8</td>\n    </tr>\n    <tr>\n      <th>37</th>\n      <td>1000038</td>\n      <td>2023-06-02</td>\n      <td>Leg Extensions</td>\n      <td>130</td>\n      <td>10</td>\n    </tr>\n    <tr>\n      <th>38</th>\n      <td>1000039</td>\n      <td>2023-06-02</td>\n      <td>Leg Curls</td>\n      <td>120</td>\n      <td>20</td>\n    </tr>\n    <tr>\n      <th>39</th>\n      <td>1000040</td>\n      <td>2023-06-02</td>\n      <td>Adductor</td>\n      <td>260</td>\n      <td>18</td>\n    </tr>\n  </tbody>\n</table>\n</div>"
     },
     "execution_count": 10,
     "metadata": {},
     "output_type": "execute_result"
    }
   ],
   "execution_count": 10
  }
 ],
 "metadata": {
  "kernelspec": {
   "display_name": "Python 3",
   "language": "python",
   "name": "python3"
  },
  "language_info": {
   "codemirror_mode": {
    "name": "ipython",
    "version": 2
   },
   "file_extension": ".py",
   "mimetype": "text/x-python",
   "name": "python",
   "nbconvert_exporter": "python",
   "pygments_lexer": "ipython2",
   "version": "2.7.6"
  }
 },
 "nbformat": 4,
 "nbformat_minor": 0
}
