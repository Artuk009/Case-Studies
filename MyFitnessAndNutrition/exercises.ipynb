{
 "cells": [
  {
   "cell_type": "markdown",
   "source": [
    "# Exercises Editor\n",
    "Author: Brent Artuch <br>\n",
    "Date: 2023-06-07"
   ],
   "metadata": {
    "collapsed": false
   }
  },
  {
   "cell_type": "markdown",
   "source": [
    "## Import From SQL"
   ],
   "metadata": {
    "collapsed": false
   }
  },
  {
   "cell_type": "markdown",
   "source": [
    "## Introduction"
   ],
   "metadata": {
    "collapsed": false
   }
  },
  {
   "cell_type": "markdown",
   "source": [
    "In this notebook we explore how exercise data is logged for a given day of training and calculations to\n",
    "determine the output of each exercise and what the desired output for the following week will be. The\n",
    "data entries are recorded at the gym using a simple log app that I developed for Android. The key data\n",
    "in this notebook will be the `weight` and `reps` of each exercise."
   ],
   "metadata": {
    "collapsed": false
   }
  },
  {
   "cell_type": "markdown",
   "source": [
    "## Step: 1 Imports\n",
    "### Import packages"
   ],
   "metadata": {
    "collapsed": false
   }
  },
  {
   "cell_type": "code",
   "execution_count": 1,
   "outputs": [],
   "source": [
    "import sqlite3\n",
    "import pandas as pd\n",
    "import seaborn as sns\n",
    "from matplotlib import pyplot as plt"
   ],
   "metadata": {
    "collapsed": false,
    "ExecuteTime": {
     "end_time": "2023-06-07T06:20:57.519508Z",
     "start_time": "2023-06-07T06:20:57.518080Z"
    }
   }
  },
  {
   "cell_type": "markdown",
   "source": [
    "### Load the dataset\n",
    "This dataset is pulled from a SQLite database named `exercises` with four tables: `leg_day`, `chest_day`,\n",
    "`back_day`, and `shoulder_day`. We will load the desired day using a simple query."
   ],
   "metadata": {
    "collapsed": false
   }
  },
  {
   "cell_type": "code",
   "execution_count": 2,
   "outputs": [
    {
     "data": {
      "text/plain": "            id                 date                   name  weight  reps\nindex                                                                   \n26     1000027  2023-05-16 00:00:00   Platform Back Raises     135    16\n27     1000028  2023-05-29 00:00:00   Platform Back Raises     135    16\n28     1000029  2023-05-29 00:00:00  Straight Arm Pulldown      80    10\n29     1000030  2023-05-29 00:00:00           Lat Pulldown     240    10\n30     1000031  2023-05-29 00:00:00             Smith Rows     250    13\n31     1000032  2023-05-29 00:00:00       High Row Machine     140    10\n32     1000033  2023-05-29 00:00:00      Rear Delt Machine     175    13\n33     1000034  2023-05-29 00:00:00  Preacher Curl Machine     175     7\n34     1000035  2023-05-29 00:00:00        Single Arm Curl      30     8\n35     1000036  2023-05-29 00:00:00               Bicep 21      42    21",
      "text/html": "<div>\n<style scoped>\n    .dataframe tbody tr th:only-of-type {\n        vertical-align: middle;\n    }\n\n    .dataframe tbody tr th {\n        vertical-align: top;\n    }\n\n    .dataframe thead th {\n        text-align: right;\n    }\n</style>\n<table border=\"1\" class=\"dataframe\">\n  <thead>\n    <tr style=\"text-align: right;\">\n      <th></th>\n      <th>id</th>\n      <th>date</th>\n      <th>name</th>\n      <th>weight</th>\n      <th>reps</th>\n    </tr>\n    <tr>\n      <th>index</th>\n      <th></th>\n      <th></th>\n      <th></th>\n      <th></th>\n      <th></th>\n    </tr>\n  </thead>\n  <tbody>\n    <tr>\n      <th>26</th>\n      <td>1000027</td>\n      <td>2023-05-16 00:00:00</td>\n      <td>Platform Back Raises</td>\n      <td>135</td>\n      <td>16</td>\n    </tr>\n    <tr>\n      <th>27</th>\n      <td>1000028</td>\n      <td>2023-05-29 00:00:00</td>\n      <td>Platform Back Raises</td>\n      <td>135</td>\n      <td>16</td>\n    </tr>\n    <tr>\n      <th>28</th>\n      <td>1000029</td>\n      <td>2023-05-29 00:00:00</td>\n      <td>Straight Arm Pulldown</td>\n      <td>80</td>\n      <td>10</td>\n    </tr>\n    <tr>\n      <th>29</th>\n      <td>1000030</td>\n      <td>2023-05-29 00:00:00</td>\n      <td>Lat Pulldown</td>\n      <td>240</td>\n      <td>10</td>\n    </tr>\n    <tr>\n      <th>30</th>\n      <td>1000031</td>\n      <td>2023-05-29 00:00:00</td>\n      <td>Smith Rows</td>\n      <td>250</td>\n      <td>13</td>\n    </tr>\n    <tr>\n      <th>31</th>\n      <td>1000032</td>\n      <td>2023-05-29 00:00:00</td>\n      <td>High Row Machine</td>\n      <td>140</td>\n      <td>10</td>\n    </tr>\n    <tr>\n      <th>32</th>\n      <td>1000033</td>\n      <td>2023-05-29 00:00:00</td>\n      <td>Rear Delt Machine</td>\n      <td>175</td>\n      <td>13</td>\n    </tr>\n    <tr>\n      <th>33</th>\n      <td>1000034</td>\n      <td>2023-05-29 00:00:00</td>\n      <td>Preacher Curl Machine</td>\n      <td>175</td>\n      <td>7</td>\n    </tr>\n    <tr>\n      <th>34</th>\n      <td>1000035</td>\n      <td>2023-05-29 00:00:00</td>\n      <td>Single Arm Curl</td>\n      <td>30</td>\n      <td>8</td>\n    </tr>\n    <tr>\n      <th>35</th>\n      <td>1000036</td>\n      <td>2023-05-29 00:00:00</td>\n      <td>Bicep 21</td>\n      <td>42</td>\n      <td>21</td>\n    </tr>\n  </tbody>\n</table>\n</div>"
     },
     "execution_count": 2,
     "metadata": {},
     "output_type": "execute_result"
    }
   ],
   "source": [
    "sql_connection = sqlite3.connect('exercises.sqlite')\n",
    "# Import desired table and set the index.\n",
    "current_exercises = pd.read_sql('SELECT * FROM back_day', sql_connection, index_col='index')\n",
    "current_exercises.tail(10)"
   ],
   "metadata": {
    "collapsed": false,
    "ExecuteTime": {
     "end_time": "2023-06-07T06:21:00.410163Z",
     "start_time": "2023-06-07T06:21:00.400671Z"
    }
   }
  },
  {
   "cell_type": "markdown",
   "source": [
    "## Step 2: Data Exploration\n",
    "Next we will get a sense of the size and contents of `current_exercises`."
   ],
   "metadata": {
    "collapsed": false
   }
  },
  {
   "cell_type": "code",
   "execution_count": 3,
   "outputs": [
    {
     "data": {
      "text/plain": "(36, 5)"
     },
     "execution_count": 3,
     "metadata": {},
     "output_type": "execute_result"
    }
   ],
   "source": [
    "current_exercises.shape"
   ],
   "metadata": {
    "collapsed": false,
    "ExecuteTime": {
     "end_time": "2023-06-07T06:21:04.815657Z",
     "start_time": "2023-06-07T06:21:04.810041Z"
    }
   }
  },
  {
   "cell_type": "code",
   "execution_count": 4,
   "outputs": [
    {
     "name": "stdout",
     "output_type": "stream",
     "text": [
      "<class 'pandas.core.frame.DataFrame'>\n",
      "Int64Index: 36 entries, 0 to 35\n",
      "Data columns (total 5 columns):\n",
      " #   Column  Non-Null Count  Dtype \n",
      "---  ------  --------------  ----- \n",
      " 0   id      36 non-null     int64 \n",
      " 1   date    36 non-null     object\n",
      " 2   name    36 non-null     object\n",
      " 3   weight  36 non-null     int64 \n",
      " 4   reps    36 non-null     int64 \n",
      "dtypes: int64(3), object(2)\n",
      "memory usage: 1.7+ KB\n"
     ]
    }
   ],
   "source": [
    "current_exercises.info()"
   ],
   "metadata": {
    "collapsed": false,
    "ExecuteTime": {
     "end_time": "2023-06-07T06:21:15.379760Z",
     "start_time": "2023-06-07T06:21:15.375051Z"
    }
   }
  },
  {
   "cell_type": "code",
   "execution_count": 5,
   "outputs": [
    {
     "data": {
      "text/plain": "Platform Back Raises     4\nStraight Arm Pulldown    4\nLat Pulldown             4\nSmith Rows               4\nHigh Row Machine         4\nRear Delt Machine        4\nPreacher Curl Machine    4\nSingle Arm Curl          4\nBicep 21                 4\nName: name, dtype: int64"
     },
     "execution_count": 5,
     "metadata": {},
     "output_type": "execute_result"
    }
   ],
   "source": [
    "current_exercises['name'].value_counts()"
   ],
   "metadata": {
    "collapsed": false,
    "ExecuteTime": {
     "end_time": "2023-06-07T06:21:17.896186Z",
     "start_time": "2023-06-07T06:21:17.892417Z"
    }
   }
  },
  {
   "cell_type": "markdown",
   "source": [
    "## Step 3: Update the Dataset\n",
    "First we will get each of the unique names from `current_exercises`."
   ],
   "metadata": {
    "collapsed": false,
    "ExecuteTime": {
     "end_time": "2023-06-07T04:11:48.656733Z",
     "start_time": "2023-06-07T04:11:48.647020Z"
    }
   },
   "outputs": [
    {
     "data": {
      "text/plain": "         id                 date                         name  weight  reps\n22  1000019  2023-05-05 00:00:00               Leg Extensions     235    15\n23  1000020  2023-05-05 00:00:00                    Leg Curls     120    19\n24  1000021  2023-05-05 00:00:00                     Adductor     260    20\n25  1000022  2023-05-19 00:00:00        Single Leg Calf Press     250    15\n26  1000023  2023-05-19 00:00:00          Standing Calf Press     340    20\n27  1000024  2023-05-19 00:00:00                  Smith Squat     290    12\n28  1000025  2023-05-19 00:00:00  Smith Straight Leg Deadlift     290    10\n29  1000026  2023-05-19 00:00:00               Leg Extensions     260    12\n30  1000027  2023-05-19 00:00:00                    Leg Curls     150     8\n31  1000028  2023-05-19 00:00:00                     Adductor     260    26",
      "text/html": "<div>\n<style scoped>\n    .dataframe tbody tr th:only-of-type {\n        vertical-align: middle;\n    }\n\n    .dataframe tbody tr th {\n        vertical-align: top;\n    }\n\n    .dataframe thead th {\n        text-align: right;\n    }\n</style>\n<table border=\"1\" class=\"dataframe\">\n  <thead>\n    <tr style=\"text-align: right;\">\n      <th></th>\n      <th>id</th>\n      <th>date</th>\n      <th>name</th>\n      <th>weight</th>\n      <th>reps</th>\n    </tr>\n  </thead>\n  <tbody>\n    <tr>\n      <th>22</th>\n      <td>1000019</td>\n      <td>2023-05-05 00:00:00</td>\n      <td>Leg Extensions</td>\n      <td>235</td>\n      <td>15</td>\n    </tr>\n    <tr>\n      <th>23</th>\n      <td>1000020</td>\n      <td>2023-05-05 00:00:00</td>\n      <td>Leg Curls</td>\n      <td>120</td>\n      <td>19</td>\n    </tr>\n    <tr>\n      <th>24</th>\n      <td>1000021</td>\n      <td>2023-05-05 00:00:00</td>\n      <td>Adductor</td>\n      <td>260</td>\n      <td>20</td>\n    </tr>\n    <tr>\n      <th>25</th>\n      <td>1000022</td>\n      <td>2023-05-19 00:00:00</td>\n      <td>Single Leg Calf Press</td>\n      <td>250</td>\n      <td>15</td>\n    </tr>\n    <tr>\n      <th>26</th>\n      <td>1000023</td>\n      <td>2023-05-19 00:00:00</td>\n      <td>Standing Calf Press</td>\n      <td>340</td>\n      <td>20</td>\n    </tr>\n    <tr>\n      <th>27</th>\n      <td>1000024</td>\n      <td>2023-05-19 00:00:00</td>\n      <td>Smith Squat</td>\n      <td>290</td>\n      <td>12</td>\n    </tr>\n    <tr>\n      <th>28</th>\n      <td>1000025</td>\n      <td>2023-05-19 00:00:00</td>\n      <td>Smith Straight Leg Deadlift</td>\n      <td>290</td>\n      <td>10</td>\n    </tr>\n    <tr>\n      <th>29</th>\n      <td>1000026</td>\n      <td>2023-05-19 00:00:00</td>\n      <td>Leg Extensions</td>\n      <td>260</td>\n      <td>12</td>\n    </tr>\n    <tr>\n      <th>30</th>\n      <td>1000027</td>\n      <td>2023-05-19 00:00:00</td>\n      <td>Leg Curls</td>\n      <td>150</td>\n      <td>8</td>\n    </tr>\n    <tr>\n      <th>31</th>\n      <td>1000028</td>\n      <td>2023-05-19 00:00:00</td>\n      <td>Adductor</td>\n      <td>260</td>\n      <td>26</td>\n    </tr>\n  </tbody>\n</table>\n</div>"
     },
     "execution_count": 3,
     "metadata": {},
     "output_type": "execute_result"
    }
   ],
   "execution_count": 3
  },
  {
   "cell_type": "code",
   "execution_count": 6,
   "outputs": [
    {
     "data": {
      "text/plain": "array(['Platform Back Raises', 'Straight Arm Pulldown', 'Lat Pulldown',\n       'Smith Rows', 'High Row Machine', 'Rear Delt Machine',\n       'Preacher Curl Machine', 'Single Arm Curl', 'Bicep 21'],\n      dtype=object)"
     },
     "execution_count": 6,
     "metadata": {},
     "output_type": "execute_result"
    }
   ],
   "source": [
    "# Set names to a list of unique exercise names\n",
    "names = current_exercises['name'].unique()\n",
    "names"
   ],
   "metadata": {
    "collapsed": false,
    "ExecuteTime": {
     "end_time": "2023-06-07T06:21:20.566554Z",
     "start_time": "2023-06-07T06:21:20.561582Z"
    }
   }
  },
  {
   "cell_type": "markdown",
   "source": [
    "Next we set the date that we wish to update."
   ],
   "metadata": {
    "collapsed": false,
    "ExecuteTime": {
     "end_time": "2023-06-07T04:12:31.932755Z",
     "start_time": "2023-06-07T04:12:31.928768Z"
    }
   },
   "outputs": [
    {
     "data": {
      "text/plain": "array(['Single Leg Calf Press', 'Standing Calf Press', 'Smith Squat',\n       'Oblique Crunch Machine', 'Smith Straight Leg Deadlift',\n       'Leg Extensions', 'Leg Curls', 'Adductor'], dtype=object)"
     },
     "execution_count": 5,
     "metadata": {},
     "output_type": "execute_result"
    }
   ],
   "execution_count": 5
  },
  {
   "cell_type": "code",
   "execution_count": 7,
   "outputs": [
    {
     "data": {
      "text/plain": "'2023-06-05 00:00:00'"
     },
     "execution_count": 7,
     "metadata": {},
     "output_type": "execute_result"
    }
   ],
   "source": [
    "day_of_month = input(\"Enter the day of the month: DD\")\n",
    "date = f\"2023-06-{day_of_month} 00:00:00\"\n",
    "date"
   ],
   "metadata": {
    "collapsed": false,
    "ExecuteTime": {
     "end_time": "2023-06-07T06:21:52.273619Z",
     "start_time": "2023-06-07T06:21:27.760773Z"
    }
   }
  },
  {
   "cell_type": "markdown",
   "source": [
    "### Execute the entry insertion algorithm"
   ],
   "metadata": {
    "collapsed": false
   }
  },
  {
   "cell_type": "code",
   "execution_count": 8,
   "outputs": [
    {
     "data": {
      "text/plain": "            id       date                   name weight reps\nindex                                                       \n35     1000036 2023-05-29               Bicep 21     42   21\n36     1000037 2023-06-05   Platform Back Raises    135   17\n37     1000038 2023-06-05  Straight Arm Pulldown     80   12\n38     1000039 2023-06-05           Lat Pulldown    260    7\n39     1000040 2023-06-05             Smith Rows      7    7\n40     1000041 2023-06-05       High Row Machine    150    8\n41     1000042 2023-06-05      Rear Delt Machine    190   10\n42     1000043 2023-06-05  Preacher Curl Machine    140   15\n43     1000044 2023-06-05        Single Arm Curl     25   11\n44     1000045 2023-06-05               Bicep 21     50   21",
      "text/html": "<div>\n<style scoped>\n    .dataframe tbody tr th:only-of-type {\n        vertical-align: middle;\n    }\n\n    .dataframe tbody tr th {\n        vertical-align: top;\n    }\n\n    .dataframe thead th {\n        text-align: right;\n    }\n</style>\n<table border=\"1\" class=\"dataframe\">\n  <thead>\n    <tr style=\"text-align: right;\">\n      <th></th>\n      <th>id</th>\n      <th>date</th>\n      <th>name</th>\n      <th>weight</th>\n      <th>reps</th>\n    </tr>\n    <tr>\n      <th>index</th>\n      <th></th>\n      <th></th>\n      <th></th>\n      <th></th>\n      <th></th>\n    </tr>\n  </thead>\n  <tbody>\n    <tr>\n      <th>35</th>\n      <td>1000036</td>\n      <td>2023-05-29</td>\n      <td>Bicep 21</td>\n      <td>42</td>\n      <td>21</td>\n    </tr>\n    <tr>\n      <th>36</th>\n      <td>1000037</td>\n      <td>2023-06-05</td>\n      <td>Platform Back Raises</td>\n      <td>135</td>\n      <td>17</td>\n    </tr>\n    <tr>\n      <th>37</th>\n      <td>1000038</td>\n      <td>2023-06-05</td>\n      <td>Straight Arm Pulldown</td>\n      <td>80</td>\n      <td>12</td>\n    </tr>\n    <tr>\n      <th>38</th>\n      <td>1000039</td>\n      <td>2023-06-05</td>\n      <td>Lat Pulldown</td>\n      <td>260</td>\n      <td>7</td>\n    </tr>\n    <tr>\n      <th>39</th>\n      <td>1000040</td>\n      <td>2023-06-05</td>\n      <td>Smith Rows</td>\n      <td>7</td>\n      <td>7</td>\n    </tr>\n    <tr>\n      <th>40</th>\n      <td>1000041</td>\n      <td>2023-06-05</td>\n      <td>High Row Machine</td>\n      <td>150</td>\n      <td>8</td>\n    </tr>\n    <tr>\n      <th>41</th>\n      <td>1000042</td>\n      <td>2023-06-05</td>\n      <td>Rear Delt Machine</td>\n      <td>190</td>\n      <td>10</td>\n    </tr>\n    <tr>\n      <th>42</th>\n      <td>1000043</td>\n      <td>2023-06-05</td>\n      <td>Preacher Curl Machine</td>\n      <td>140</td>\n      <td>15</td>\n    </tr>\n    <tr>\n      <th>43</th>\n      <td>1000044</td>\n      <td>2023-06-05</td>\n      <td>Single Arm Curl</td>\n      <td>25</td>\n      <td>11</td>\n    </tr>\n    <tr>\n      <th>44</th>\n      <td>1000045</td>\n      <td>2023-06-05</td>\n      <td>Bicep 21</td>\n      <td>50</td>\n      <td>21</td>\n    </tr>\n  </tbody>\n</table>\n</div>"
     },
     "execution_count": 8,
     "metadata": {},
     "output_type": "execute_result"
    }
   ],
   "source": [
    "for i in range(0, len(names)):\n",
    "\n",
    "  \"\"\" This algorithm sets the elements of a new entry with user input and then inserts it into the\n",
    "  database table for each name. Id is calculated by last index.\"\"\"\n",
    "\n",
    "  weight = input(f\"Enter Weight for {names[i]}: \")\n",
    "  reps = input(f\"Enter Reps for {names[i]}: \")\n",
    "  e_id = current_exercises.iloc[-1, 0] + 1\n",
    "  new_entry = [e_id, date, names[i], weight, reps]\n",
    "  current_exercises.loc[len(current_exercises)] = new_entry\n",
    "\n",
    "# Format the string dates to datetime.\n",
    "current_exercises['date'] = pd.to_datetime(current_exercises['date'])\n",
    "current_exercises.tail(10)"
   ],
   "metadata": {
    "collapsed": false,
    "ExecuteTime": {
     "end_time": "2023-06-07T06:23:27.449439Z",
     "start_time": "2023-06-07T06:21:58.611969Z"
    }
   }
  },
  {
   "cell_type": "markdown",
   "source": [
    "### Data Manipulation\n",
    "This section exists for convenience if quick changes need to be made to the entries."
   ],
   "metadata": {
    "collapsed": false
   }
  },
  {
   "cell_type": "code",
   "execution_count": 10,
   "outputs": [
    {
     "data": {
      "text/plain": "            id       date                   name weight reps\nindex                                                       \n35     1000036 2023-05-29               Bicep 21     42   21\n36     1000037 2023-06-05   Platform Back Raises    135   17\n37     1000038 2023-06-05  Straight Arm Pulldown     80   12\n38     1000039 2023-06-05           Lat Pulldown    260    7\n39     1000040 2023-06-05             Smith Rows    290    7\n40     1000041 2023-06-05       High Row Machine    150    8\n41     1000042 2023-06-05      Rear Delt Machine    190   10\n42     1000043 2023-06-05  Preacher Curl Machine    140   15\n43     1000044 2023-06-05        Single Arm Curl     25   11\n44     1000045 2023-06-05               Bicep 21     50   21",
      "text/html": "<div>\n<style scoped>\n    .dataframe tbody tr th:only-of-type {\n        vertical-align: middle;\n    }\n\n    .dataframe tbody tr th {\n        vertical-align: top;\n    }\n\n    .dataframe thead th {\n        text-align: right;\n    }\n</style>\n<table border=\"1\" class=\"dataframe\">\n  <thead>\n    <tr style=\"text-align: right;\">\n      <th></th>\n      <th>id</th>\n      <th>date</th>\n      <th>name</th>\n      <th>weight</th>\n      <th>reps</th>\n    </tr>\n    <tr>\n      <th>index</th>\n      <th></th>\n      <th></th>\n      <th></th>\n      <th></th>\n      <th></th>\n    </tr>\n  </thead>\n  <tbody>\n    <tr>\n      <th>35</th>\n      <td>1000036</td>\n      <td>2023-05-29</td>\n      <td>Bicep 21</td>\n      <td>42</td>\n      <td>21</td>\n    </tr>\n    <tr>\n      <th>36</th>\n      <td>1000037</td>\n      <td>2023-06-05</td>\n      <td>Platform Back Raises</td>\n      <td>135</td>\n      <td>17</td>\n    </tr>\n    <tr>\n      <th>37</th>\n      <td>1000038</td>\n      <td>2023-06-05</td>\n      <td>Straight Arm Pulldown</td>\n      <td>80</td>\n      <td>12</td>\n    </tr>\n    <tr>\n      <th>38</th>\n      <td>1000039</td>\n      <td>2023-06-05</td>\n      <td>Lat Pulldown</td>\n      <td>260</td>\n      <td>7</td>\n    </tr>\n    <tr>\n      <th>39</th>\n      <td>1000040</td>\n      <td>2023-06-05</td>\n      <td>Smith Rows</td>\n      <td>290</td>\n      <td>7</td>\n    </tr>\n    <tr>\n      <th>40</th>\n      <td>1000041</td>\n      <td>2023-06-05</td>\n      <td>High Row Machine</td>\n      <td>150</td>\n      <td>8</td>\n    </tr>\n    <tr>\n      <th>41</th>\n      <td>1000042</td>\n      <td>2023-06-05</td>\n      <td>Rear Delt Machine</td>\n      <td>190</td>\n      <td>10</td>\n    </tr>\n    <tr>\n      <th>42</th>\n      <td>1000043</td>\n      <td>2023-06-05</td>\n      <td>Preacher Curl Machine</td>\n      <td>140</td>\n      <td>15</td>\n    </tr>\n    <tr>\n      <th>43</th>\n      <td>1000044</td>\n      <td>2023-06-05</td>\n      <td>Single Arm Curl</td>\n      <td>25</td>\n      <td>11</td>\n    </tr>\n    <tr>\n      <th>44</th>\n      <td>1000045</td>\n      <td>2023-06-05</td>\n      <td>Bicep 21</td>\n      <td>50</td>\n      <td>21</td>\n    </tr>\n  </tbody>\n</table>\n</div>"
     },
     "execution_count": 10,
     "metadata": {},
     "output_type": "execute_result"
    }
   ],
   "source": [
    "# Update a single item by id and column\n",
    "# current_exercises.loc[39, 'weight'] = 290\n",
    "# Drop last row\n",
    "# current_exercises.drop(index=current_exercises.index[-1], axis=0, inplace=True)\n",
    "current_exercises.tail(10)"
   ],
   "metadata": {
    "collapsed": false,
    "ExecuteTime": {
     "end_time": "2023-06-07T06:24:40.163871Z",
     "start_time": "2023-06-07T06:24:40.157799Z"
    }
   }
  },
  {
   "cell_type": "markdown",
   "source": [
    "### Update SQL\n",
    "Now that we have updated our table, we will export the new dataset to SQL. As a precaution, I always\n",
    "back up the new dataset to CSV through the SQL workbench in the event that an older version is required\n",
    "in the future."
   ],
   "metadata": {
    "collapsed": false
   }
  },
  {
   "cell_type": "code",
   "execution_count": 11,
   "outputs": [
    {
     "data": {
      "text/plain": "45"
     },
     "execution_count": 11,
     "metadata": {},
     "output_type": "execute_result"
    }
   ],
   "source": [
    "# Export new chart to database with a date stamp\n",
    "current_exercises.to_sql('back_day', sql_connection, if_exists='replace')\n",
    "\n",
    "# TODO: MANUALLY REVIEW AND EXPORT NEW TABLE TO CSV AS BACKUP!!"
   ],
   "metadata": {
    "collapsed": false,
    "ExecuteTime": {
     "end_time": "2023-06-07T06:25:06.223304Z",
     "start_time": "2023-06-07T06:25:06.216160Z"
    }
   }
  },
  {
   "cell_type": "markdown",
   "source": [
    "## Step 5: Calculations\n",
    "Since, I rotate my weights and reps each weak based on performance, we use the volume equation\n",
    "to determine the rep to weight output.<br>\n",
    "$Volume$ = `weight` $\\cdot$ `reps` $\\cdot$ $sets$ <br>\n",
    "For our purposes the sets parameter will always be 1 because only one working set is performed."
   ],
   "metadata": {
    "collapsed": false
   }
  },
  {
   "cell_type": "code",
   "execution_count": 14,
   "outputs": [
    {
     "data": {
      "text/plain": "            id       date                   name weight reps  volume\nindex                                                               \n0      1000001 2023-04-17   Platform Back Raises    135   13    1755\n1      1000002 2023-04-17  Straight Arm Pulldown     95    9     855\n2      1000003 2023-04-17           Lat Pulldown    260    8    2080\n3      1000004 2023-04-17             Smith Rows    290    6    1740\n4      1000005 2023-04-17       High Row Machine    130   11    1430",
      "text/html": "<div>\n<style scoped>\n    .dataframe tbody tr th:only-of-type {\n        vertical-align: middle;\n    }\n\n    .dataframe tbody tr th {\n        vertical-align: top;\n    }\n\n    .dataframe thead th {\n        text-align: right;\n    }\n</style>\n<table border=\"1\" class=\"dataframe\">\n  <thead>\n    <tr style=\"text-align: right;\">\n      <th></th>\n      <th>id</th>\n      <th>date</th>\n      <th>name</th>\n      <th>weight</th>\n      <th>reps</th>\n      <th>volume</th>\n    </tr>\n    <tr>\n      <th>index</th>\n      <th></th>\n      <th></th>\n      <th></th>\n      <th></th>\n      <th></th>\n      <th></th>\n    </tr>\n  </thead>\n  <tbody>\n    <tr>\n      <th>0</th>\n      <td>1000001</td>\n      <td>2023-04-17</td>\n      <td>Platform Back Raises</td>\n      <td>135</td>\n      <td>13</td>\n      <td>1755</td>\n    </tr>\n    <tr>\n      <th>1</th>\n      <td>1000002</td>\n      <td>2023-04-17</td>\n      <td>Straight Arm Pulldown</td>\n      <td>95</td>\n      <td>9</td>\n      <td>855</td>\n    </tr>\n    <tr>\n      <th>2</th>\n      <td>1000003</td>\n      <td>2023-04-17</td>\n      <td>Lat Pulldown</td>\n      <td>260</td>\n      <td>8</td>\n      <td>2080</td>\n    </tr>\n    <tr>\n      <th>3</th>\n      <td>1000004</td>\n      <td>2023-04-17</td>\n      <td>Smith Rows</td>\n      <td>290</td>\n      <td>6</td>\n      <td>1740</td>\n    </tr>\n    <tr>\n      <th>4</th>\n      <td>1000005</td>\n      <td>2023-04-17</td>\n      <td>High Row Machine</td>\n      <td>130</td>\n      <td>11</td>\n      <td>1430</td>\n    </tr>\n  </tbody>\n</table>\n</div>"
     },
     "execution_count": 14,
     "metadata": {},
     "output_type": "execute_result"
    }
   ],
   "source": [
    "current_exercises['volume'] = current_exercises['weight'].astype(int) * current_exercises['reps'].astype(int)\n",
    "current_exercises.head()"
   ],
   "metadata": {
    "collapsed": false,
    "ExecuteTime": {
     "end_time": "2023-06-07T06:26:51.055418Z",
     "start_time": "2023-06-07T06:26:51.049261Z"
    }
   }
  },
  {
   "cell_type": "markdown",
   "source": [
    "Now we can pull all the `volume` data for analysis of an exercise."
   ],
   "metadata": {
    "collapsed": false
   }
  },
  {
   "cell_type": "code",
   "execution_count": 18,
   "outputs": [
    {
     "name": "stdout",
     "output_type": "stream",
     "text": [
      "Mean volume:  1833.0\n"
     ]
    },
    {
     "data": {
      "text/plain": "            id       date                   name weight reps  volume\nindex                                                               \n6      1000007 2023-04-17  Preacher Curl Machine    185    8    1480\n17     1000018 2023-05-01  Preacher Curl Machine    125   20    2500\n23     1000024 2023-05-15  Preacher Curl Machine    155   12    1860\n33     1000034 2023-05-29  Preacher Curl Machine    175    7    1225\n42     1000043 2023-06-05  Preacher Curl Machine    140   15    2100",
      "text/html": "<div>\n<style scoped>\n    .dataframe tbody tr th:only-of-type {\n        vertical-align: middle;\n    }\n\n    .dataframe tbody tr th {\n        vertical-align: top;\n    }\n\n    .dataframe thead th {\n        text-align: right;\n    }\n</style>\n<table border=\"1\" class=\"dataframe\">\n  <thead>\n    <tr style=\"text-align: right;\">\n      <th></th>\n      <th>id</th>\n      <th>date</th>\n      <th>name</th>\n      <th>weight</th>\n      <th>reps</th>\n      <th>volume</th>\n    </tr>\n    <tr>\n      <th>index</th>\n      <th></th>\n      <th></th>\n      <th></th>\n      <th></th>\n      <th></th>\n      <th></th>\n    </tr>\n  </thead>\n  <tbody>\n    <tr>\n      <th>6</th>\n      <td>1000007</td>\n      <td>2023-04-17</td>\n      <td>Preacher Curl Machine</td>\n      <td>185</td>\n      <td>8</td>\n      <td>1480</td>\n    </tr>\n    <tr>\n      <th>17</th>\n      <td>1000018</td>\n      <td>2023-05-01</td>\n      <td>Preacher Curl Machine</td>\n      <td>125</td>\n      <td>20</td>\n      <td>2500</td>\n    </tr>\n    <tr>\n      <th>23</th>\n      <td>1000024</td>\n      <td>2023-05-15</td>\n      <td>Preacher Curl Machine</td>\n      <td>155</td>\n      <td>12</td>\n      <td>1860</td>\n    </tr>\n    <tr>\n      <th>33</th>\n      <td>1000034</td>\n      <td>2023-05-29</td>\n      <td>Preacher Curl Machine</td>\n      <td>175</td>\n      <td>7</td>\n      <td>1225</td>\n    </tr>\n    <tr>\n      <th>42</th>\n      <td>1000043</td>\n      <td>2023-06-05</td>\n      <td>Preacher Curl Machine</td>\n      <td>140</td>\n      <td>15</td>\n      <td>2100</td>\n    </tr>\n  </tbody>\n</table>\n</div>"
     },
     "execution_count": 18,
     "metadata": {},
     "output_type": "execute_result"
    }
   ],
   "source": [
    "exercise = input(\"Enter Exercise for Volume Data: \")\n",
    "exercise_volume = current_exercises[current_exercises['name']==exercise]\n",
    "print(\"Mean volume:\", exercise_volume['volume'].mean())\n",
    "exercise_volume"
   ],
   "metadata": {
    "collapsed": false,
    "ExecuteTime": {
     "end_time": "2023-06-07T06:29:55.008715Z",
     "start_time": "2023-06-07T06:29:51.648077Z"
    }
   }
  },
  {
   "cell_type": "markdown",
   "source": [
    "## Step 6: Visualization\n",
    "Next, plot the volume trend for the selected exercise."
   ],
   "metadata": {
    "collapsed": false
   }
  },
  {
   "cell_type": "code",
   "execution_count": 19,
   "outputs": [
    {
     "data": {
      "text/plain": "<Axes: title={'center': 'Volume Trend Preacher Curl Machine'}, xlabel='Date', ylabel='Volume'>"
     },
     "execution_count": 19,
     "metadata": {},
     "output_type": "execute_result"
    },
    {
     "data": {
      "text/plain": "<Figure size 640x480 with 1 Axes>",
      "image/png": "[encoded data removed]"
     },
     "metadata": {},
     "output_type": "display_data"
    }
   ],
   "source": [
    "exercise_volume.plot(\n",
    "  x='date', xlabel= \"Date\", y='volume', ylabel=\"Volume\", title=f\"Volume Trend {exercise}\",\n",
    "  color='purple', legend=False\n",
    ")"
   ],
   "metadata": {
    "collapsed": false,
    "ExecuteTime": {
     "end_time": "2023-06-07T06:30:01.248370Z",
     "start_time": "2023-06-07T06:30:01.086896Z"
    }
   }
  },
  {
   "cell_type": "markdown",
   "source": [
    "## Leg Day Notes:\n",
    "* 2023-05-19: Changed Smith Squat range of motion to full so should be marked drop in weight.\n",
    "* 2023-06-02: Changed Leg Extensions from two legs to one which will account for the weight change."
   ],
   "metadata": {
    "collapsed": false,
    "ExecuteTime": {
     "end_time": "2023-06-07T04:17:09.749480Z",
     "start_time": "2023-06-07T04:17:09.745690Z"
    }
   },
   "outputs": [
    {
     "data": {
      "text/plain": "         id       date                         name weight reps\n35  1000036 2023-06-02       Oblique Crunch Machine    170   24\n36  1000037 2023-06-02  Smith Straight Leg Deadlift    340    8\n37  1000038 2023-06-02               Leg Extensions    130   10\n38  1000039 2023-06-02                    Leg Curls    120   20\n39  1000040 2023-06-02                     Adductor    260   18",
      "text/html": "<div>\n<style scoped>\n    .dataframe tbody tr th:only-of-type {\n        vertical-align: middle;\n    }\n\n    .dataframe tbody tr th {\n        vertical-align: top;\n    }\n\n    .dataframe thead th {\n        text-align: right;\n    }\n</style>\n<table border=\"1\" class=\"dataframe\">\n  <thead>\n    <tr style=\"text-align: right;\">\n      <th></th>\n      <th>id</th>\n      <th>date</th>\n      <th>name</th>\n      <th>weight</th>\n      <th>reps</th>\n    </tr>\n  </thead>\n  <tbody>\n    <tr>\n      <th>35</th>\n      <td>1000036</td>\n      <td>2023-06-02</td>\n      <td>Oblique Crunch Machine</td>\n      <td>170</td>\n      <td>24</td>\n    </tr>\n    <tr>\n      <th>36</th>\n      <td>1000037</td>\n      <td>2023-06-02</td>\n      <td>Smith Straight Leg Deadlift</td>\n      <td>340</td>\n      <td>8</td>\n    </tr>\n    <tr>\n      <th>37</th>\n      <td>1000038</td>\n      <td>2023-06-02</td>\n      <td>Leg Extensions</td>\n      <td>130</td>\n      <td>10</td>\n    </tr>\n    <tr>\n      <th>38</th>\n      <td>1000039</td>\n      <td>2023-06-02</td>\n      <td>Leg Curls</td>\n      <td>120</td>\n      <td>20</td>\n    </tr>\n    <tr>\n      <th>39</th>\n      <td>1000040</td>\n      <td>2023-06-02</td>\n      <td>Adductor</td>\n      <td>260</td>\n      <td>18</td>\n    </tr>\n  </tbody>\n</table>\n</div>"
     },
     "execution_count": 10,
     "metadata": {},
     "output_type": "execute_result"
    }
   ],
   "execution_count": 10
  }
 ],
 "metadata": {
  "kernelspec": {
   "display_name": "Python 3",
   "language": "python",
   "name": "python3"
  },
  "language_info": {
   "codemirror_mode": {
    "name": "ipython",
    "version": 2
   },
   "file_extension": ".py",
   "mimetype": "text/x-python",
   "name": "python",
   "nbconvert_exporter": "python",
   "pygments_lexer": "ipython2",
   "version": "2.7.6"
  }
 },
 "nbformat": 4,
 "nbformat_minor": 0
}
